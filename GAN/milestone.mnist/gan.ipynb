{
 "cells": [
  {
   "cell_type": "markdown",
   "metadata": {},
   "source": [
    "# Generative Adversial Nets 정리\n",
    "\n",
    "## GAN Paper를 정리하고 구현하였습니다.\n",
    "\n",
    "GAN은 Adversarial process를 통해서 generative model을 얻어냅니다.\n",
    "GAN은 두 모델을 동시에 학습시킵니다. 하나는 Generator이고 다른 하나는 Discriminator입니다.\n",
    "- Generator는 Generator를 통해 생성된 데이터가 Discriminator에 의해 검출되지 않도록 학습하며\n",
    "- Discriminator는 Real 데이터는 Real로, Generated 데이터로 잘 판별하도록 학습합니다.\n",
    "\n",
    "이 두개를 함께 포함하는 식으로 나타내보면 다음과 같습니다."
   ]
  },
  {
   "cell_type": "markdown",
   "metadata": {},
   "source": [
    "$$\\min_{G}\\max_{D}V(D,G)=\\mathbb{E}_{\\textbf{x}\\sim p_{data}(\\textbf{x})}[\\log{(D(\\textbf{x}))}]+\\mathbb{E}_{\\textbf{z}\\sim p_{z}(\\textbf{z})}[\\log{(1−D(G(\\textbf{z}))}] \\cdots (1)$$"
   ]
  },
  {
   "cell_type": "markdown",
   "metadata": {},
   "source": [
    "$G$는 random noise variable인 $p_{z}(\\textbf{z})$를 입력으로 받아들이고, 그 결과로 데이터 $x$를 생성하는 **미분가능한 함수**입니다."
   ]
  },
  {
   "cell_type": "markdown",
   "metadata": {},
   "source": [
    "$$G(z; \\theta_{g})$$"
   ]
  },
  {
   "cell_type": "markdown",
   "metadata": {},
   "source": [
    "$D$는 $x$를 입력으로 받아서 [0,1]의 확률값을 내놓는 **미분가능한 함수**입니다."
   ]
  },
  {
   "cell_type": "markdown",
   "metadata": {},
   "source": [
    "$$D(x; \\theta_{d})$$"
   ]
  },
  {
   "cell_type": "markdown",
   "metadata": {},
   "source": [
    "이 두 함수(모델)은 다음과 같은 목적함수가 최대가 되도록 각각 $\\theta_{g}$와 $\\theta_{d}$를 변경시킵니다."
   ]
  },
  {
   "cell_type": "markdown",
   "metadata": {},
   "source": [
    "$$G \\rightarrow \\min_{G}\\mathbb{E}_{\\textbf{z}\\sim p_{z}(\\textbf{z})}[\\log{(1−D(G(\\textbf{z}))}] \\cdots (2)$$"
   ]
  },
  {
   "cell_type": "markdown",
   "metadata": {},
   "source": [
    "$$D \\rightarrow \\max_{D}\\mathbb{E}_{\\textbf{x}\\sim p_{data}(\\textbf{x})}[\\log{D(\\textbf{x})}]+\\mathbb{E}_{\\textbf{z}\\sim p_{z}(\\textbf{z})}[\\log{(1−D(G(\\textbf{z}))}] \\cdots (3)$$"
   ]
  },
  {
   "cell_type": "markdown",
   "metadata": {},
   "source": [
    "$G$ 함수는 사실 변수 $z$로 부터 얻어낸 함수값 $G(z)$의 분포를 만들어냅니다. 이 분포를 $p_{g}$라고 합시다."
   ]
  },
  {
   "cell_type": "markdown",
   "metadata": {},
   "source": [
    "![GAN_DIAGRAM](gan_image.png)"
   ]
  },
  {
   "cell_type": "markdown",
   "metadata": {},
   "source": [
    "직관적으로 $G$가 만들어내는 분포 $p_{g}$가 $p_{data}$와 동일해지면 좋은 generator가 될 것 같습니다.\n",
    "\n",
    "이를 식으로 증명해봅시다."
   ]
  },
  {
   "cell_type": "markdown",
   "metadata": {},
   "source": [
    "### $p_{g} = p_{data}$ 일때 Global Optimal임을 증명해봅시다."
   ]
  },
  {
   "cell_type": "markdown",
   "metadata": {},
   "source": [
    "#### Proposition 1. $G$가 고정일 때 Optimal $D$는\n",
    "#### $$D_{G}^{*}(x) = \\frac{p_{data}(x)}{p_{data}(x) + p_{g}(x)}$$"
   ]
  },
  {
   "cell_type": "markdown",
   "metadata": {},
   "source": [
    "식 $(2)$에서, $z\\sim p_{z}(\\textbf{z})$는 $x\\sim p_{g}(\\textbf{x})$로, $g(z)$는 $x$로 생각할 수 있습니다.\n",
    "\n",
    "따라서 이를 바꿔서 다시 적어보면"
   ]
  },
  {
   "cell_type": "markdown",
   "metadata": {},
   "source": [
    "$$\\mathbb{E}_{\\textbf{x}\\sim p_{g}(\\textbf{x})}[\\log{(1-D(\\textbf{x}))}]$$"
   ]
  },
  {
   "cell_type": "markdown",
   "metadata": {},
   "source": [
    "따라서,"
   ]
  },
  {
   "cell_type": "markdown",
   "metadata": {},
   "source": [
    "$$V(D,G)=\\int_{x} \\!\\! p_{data}(x)\\log{(D(x))}+p_{g}(x)\\log{(1-D(x))}\\, dx$$"
   ]
  },
  {
   "cell_type": "markdown",
   "metadata": {},
   "source": [
    "입니다. 이를 극대화하는 값은 간단히 구할 수 있습니다.\n",
    "\n",
    "즉 어느 Generator든 무관하게, Discriminator는"
   ]
  },
  {
   "cell_type": "markdown",
   "metadata": {},
   "source": [
    "$$D_{G}^{*}(x) = \\frac{p_{data}(x)}{p_{data}(x) + p_{g}(x)}$$"
   ]
  },
  {
   "cell_type": "markdown",
   "metadata": {},
   "source": [
    "가 최적해입니다."
   ]
  },
  {
   "cell_type": "markdown",
   "metadata": {},
   "source": [
    "#### Theorem 1. $V(D_{G}^{*},G)$는 $p_{g}=p_{data}$ 일때 Global Minimal이고 그 역도 성립한다. 이때 Global Minimal은 $-\\log4$이다."
   ]
  },
  {
   "cell_type": "markdown",
   "metadata": {},
   "source": [
    "즉 $V(D_{G}^{*}, G)$의 Global Minimal은 $p_{g}=p_{data}$일때 $-\\log4$로 유일합니다."
   ]
  },
  {
   "cell_type": "markdown",
   "metadata": {},
   "source": [
    "일단, $p_{g}=p_{data}$ 일때 $D_{g}^{*}=\\frac{1}{2}$이므로"
   ]
  },
  {
   "cell_type": "markdown",
   "metadata": {},
   "source": [
    "$$V(D_{g}^{*},G)|_{p_{g}=p_{data}}=\\int_{x} \\!\\! p_{data}(x)\\log\\frac{1}{2}+p_{g}(x)\\log\\frac{1}{2}\\, dx=-\\log 4$$"
   ]
  },
  {
   "cell_type": "markdown",
   "metadata": {},
   "source": [
    "이제 이 값이 유일한 Global Minimal 임을 증명합시다."
   ]
  },
  {
   "cell_type": "markdown",
   "metadata": {},
   "source": [
    "$$V(D,G)=\\int_{x} \\!\\! p_{data}(x)\\log(D(x))+p_{g}(x)\\log (1-D(x))\\, dx$$"
   ]
  },
  {
   "cell_type": "markdown",
   "metadata": {},
   "source": [
    "$$=-\\log 4 + \\log 4 + \\int_{x} \\!\\! p_{data}(x)\\log(D(x))+p_{g}(x)\\log (1-D(x))\\, dx$$"
   ]
  },
  {
   "cell_type": "markdown",
   "metadata": {},
   "source": [
    "$$=-\\log 4 + \\int_{x} \\!\\! p_{data}(x)\\log{\\frac{2p_{data}(x)}{p_{data}(x) + p_{g}(x)}}+p_{g}(x)\\log{\\frac{2p_{g}(x)}{p_{data}(x) + p_{g}(x)}}\\, dx$$"
   ]
  },
  {
   "cell_type": "markdown",
   "metadata": {},
   "source": [
    "$$=-\\log{4} + KL(p_{data}\\|\\frac{p_{data}+p_{g}}{2}) + KL(p_{g}\\|\\frac{p_{data}+p_{g}}{2})$$"
   ]
  },
  {
   "cell_type": "markdown",
   "metadata": {},
   "source": [
    "$$=-\\log{4} + 2\\cdot JSD(p_{data}\\|p_{g})$$"
   ]
  },
  {
   "cell_type": "markdown",
   "metadata": {},
   "source": [
    "$$D_{KL}(P\\|Q)=\\int_{-\\inf}^{\\inf} \\!\\! p(x)\\log{\\frac{p(x)}{q(x)}}\\, dx$$"
   ]
  },
  {
   "cell_type": "markdown",
   "metadata": {},
   "source": [
    "$$D_{JS}(P\\|Q)=\\frac{1}{2}D_{KL}(P\\|M)+\\frac{1}{2}D_{KL}(Q\\|M),\\quad M=\\frac{P+Q}{2}$$"
   ]
  },
  {
   "cell_type": "markdown",
   "metadata": {},
   "source": [
    "$D_{JS}$는 nonnegative인 값을 가지며, $D_{JS}=0$은 $P=Q$일때 성립함이 알려져 있습니다."
   ]
  },
  {
   "cell_type": "markdown",
   "metadata": {},
   "source": [
    "![PROBABILITY](probability_image.png)"
   ]
  },
  {
   "cell_type": "markdown",
   "metadata": {},
   "source": []
  },
  {
   "cell_type": "code",
   "execution_count": null,
   "metadata": {},
   "outputs": [],
   "source": [
    "\"\"\"\n",
    "\n",
    "\"\"\"\n",
    "import os\n",
    "import matplotlib.pyplot as plt\n",
    "import itertools\n",
    "import pickle\n",
    "import imageio\n",
    "import torch\n",
    "import torch.nn as nn\n",
    "import torch.nn.functional as F\n",
    "import torch.optim as optim\n",
    "from torchvision import datasets, transforms\n",
    "from torch.autograd import Variable\n",
    "\n",
    "# G(z)\n",
    "class generator(nn.Module):\n",
    "    # initializers\n",
    "    def __init__(self, input_size=32, n_class = 10):\n",
    "        super(generator, self).__init__()\n",
    "        self.fc1 = nn.Linear(input_size, 256)\n",
    "        self.fc2 = nn.Linear(self.fc1.out_features, 512)\n",
    "        self.fc3 = nn.Linear(self.fc2.out_features, 1024)\n",
    "        self.fc4 = nn.Linear(self.fc3.out_features, n_class)\n",
    "\n",
    "    # forward method\n",
    "    def forward(self, input):\n",
    "        x = F.leaky_relu(self.fc1(input), 0.2)\n",
    "        x = F.leaky_relu(self.fc2(x), 0.2)\n",
    "        x = F.leaky_relu(self.fc3(x), 0.2)\n",
    "        x = F.tanh(self.fc4(x))\n",
    "\n",
    "        return x\n",
    "\n",
    "class discriminator(nn.Module):\n",
    "    # initializers\n",
    "    def __init__(self, input_size=32, n_class=10):\n",
    "        super(discriminator, self).__init__()\n",
    "        self.fc1 = nn.Linear(input_size, 1024)\n",
    "        self.fc2 = nn.Linear(self.fc1.out_features, 512)\n",
    "        self.fc3 = nn.Linear(self.fc2.out_features, 256)\n",
    "        self.fc4 = nn.Linear(self.fc3.out_features, n_class)\n",
    "\n",
    "    # forward method\n",
    "    def forward(self, input):\n",
    "        x = F.leaky_relu(self.fc1(input), 0.2)\n",
    "        x = F.dropout(x, 0.3)\n",
    "        x = F.leaky_relu(self.fc2(x), 0.2)\n",
    "        x = F.dropout(x, 0.3)\n",
    "        x = F.leaky_relu(self.fc3(x), 0.2)\n",
    "        x = F.dropout(x, 0.3)\n",
    "        x = F.sigmoid(self.fc4(x))\n",
    "\n",
    "        return x\n",
    "\n",
    "fixed_z_ = torch.randn((5 * 5, 100))    # fixed noise\n",
    "# fixed_z_ = Variable(fixed_z_.cuda(), volatile=True)\n",
    "fixed_z_ = Variable(fixed_z_, volatile=True)\n",
    "def show_result(num_epoch, show = False, save = False, path = 'result.png', isFix=False):\n",
    "    z_ = torch.randn((5*5, 100))\n",
    "    # z_ = Variable(z_.cuda(), volatile=True)\n",
    "    z_ = Variable(z_, volatile=True)\n",
    "\n",
    "    G.eval()\n",
    "    if isFix:\n",
    "        test_images = G(fixed_z_)\n",
    "    else:\n",
    "        test_images = G(z_)\n",
    "    G.train()\n",
    "\n",
    "    size_figure_grid = 5\n",
    "    fig, ax = plt.subplots(size_figure_grid, size_figure_grid, figsize=(5, 5))\n",
    "    for i, j in itertools.product(range(size_figure_grid), range(size_figure_grid)):\n",
    "        ax[i, j].get_xaxis().set_visible(False)\n",
    "        ax[i, j].get_yaxis().set_visible(False)\n",
    "\n",
    "    for k in range(5*5):\n",
    "        i = k // 5\n",
    "        j = k % 5\n",
    "        ax[i, j].cla()\n",
    "        ax[i, j].imshow(test_images[k, :].cpu().data.view(28, 28).numpy(), cmap='gray')\n",
    "\n",
    "    label = 'Epoch {0}'.format(num_epoch)\n",
    "    fig.text(0.5, 0.04, label, ha='center')\n",
    "    plt.savefig(path)\n",
    "\n",
    "    if show:\n",
    "        plt.show()\n",
    "    else:\n",
    "        plt.close()\n",
    "\n",
    "def show_train_hist(hist, show = False, save = False, path = 'Train_hist.png'):\n",
    "    x = range(len(hist['D_losses']))\n",
    "\n",
    "    y1 = hist['D_losses']\n",
    "    y2 = hist['G_losses']\n",
    "\n",
    "    plt.plot(x, y1, label='D_loss')\n",
    "    plt.plot(x, y2, label='G_loss')\n",
    "\n",
    "    plt.xlabel('Epoch')\n",
    "    plt.ylabel('Loss')\n",
    "\n",
    "    plt.legend(loc=4)\n",
    "    plt.grid(True)\n",
    "    plt.tight_layout()\n",
    "\n",
    "    if save:\n",
    "        plt.savefig(path)\n",
    "\n",
    "    if show:\n",
    "        plt.show()\n",
    "    else:\n",
    "        plt.close()\n",
    "\n",
    "# training parameters\n",
    "batch_size = 128\n",
    "lr = 0.0002\n",
    "train_epoch = 100\n",
    "\n",
    "# data_loader\n",
    "transform = transforms.Compose([\n",
    "        transforms.ToTensor(),\n",
    "        transforms.Normalize(mean=(0.5, 0.5, 0.5), std=(0.5, 0.5, 0.5))\n",
    "])\n",
    "train_loader = torch.utils.data.DataLoader(\n",
    "    datasets.MNIST('data', train=True, download=True, transform=transform),\n",
    "    batch_size=batch_size, shuffle=True)\n",
    "\n",
    "# network\n",
    "G = generator(input_size=100, n_class=28*28)\n",
    "D = discriminator(input_size=28*28, n_class=1)\n",
    "# G.cuda()\n",
    "# D.cuda()\n",
    "\n",
    "# Binary Cross Entropy loss\n",
    "BCE_loss = nn.BCELoss()\n",
    "\n",
    "# Adam optimizer\n",
    "G_optimizer = optim.Adam(G.parameters(), lr=lr)\n",
    "D_optimizer = optim.Adam(D.parameters(), lr=lr)\n",
    "\n",
    "# results save folder\n",
    "if not os.path.isdir('MNIST_GAN_results'):\n",
    "    os.mkdir('MNIST_GAN_results')\n",
    "if not os.path.isdir('MNIST_GAN_results/Random_results'):\n",
    "    os.mkdir('MNIST_GAN_results/Random_results')\n",
    "if not os.path.isdir('MNIST_GAN_results/Fixed_results'):\n",
    "    os.mkdir('MNIST_GAN_results/Fixed_results')\n",
    "\n",
    "train_hist = {}\n",
    "train_hist['D_losses'] = []\n",
    "train_hist['G_losses'] = []\n",
    "for epoch in range(train_epoch):\n",
    "    D_losses = []\n",
    "    G_losses = []\n",
    "    for x_, _ in train_loader:\n",
    "        # train discriminator D\n",
    "        D.zero_grad()\n",
    "\n",
    "        x_ = x_.view(-1, 28 * 28)\n",
    "\n",
    "        mini_batch = x_.size()[0]\n",
    "\n",
    "        y_real_ = torch.ones(mini_batch)\n",
    "        y_fake_ = torch.zeros(mini_batch)\n",
    "\n",
    "        # x_, y_real_, y_fake_ = Variable(x_.cuda()), Variable(y_real_.cuda()), Variable(y_fake_.cuda())\n",
    "        x_, y_real_, y_fake_ = Variable(x_), Variable(y_real_), Variable(y_fake_)\n",
    "        D_result = D(x_)\n",
    "        D_real_loss = BCE_loss(D_result, y_real_)\n",
    "        D_real_score = D_result\n",
    "\n",
    "        z_ = torch.randn((mini_batch, 100))\n",
    "        # z_ = Variable(z_.cuda())\n",
    "        z_ = Variable(z_)\n",
    "        G_result = G(z_)\n",
    "\n",
    "        D_result = D(G_result)\n",
    "        D_fake_loss = BCE_loss(D_result, y_fake_)\n",
    "        D_fake_score = D_result\n",
    "\n",
    "        D_train_loss = D_real_loss + D_fake_loss\n",
    "\n",
    "        D_train_loss.backward()\n",
    "        D_optimizer.step()\n",
    "\n",
    "        D_losses.append(D_train_loss.data[0])\n",
    "\n",
    "        # train generator G\n",
    "        G.zero_grad()\n",
    "\n",
    "        z_ = torch.randn((mini_batch, 100))\n",
    "        y_ = torch.ones(mini_batch)\n",
    "\n",
    "        # z_, y_ = Variable(z_.cuda()), Variable(y_.cuda())\n",
    "        z_, y_ = Variable(z_), Variable(y_)\n",
    "        G_result = G(z_)\n",
    "        D_result = D(G_result)\n",
    "        G_train_loss = BCE_loss(D_result, y_)\n",
    "        G_train_loss.backward()\n",
    "        G_optimizer.step()\n",
    "\n",
    "        G_losses.append(G_train_loss.data[0])\n",
    "\n",
    "    print('[%d/%d]: loss_d: %.3f, loss_g: %.3f' % (\n",
    "        (epoch + 1), train_epoch, torch.mean(torch.FloatTensor(D_losses)), torch.mean(torch.FloatTensor(G_losses))))\n",
    "    p = 'MNIST_GAN_results/Random_results/MNIST_GAN_' + str(epoch + 1) + '.png'\n",
    "    fixed_p = 'MNIST_GAN_results/Fixed_results/MNIST_GAN_' + str(epoch + 1) + '.png'\n",
    "    show_result((epoch+1), save=True, path=p, isFix=False)\n",
    "    show_result((epoch+1), save=True, path=fixed_p, isFix=True)\n",
    "    train_hist['D_losses'].append(torch.mean(torch.FloatTensor(D_losses)))\n",
    "    train_hist['G_losses'].append(torch.mean(torch.FloatTensor(G_losses)))\n",
    "\n",
    "\n",
    "print(\"Training finish!... save training results\")\n",
    "torch.save(G.state_dict(), \"MNIST_GAN_results/generator_param.pkl\")\n",
    "torch.save(D.state_dict(), \"MNIST_GAN_results/discriminator_param.pkl\")\n",
    "with open('MNIST_GAN_results/train_hist.pkl', 'wb') as f:\n",
    "    pickle.dump(train_hist, f)\n",
    "\n",
    "show_train_hist(train_hist, save=True, path='MNIST_GAN_results/MNIST_GAN_train_hist.png')\n",
    "\n",
    "images = []\n",
    "for e in range(train_epoch):\n",
    "    img_name = 'MNIST_GAN_results/Fixed_results/MNIST_GAN_' + str(e + 1) + '.png'\n",
    "    images.append(imageio.imread(img_name))\n",
    "imageio.mimsave('MNIST_GAN_results/generation_animation.gif', images, fps=5)"
   ]
  },
  {
   "cell_type": "code",
   "execution_count": null,
   "metadata": {},
   "outputs": [],
   "source": []
  },
  {
   "cell_type": "markdown",
   "metadata": {},
   "source": [
    "![GAN_histogram](MNIST_GAN_results/MNIST_GAN_train_hist.png)"
   ]
  },
  {
   "cell_type": "markdown",
   "metadata": {},
   "source": [
    "![GAN_animation](MNIST_GAN_results/generation_animation.gif)"
   ]
  },
  {
   "cell_type": "markdown",
   "metadata": {},
   "source": [
    "### GAN의 문제점"
   ]
  },
  {
   "cell_type": "markdown",
   "metadata": {},
   "source": [
    "### 보완한 GAN\n",
    "\n",
    "cGAN\n",
    "\n",
    "renderGAN\n",
    "\n",
    "SGAN\n",
    "\n",
    "..."
   ]
  },
  {
   "cell_type": "markdown",
   "metadata": {},
   "source": [
    "Adversarial process란?\n",
    "Markov chain이나 unrolled approximate inference networks가 필요없습니다. → 이 두개가 뭐지?"
   ]
  },
  {
   "cell_type": "code",
   "execution_count": null,
   "metadata": {},
   "outputs": [],
   "source": []
  }
 ],
 "metadata": {
  "kernelspec": {
   "display_name": "mykernel",
   "language": "python",
   "name": "mykernel"
  },
  "language_info": {
   "codemirror_mode": {
    "name": "ipython",
    "version": 3
   },
   "file_extension": ".py",
   "mimetype": "text/x-python",
   "name": "python",
   "nbconvert_exporter": "python",
   "pygments_lexer": "ipython3",
   "version": "3.6.4"
  }
 },
 "nbformat": 4,
 "nbformat_minor": 2
}
