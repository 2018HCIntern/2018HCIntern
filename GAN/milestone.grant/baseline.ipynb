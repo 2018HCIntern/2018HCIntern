{
 "cells": [
  {
   "cell_type": "code",
   "execution_count": 1,
   "metadata": {},
   "outputs": [],
   "source": [
    "import torch\n",
    "import torch.nn as nn\n",
    "import torch.nn.functional as F\n",
    "import torch.optim as optim\n",
    "from torch.autograd import Variable"
   ]
  },
  {
   "cell_type": "code",
   "execution_count": null,
   "metadata": {},
   "outputs": [],
   "source": [
    "batch_size =128\n",
    "class_num = 10\n",
    "input_size = 28 * 28\n",
    "learning_rate = 1e-2\n",
    "epoch = 100\n",
    "\n",
    "model = nn.Sequential(\n",
    "            nn.Linear(input_size, H),\n",
    "            nn.ReLU(),\n",
    "            nn.Linear(H, class_num),\n",
    "            nn.Softmax(class_num))\n",
    "\n",
    "for i in range(epoch):\n",
    "    y_pred = model(x)\n",
    "    loss = loss"
   ]
  }
 ],
 "metadata": {
  "kernelspec": {
   "display_name": "mykernel",
   "language": "python",
   "name": "mykernel"
  },
  "language_info": {
   "codemirror_mode": {
    "name": "ipython",
    "version": 3
   },
   "file_extension": ".py",
   "mimetype": "text/x-python",
   "name": "python",
   "nbconvert_exporter": "python",
   "pygments_lexer": "ipython3",
   "version": "3.6.4"
  }
 },
 "nbformat": 4,
 "nbformat_minor": 2
}
