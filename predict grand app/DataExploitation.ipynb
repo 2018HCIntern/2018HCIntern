{
 "cells": [
  {
   "cell_type": "code",
   "execution_count": 106,
   "metadata": {},
   "outputs": [
    {
     "data": {
      "text/html": [
       "<div>\n",
       "<style scoped>\n",
       "    .dataframe tbody tr th:only-of-type {\n",
       "        vertical-align: middle;\n",
       "    }\n",
       "\n",
       "    .dataframe tbody tr th {\n",
       "        vertical-align: top;\n",
       "    }\n",
       "\n",
       "    .dataframe thead th {\n",
       "        text-align: right;\n",
       "    }\n",
       "</style>\n",
       "<table border=\"1\" class=\"dataframe\">\n",
       "  <thead>\n",
       "    <tr style=\"text-align: right;\">\n",
       "      <th></th>\n",
       "      <th>Grant.Application.ID</th>\n",
       "      <th>Grant.Status</th>\n",
       "      <th>Sponsor.Code</th>\n",
       "      <th>Grant.Category.Code</th>\n",
       "      <th>Contract.Value.Band...see.note.A</th>\n",
       "      <th>Start.date</th>\n",
       "      <th>RFCD.Code.1</th>\n",
       "      <th>RFCD.Percentage.1</th>\n",
       "      <th>RFCD.Code.2</th>\n",
       "      <th>RFCD.Percentage.2</th>\n",
       "      <th>...</th>\n",
       "      <th>Faculty.No..15</th>\n",
       "      <th>With.PHD.15</th>\n",
       "      <th>No..of.Years.in.Uni.at.Time.of.Grant.15</th>\n",
       "      <th>Number.of.Successful.Grant.15</th>\n",
       "      <th>Number.of.Unsuccessful.Grant.15</th>\n",
       "      <th>A..15</th>\n",
       "      <th>A.15</th>\n",
       "      <th>B.15</th>\n",
       "      <th>C.15</th>\n",
       "      <th>Unnamed: 251</th>\n",
       "    </tr>\n",
       "  </thead>\n",
       "  <tbody>\n",
       "    <tr>\n",
       "      <th>0</th>\n",
       "      <td>1</td>\n",
       "      <td>1</td>\n",
       "      <td>NaN</td>\n",
       "      <td>NaN</td>\n",
       "      <td>A</td>\n",
       "      <td>8/11/05</td>\n",
       "      <td>280199.0</td>\n",
       "      <td>100.0</td>\n",
       "      <td>0.0</td>\n",
       "      <td>0.0</td>\n",
       "      <td>...</td>\n",
       "      <td>NaN</td>\n",
       "      <td>NaN</td>\n",
       "      <td>NaN</td>\n",
       "      <td>NaN</td>\n",
       "      <td>NaN</td>\n",
       "      <td>NaN</td>\n",
       "      <td>NaN</td>\n",
       "      <td>NaN</td>\n",
       "      <td>NaN</td>\n",
       "      <td>NaN</td>\n",
       "    </tr>\n",
       "    <tr>\n",
       "      <th>1</th>\n",
       "      <td>2</td>\n",
       "      <td>1</td>\n",
       "      <td>2B</td>\n",
       "      <td>10A</td>\n",
       "      <td>B</td>\n",
       "      <td>11/11/05</td>\n",
       "      <td>280103.0</td>\n",
       "      <td>30.0</td>\n",
       "      <td>280106.0</td>\n",
       "      <td>30.0</td>\n",
       "      <td>...</td>\n",
       "      <td>NaN</td>\n",
       "      <td>NaN</td>\n",
       "      <td>NaN</td>\n",
       "      <td>NaN</td>\n",
       "      <td>NaN</td>\n",
       "      <td>NaN</td>\n",
       "      <td>NaN</td>\n",
       "      <td>NaN</td>\n",
       "      <td>NaN</td>\n",
       "      <td>NaN</td>\n",
       "    </tr>\n",
       "    <tr>\n",
       "      <th>2</th>\n",
       "      <td>3</td>\n",
       "      <td>1</td>\n",
       "      <td>29A</td>\n",
       "      <td>10B</td>\n",
       "      <td>A</td>\n",
       "      <td>14/11/05</td>\n",
       "      <td>321004.0</td>\n",
       "      <td>60.0</td>\n",
       "      <td>321216.0</td>\n",
       "      <td>40.0</td>\n",
       "      <td>...</td>\n",
       "      <td>NaN</td>\n",
       "      <td>NaN</td>\n",
       "      <td>NaN</td>\n",
       "      <td>NaN</td>\n",
       "      <td>NaN</td>\n",
       "      <td>NaN</td>\n",
       "      <td>NaN</td>\n",
       "      <td>NaN</td>\n",
       "      <td>NaN</td>\n",
       "      <td>NaN</td>\n",
       "    </tr>\n",
       "    <tr>\n",
       "      <th>3</th>\n",
       "      <td>4</td>\n",
       "      <td>1</td>\n",
       "      <td>40D</td>\n",
       "      <td>10B</td>\n",
       "      <td>C</td>\n",
       "      <td>15/11/05</td>\n",
       "      <td>270602.0</td>\n",
       "      <td>50.0</td>\n",
       "      <td>320602.0</td>\n",
       "      <td>50.0</td>\n",
       "      <td>...</td>\n",
       "      <td>NaN</td>\n",
       "      <td>NaN</td>\n",
       "      <td>NaN</td>\n",
       "      <td>NaN</td>\n",
       "      <td>NaN</td>\n",
       "      <td>NaN</td>\n",
       "      <td>NaN</td>\n",
       "      <td>NaN</td>\n",
       "      <td>NaN</td>\n",
       "      <td>NaN</td>\n",
       "    </tr>\n",
       "    <tr>\n",
       "      <th>4</th>\n",
       "      <td>5</td>\n",
       "      <td>0</td>\n",
       "      <td>59C</td>\n",
       "      <td>10A</td>\n",
       "      <td>A</td>\n",
       "      <td>16/11/05</td>\n",
       "      <td>260500.0</td>\n",
       "      <td>34.0</td>\n",
       "      <td>280000.0</td>\n",
       "      <td>33.0</td>\n",
       "      <td>...</td>\n",
       "      <td>NaN</td>\n",
       "      <td>NaN</td>\n",
       "      <td>NaN</td>\n",
       "      <td>NaN</td>\n",
       "      <td>NaN</td>\n",
       "      <td>NaN</td>\n",
       "      <td>NaN</td>\n",
       "      <td>NaN</td>\n",
       "      <td>NaN</td>\n",
       "      <td>NaN</td>\n",
       "    </tr>\n",
       "  </tbody>\n",
       "</table>\n",
       "<p>5 rows × 252 columns</p>\n",
       "</div>"
      ],
      "text/plain": [
       "   Grant.Application.ID  Grant.Status Sponsor.Code Grant.Category.Code  \\\n",
       "0                     1             1          NaN                 NaN   \n",
       "1                     2             1           2B                 10A   \n",
       "2                     3             1          29A                 10B   \n",
       "3                     4             1          40D                 10B   \n",
       "4                     5             0          59C                 10A   \n",
       "\n",
       "  Contract.Value.Band...see.note.A Start.date  RFCD.Code.1  RFCD.Percentage.1  \\\n",
       "0                               A     8/11/05     280199.0              100.0   \n",
       "1                               B    11/11/05     280103.0               30.0   \n",
       "2                               A    14/11/05     321004.0               60.0   \n",
       "3                               C    15/11/05     270602.0               50.0   \n",
       "4                               A    16/11/05     260500.0               34.0   \n",
       "\n",
       "   RFCD.Code.2  RFCD.Percentage.2      ...       Faculty.No..15  With.PHD.15  \\\n",
       "0          0.0                0.0      ...                  NaN          NaN   \n",
       "1     280106.0               30.0      ...                  NaN          NaN   \n",
       "2     321216.0               40.0      ...                  NaN          NaN   \n",
       "3     320602.0               50.0      ...                  NaN          NaN   \n",
       "4     280000.0               33.0      ...                  NaN          NaN   \n",
       "\n",
       "   No..of.Years.in.Uni.at.Time.of.Grant.15  Number.of.Successful.Grant.15  \\\n",
       "0                                      NaN                            NaN   \n",
       "1                                      NaN                            NaN   \n",
       "2                                      NaN                            NaN   \n",
       "3                                      NaN                            NaN   \n",
       "4                                      NaN                            NaN   \n",
       "\n",
       "   Number.of.Unsuccessful.Grant.15  A..15  A.15  B.15  C.15  Unnamed: 251  \n",
       "0                              NaN    NaN   NaN   NaN   NaN           NaN  \n",
       "1                              NaN    NaN   NaN   NaN   NaN           NaN  \n",
       "2                              NaN    NaN   NaN   NaN   NaN           NaN  \n",
       "3                              NaN    NaN   NaN   NaN   NaN           NaN  \n",
       "4                              NaN    NaN   NaN   NaN   NaN           NaN  \n",
       "\n",
       "[5 rows x 252 columns]"
      ]
     },
     "execution_count": 106,
     "metadata": {},
     "output_type": "execute_result"
    }
   ],
   "source": [
    "import pandas as pd\n",
    "import numpy as np\n",
    "\n",
    "df = pd.read_csv('data/unimelb_training.csv', low_memory = False)\n",
    "df.head(5)"
   ]
  },
  {
   "cell_type": "code",
   "execution_count": 107,
   "metadata": {},
   "outputs": [],
   "source": [
    "\n",
    "team_df = pd.DataFrame()"
   ]
  },
  {
   "cell_type": "code",
   "execution_count": 136,
   "metadata": {},
   "outputs": [],
   "source": [
    "def dataExploit(columnName, max_range) : \n",
    "    print(\"for Catagory '{0}'\".format(columnName))\n",
    "    print('-----------------------------------------------------------------------------')\n",
    "    inp =  columnName\n",
    "    interest_cols = [inp+\".%d\" % x for x in range(1,max_range)]\n",
    "    data_df = df[interest_cols]\n",
    "    print(data_df.head(50))"
   ]
  },
  {
   "cell_type": "code",
   "execution_count": 109,
   "metadata": {},
   "outputs": [],
   "source": [
    "def printOutputData() : \n",
    "    print(\"Output Result\")\n",
    "    print('-----------------------------------------------------------------------------')\n",
    "    print(team_df.head(10))"
   ]
  },
  {
   "cell_type": "code",
   "execution_count": 110,
   "metadata": {},
   "outputs": [
    {
     "name": "stdout",
     "output_type": "stream",
     "text": [
      "for Catagory 'A.'\n",
      "-----------------------------------------------------------------------------\n",
      "   A..1  A..2  A..3  A..4  A..5  A..6  A..7  A..8  A..9  A..10  A..11\n",
      "0   4.0   NaN   NaN   NaN   NaN   NaN   NaN   NaN   NaN    NaN    NaN\n",
      "1   6.0   NaN   NaN   NaN   NaN   NaN   NaN   NaN   NaN    NaN    NaN\n",
      "2   0.0   0.0   1.0   6.0   NaN   NaN   NaN   NaN   NaN    NaN    NaN\n",
      "3   0.0   0.0   NaN   NaN   NaN   NaN   NaN   NaN   NaN    NaN    NaN\n",
      "4   3.0   NaN   NaN   NaN   NaN   NaN   NaN   NaN   NaN    NaN    NaN\n",
      "5   7.0   NaN   NaN   NaN   NaN   NaN   NaN   NaN   NaN    NaN    NaN\n",
      "6   8.0   0.0   0.0   NaN   NaN   NaN   NaN   NaN   NaN    NaN    NaN\n",
      "7   0.0   0.0   NaN   NaN   NaN   NaN   NaN   NaN   NaN    NaN    NaN\n",
      "8   8.0   0.0   NaN   NaN   NaN   NaN   NaN   NaN   NaN    NaN    NaN\n",
      "9   1.0   NaN   NaN   NaN   NaN   NaN   NaN   NaN   NaN    NaN    NaN\n"
     ]
    }
   ],
   "source": [
    "dataExploit('A.',12)"
   ]
  },
  {
   "cell_type": "code",
   "execution_count": 111,
   "metadata": {},
   "outputs": [
    {
     "name": "stdout",
     "output_type": "stream",
     "text": [
      "for Catagory 'A'\n",
      "-----------------------------------------------------------------------------\n",
      "    A.1  A.2  A.3   A.4  A.5  A.6  A.7  A.8  A.9  A.10  A.11\n",
      "0   2.0  NaN  NaN   NaN  NaN  NaN  NaN  NaN  NaN   NaN   NaN\n",
      "1  12.0  NaN  NaN   NaN  NaN  NaN  NaN  NaN  NaN   NaN   NaN\n",
      "2   3.0  0.0  3.0  14.0  NaN  NaN  NaN  NaN  NaN   NaN   NaN\n",
      "3   3.0  0.0  NaN   NaN  NaN  NaN  NaN  NaN  NaN   NaN   NaN\n",
      "4   0.0  NaN  NaN   NaN  NaN  NaN  NaN  NaN  NaN   NaN   NaN\n",
      "5  27.0  NaN  NaN   NaN  NaN  NaN  NaN  NaN  NaN   NaN   NaN\n",
      "6   5.0  0.0  7.0   NaN  NaN  NaN  NaN  NaN  NaN   NaN   NaN\n",
      "7   0.0  0.0  NaN   NaN  NaN  NaN  NaN  NaN  NaN   NaN   NaN\n",
      "8   1.0  0.0  NaN   NaN  NaN  NaN  NaN  NaN  NaN   NaN   NaN\n",
      "9   0.0  NaN  NaN   NaN  NaN  NaN  NaN  NaN  NaN   NaN   NaN\n"
     ]
    }
   ],
   "source": [
    "dataExploit('A', 12)"
   ]
  },
  {
   "cell_type": "code",
   "execution_count": 112,
   "metadata": {},
   "outputs": [
    {
     "name": "stdout",
     "output_type": "stream",
     "text": [
      "for Catagory 'B'\n",
      "-----------------------------------------------------------------------------\n",
      "    B.1  B.2   B.3   B.4  B.5  B.6  B.7  B.8  B.9  B.10  B.11\n",
      "0   0.0  NaN   NaN   NaN  NaN  NaN  NaN  NaN  NaN   NaN   NaN\n",
      "1   2.0  NaN   NaN   NaN  NaN  NaN  NaN  NaN  NaN   NaN   NaN\n",
      "2   5.0  0.0   3.0  12.0  NaN  NaN  NaN  NaN  NaN   NaN   NaN\n",
      "3  13.0  0.0   NaN   NaN  NaN  NaN  NaN  NaN  NaN   NaN   NaN\n",
      "4   1.0  NaN   NaN   NaN  NaN  NaN  NaN  NaN  NaN   NaN   NaN\n",
      "5  27.0  NaN   NaN   NaN  NaN  NaN  NaN  NaN  NaN   NaN   NaN\n",
      "6   2.0  0.0  12.0   NaN  NaN  NaN  NaN  NaN  NaN   NaN   NaN\n",
      "7   0.0  0.0   NaN   NaN  NaN  NaN  NaN  NaN  NaN   NaN   NaN\n",
      "8  11.0  0.0   NaN   NaN  NaN  NaN  NaN  NaN  NaN   NaN   NaN\n",
      "9   0.0  NaN   NaN   NaN  NaN  NaN  NaN  NaN  NaN   NaN   NaN\n"
     ]
    }
   ],
   "source": [
    "dataExploit('B', 12)"
   ]
  },
  {
   "cell_type": "code",
   "execution_count": 113,
   "metadata": {},
   "outputs": [
    {
     "name": "stdout",
     "output_type": "stream",
     "text": [
      "for Catagory 'C'\n",
      "-----------------------------------------------------------------------------\n",
      "   C.1  C.2  C.3  C.4  C.5  C.6  C.7  C.8  C.9  C.10  C.11\n",
      "0  0.0  NaN  NaN  NaN  NaN  NaN  NaN  NaN  NaN   NaN   NaN\n",
      "1  2.0  NaN  NaN  NaN  NaN  NaN  NaN  NaN  NaN   NaN   NaN\n",
      "2  2.0  0.0  3.0  2.0  NaN  NaN  NaN  NaN  NaN   NaN   NaN\n",
      "3  3.0  0.0  NaN  NaN  NaN  NaN  NaN  NaN  NaN   NaN   NaN\n",
      "4  0.0  NaN  NaN  NaN  NaN  NaN  NaN  NaN  NaN   NaN   NaN\n",
      "5  6.0  NaN  NaN  NaN  NaN  NaN  NaN  NaN  NaN   NaN   NaN\n",
      "6  0.0  0.0  4.0  NaN  NaN  NaN  NaN  NaN  NaN   NaN   NaN\n",
      "7  0.0  0.0  NaN  NaN  NaN  NaN  NaN  NaN  NaN   NaN   NaN\n",
      "8  0.0  0.0  NaN  NaN  NaN  NaN  NaN  NaN  NaN   NaN   NaN\n",
      "9  0.0  NaN  NaN  NaN  NaN  NaN  NaN  NaN  NaN   NaN   NaN\n"
     ]
    }
   ],
   "source": [
    "dataExploit('C', 12)"
   ]
  },
  {
   "cell_type": "code",
   "execution_count": 114,
   "metadata": {},
   "outputs": [],
   "source": [
    "\n",
    "input_cols = [\"A.\", \"A\", \"B\", \"C\"]\n",
    "output_cols = [x+\".papers\" for x in input_cols]\n",
    "\n",
    "for inp, outp in zip(input_cols, output_cols):\n",
    "    interest_cols = [inp+\".%d\" % x for x in range(1,16)]\n",
    "    team_df[outp] = df[interest_cols].apply(lambda x: np.nansum(x), axis =1)\n",
    "    \n"
   ]
  },
  {
   "cell_type": "code",
   "execution_count": 115,
   "metadata": {},
   "outputs": [
    {
     "name": "stdout",
     "output_type": "stream",
     "text": [
      "Output Result\n",
      "-----------------------------------------------------------------------------\n",
      "   A..papers  A.papers  B.papers  C.papers\n",
      "0        4.0       2.0       0.0       0.0\n",
      "1        6.0      12.0       2.0       2.0\n",
      "2        7.0      20.0      20.0       7.0\n",
      "3        0.0       3.0      13.0       3.0\n",
      "4        3.0       0.0       1.0       0.0\n",
      "5        7.0      27.0      27.0       6.0\n",
      "6        8.0      12.0      14.0       4.0\n",
      "7        0.0       0.0       0.0       0.0\n",
      "8        8.0       1.0      11.0       0.0\n",
      "9        1.0       0.0       0.0       0.0\n"
     ]
    }
   ],
   "source": [
    "printOutputData()"
   ]
  },
  {
   "cell_type": "code",
   "execution_count": 116,
   "metadata": {},
   "outputs": [
    {
     "name": "stdout",
     "output_type": "stream",
     "text": [
      "for Catagory 'Country.of.Birth'\n",
      "-----------------------------------------------------------------------------\n",
      "  Country.of.Birth.1 Country.of.Birth.2 Country.of.Birth.3 Country.of.Birth.4\n",
      "0       Asia Pacific                NaN                NaN                NaN\n",
      "1          Australia                NaN                NaN                NaN\n",
      "2          Australia          Australia       Asia Pacific          Australia\n",
      "3          Australia          Australia                NaN                NaN\n",
      "4     Western Europe                NaN                NaN                NaN\n",
      "5          Australia                NaN                NaN                NaN\n",
      "6          Australia          Australia      Great Britain                NaN\n",
      "7          Australia          Australia                NaN                NaN\n",
      "8          Australia          Australia                NaN                NaN\n",
      "9                NaN                NaN                NaN                NaN\n"
     ]
    }
   ],
   "source": [
    "dataExploit(\"Country.of.Birth\", 5)"
   ]
  },
  {
   "cell_type": "code",
   "execution_count": 117,
   "metadata": {},
   "outputs": [],
   "source": [
    "inp = \"Country.of.Birth\"\n",
    "outp = \"Dif.countries\"\n",
    "interest_cols = [inp+\".%d\" % x for x in range(1,16)]\n",
    "team_df[outp] = df[interest_cols].apply(lambda x: len(set(x[~x.isnull()])), axis =1)\n",
    "\n",
    "outp = \"Perc_non_australian\" # From 0 to 1\n",
    "interest_cols = [inp+\".%d\" % x for x in range(1,16)]\n",
    "\n",
    "def compute_perc(x):\n",
    "    total = len(x[~x.isnull()])\n",
    "    \n",
    "    if total == 0:\n",
    "        return 0\n",
    "    \n",
    "    australian = len([elem for elem in x if elem == \"Australia\"])\n",
    "    return australian/float(total)\n",
    "    \n",
    "team_df[outp] = df[interest_cols].apply(compute_perc, axis =1)"
   ]
  },
  {
   "cell_type": "code",
   "execution_count": 118,
   "metadata": {},
   "outputs": [
    {
     "name": "stdout",
     "output_type": "stream",
     "text": [
      "Output Result\n",
      "-----------------------------------------------------------------------------\n",
      "   A..papers  A.papers  B.papers  C.papers  Dif.countries  Perc_non_australian\n",
      "0        4.0       2.0       0.0       0.0              1             0.000000\n",
      "1        6.0      12.0       2.0       2.0              1             1.000000\n",
      "2        7.0      20.0      20.0       7.0              2             0.750000\n",
      "3        0.0       3.0      13.0       3.0              1             1.000000\n",
      "4        3.0       0.0       1.0       0.0              1             0.000000\n",
      "5        7.0      27.0      27.0       6.0              1             1.000000\n",
      "6        8.0      12.0      14.0       4.0              2             0.666667\n",
      "7        0.0       0.0       0.0       0.0              1             1.000000\n",
      "8        8.0       1.0      11.0       0.0              1             1.000000\n",
      "9        1.0       0.0       0.0       0.0              0             0.000000\n"
     ]
    }
   ],
   "source": [
    "printOutputData()"
   ]
  },
  {
   "cell_type": "code",
   "execution_count": 119,
   "metadata": {},
   "outputs": [
    {
     "name": "stdout",
     "output_type": "stream",
     "text": [
      "for Catagory 'Person.ID'\n",
      "-----------------------------------------------------------------------------\n",
      "   Person.ID.1  Person.ID.2  Person.ID.3  Person.ID.4\n",
      "0      40572.0          NaN          NaN          NaN\n",
      "1       9067.0          NaN          NaN          NaN\n",
      "2       5967.0      27307.0      79652.0      11667.0\n",
      "3      78782.0      55337.0          NaN          NaN\n",
      "4      13042.0          NaN          NaN          NaN\n",
      "5     301472.0          NaN          NaN          NaN\n",
      "6      74292.0      82602.0      79742.0          NaN\n",
      "7       1642.0      70212.0          NaN          NaN\n",
      "8       1012.0      80197.0          NaN          NaN\n",
      "9      89462.0          NaN          NaN          NaN\n"
     ]
    }
   ],
   "source": [
    "dataExploit(\"Person.ID\", 5)"
   ]
  },
  {
   "cell_type": "code",
   "execution_count": 120,
   "metadata": {},
   "outputs": [],
   "source": [
    "inp = \"Person.ID\"\n",
    "outp = \"Number.people\"\n",
    "interest_cols = [inp+\".%d\" % x for x in range(1,16)]\n",
    "team_df[outp] = df[interest_cols].apply(lambda x: len(set(x[~x.isnull()])), axis =1)"
   ]
  },
  {
   "cell_type": "code",
   "execution_count": 121,
   "metadata": {},
   "outputs": [
    {
     "name": "stdout",
     "output_type": "stream",
     "text": [
      "Output Result\n",
      "-----------------------------------------------------------------------------\n",
      "   A..papers  A.papers  B.papers  C.papers  Dif.countries  \\\n",
      "0        4.0       2.0       0.0       0.0              1   \n",
      "1        6.0      12.0       2.0       2.0              1   \n",
      "2        7.0      20.0      20.0       7.0              2   \n",
      "3        0.0       3.0      13.0       3.0              1   \n",
      "4        3.0       0.0       1.0       0.0              1   \n",
      "5        7.0      27.0      27.0       6.0              1   \n",
      "6        8.0      12.0      14.0       4.0              2   \n",
      "7        0.0       0.0       0.0       0.0              1   \n",
      "8        8.0       1.0      11.0       0.0              1   \n",
      "9        1.0       0.0       0.0       0.0              0   \n",
      "\n",
      "   Perc_non_australian  Number.people  \n",
      "0             0.000000              1  \n",
      "1             1.000000              1  \n",
      "2             0.750000              4  \n",
      "3             1.000000              2  \n",
      "4             0.000000              1  \n",
      "5             1.000000              1  \n",
      "6             0.666667              3  \n",
      "7             1.000000              2  \n",
      "8             1.000000              2  \n",
      "9             0.000000              1  \n"
     ]
    }
   ],
   "source": [
    "printOutputData()"
   ]
  },
  {
   "cell_type": "code",
   "execution_count": 122,
   "metadata": {},
   "outputs": [
    {
     "name": "stdout",
     "output_type": "stream",
     "text": [
      "for Catagory 'With.PHD'\n",
      "-----------------------------------------------------------------------------\n",
      "  With.PHD.1 With.PHD.2 With.PHD.3 With.PHD.4 With.PHD.5 With.PHD.6\n",
      "0        NaN        NaN        NaN        NaN        NaN        NaN\n",
      "1       Yes         NaN        NaN        NaN        NaN        NaN\n",
      "2       Yes         NaN       Yes         NaN        NaN        NaN\n",
      "3       Yes        Yes         NaN        NaN        NaN        NaN\n",
      "4       Yes         NaN        NaN        NaN        NaN        NaN\n",
      "5       Yes         NaN        NaN        NaN        NaN        NaN\n",
      "6       Yes        Yes         NaN        NaN        NaN        NaN\n",
      "7        NaN        NaN        NaN        NaN        NaN        NaN\n",
      "8       Yes        Yes         NaN        NaN        NaN        NaN\n",
      "9        NaN        NaN        NaN        NaN        NaN        NaN\n"
     ]
    }
   ],
   "source": [
    "dataExploit(\"With.PHD\", 7)"
   ]
  },
  {
   "cell_type": "code",
   "execution_count": 123,
   "metadata": {},
   "outputs": [],
   "source": [
    "inp =  'With.PHD'\n",
    "outp = \"PHD\"\n",
    "interest_cols = [inp+\".%d\" % x for x in range(1,16)]\n",
    "aux = df[interest_cols].replace({\"Yes \": 1, np.nan: 0, \"No\": 0, \"yes\":1})\n",
    "team_df[outp] = aux.apply(lambda x: np.nansum(x), axis =1)"
   ]
  },
  {
   "cell_type": "code",
   "execution_count": 124,
   "metadata": {},
   "outputs": [
    {
     "name": "stdout",
     "output_type": "stream",
     "text": [
      "Output Result\n",
      "-----------------------------------------------------------------------------\n",
      "   A..papers  A.papers  B.papers  C.papers  Dif.countries  \\\n",
      "0        4.0       2.0       0.0       0.0              1   \n",
      "1        6.0      12.0       2.0       2.0              1   \n",
      "2        7.0      20.0      20.0       7.0              2   \n",
      "3        0.0       3.0      13.0       3.0              1   \n",
      "4        3.0       0.0       1.0       0.0              1   \n",
      "5        7.0      27.0      27.0       6.0              1   \n",
      "6        8.0      12.0      14.0       4.0              2   \n",
      "7        0.0       0.0       0.0       0.0              1   \n",
      "8        8.0       1.0      11.0       0.0              1   \n",
      "9        1.0       0.0       0.0       0.0              0   \n",
      "\n",
      "   Perc_non_australian  Number.people  PHD  \n",
      "0             0.000000              1  0.0  \n",
      "1             1.000000              1  1.0  \n",
      "2             0.750000              4  2.0  \n",
      "3             1.000000              2  2.0  \n",
      "4             0.000000              1  1.0  \n",
      "5             1.000000              1  1.0  \n",
      "6             0.666667              3  2.0  \n",
      "7             1.000000              2  0.0  \n",
      "8             1.000000              2  2.0  \n",
      "9             0.000000              1  0.0  \n"
     ]
    }
   ],
   "source": [
    "printOutputData()"
   ]
  },
  {
   "cell_type": "code",
   "execution_count": 125,
   "metadata": {
    "scrolled": false
   },
   "outputs": [
    {
     "name": "stdout",
     "output_type": "stream",
     "text": [
      "for Catagory 'No..of.Years.in.Uni.at.Time.of.Grant'\n",
      "-----------------------------------------------------------------------------\n",
      "  No..of.Years.in.Uni.at.Time.of.Grant.1\n",
      "0                            Less than 0\n",
      "1                           more than 15\n",
      "2                               >5 to 10\n",
      "3                               >5 to 10\n",
      "4                               >5 to 10\n",
      "5                               >=0 to 5\n",
      "6                              >10 to 15\n",
      "7                                    NaN\n",
      "8                               >5 to 10\n",
      "9                                    NaN\n"
     ]
    }
   ],
   "source": [
    "dataExploit(\"No..of.Years.in.Uni.at.Time.of.Grant\", 2)"
   ]
  },
  {
   "cell_type": "code",
   "execution_count": 126,
   "metadata": {},
   "outputs": [],
   "source": [
    "# NaN          --> 0\n",
    "# Less than 0  --> 0\n",
    "# >=0 to 5     --> 5\n",
    "# >5 to 10     --> 10\n",
    "# >10 to 15    --> 15\n",
    "# more than 15 --> 20\n",
    "\n",
    "\n",
    "inp =  \"No..of.Years.in.Uni.at.Time.of.Grant\" \n",
    "outp = \"Max.years.univ\"\n",
    "interest_cols = [inp+\".%d\" % x for x in range(1,16)]\n",
    "categories_of_years = pd.Series(df[interest_cols].values.ravel()).unique()\n",
    "year_converter = dict(zip(categories_of_years, [0, 0, 20, 10, 5, 15]))\n",
    "\n",
    "aux = df[interest_cols].replace(year_converter)\n",
    "team_df[outp] = aux.apply(lambda x: np.nansum(x), axis =1)"
   ]
  },
  {
   "cell_type": "code",
   "execution_count": 127,
   "metadata": {},
   "outputs": [
    {
     "name": "stdout",
     "output_type": "stream",
     "text": [
      "Output Result\n",
      "-----------------------------------------------------------------------------\n",
      "   A..papers  A.papers  B.papers  C.papers  Dif.countries  \\\n",
      "0        4.0       2.0       0.0       0.0              1   \n",
      "1        6.0      12.0       2.0       2.0              1   \n",
      "2        7.0      20.0      20.0       7.0              2   \n",
      "3        0.0       3.0      13.0       3.0              1   \n",
      "4        3.0       0.0       1.0       0.0              1   \n",
      "5        7.0      27.0      27.0       6.0              1   \n",
      "6        8.0      12.0      14.0       4.0              2   \n",
      "7        0.0       0.0       0.0       0.0              1   \n",
      "8        8.0       1.0      11.0       0.0              1   \n",
      "9        1.0       0.0       0.0       0.0              0   \n",
      "\n",
      "   Perc_non_australian  Number.people  PHD  Max.years.univ  \n",
      "0             0.000000              1  0.0             0.0  \n",
      "1             1.000000              1  1.0            20.0  \n",
      "2             0.750000              4  2.0            50.0  \n",
      "3             1.000000              2  2.0            15.0  \n",
      "4             0.000000              1  1.0            10.0  \n",
      "5             1.000000              1  1.0             5.0  \n",
      "6             0.666667              3  2.0            30.0  \n",
      "7             1.000000              2  0.0             0.0  \n",
      "8             1.000000              2  2.0            20.0  \n",
      "9             0.000000              1  0.0             0.0  \n"
     ]
    }
   ],
   "source": [
    "printOutputData()"
   ]
  },
  {
   "cell_type": "code",
   "execution_count": 128,
   "metadata": {},
   "outputs": [
    {
     "name": "stdout",
     "output_type": "stream",
     "text": [
      "for Catagory 'Number.of.Successful.Grant'\n",
      "-----------------------------------------------------------------------------\n",
      "   Number.of.Successful.Grant.1  Number.of.Successful.Grant.2\n",
      "0                           0.0                           NaN\n",
      "1                           0.0                           NaN\n",
      "2                           0.0                           0.0\n",
      "3                           0.0                           0.0\n",
      "4                           0.0                           NaN\n",
      "5                           2.0                           NaN\n",
      "6                           0.0                           0.0\n",
      "7                           0.0                           0.0\n",
      "8                           0.0                           2.0\n",
      "9                           0.0                           NaN\n",
      "for Catagory 'Number.of.Unsuccessful.Grant'\n",
      "-----------------------------------------------------------------------------\n",
      "   Number.of.Unsuccessful.Grant.1  Number.of.Unsuccessful.Grant.2\n",
      "0                             0.0                             NaN\n",
      "1                             0.0                             NaN\n",
      "2                             0.0                             0.0\n",
      "3                             0.0                             0.0\n",
      "4                             0.0                             NaN\n",
      "5                             0.0                             NaN\n",
      "6                             0.0                             1.0\n",
      "7                             3.0                             0.0\n",
      "8                             0.0                             1.0\n",
      "9                             0.0                             NaN\n"
     ]
    }
   ],
   "source": [
    "dataExploit('Number.of.Successful.Grant', 3)\n",
    "dataExploit('Number.of.Unsuccessful.Grant', 3)"
   ]
  },
  {
   "cell_type": "code",
   "execution_count": 129,
   "metadata": {},
   "outputs": [],
   "source": [
    "inp =  'Number.of.Successful.Grant'\n",
    "outp = \"Grants.succ\"\n",
    "interest_cols = [inp+\".%d\" % x for x in range(1,16)]\n",
    "team_df[outp] = df[interest_cols].apply(lambda x: np.nansum(x), axis =1)\n",
    "\n",
    "# Get the number of unsuccessful grants per team\n",
    "inp =  \"Number.of.Unsuccessful.Grant\"\n",
    "outp = \"Grants.unsucc\"\n",
    "interest_cols = [inp+\".%d\" % x for x in range(1,16)]\n",
    "team_df[outp] = df[interest_cols].apply(lambda x: np.nansum(x), axis =1)"
   ]
  },
  {
   "cell_type": "code",
   "execution_count": 130,
   "metadata": {},
   "outputs": [
    {
     "name": "stdout",
     "output_type": "stream",
     "text": [
      "Output Result\n",
      "-----------------------------------------------------------------------------\n",
      "   A..papers  A.papers  B.papers  C.papers  Dif.countries  \\\n",
      "0        4.0       2.0       0.0       0.0              1   \n",
      "1        6.0      12.0       2.0       2.0              1   \n",
      "2        7.0      20.0      20.0       7.0              2   \n",
      "3        0.0       3.0      13.0       3.0              1   \n",
      "4        3.0       0.0       1.0       0.0              1   \n",
      "5        7.0      27.0      27.0       6.0              1   \n",
      "6        8.0      12.0      14.0       4.0              2   \n",
      "7        0.0       0.0       0.0       0.0              1   \n",
      "8        8.0       1.0      11.0       0.0              1   \n",
      "9        1.0       0.0       0.0       0.0              0   \n",
      "\n",
      "   Perc_non_australian  Number.people  PHD  Max.years.univ  Grants.succ  \\\n",
      "0             0.000000              1  0.0             0.0          0.0   \n",
      "1             1.000000              1  1.0            20.0          0.0   \n",
      "2             0.750000              4  2.0            50.0          0.0   \n",
      "3             1.000000              2  2.0            15.0          0.0   \n",
      "4             0.000000              1  1.0            10.0          0.0   \n",
      "5             1.000000              1  1.0             5.0          2.0   \n",
      "6             0.666667              3  2.0            30.0          0.0   \n",
      "7             1.000000              2  0.0             0.0          0.0   \n",
      "8             1.000000              2  2.0            20.0          2.0   \n",
      "9             0.000000              1  0.0             0.0          0.0   \n",
      "\n",
      "   Grants.unsucc  \n",
      "0            0.0  \n",
      "1            0.0  \n",
      "2            0.0  \n",
      "3            0.0  \n",
      "4            0.0  \n",
      "5            0.0  \n",
      "6            1.0  \n",
      "7            3.0  \n",
      "8            1.0  \n",
      "9            0.0  \n"
     ]
    }
   ],
   "source": [
    "printOutputData()"
   ]
  },
  {
   "cell_type": "code",
   "execution_count": 131,
   "metadata": {},
   "outputs": [
    {
     "name": "stdout",
     "output_type": "stream",
     "text": [
      "for Catagory 'Dept.No.'\n",
      "-----------------------------------------------------------------------------\n",
      "   Dept.No..1  Dept.No..2  Dept.No..3  Dept.No..4\n",
      "0      3073.0         NaN         NaN         NaN\n",
      "1      2538.0         NaN         NaN         NaN\n",
      "2      2923.0      2923.0      2498.0      2548.0\n",
      "3      2678.0      2678.0         NaN         NaN\n",
      "4      2153.0         NaN         NaN         NaN\n",
      "5      2533.0         NaN         NaN         NaN\n",
      "6      3028.0      3028.0      3028.0         NaN\n",
      "7      2563.0      2563.0         NaN         NaN\n",
      "8      3123.0      3123.0         NaN         NaN\n",
      "9         NaN         NaN         NaN         NaN\n"
     ]
    }
   ],
   "source": [
    "dataExploit(\"Dept.No.\", 5)"
   ]
  },
  {
   "cell_type": "code",
   "execution_count": 132,
   "metadata": {},
   "outputs": [],
   "source": [
    "inp =  \"Dept.No.\"\n",
    "outp = \"Departments\"\n",
    "interest_cols = [inp+\".%d\" % x for x in range(1,16)]\n",
    "team_df[outp] = df[interest_cols].apply(lambda x: len(set(x[~x.isnull()])), axis =1)\n"
   ]
  },
  {
   "cell_type": "code",
   "execution_count": 133,
   "metadata": {},
   "outputs": [
    {
     "name": "stdout",
     "output_type": "stream",
     "text": [
      "Output Result\n",
      "-----------------------------------------------------------------------------\n",
      "   A..papers  A.papers  B.papers  C.papers  Dif.countries  \\\n",
      "0        4.0       2.0       0.0       0.0              1   \n",
      "1        6.0      12.0       2.0       2.0              1   \n",
      "2        7.0      20.0      20.0       7.0              2   \n",
      "3        0.0       3.0      13.0       3.0              1   \n",
      "4        3.0       0.0       1.0       0.0              1   \n",
      "5        7.0      27.0      27.0       6.0              1   \n",
      "6        8.0      12.0      14.0       4.0              2   \n",
      "7        0.0       0.0       0.0       0.0              1   \n",
      "8        8.0       1.0      11.0       0.0              1   \n",
      "9        1.0       0.0       0.0       0.0              0   \n",
      "\n",
      "   Perc_non_australian  Number.people  PHD  Max.years.univ  Grants.succ  \\\n",
      "0             0.000000              1  0.0             0.0          0.0   \n",
      "1             1.000000              1  1.0            20.0          0.0   \n",
      "2             0.750000              4  2.0            50.0          0.0   \n",
      "3             1.000000              2  2.0            15.0          0.0   \n",
      "4             0.000000              1  1.0            10.0          0.0   \n",
      "5             1.000000              1  1.0             5.0          2.0   \n",
      "6             0.666667              3  2.0            30.0          0.0   \n",
      "7             1.000000              2  0.0             0.0          0.0   \n",
      "8             1.000000              2  2.0            20.0          2.0   \n",
      "9             0.000000              1  0.0             0.0          0.0   \n",
      "\n",
      "   Grants.unsucc  Departments  \n",
      "0            0.0            1  \n",
      "1            0.0            1  \n",
      "2            0.0            3  \n",
      "3            0.0            1  \n",
      "4            0.0            1  \n",
      "5            0.0            1  \n",
      "6            1.0            1  \n",
      "7            3.0            1  \n",
      "8            1.0            1  \n",
      "9            0.0            0  \n"
     ]
    }
   ],
   "source": [
    "printOutputData()"
   ]
  },
  {
   "cell_type": "code",
   "execution_count": 137,
   "metadata": {},
   "outputs": [
    {
     "name": "stdout",
     "output_type": "stream",
     "text": [
      "for Catagory 'Home.Language'\n",
      "-----------------------------------------------------------------------------\n",
      "   Home.Language.1 Home.Language.2 Home.Language.3 Home.Language.4\n",
      "0            Other             NaN             NaN             NaN\n",
      "1              NaN             NaN             NaN             NaN\n",
      "2              NaN             NaN             NaN             NaN\n",
      "3              NaN             NaN             NaN             NaN\n",
      "4              NaN             NaN             NaN             NaN\n",
      "5              NaN             NaN             NaN             NaN\n",
      "6              NaN             NaN             NaN             NaN\n",
      "7              NaN             NaN             NaN             NaN\n",
      "8          English         English             NaN             NaN\n",
      "9              NaN             NaN             NaN             NaN\n",
      "10             NaN             NaN             NaN             NaN\n",
      "11             NaN             NaN             NaN             NaN\n",
      "12             NaN             NaN             NaN             NaN\n",
      "13             NaN             NaN             NaN             NaN\n",
      "14             NaN           Other             NaN             NaN\n",
      "15             NaN             NaN             NaN             NaN\n",
      "16             NaN             NaN             NaN             NaN\n",
      "17             NaN             NaN             NaN             NaN\n",
      "18         English             NaN             NaN             NaN\n",
      "19             NaN             NaN             NaN             NaN\n",
      "20         English             NaN             NaN             NaN\n",
      "21             NaN             NaN             NaN             NaN\n",
      "22             NaN             NaN             NaN             NaN\n",
      "23             NaN             NaN             NaN             NaN\n",
      "24             NaN         English             NaN             NaN\n",
      "25             NaN             NaN             NaN             NaN\n",
      "26             NaN             NaN             NaN             NaN\n",
      "27             NaN             NaN             NaN             NaN\n",
      "28             NaN             NaN             NaN             NaN\n",
      "29             NaN             NaN             NaN             NaN\n",
      "30             NaN             NaN             NaN             NaN\n",
      "31         English             NaN             NaN             NaN\n",
      "32             NaN             NaN             NaN             NaN\n",
      "33             NaN             NaN             NaN             NaN\n",
      "34             NaN             NaN             NaN             NaN\n",
      "35             NaN             NaN             NaN             NaN\n",
      "36             NaN             NaN             NaN             NaN\n",
      "37             NaN             NaN             NaN             NaN\n",
      "38             NaN             NaN             NaN             NaN\n",
      "39             NaN             NaN             NaN             NaN\n",
      "40             NaN             NaN             NaN             NaN\n",
      "41             NaN             NaN             NaN             NaN\n",
      "42             NaN             NaN             NaN             NaN\n",
      "43             NaN             NaN             NaN             NaN\n",
      "44             NaN             NaN             NaN             NaN\n",
      "45             NaN             NaN             NaN             NaN\n",
      "46             NaN             NaN             NaN             NaN\n",
      "47             NaN           Other             NaN             NaN\n",
      "48             NaN             NaN             NaN             NaN\n",
      "49             NaN             NaN             NaN             NaN\n"
     ]
    }
   ],
   "source": [
    "dataExploit(\"Home.Language\", 5)"
   ]
  },
  {
   "cell_type": "code",
   "execution_count": null,
   "metadata": {},
   "outputs": [],
   "source": []
  }
 ],
 "metadata": {
  "kernelspec": {
   "display_name": "Python 3",
   "language": "python",
   "name": "python3"
  },
  "language_info": {
   "codemirror_mode": {
    "name": "ipython",
    "version": 3
   },
   "file_extension": ".py",
   "mimetype": "text/x-python",
   "name": "python",
   "nbconvert_exporter": "python",
   "pygments_lexer": "ipython3",
   "version": "3.6.4"
  }
 },
 "nbformat": 4,
 "nbformat_minor": 2
}
