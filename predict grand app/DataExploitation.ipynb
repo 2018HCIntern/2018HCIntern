{
 "cells": [
  {
   "cell_type": "code",
   "execution_count": 162,
   "metadata": {},
   "outputs": [
    {
     "data": {
      "text/html": [
       "<div>\n",
       "<style scoped>\n",
       "    .dataframe tbody tr th:only-of-type {\n",
       "        vertical-align: middle;\n",
       "    }\n",
       "\n",
       "    .dataframe tbody tr th {\n",
       "        vertical-align: top;\n",
       "    }\n",
       "\n",
       "    .dataframe thead th {\n",
       "        text-align: right;\n",
       "    }\n",
       "</style>\n",
       "<table border=\"1\" class=\"dataframe\">\n",
       "  <thead>\n",
       "    <tr style=\"text-align: right;\">\n",
       "      <th></th>\n",
       "      <th>Grant.Application.ID</th>\n",
       "      <th>Grant.Status</th>\n",
       "      <th>Sponsor.Code</th>\n",
       "      <th>Grant.Category.Code</th>\n",
       "      <th>Contract.Value.Band...see.note.A</th>\n",
       "      <th>Start.date</th>\n",
       "      <th>RFCD.Code.1</th>\n",
       "      <th>RFCD.Percentage.1</th>\n",
       "      <th>RFCD.Code.2</th>\n",
       "      <th>RFCD.Percentage.2</th>\n",
       "      <th>...</th>\n",
       "      <th>Faculty.No..15</th>\n",
       "      <th>With.PHD.15</th>\n",
       "      <th>No..of.Years.in.Uni.at.Time.of.Grant.15</th>\n",
       "      <th>Number.of.Successful.Grant.15</th>\n",
       "      <th>Number.of.Unsuccessful.Grant.15</th>\n",
       "      <th>A..15</th>\n",
       "      <th>A.15</th>\n",
       "      <th>B.15</th>\n",
       "      <th>C.15</th>\n",
       "      <th>Unnamed: 251</th>\n",
       "    </tr>\n",
       "  </thead>\n",
       "  <tbody>\n",
       "    <tr>\n",
       "      <th>0</th>\n",
       "      <td>1</td>\n",
       "      <td>1</td>\n",
       "      <td>NaN</td>\n",
       "      <td>NaN</td>\n",
       "      <td>A</td>\n",
       "      <td>8/11/05</td>\n",
       "      <td>280199.0</td>\n",
       "      <td>100.0</td>\n",
       "      <td>0.0</td>\n",
       "      <td>0.0</td>\n",
       "      <td>...</td>\n",
       "      <td>NaN</td>\n",
       "      <td>NaN</td>\n",
       "      <td>NaN</td>\n",
       "      <td>NaN</td>\n",
       "      <td>NaN</td>\n",
       "      <td>NaN</td>\n",
       "      <td>NaN</td>\n",
       "      <td>NaN</td>\n",
       "      <td>NaN</td>\n",
       "      <td>NaN</td>\n",
       "    </tr>\n",
       "    <tr>\n",
       "      <th>1</th>\n",
       "      <td>2</td>\n",
       "      <td>1</td>\n",
       "      <td>2B</td>\n",
       "      <td>10A</td>\n",
       "      <td>B</td>\n",
       "      <td>11/11/05</td>\n",
       "      <td>280103.0</td>\n",
       "      <td>30.0</td>\n",
       "      <td>280106.0</td>\n",
       "      <td>30.0</td>\n",
       "      <td>...</td>\n",
       "      <td>NaN</td>\n",
       "      <td>NaN</td>\n",
       "      <td>NaN</td>\n",
       "      <td>NaN</td>\n",
       "      <td>NaN</td>\n",
       "      <td>NaN</td>\n",
       "      <td>NaN</td>\n",
       "      <td>NaN</td>\n",
       "      <td>NaN</td>\n",
       "      <td>NaN</td>\n",
       "    </tr>\n",
       "    <tr>\n",
       "      <th>2</th>\n",
       "      <td>3</td>\n",
       "      <td>1</td>\n",
       "      <td>29A</td>\n",
       "      <td>10B</td>\n",
       "      <td>A</td>\n",
       "      <td>14/11/05</td>\n",
       "      <td>321004.0</td>\n",
       "      <td>60.0</td>\n",
       "      <td>321216.0</td>\n",
       "      <td>40.0</td>\n",
       "      <td>...</td>\n",
       "      <td>NaN</td>\n",
       "      <td>NaN</td>\n",
       "      <td>NaN</td>\n",
       "      <td>NaN</td>\n",
       "      <td>NaN</td>\n",
       "      <td>NaN</td>\n",
       "      <td>NaN</td>\n",
       "      <td>NaN</td>\n",
       "      <td>NaN</td>\n",
       "      <td>NaN</td>\n",
       "    </tr>\n",
       "    <tr>\n",
       "      <th>3</th>\n",
       "      <td>4</td>\n",
       "      <td>1</td>\n",
       "      <td>40D</td>\n",
       "      <td>10B</td>\n",
       "      <td>C</td>\n",
       "      <td>15/11/05</td>\n",
       "      <td>270602.0</td>\n",
       "      <td>50.0</td>\n",
       "      <td>320602.0</td>\n",
       "      <td>50.0</td>\n",
       "      <td>...</td>\n",
       "      <td>NaN</td>\n",
       "      <td>NaN</td>\n",
       "      <td>NaN</td>\n",
       "      <td>NaN</td>\n",
       "      <td>NaN</td>\n",
       "      <td>NaN</td>\n",
       "      <td>NaN</td>\n",
       "      <td>NaN</td>\n",
       "      <td>NaN</td>\n",
       "      <td>NaN</td>\n",
       "    </tr>\n",
       "    <tr>\n",
       "      <th>4</th>\n",
       "      <td>5</td>\n",
       "      <td>0</td>\n",
       "      <td>59C</td>\n",
       "      <td>10A</td>\n",
       "      <td>A</td>\n",
       "      <td>16/11/05</td>\n",
       "      <td>260500.0</td>\n",
       "      <td>34.0</td>\n",
       "      <td>280000.0</td>\n",
       "      <td>33.0</td>\n",
       "      <td>...</td>\n",
       "      <td>NaN</td>\n",
       "      <td>NaN</td>\n",
       "      <td>NaN</td>\n",
       "      <td>NaN</td>\n",
       "      <td>NaN</td>\n",
       "      <td>NaN</td>\n",
       "      <td>NaN</td>\n",
       "      <td>NaN</td>\n",
       "      <td>NaN</td>\n",
       "      <td>NaN</td>\n",
       "    </tr>\n",
       "  </tbody>\n",
       "</table>\n",
       "<p>5 rows × 252 columns</p>\n",
       "</div>"
      ],
      "text/plain": [
       "   Grant.Application.ID  Grant.Status Sponsor.Code Grant.Category.Code  \\\n",
       "0                     1             1          NaN                 NaN   \n",
       "1                     2             1           2B                 10A   \n",
       "2                     3             1          29A                 10B   \n",
       "3                     4             1          40D                 10B   \n",
       "4                     5             0          59C                 10A   \n",
       "\n",
       "  Contract.Value.Band...see.note.A Start.date  RFCD.Code.1  RFCD.Percentage.1  \\\n",
       "0                               A     8/11/05     280199.0              100.0   \n",
       "1                               B    11/11/05     280103.0               30.0   \n",
       "2                               A    14/11/05     321004.0               60.0   \n",
       "3                               C    15/11/05     270602.0               50.0   \n",
       "4                               A    16/11/05     260500.0               34.0   \n",
       "\n",
       "   RFCD.Code.2  RFCD.Percentage.2      ...       Faculty.No..15  With.PHD.15  \\\n",
       "0          0.0                0.0      ...                  NaN          NaN   \n",
       "1     280106.0               30.0      ...                  NaN          NaN   \n",
       "2     321216.0               40.0      ...                  NaN          NaN   \n",
       "3     320602.0               50.0      ...                  NaN          NaN   \n",
       "4     280000.0               33.0      ...                  NaN          NaN   \n",
       "\n",
       "   No..of.Years.in.Uni.at.Time.of.Grant.15  Number.of.Successful.Grant.15  \\\n",
       "0                                      NaN                            NaN   \n",
       "1                                      NaN                            NaN   \n",
       "2                                      NaN                            NaN   \n",
       "3                                      NaN                            NaN   \n",
       "4                                      NaN                            NaN   \n",
       "\n",
       "   Number.of.Unsuccessful.Grant.15  A..15  A.15  B.15  C.15  Unnamed: 251  \n",
       "0                              NaN    NaN   NaN   NaN   NaN           NaN  \n",
       "1                              NaN    NaN   NaN   NaN   NaN           NaN  \n",
       "2                              NaN    NaN   NaN   NaN   NaN           NaN  \n",
       "3                              NaN    NaN   NaN   NaN   NaN           NaN  \n",
       "4                              NaN    NaN   NaN   NaN   NaN           NaN  \n",
       "\n",
       "[5 rows x 252 columns]"
      ]
     },
     "execution_count": 162,
     "metadata": {},
     "output_type": "execute_result"
    }
   ],
   "source": [
    "import pandas as pd\n",
    "import numpy as np\n",
    "\n",
    "df = pd.read_csv('data/unimelb_training.csv', low_memory = False)\n",
    "df.head(5)"
   ]
  },
  {
   "cell_type": "code",
   "execution_count": 163,
   "metadata": {},
   "outputs": [],
   "source": [
    "\n",
    "team_df = pd.DataFrame()"
   ]
  },
  {
   "cell_type": "code",
   "execution_count": 164,
   "metadata": {},
   "outputs": [],
   "source": [
    "def dataExploit(columnName, max_range) : \n",
    "    print(\"for Catagory '{0}' data frame looks like below\".format(columnName))\n",
    "    print('-----------------------------------------------------------------------------')\n",
    "    inp =  columnName\n",
    "    interest_cols = [inp+\".%d\" % x for x in range(1,max_range)]\n",
    "    data_df = df[interest_cols]\n",
    "    print(data_df.head(10))\n",
    "    print('-----------------------------------------------------------------------------')"
   ]
  },
  {
   "cell_type": "code",
   "execution_count": 165,
   "metadata": {},
   "outputs": [],
   "source": [
    "def printOutputData() : \n",
    "    print(\"Output Result\")\n",
    "    print('-----------------------------------------------------------------------------')\n",
    "    print(team_df.head(10))\n",
    "    print('-----------------------------------------------------------------------------')"
   ]
  },
  {
   "cell_type": "code",
   "execution_count": 166,
   "metadata": {},
   "outputs": [],
   "source": [
    "def FindUniqueValues(columnName) : \n",
    "    print(\"Unique Values are like\")\n",
    "    print('-----------------------------------------------------------------------------')\n",
    "    print(pd.unique(df[columnName]))\n",
    "    print('-----------------------------------------------------------------------------')"
   ]
  },
  {
   "cell_type": "code",
   "execution_count": 167,
   "metadata": {},
   "outputs": [
    {
     "name": "stdout",
     "output_type": "stream",
     "text": [
      "for Catagory 'A.' data frame looks like below\n",
      "-----------------------------------------------------------------------------\n",
      "   A..1  A..2  A..3  A..4  A..5  A..6  A..7  A..8  A..9  A..10  A..11\n",
      "0   4.0   NaN   NaN   NaN   NaN   NaN   NaN   NaN   NaN    NaN    NaN\n",
      "1   6.0   NaN   NaN   NaN   NaN   NaN   NaN   NaN   NaN    NaN    NaN\n",
      "2   0.0   0.0   1.0   6.0   NaN   NaN   NaN   NaN   NaN    NaN    NaN\n",
      "3   0.0   0.0   NaN   NaN   NaN   NaN   NaN   NaN   NaN    NaN    NaN\n",
      "4   3.0   NaN   NaN   NaN   NaN   NaN   NaN   NaN   NaN    NaN    NaN\n",
      "5   7.0   NaN   NaN   NaN   NaN   NaN   NaN   NaN   NaN    NaN    NaN\n",
      "6   8.0   0.0   0.0   NaN   NaN   NaN   NaN   NaN   NaN    NaN    NaN\n",
      "7   0.0   0.0   NaN   NaN   NaN   NaN   NaN   NaN   NaN    NaN    NaN\n",
      "8   8.0   0.0   NaN   NaN   NaN   NaN   NaN   NaN   NaN    NaN    NaN\n",
      "9   1.0   NaN   NaN   NaN   NaN   NaN   NaN   NaN   NaN    NaN    NaN\n",
      "-----------------------------------------------------------------------------\n",
      "Unique Values are like\n",
      "-----------------------------------------------------------------------------\n",
      "[  4.   6.   0.   3.   7.   8.   1.   2.  10.   9.  16.  nan  11.  12.\n",
      "  17.  22.  15.   5.  19.  13.  27.  25.  75.  31.  18.  14.  37.  45.\n",
      "  40.  34.  48.  30.  20.  29.  26.  21.  42.  68.  53.  36.  92.  74.\n",
      "  32.  58.  28.  33.  23.  38. 111.  24.  90.  41.  39.  79.  84.  51.\n",
      "  72. 113.  49.  35.  99. 123.  60.]\n",
      "-----------------------------------------------------------------------------\n"
     ]
    }
   ],
   "source": [
    "dataExploit('A.',12)\n",
    "FindUniqueValues('A..1')"
   ]
  },
  {
   "cell_type": "code",
   "execution_count": 168,
   "metadata": {},
   "outputs": [
    {
     "name": "stdout",
     "output_type": "stream",
     "text": [
      "for Catagory 'A' data frame looks like below\n",
      "-----------------------------------------------------------------------------\n",
      "    A.1  A.2  A.3   A.4  A.5  A.6  A.7  A.8  A.9  A.10  A.11\n",
      "0   2.0  NaN  NaN   NaN  NaN  NaN  NaN  NaN  NaN   NaN   NaN\n",
      "1  12.0  NaN  NaN   NaN  NaN  NaN  NaN  NaN  NaN   NaN   NaN\n",
      "2   3.0  0.0  3.0  14.0  NaN  NaN  NaN  NaN  NaN   NaN   NaN\n",
      "3   3.0  0.0  NaN   NaN  NaN  NaN  NaN  NaN  NaN   NaN   NaN\n",
      "4   0.0  NaN  NaN   NaN  NaN  NaN  NaN  NaN  NaN   NaN   NaN\n",
      "5  27.0  NaN  NaN   NaN  NaN  NaN  NaN  NaN  NaN   NaN   NaN\n",
      "6   5.0  0.0  7.0   NaN  NaN  NaN  NaN  NaN  NaN   NaN   NaN\n",
      "7   0.0  0.0  NaN   NaN  NaN  NaN  NaN  NaN  NaN   NaN   NaN\n",
      "8   1.0  0.0  NaN   NaN  NaN  NaN  NaN  NaN  NaN   NaN   NaN\n",
      "9   0.0  NaN  NaN   NaN  NaN  NaN  NaN  NaN  NaN   NaN   NaN\n",
      "-----------------------------------------------------------------------------\n"
     ]
    }
   ],
   "source": [
    "dataExploit('A', 12)"
   ]
  },
  {
   "cell_type": "code",
   "execution_count": 169,
   "metadata": {},
   "outputs": [
    {
     "name": "stdout",
     "output_type": "stream",
     "text": [
      "for Catagory 'B' data frame looks like below\n",
      "-----------------------------------------------------------------------------\n",
      "    B.1  B.2   B.3   B.4  B.5  B.6  B.7  B.8  B.9  B.10  B.11\n",
      "0   0.0  NaN   NaN   NaN  NaN  NaN  NaN  NaN  NaN   NaN   NaN\n",
      "1   2.0  NaN   NaN   NaN  NaN  NaN  NaN  NaN  NaN   NaN   NaN\n",
      "2   5.0  0.0   3.0  12.0  NaN  NaN  NaN  NaN  NaN   NaN   NaN\n",
      "3  13.0  0.0   NaN   NaN  NaN  NaN  NaN  NaN  NaN   NaN   NaN\n",
      "4   1.0  NaN   NaN   NaN  NaN  NaN  NaN  NaN  NaN   NaN   NaN\n",
      "5  27.0  NaN   NaN   NaN  NaN  NaN  NaN  NaN  NaN   NaN   NaN\n",
      "6   2.0  0.0  12.0   NaN  NaN  NaN  NaN  NaN  NaN   NaN   NaN\n",
      "7   0.0  0.0   NaN   NaN  NaN  NaN  NaN  NaN  NaN   NaN   NaN\n",
      "8  11.0  0.0   NaN   NaN  NaN  NaN  NaN  NaN  NaN   NaN   NaN\n",
      "9   0.0  NaN   NaN   NaN  NaN  NaN  NaN  NaN  NaN   NaN   NaN\n",
      "-----------------------------------------------------------------------------\n"
     ]
    }
   ],
   "source": [
    "dataExploit('B', 12)"
   ]
  },
  {
   "cell_type": "code",
   "execution_count": 170,
   "metadata": {},
   "outputs": [
    {
     "name": "stdout",
     "output_type": "stream",
     "text": [
      "for Catagory 'C' data frame looks like below\n",
      "-----------------------------------------------------------------------------\n",
      "   C.1  C.2  C.3  C.4  C.5  C.6  C.7  C.8  C.9  C.10  C.11\n",
      "0  0.0  NaN  NaN  NaN  NaN  NaN  NaN  NaN  NaN   NaN   NaN\n",
      "1  2.0  NaN  NaN  NaN  NaN  NaN  NaN  NaN  NaN   NaN   NaN\n",
      "2  2.0  0.0  3.0  2.0  NaN  NaN  NaN  NaN  NaN   NaN   NaN\n",
      "3  3.0  0.0  NaN  NaN  NaN  NaN  NaN  NaN  NaN   NaN   NaN\n",
      "4  0.0  NaN  NaN  NaN  NaN  NaN  NaN  NaN  NaN   NaN   NaN\n",
      "5  6.0  NaN  NaN  NaN  NaN  NaN  NaN  NaN  NaN   NaN   NaN\n",
      "6  0.0  0.0  4.0  NaN  NaN  NaN  NaN  NaN  NaN   NaN   NaN\n",
      "7  0.0  0.0  NaN  NaN  NaN  NaN  NaN  NaN  NaN   NaN   NaN\n",
      "8  0.0  0.0  NaN  NaN  NaN  NaN  NaN  NaN  NaN   NaN   NaN\n",
      "9  0.0  NaN  NaN  NaN  NaN  NaN  NaN  NaN  NaN   NaN   NaN\n",
      "-----------------------------------------------------------------------------\n"
     ]
    }
   ],
   "source": [
    "dataExploit('C', 12)"
   ]
  },
  {
   "cell_type": "code",
   "execution_count": 171,
   "metadata": {},
   "outputs": [],
   "source": [
    "\n",
    "input_cols = [\"A.\", \"A\", \"B\", \"C\"]\n",
    "output_cols = [x+\".papers\" for x in input_cols]\n",
    "\n",
    "for inp, outp in zip(input_cols, output_cols):\n",
    "    interest_cols = [inp+\".%d\" % x for x in range(1,16)]\n",
    "    team_df[outp] = df[interest_cols].apply(lambda x: np.nansum(x), axis =1)\n",
    "    \n"
   ]
  },
  {
   "cell_type": "code",
   "execution_count": 172,
   "metadata": {},
   "outputs": [
    {
     "name": "stdout",
     "output_type": "stream",
     "text": [
      "Output Result\n",
      "-----------------------------------------------------------------------------\n",
      "   A..papers  A.papers  B.papers  C.papers\n",
      "0        4.0       2.0       0.0       0.0\n",
      "1        6.0      12.0       2.0       2.0\n",
      "2        7.0      20.0      20.0       7.0\n",
      "3        0.0       3.0      13.0       3.0\n",
      "4        3.0       0.0       1.0       0.0\n",
      "5        7.0      27.0      27.0       6.0\n",
      "6        8.0      12.0      14.0       4.0\n",
      "7        0.0       0.0       0.0       0.0\n",
      "8        8.0       1.0      11.0       0.0\n",
      "9        1.0       0.0       0.0       0.0\n",
      "-----------------------------------------------------------------------------\n"
     ]
    }
   ],
   "source": [
    "printOutputData()"
   ]
  },
  {
   "cell_type": "code",
   "execution_count": 173,
   "metadata": {},
   "outputs": [
    {
     "name": "stdout",
     "output_type": "stream",
     "text": [
      "for Catagory 'Country.of.Birth' data frame looks like below\n",
      "-----------------------------------------------------------------------------\n",
      "  Country.of.Birth.1 Country.of.Birth.2 Country.of.Birth.3 Country.of.Birth.4\n",
      "0       Asia Pacific                NaN                NaN                NaN\n",
      "1          Australia                NaN                NaN                NaN\n",
      "2          Australia          Australia       Asia Pacific          Australia\n",
      "3          Australia          Australia                NaN                NaN\n",
      "4     Western Europe                NaN                NaN                NaN\n",
      "5          Australia                NaN                NaN                NaN\n",
      "6          Australia          Australia      Great Britain                NaN\n",
      "7          Australia          Australia                NaN                NaN\n",
      "8          Australia          Australia                NaN                NaN\n",
      "9                NaN                NaN                NaN                NaN\n",
      "-----------------------------------------------------------------------------\n",
      "Unique Values are like\n",
      "-----------------------------------------------------------------------------\n",
      "['Asia Pacific' 'Australia' 'Western Europe' nan 'North America'\n",
      " 'Great Britain' 'New Zealand' 'The Americas' 'Eastern Europe'\n",
      " 'South Africa' 'Middle East and Africa']\n",
      "-----------------------------------------------------------------------------\n"
     ]
    }
   ],
   "source": [
    "dataExploit(\"Country.of.Birth\", 5)\n",
    "FindUniqueValues(\"Country.of.Birth.1\")"
   ]
  },
  {
   "cell_type": "code",
   "execution_count": 174,
   "metadata": {},
   "outputs": [],
   "source": [
    "inp = \"Country.of.Birth\"\n",
    "outp = \"Dif.countries\"\n",
    "interest_cols = [inp+\".%d\" % x for x in range(1,16)]\n",
    "team_df[outp] = df[interest_cols].apply(lambda x: len(set(x[~x.isnull()])), axis =1)\n",
    "\n",
    "outp = \"Perc_non_australian\" # From 0 to 1\n",
    "interest_cols = [inp+\".%d\" % x for x in range(1,16)]\n",
    "\n",
    "def compute_perc(x):\n",
    "    total = len(x[~x.isnull()])\n",
    "    \n",
    "    if total == 0:\n",
    "        return 0\n",
    "    \n",
    "    australian = len([elem for elem in x if elem == \"Australia\"])\n",
    "    return australian/float(total)\n",
    "    \n",
    "team_df[outp] = df[interest_cols].apply(compute_perc, axis =1)"
   ]
  },
  {
   "cell_type": "code",
   "execution_count": 175,
   "metadata": {},
   "outputs": [
    {
     "name": "stdout",
     "output_type": "stream",
     "text": [
      "Output Result\n",
      "-----------------------------------------------------------------------------\n",
      "   A..papers  A.papers  B.papers  C.papers  Dif.countries  Perc_non_australian\n",
      "0        4.0       2.0       0.0       0.0              1             0.000000\n",
      "1        6.0      12.0       2.0       2.0              1             1.000000\n",
      "2        7.0      20.0      20.0       7.0              2             0.750000\n",
      "3        0.0       3.0      13.0       3.0              1             1.000000\n",
      "4        3.0       0.0       1.0       0.0              1             0.000000\n",
      "5        7.0      27.0      27.0       6.0              1             1.000000\n",
      "6        8.0      12.0      14.0       4.0              2             0.666667\n",
      "7        0.0       0.0       0.0       0.0              1             1.000000\n",
      "8        8.0       1.0      11.0       0.0              1             1.000000\n",
      "9        1.0       0.0       0.0       0.0              0             0.000000\n",
      "-----------------------------------------------------------------------------\n"
     ]
    }
   ],
   "source": [
    "printOutputData()"
   ]
  },
  {
   "cell_type": "code",
   "execution_count": 176,
   "metadata": {},
   "outputs": [
    {
     "name": "stdout",
     "output_type": "stream",
     "text": [
      "for Catagory 'Person.ID' data frame looks like below\n",
      "-----------------------------------------------------------------------------\n",
      "   Person.ID.1  Person.ID.2  Person.ID.3  Person.ID.4\n",
      "0      40572.0          NaN          NaN          NaN\n",
      "1       9067.0          NaN          NaN          NaN\n",
      "2       5967.0      27307.0      79652.0      11667.0\n",
      "3      78782.0      55337.0          NaN          NaN\n",
      "4      13042.0          NaN          NaN          NaN\n",
      "5     301472.0          NaN          NaN          NaN\n",
      "6      74292.0      82602.0      79742.0          NaN\n",
      "7       1642.0      70212.0          NaN          NaN\n",
      "8       1012.0      80197.0          NaN          NaN\n",
      "9      89462.0          NaN          NaN          NaN\n",
      "-----------------------------------------------------------------------------\n"
     ]
    }
   ],
   "source": [
    "dataExploit(\"Person.ID\", 5)"
   ]
  },
  {
   "cell_type": "code",
   "execution_count": 177,
   "metadata": {},
   "outputs": [],
   "source": [
    "inp = \"Person.ID\"\n",
    "outp = \"Number.people\"\n",
    "interest_cols = [inp+\".%d\" % x for x in range(1,16)]\n",
    "team_df[outp] = df[interest_cols].apply(lambda x: len(set(x[~x.isnull()])), axis =1)"
   ]
  },
  {
   "cell_type": "code",
   "execution_count": 178,
   "metadata": {},
   "outputs": [
    {
     "name": "stdout",
     "output_type": "stream",
     "text": [
      "Output Result\n",
      "-----------------------------------------------------------------------------\n",
      "   A..papers  A.papers  B.papers  C.papers  Dif.countries  \\\n",
      "0        4.0       2.0       0.0       0.0              1   \n",
      "1        6.0      12.0       2.0       2.0              1   \n",
      "2        7.0      20.0      20.0       7.0              2   \n",
      "3        0.0       3.0      13.0       3.0              1   \n",
      "4        3.0       0.0       1.0       0.0              1   \n",
      "5        7.0      27.0      27.0       6.0              1   \n",
      "6        8.0      12.0      14.0       4.0              2   \n",
      "7        0.0       0.0       0.0       0.0              1   \n",
      "8        8.0       1.0      11.0       0.0              1   \n",
      "9        1.0       0.0       0.0       0.0              0   \n",
      "\n",
      "   Perc_non_australian  Number.people  \n",
      "0             0.000000              1  \n",
      "1             1.000000              1  \n",
      "2             0.750000              4  \n",
      "3             1.000000              2  \n",
      "4             0.000000              1  \n",
      "5             1.000000              1  \n",
      "6             0.666667              3  \n",
      "7             1.000000              2  \n",
      "8             1.000000              2  \n",
      "9             0.000000              1  \n",
      "-----------------------------------------------------------------------------\n"
     ]
    }
   ],
   "source": [
    "printOutputData()"
   ]
  },
  {
   "cell_type": "code",
   "execution_count": 179,
   "metadata": {},
   "outputs": [
    {
     "name": "stdout",
     "output_type": "stream",
     "text": [
      "for Catagory 'With.PHD' data frame looks like below\n",
      "-----------------------------------------------------------------------------\n",
      "  With.PHD.1 With.PHD.2 With.PHD.3 With.PHD.4 With.PHD.5 With.PHD.6\n",
      "0        NaN        NaN        NaN        NaN        NaN        NaN\n",
      "1       Yes         NaN        NaN        NaN        NaN        NaN\n",
      "2       Yes         NaN       Yes         NaN        NaN        NaN\n",
      "3       Yes        Yes         NaN        NaN        NaN        NaN\n",
      "4       Yes         NaN        NaN        NaN        NaN        NaN\n",
      "5       Yes         NaN        NaN        NaN        NaN        NaN\n",
      "6       Yes        Yes         NaN        NaN        NaN        NaN\n",
      "7        NaN        NaN        NaN        NaN        NaN        NaN\n",
      "8       Yes        Yes         NaN        NaN        NaN        NaN\n",
      "9        NaN        NaN        NaN        NaN        NaN        NaN\n",
      "-----------------------------------------------------------------------------\n",
      "Unique Values are like\n",
      "-----------------------------------------------------------------------------\n",
      "[nan 'Yes ']\n",
      "-----------------------------------------------------------------------------\n"
     ]
    }
   ],
   "source": [
    "dataExploit(\"With.PHD\", 7)\n",
    "FindUniqueValues(\"With.PHD.1\")\n"
   ]
  },
  {
   "cell_type": "code",
   "execution_count": 180,
   "metadata": {},
   "outputs": [],
   "source": [
    "inp =  'With.PHD'\n",
    "outp = \"PHD\"\n",
    "interest_cols = [inp+\".%d\" % x for x in range(1,16)]\n",
    "aux = df[interest_cols].replace({\"Yes \": 1, np.nan: 0, \"No\": 0, \"yes\":1})\n",
    "team_df[outp] = aux.apply(lambda x: np.nansum(x), axis =1)"
   ]
  },
  {
   "cell_type": "code",
   "execution_count": 181,
   "metadata": {},
   "outputs": [
    {
     "name": "stdout",
     "output_type": "stream",
     "text": [
      "Output Result\n",
      "-----------------------------------------------------------------------------\n",
      "   A..papers  A.papers  B.papers  C.papers  Dif.countries  \\\n",
      "0        4.0       2.0       0.0       0.0              1   \n",
      "1        6.0      12.0       2.0       2.0              1   \n",
      "2        7.0      20.0      20.0       7.0              2   \n",
      "3        0.0       3.0      13.0       3.0              1   \n",
      "4        3.0       0.0       1.0       0.0              1   \n",
      "5        7.0      27.0      27.0       6.0              1   \n",
      "6        8.0      12.0      14.0       4.0              2   \n",
      "7        0.0       0.0       0.0       0.0              1   \n",
      "8        8.0       1.0      11.0       0.0              1   \n",
      "9        1.0       0.0       0.0       0.0              0   \n",
      "\n",
      "   Perc_non_australian  Number.people  PHD  \n",
      "0             0.000000              1  0.0  \n",
      "1             1.000000              1  1.0  \n",
      "2             0.750000              4  2.0  \n",
      "3             1.000000              2  2.0  \n",
      "4             0.000000              1  1.0  \n",
      "5             1.000000              1  1.0  \n",
      "6             0.666667              3  2.0  \n",
      "7             1.000000              2  0.0  \n",
      "8             1.000000              2  2.0  \n",
      "9             0.000000              1  0.0  \n",
      "-----------------------------------------------------------------------------\n"
     ]
    }
   ],
   "source": [
    "printOutputData()"
   ]
  },
  {
   "cell_type": "code",
   "execution_count": 182,
   "metadata": {
    "scrolled": false
   },
   "outputs": [
    {
     "name": "stdout",
     "output_type": "stream",
     "text": [
      "for Catagory 'No..of.Years.in.Uni.at.Time.of.Grant' data frame looks like below\n",
      "-----------------------------------------------------------------------------\n",
      "  No..of.Years.in.Uni.at.Time.of.Grant.1\n",
      "0                            Less than 0\n",
      "1                           more than 15\n",
      "2                               >5 to 10\n",
      "3                               >5 to 10\n",
      "4                               >5 to 10\n",
      "5                               >=0 to 5\n",
      "6                              >10 to 15\n",
      "7                                    NaN\n",
      "8                               >5 to 10\n",
      "9                                    NaN\n",
      "-----------------------------------------------------------------------------\n",
      "Unique Values are like\n",
      "-----------------------------------------------------------------------------\n",
      "['Less than 0' 'more than 15' '>5 to 10' '>=0 to 5' '>10 to 15' nan]\n",
      "-----------------------------------------------------------------------------\n"
     ]
    }
   ],
   "source": [
    "dataExploit(\"No..of.Years.in.Uni.at.Time.of.Grant\", 2)\n",
    "FindUniqueValues(\"No..of.Years.in.Uni.at.Time.of.Grant.1\")"
   ]
  },
  {
   "cell_type": "code",
   "execution_count": 183,
   "metadata": {},
   "outputs": [],
   "source": [
    "# NaN          --> 0\n",
    "# Less than 0  --> 0\n",
    "# >=0 to 5     --> 5\n",
    "# >5 to 10     --> 10\n",
    "# >10 to 15    --> 15\n",
    "# more than 15 --> 20\n",
    "\n",
    "\n",
    "inp =  \"No..of.Years.in.Uni.at.Time.of.Grant\" \n",
    "outp = \"Max.years.univ\"\n",
    "interest_cols = [inp+\".%d\" % x for x in range(1,16)]\n",
    "categories_of_years = pd.Series(df[interest_cols].values.ravel()).unique()\n",
    "year_converter = dict(zip(categories_of_years, [0, 0, 20, 10, 5, 15]))\n",
    "\n",
    "aux = df[interest_cols].replace(year_converter)\n",
    "team_df[outp] = aux.apply(lambda x: np.nansum(x), axis =1)"
   ]
  },
  {
   "cell_type": "code",
   "execution_count": 184,
   "metadata": {},
   "outputs": [
    {
     "name": "stdout",
     "output_type": "stream",
     "text": [
      "Output Result\n",
      "-----------------------------------------------------------------------------\n",
      "   A..papers  A.papers  B.papers  C.papers  Dif.countries  \\\n",
      "0        4.0       2.0       0.0       0.0              1   \n",
      "1        6.0      12.0       2.0       2.0              1   \n",
      "2        7.0      20.0      20.0       7.0              2   \n",
      "3        0.0       3.0      13.0       3.0              1   \n",
      "4        3.0       0.0       1.0       0.0              1   \n",
      "5        7.0      27.0      27.0       6.0              1   \n",
      "6        8.0      12.0      14.0       4.0              2   \n",
      "7        0.0       0.0       0.0       0.0              1   \n",
      "8        8.0       1.0      11.0       0.0              1   \n",
      "9        1.0       0.0       0.0       0.0              0   \n",
      "\n",
      "   Perc_non_australian  Number.people  PHD  Max.years.univ  \n",
      "0             0.000000              1  0.0             0.0  \n",
      "1             1.000000              1  1.0            20.0  \n",
      "2             0.750000              4  2.0            50.0  \n",
      "3             1.000000              2  2.0            15.0  \n",
      "4             0.000000              1  1.0            10.0  \n",
      "5             1.000000              1  1.0             5.0  \n",
      "6             0.666667              3  2.0            30.0  \n",
      "7             1.000000              2  0.0             0.0  \n",
      "8             1.000000              2  2.0            20.0  \n",
      "9             0.000000              1  0.0             0.0  \n",
      "-----------------------------------------------------------------------------\n"
     ]
    }
   ],
   "source": [
    "printOutputData()"
   ]
  },
  {
   "cell_type": "code",
   "execution_count": 185,
   "metadata": {},
   "outputs": [
    {
     "name": "stdout",
     "output_type": "stream",
     "text": [
      "for Catagory 'Number.of.Successful.Grant' data frame looks like below\n",
      "-----------------------------------------------------------------------------\n",
      "   Number.of.Successful.Grant.1  Number.of.Successful.Grant.2\n",
      "0                           0.0                           NaN\n",
      "1                           0.0                           NaN\n",
      "2                           0.0                           0.0\n",
      "3                           0.0                           0.0\n",
      "4                           0.0                           NaN\n",
      "5                           2.0                           NaN\n",
      "6                           0.0                           0.0\n",
      "7                           0.0                           0.0\n",
      "8                           0.0                           2.0\n",
      "9                           0.0                           NaN\n",
      "-----------------------------------------------------------------------------\n",
      "Unique Values are like\n",
      "-----------------------------------------------------------------------------\n",
      "[ 0.  2.  1.  3. nan  4.  5.  6.  7.  8.  9. 11. 12. 10. 13.]\n",
      "-----------------------------------------------------------------------------\n",
      "for Catagory 'Number.of.Unsuccessful.Grant' data frame looks like below\n",
      "-----------------------------------------------------------------------------\n",
      "   Number.of.Unsuccessful.Grant.1  Number.of.Unsuccessful.Grant.2\n",
      "0                             0.0                             NaN\n",
      "1                             0.0                             NaN\n",
      "2                             0.0                             0.0\n",
      "3                             0.0                             0.0\n",
      "4                             0.0                             NaN\n",
      "5                             0.0                             NaN\n",
      "6                             0.0                             1.0\n",
      "7                             3.0                             0.0\n",
      "8                             0.0                             1.0\n",
      "9                             0.0                             NaN\n",
      "-----------------------------------------------------------------------------\n",
      "Unique Values are like\n",
      "-----------------------------------------------------------------------------\n",
      "[ 0.  3.  7.  1.  4.  5.  2.  6. nan  9.  8. 11. 10. 12. 13. 14. 17. 15.\n",
      " 18. 19. 20. 22. 23. 24. 16. 21. 25. 26.]\n",
      "-----------------------------------------------------------------------------\n"
     ]
    }
   ],
   "source": [
    "dataExploit('Number.of.Successful.Grant', 3)\n",
    "FindUniqueValues('Number.of.Successful.Grant.1')\n",
    "dataExploit('Number.of.Unsuccessful.Grant', 3)\n",
    "FindUniqueValues('Number.of.Unsuccessful.Grant.1')"
   ]
  },
  {
   "cell_type": "code",
   "execution_count": 186,
   "metadata": {},
   "outputs": [],
   "source": [
    "inp =  'Number.of.Successful.Grant'\n",
    "outp = \"Grants.succ\"\n",
    "interest_cols = [inp+\".%d\" % x for x in range(1,16)]\n",
    "team_df[outp] = df[interest_cols].apply(lambda x: np.nansum(x), axis =1)\n",
    "\n",
    "inp =  \"Number.of.Unsuccessful.Grant\"\n",
    "outp = \"Grants.unsucc\"\n",
    "interest_cols = [inp+\".%d\" % x for x in range(1,16)]\n",
    "team_df[outp] = df[interest_cols].apply(lambda x: np.nansum(x), axis =1)"
   ]
  },
  {
   "cell_type": "code",
   "execution_count": 187,
   "metadata": {},
   "outputs": [
    {
     "name": "stdout",
     "output_type": "stream",
     "text": [
      "Output Result\n",
      "-----------------------------------------------------------------------------\n",
      "   A..papers  A.papers  B.papers  C.papers  Dif.countries  \\\n",
      "0        4.0       2.0       0.0       0.0              1   \n",
      "1        6.0      12.0       2.0       2.0              1   \n",
      "2        7.0      20.0      20.0       7.0              2   \n",
      "3        0.0       3.0      13.0       3.0              1   \n",
      "4        3.0       0.0       1.0       0.0              1   \n",
      "5        7.0      27.0      27.0       6.0              1   \n",
      "6        8.0      12.0      14.0       4.0              2   \n",
      "7        0.0       0.0       0.0       0.0              1   \n",
      "8        8.0       1.0      11.0       0.0              1   \n",
      "9        1.0       0.0       0.0       0.0              0   \n",
      "\n",
      "   Perc_non_australian  Number.people  PHD  Max.years.univ  Grants.succ  \\\n",
      "0             0.000000              1  0.0             0.0          0.0   \n",
      "1             1.000000              1  1.0            20.0          0.0   \n",
      "2             0.750000              4  2.0            50.0          0.0   \n",
      "3             1.000000              2  2.0            15.0          0.0   \n",
      "4             0.000000              1  1.0            10.0          0.0   \n",
      "5             1.000000              1  1.0             5.0          2.0   \n",
      "6             0.666667              3  2.0            30.0          0.0   \n",
      "7             1.000000              2  0.0             0.0          0.0   \n",
      "8             1.000000              2  2.0            20.0          2.0   \n",
      "9             0.000000              1  0.0             0.0          0.0   \n",
      "\n",
      "   Grants.unsucc  \n",
      "0            0.0  \n",
      "1            0.0  \n",
      "2            0.0  \n",
      "3            0.0  \n",
      "4            0.0  \n",
      "5            0.0  \n",
      "6            1.0  \n",
      "7            3.0  \n",
      "8            1.0  \n",
      "9            0.0  \n",
      "-----------------------------------------------------------------------------\n"
     ]
    }
   ],
   "source": [
    "printOutputData()"
   ]
  },
  {
   "cell_type": "code",
   "execution_count": 188,
   "metadata": {},
   "outputs": [
    {
     "name": "stdout",
     "output_type": "stream",
     "text": [
      "for Catagory 'Dept.No.' data frame looks like below\n",
      "-----------------------------------------------------------------------------\n",
      "   Dept.No..1  Dept.No..2  Dept.No..3  Dept.No..4\n",
      "0      3073.0         NaN         NaN         NaN\n",
      "1      2538.0         NaN         NaN         NaN\n",
      "2      2923.0      2923.0      2498.0      2548.0\n",
      "3      2678.0      2678.0         NaN         NaN\n",
      "4      2153.0         NaN         NaN         NaN\n",
      "5      2533.0         NaN         NaN         NaN\n",
      "6      3028.0      3028.0      3028.0         NaN\n",
      "7      2563.0      2563.0         NaN         NaN\n",
      "8      3123.0      3123.0         NaN         NaN\n",
      "9         NaN         NaN         NaN         NaN\n",
      "-----------------------------------------------------------------------------\n"
     ]
    }
   ],
   "source": [
    "dataExploit(\"Dept.No.\", 5)"
   ]
  },
  {
   "cell_type": "code",
   "execution_count": 189,
   "metadata": {},
   "outputs": [],
   "source": [
    "inp =  \"Dept.No.\"\n",
    "outp = \"Departments\"\n",
    "interest_cols = [inp+\".%d\" % x for x in range(1,16)]\n",
    "team_df[outp] = df[interest_cols].apply(lambda x: len(set(x[~x.isnull()])), axis =1)\n"
   ]
  },
  {
   "cell_type": "code",
   "execution_count": 190,
   "metadata": {},
   "outputs": [
    {
     "name": "stdout",
     "output_type": "stream",
     "text": [
      "Output Result\n",
      "-----------------------------------------------------------------------------\n",
      "   A..papers  A.papers  B.papers  C.papers  Dif.countries  \\\n",
      "0        4.0       2.0       0.0       0.0              1   \n",
      "1        6.0      12.0       2.0       2.0              1   \n",
      "2        7.0      20.0      20.0       7.0              2   \n",
      "3        0.0       3.0      13.0       3.0              1   \n",
      "4        3.0       0.0       1.0       0.0              1   \n",
      "5        7.0      27.0      27.0       6.0              1   \n",
      "6        8.0      12.0      14.0       4.0              2   \n",
      "7        0.0       0.0       0.0       0.0              1   \n",
      "8        8.0       1.0      11.0       0.0              1   \n",
      "9        1.0       0.0       0.0       0.0              0   \n",
      "\n",
      "   Perc_non_australian  Number.people  PHD  Max.years.univ  Grants.succ  \\\n",
      "0             0.000000              1  0.0             0.0          0.0   \n",
      "1             1.000000              1  1.0            20.0          0.0   \n",
      "2             0.750000              4  2.0            50.0          0.0   \n",
      "3             1.000000              2  2.0            15.0          0.0   \n",
      "4             0.000000              1  1.0            10.0          0.0   \n",
      "5             1.000000              1  1.0             5.0          2.0   \n",
      "6             0.666667              3  2.0            30.0          0.0   \n",
      "7             1.000000              2  0.0             0.0          0.0   \n",
      "8             1.000000              2  2.0            20.0          2.0   \n",
      "9             0.000000              1  0.0             0.0          0.0   \n",
      "\n",
      "   Grants.unsucc  Departments  \n",
      "0            0.0            1  \n",
      "1            0.0            1  \n",
      "2            0.0            3  \n",
      "3            0.0            1  \n",
      "4            0.0            1  \n",
      "5            0.0            1  \n",
      "6            1.0            1  \n",
      "7            3.0            1  \n",
      "8            1.0            1  \n",
      "9            0.0            0  \n",
      "-----------------------------------------------------------------------------\n"
     ]
    }
   ],
   "source": [
    "printOutputData()"
   ]
  },
  {
   "cell_type": "code",
   "execution_count": 191,
   "metadata": {},
   "outputs": [
    {
     "name": "stdout",
     "output_type": "stream",
     "text": [
      "for Catagory 'Home.Language' data frame looks like below\n",
      "-----------------------------------------------------------------------------\n",
      "  Home.Language.1 Home.Language.2 Home.Language.3 Home.Language.4\n",
      "0           Other             NaN             NaN             NaN\n",
      "1             NaN             NaN             NaN             NaN\n",
      "2             NaN             NaN             NaN             NaN\n",
      "3             NaN             NaN             NaN             NaN\n",
      "4             NaN             NaN             NaN             NaN\n",
      "5             NaN             NaN             NaN             NaN\n",
      "6             NaN             NaN             NaN             NaN\n",
      "7             NaN             NaN             NaN             NaN\n",
      "8         English         English             NaN             NaN\n",
      "9             NaN             NaN             NaN             NaN\n",
      "-----------------------------------------------------------------------------\n",
      "Unique Values are like\n",
      "-----------------------------------------------------------------------------\n",
      "['Other' nan 'English']\n",
      "-----------------------------------------------------------------------------\n"
     ]
    }
   ],
   "source": [
    "dataExploit(\"Home.Language\", 5)\n",
    "FindUniqueValues(\"Home.Language.1\")"
   ]
  },
  {
   "cell_type": "code",
   "execution_count": 192,
   "metadata": {},
   "outputs": [],
   "source": [
    "inp = \"Home.Language\"\n",
    "outp = \"Perc.Lang.Eng\"  \n",
    "interest_cols = [inp+\".%d\" % x for x in range(1,16)]\n",
    "\n",
    "def compute_eng_perc(x):\n",
    "    total = len(x[~x.isnull()])\n",
    "    \n",
    "    if total == 0:\n",
    "        return 0\n",
    "    \n",
    "    eng_use = len([elem for elem in x if elem == \"English\"])\n",
    "\n",
    "    return eng_use/float(total)\n",
    "\n",
    "def compute_other_perc(x) : \n",
    "    total = len(x[~x.isnull()])\n",
    "    \n",
    "    if total == 0:\n",
    "        return 0\n",
    "    \n",
    "    other_use = len([elem for elem in x if elem == \"Other\"])\n",
    "    return other_use/float(total)\n",
    "\n",
    "team_df[outp] = df[interest_cols].apply(compute_eng_perc, axis =1)\n",
    "\n",
    "outp = \"Perc.Lang.Other\" \n",
    "team_df[outp] = df[interest_cols].apply(compute_other_perc, axis =1)\n"
   ]
  },
  {
   "cell_type": "code",
   "execution_count": 193,
   "metadata": {},
   "outputs": [
    {
     "name": "stdout",
     "output_type": "stream",
     "text": [
      "Output Result\n",
      "-----------------------------------------------------------------------------\n",
      "   A..papers  A.papers  B.papers  C.papers  Dif.countries  \\\n",
      "0        4.0       2.0       0.0       0.0              1   \n",
      "1        6.0      12.0       2.0       2.0              1   \n",
      "2        7.0      20.0      20.0       7.0              2   \n",
      "3        0.0       3.0      13.0       3.0              1   \n",
      "4        3.0       0.0       1.0       0.0              1   \n",
      "5        7.0      27.0      27.0       6.0              1   \n",
      "6        8.0      12.0      14.0       4.0              2   \n",
      "7        0.0       0.0       0.0       0.0              1   \n",
      "8        8.0       1.0      11.0       0.0              1   \n",
      "9        1.0       0.0       0.0       0.0              0   \n",
      "\n",
      "   Perc_non_australian  Number.people  PHD  Max.years.univ  Grants.succ  \\\n",
      "0             0.000000              1  0.0             0.0          0.0   \n",
      "1             1.000000              1  1.0            20.0          0.0   \n",
      "2             0.750000              4  2.0            50.0          0.0   \n",
      "3             1.000000              2  2.0            15.0          0.0   \n",
      "4             0.000000              1  1.0            10.0          0.0   \n",
      "5             1.000000              1  1.0             5.0          2.0   \n",
      "6             0.666667              3  2.0            30.0          0.0   \n",
      "7             1.000000              2  0.0             0.0          0.0   \n",
      "8             1.000000              2  2.0            20.0          2.0   \n",
      "9             0.000000              1  0.0             0.0          0.0   \n",
      "\n",
      "   Grants.unsucc  Departments  Perc.Lang.Eng  Perc.Lang.Other  \n",
      "0            0.0            1            0.0              1.0  \n",
      "1            0.0            1            0.0              0.0  \n",
      "2            0.0            3            0.0              0.0  \n",
      "3            0.0            1            0.0              0.0  \n",
      "4            0.0            1            0.0              0.0  \n",
      "5            0.0            1            0.0              0.0  \n",
      "6            1.0            1            0.0              0.0  \n",
      "7            3.0            1            0.0              0.0  \n",
      "8            1.0            1            1.0              0.0  \n",
      "9            0.0            0            0.0              0.0  \n",
      "-----------------------------------------------------------------------------\n"
     ]
    }
   ],
   "source": [
    "printOutputData()"
   ]
  },
  {
   "cell_type": "code",
   "execution_count": 194,
   "metadata": {},
   "outputs": [
    {
     "name": "stdout",
     "output_type": "stream",
     "text": [
      "for Catagory 'Role' data frame looks like below\n",
      "-----------------------------------------------------------------------------\n",
      "                 Role.1                  Role.2                  Role.3\n",
      "0    CHIEF_INVESTIGATOR                     NaN                     NaN\n",
      "1    CHIEF_INVESTIGATOR                     NaN                     NaN\n",
      "2    CHIEF_INVESTIGATOR      CHIEF_INVESTIGATOR      CHIEF_INVESTIGATOR\n",
      "3  PRINCIPAL_SUPERVISOR      CHIEF_INVESTIGATOR  EXT_CHIEF_INVESTIGATOR\n",
      "4    CHIEF_INVESTIGATOR                     NaN                     NaN\n",
      "5    CHIEF_INVESTIGATOR                     NaN                     NaN\n",
      "6    CHIEF_INVESTIGATOR      CHIEF_INVESTIGATOR      CHIEF_INVESTIGATOR\n",
      "7    CHIEF_INVESTIGATOR      CHIEF_INVESTIGATOR  EXT_CHIEF_INVESTIGATOR\n",
      "8    CHIEF_INVESTIGATOR      CHIEF_INVESTIGATOR  EXT_CHIEF_INVESTIGATOR\n",
      "9    CHIEF_INVESTIGATOR  EXT_CHIEF_INVESTIGATOR  EXT_CHIEF_INVESTIGATOR\n",
      "-----------------------------------------------------------------------------\n",
      "Unique Values are like\n",
      "-----------------------------------------------------------------------------\n",
      "['CHIEF_INVESTIGATOR' 'PRINCIPAL_SUPERVISOR' 'DELEGATED_RESEARCHER'\n",
      " 'EXT_CHIEF_INVESTIGATOR' nan 'STUD_CHIEF_INVESTIGATOR' 'HONVISIT'\n",
      " 'EXTERNAL_ADVISOR']\n",
      "-----------------------------------------------------------------------------\n"
     ]
    }
   ],
   "source": [
    "dataExploit('Role',4 )\n",
    "FindUniqueValues(\"Role.1\")"
   ]
  },
  {
   "cell_type": "code",
   "execution_count": 195,
   "metadata": {},
   "outputs": [
    {
     "data": {
      "text/plain": [
       "'\\ninp = \"Role\"  \\ninterest_cols = [inp+\".%d\" % x for x in range(1,1)]\\noutp = [\"Role.CHIEF.INV.\", \"Role.PRINCIPAL.SUP.\", \"Role.DELEGATED.RES\", \"Role.EXT.CHIEF.INV.\", \"Role.STUD.CHIEF.INV.\", \"Role.HONVISIT\", \"Role.EXTERNAL.ADV.\"}]\\n\\ndef count_role(x):\\n    total = len(x[~x.isnull()])    \\n    if total == 0:\\n        return 0\\n    cnt1 = len([elem for elem in x if elem == \"CHIEF_INVESTIGATOR\"])\\n    cnt2 = len([elem for elem in x if elem == \"PRINCIPAL_SUPERVISOR\"])\\n    cnt3 = len([elem for elem in x if elem == \"DELEGATED_RESEARCHER\"])\\n    cnt4 = len([elem for elem in x if elem == \"EXT_CHIEF_INVESTIGATOR\"])\\n    cnt5 = len([elem for elem in x if elem == \"STUD_CHIEF_INVESTIGATOR\"])\\n    cnt6 = len([elem for elem in x if elem == \"HONVISIT\"])\\n    cnt7 = len([elem for elem in x if elem == \"EXTERNAL_ADVISOR\"])\\n\\n    return [cnt1,cnt2,cnt3,cnt4,cnt5,cnt6,cnt7]\\n\\nfor y in outp : \\n    team_df[y] = df[interest_cols].apply(count_role(,y), axis =1)\\n'"
      ]
     },
     "execution_count": 195,
     "metadata": {},
     "output_type": "execute_result"
    }
   ],
   "source": [
    "# TODO : role preprocessing\n",
    "\n",
    "\"\"\"\n",
    "inp = \"Role\"  \n",
    "interest_cols = [inp+\".%d\" % x for x in range(1,1)]\n",
    "outp = [\"Role.CHIEF.INV.\", \"Role.PRINCIPAL.SUP.\", \"Role.DELEGATED.RES\", \"Role.EXT.CHIEF.INV.\", \"Role.STUD.CHIEF.INV.\", \"Role.HONVISIT\", \"Role.EXTERNAL.ADV.\"}]\n",
    "\n",
    "def count_role(x):\n",
    "    total = len(x[~x.isnull()])    \n",
    "    if total == 0:\n",
    "        return 0\n",
    "    cnt1 = len([elem for elem in x if elem == \"CHIEF_INVESTIGATOR\"])\n",
    "    cnt2 = len([elem for elem in x if elem == \"PRINCIPAL_SUPERVISOR\"])\n",
    "    cnt3 = len([elem for elem in x if elem == \"DELEGATED_RESEARCHER\"])\n",
    "    cnt4 = len([elem for elem in x if elem == \"EXT_CHIEF_INVESTIGATOR\"])\n",
    "    cnt5 = len([elem for elem in x if elem == \"STUD_CHIEF_INVESTIGATOR\"])\n",
    "    cnt6 = len([elem for elem in x if elem == \"HONVISIT\"])\n",
    "    cnt7 = len([elem for elem in x if elem == \"EXTERNAL_ADVISOR\"])\n",
    "\n",
    "    return [cnt1,cnt2,cnt3,cnt4,cnt5,cnt6,cnt7]\n",
    "\n",
    "for y in outp : \n",
    "    team_df[y] = df[interest_cols].apply(count_role(,y), axis =1)\n",
    "\"\"\""
   ]
  },
  {
   "cell_type": "code",
   "execution_count": 196,
   "metadata": {},
   "outputs": [
    {
     "name": "stdout",
     "output_type": "stream",
     "text": [
      "for Catagory 'Year.of.Birth' data frame looks like below\n",
      "-----------------------------------------------------------------------------\n",
      "   Year.of.Birth.1  Year.of.Birth.2  Year.of.Birth.3\n",
      "0           1965.0              NaN              NaN\n",
      "1           1960.0              NaN              NaN\n",
      "2           1955.0           1950.0           1950.0\n",
      "3           1955.0           1975.0              NaN\n",
      "4           1965.0              NaN              NaN\n",
      "5           1950.0              NaN              NaN\n",
      "6           1960.0           1960.0           1950.0\n",
      "7           1965.0           1940.0              NaN\n",
      "8           1945.0           1950.0              NaN\n",
      "9           1930.0              NaN              NaN\n",
      "-----------------------------------------------------------------------------\n",
      "Unique Values are like\n",
      "-----------------------------------------------------------------------------\n",
      "[1965. 1960. 1955. 1950. 1945. 1930. 1970. 1975. 1940. 1935.   nan 1980.\n",
      " 1925. 1985.]\n",
      "-----------------------------------------------------------------------------\n"
     ]
    }
   ],
   "source": [
    "dataExploit('Year.of.Birth',4 )\n",
    "FindUniqueValues(\"Year.of.Birth.1\")"
   ]
  },
  {
   "cell_type": "code",
   "execution_count": 197,
   "metadata": {},
   "outputs": [
    {
     "name": "stderr",
     "output_type": "stream",
     "text": [
      "/Library/Frameworks/Python.framework/Versions/3.6/lib/python3.6/site-packages/ipykernel_launcher.py:4: RuntimeWarning: Mean of empty slice\n",
      "  after removing the cwd from sys.path.\n"
     ]
    }
   ],
   "source": [
    "inp =  'Year.of.Birth'\n",
    "outp = \"Average.Age\"\n",
    "interest_cols = [inp+\".%d\" % x for x in range(1,16)]\n",
    "team_df[outp] = df[interest_cols].apply(lambda x: np.nanmean(2017-x), axis =1)"
   ]
  },
  {
   "cell_type": "code",
   "execution_count": 198,
   "metadata": {},
   "outputs": [
    {
     "name": "stdout",
     "output_type": "stream",
     "text": [
      "Output Result\n",
      "-----------------------------------------------------------------------------\n",
      "   A..papers  A.papers  B.papers  C.papers  Dif.countries  \\\n",
      "0        4.0       2.0       0.0       0.0              1   \n",
      "1        6.0      12.0       2.0       2.0              1   \n",
      "2        7.0      20.0      20.0       7.0              2   \n",
      "3        0.0       3.0      13.0       3.0              1   \n",
      "4        3.0       0.0       1.0       0.0              1   \n",
      "5        7.0      27.0      27.0       6.0              1   \n",
      "6        8.0      12.0      14.0       4.0              2   \n",
      "7        0.0       0.0       0.0       0.0              1   \n",
      "8        8.0       1.0      11.0       0.0              1   \n",
      "9        1.0       0.0       0.0       0.0              0   \n",
      "\n",
      "   Perc_non_australian  Number.people  PHD  Max.years.univ  Grants.succ  \\\n",
      "0             0.000000              1  0.0             0.0          0.0   \n",
      "1             1.000000              1  1.0            20.0          0.0   \n",
      "2             0.750000              4  2.0            50.0          0.0   \n",
      "3             1.000000              2  2.0            15.0          0.0   \n",
      "4             0.000000              1  1.0            10.0          0.0   \n",
      "5             1.000000              1  1.0             5.0          2.0   \n",
      "6             0.666667              3  2.0            30.0          0.0   \n",
      "7             1.000000              2  0.0             0.0          0.0   \n",
      "8             1.000000              2  2.0            20.0          2.0   \n",
      "9             0.000000              1  0.0             0.0          0.0   \n",
      "\n",
      "   Grants.unsucc  Departments  Perc.Lang.Eng  Perc.Lang.Other  Average.Age  \n",
      "0            0.0            1            0.0              1.0    52.000000  \n",
      "1            0.0            1            0.0              0.0    57.000000  \n",
      "2            0.0            3            0.0              0.0    65.750000  \n",
      "3            0.0            1            0.0              0.0    52.000000  \n",
      "4            0.0            1            0.0              0.0    52.000000  \n",
      "5            0.0            1            0.0              0.0    67.000000  \n",
      "6            1.0            1            0.0              0.0    60.333333  \n",
      "7            3.0            1            0.0              0.0    64.500000  \n",
      "8            1.0            1            1.0              0.0    69.500000  \n",
      "9            0.0            0            0.0              0.0    87.000000  \n",
      "-----------------------------------------------------------------------------\n"
     ]
    }
   ],
   "source": [
    "printOutputData()"
   ]
  },
  {
   "cell_type": "code",
   "execution_count": null,
   "metadata": {},
   "outputs": [],
   "source": []
  }
 ],
 "metadata": {
  "kernelspec": {
   "display_name": "Python 3",
   "language": "python",
   "name": "python3"
  },
  "language_info": {
   "codemirror_mode": {
    "name": "ipython",
    "version": 3
   },
   "file_extension": ".py",
   "mimetype": "text/x-python",
   "name": "python",
   "nbconvert_exporter": "python",
   "pygments_lexer": "ipython3",
   "version": "3.6.4"
  }
 },
 "nbformat": 4,
 "nbformat_minor": 2
}
