{
 "cells": [
  {
   "cell_type": "code",
   "execution_count": 1,
   "metadata": {},
   "outputs": [],
   "source": [
    "#Choosing a fitness function\n",
    "\n",
    "def fitness(password, test_word) : \n",
    "    \n",
    "    if (len(test_word) != len(password)) : \n",
    "        print(\"taille incompatible\")\n",
    "        return\n",
    "    else : \n",
    "        score = 0\n",
    "        i = 0\n",
    "        while ( i < len(password)) : \n",
    "            if(password[i] == test_word[i]) :\n",
    "                score += 1\n",
    "            i+=1\n",
    "            \n",
    "        return score * 100 / len(password)"
   ]
  },
  {
   "cell_type": "code",
   "execution_count": null,
   "metadata": {},
   "outputs": [],
   "source": []
  }
 ],
 "metadata": {
  "kernelspec": {
   "display_name": "Python 3",
   "language": "python",
   "name": "python3"
  },
  "language_info": {
   "codemirror_mode": {
    "name": "ipython",
    "version": 3
   },
   "file_extension": ".py",
   "mimetype": "text/x-python",
   "name": "python",
   "nbconvert_exporter": "python",
   "pygments_lexer": "ipython3",
   "version": "3.6.4"
  }
 },
 "nbformat": 4,
 "nbformat_minor": 2
}
