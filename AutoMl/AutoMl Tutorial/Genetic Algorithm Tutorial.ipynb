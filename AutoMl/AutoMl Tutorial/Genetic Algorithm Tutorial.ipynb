{
 "cells": [
  {
   "cell_type": "code",
   "execution_count": 1,
   "metadata": {},
   "outputs": [],
   "source": [
    "#Choosing a fitness function\n",
    "\n",
    "def fitness(password, test_word) : \n",
    "    \n",
    "    if (len(test_word) != len(password)) : \n",
    "        print(\"taille incompatible\")\n",
    "        return\n",
    "    else : \n",
    "        score = 0\n",
    "        i = 0\n",
    "        while ( i < len(password)) : \n",
    "            if(password[i] == test_word[i]) :\n",
    "                score += 1\n",
    "            i+=1\n",
    "            \n",
    "        return score * 100 / len(password)"
   ]
  },
  {
   "cell_type": "code",
   "execution_count": 2,
   "metadata": {},
   "outputs": [],
   "source": [
    "# Creating our first population\n",
    "\n",
    "import random\n",
    "\n",
    "def generateAWord (length) : \n",
    "    i = 0\n",
    "    result = \"\"\n",
    "    while i < length : \n",
    "        letter = chr(97 + int(26 * random.random()))\n",
    "        result += letter\n",
    "        i += 1\n",
    "        \n",
    "    return result\n",
    "\n",
    "def generateFirstPopulation(sizePopulation, password) : \n",
    "    population = []\n",
    "    i = 0\n",
    "    while i < sizePopulation : \n",
    "        population.append(generateAWord(len(password)))\n",
    "        i+=1\n",
    "    return population\n",
    "\n",
    "\n"
   ]
  },
  {
   "cell_type": "code",
   "execution_count": 3,
   "metadata": {},
   "outputs": [],
   "source": [
    "# Breeding\n",
    "\n",
    "def createChild(individual1, individual2) : \n",
    "    child = \"\"\n",
    "    for i in range(len(individual1)) : \n",
    "        if(int(100 * random.random()) < 50) : \n",
    "            child += individual1[i]\n",
    "        else : \n",
    "            child += individual2[i]\n",
    "            \n",
    "    return child\n",
    "\n",
    "\n",
    "def createChilderen(breeders, number_of_child) : \n",
    "    \n",
    "    nextPopulation = []\n",
    "    \n",
    "    for i in range(len(breeders)/2) : \n",
    "        for j in range(number_of_child) : \n",
    "            nextPopulation.append(createChild(breeders[i], breeders[len(breeders) - 1 - i]))\n",
    "    \n",
    "    return nextPopulation"
   ]
  },
  {
   "cell_type": "code",
   "execution_count": 5,
   "metadata": {},
   "outputs": [],
   "source": [
    "# Mutation\n",
    "\n",
    "def mutateWord(word) : \n",
    "    index_modification = int(random.random() * len(word))\n",
    "    \n",
    "    if(index_modification == 0) : \n",
    "        word = chr(97 + int(26 * random.random())) + word[1:]\n",
    "    else : \n",
    "        word = word[:index_modification] + chr(97 + int(26 * random.random())) + word[index_modification+1:]\n",
    "    return word\n",
    "\n",
    "def mutatePopulation(population, chance_of_mutation) : \n",
    "    for i in range(len(population)) : \n",
    "        if random.random() * 100 < chance_of_mutation : \n",
    "            population[i] = mutateWord(population[i])\n",
    "    return population\n",
    "    "
   ]
  },
  {
   "cell_type": "code",
   "execution_count": null,
   "metadata": {},
   "outputs": [],
   "source": []
  }
 ],
 "metadata": {
  "kernelspec": {
   "display_name": "Python 3",
   "language": "python",
   "name": "python3"
  },
  "language_info": {
   "codemirror_mode": {
    "name": "ipython",
    "version": 3
   },
   "file_extension": ".py",
   "mimetype": "text/x-python",
   "name": "python",
   "nbconvert_exporter": "python",
   "pygments_lexer": "ipython3",
   "version": "3.6.4"
  }
 },
 "nbformat": 4,
 "nbformat_minor": 2
}
