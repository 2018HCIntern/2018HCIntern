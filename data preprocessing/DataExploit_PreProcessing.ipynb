{
 "cells": [
  {
   "cell_type": "code",
   "execution_count": 182,
   "metadata": {},
   "outputs": [],
   "source": [
    "# Data Exploitation & PreProcessing"
   ]
  },
  {
   "cell_type": "code",
   "execution_count": 183,
   "metadata": {},
   "outputs": [
    {
     "data": {
      "text/html": [
       "<div>\n",
       "<style scoped>\n",
       "    .dataframe tbody tr th:only-of-type {\n",
       "        vertical-align: middle;\n",
       "    }\n",
       "\n",
       "    .dataframe tbody tr th {\n",
       "        vertical-align: top;\n",
       "    }\n",
       "\n",
       "    .dataframe thead th {\n",
       "        text-align: right;\n",
       "    }\n",
       "</style>\n",
       "<table border=\"1\" class=\"dataframe\">\n",
       "  <thead>\n",
       "    <tr style=\"text-align: right;\">\n",
       "      <th></th>\n",
       "      <th>Grant.Application.ID</th>\n",
       "      <th>Grant.Status</th>\n",
       "      <th>Sponsor.Code</th>\n",
       "      <th>Grant.Category.Code</th>\n",
       "      <th>Contract.Value.Band...see.note.A</th>\n",
       "      <th>Start.date</th>\n",
       "      <th>RFCD.Code.1</th>\n",
       "      <th>RFCD.Percentage.1</th>\n",
       "      <th>RFCD.Code.2</th>\n",
       "      <th>RFCD.Percentage.2</th>\n",
       "      <th>...</th>\n",
       "      <th>Faculty.No..15</th>\n",
       "      <th>With.PHD.15</th>\n",
       "      <th>No..of.Years.in.Uni.at.Time.of.Grant.15</th>\n",
       "      <th>Number.of.Successful.Grant.15</th>\n",
       "      <th>Number.of.Unsuccessful.Grant.15</th>\n",
       "      <th>A..15</th>\n",
       "      <th>A.15</th>\n",
       "      <th>B.15</th>\n",
       "      <th>C.15</th>\n",
       "      <th>Unnamed: 251</th>\n",
       "    </tr>\n",
       "  </thead>\n",
       "  <tbody>\n",
       "    <tr>\n",
       "      <th>0</th>\n",
       "      <td>1</td>\n",
       "      <td>1</td>\n",
       "      <td>NaN</td>\n",
       "      <td>NaN</td>\n",
       "      <td>A</td>\n",
       "      <td>8/11/05</td>\n",
       "      <td>280199.0</td>\n",
       "      <td>100.0</td>\n",
       "      <td>0.0</td>\n",
       "      <td>0.0</td>\n",
       "      <td>...</td>\n",
       "      <td>NaN</td>\n",
       "      <td>NaN</td>\n",
       "      <td>NaN</td>\n",
       "      <td>NaN</td>\n",
       "      <td>NaN</td>\n",
       "      <td>NaN</td>\n",
       "      <td>NaN</td>\n",
       "      <td>NaN</td>\n",
       "      <td>NaN</td>\n",
       "      <td>NaN</td>\n",
       "    </tr>\n",
       "    <tr>\n",
       "      <th>1</th>\n",
       "      <td>2</td>\n",
       "      <td>1</td>\n",
       "      <td>2B</td>\n",
       "      <td>10A</td>\n",
       "      <td>B</td>\n",
       "      <td>11/11/05</td>\n",
       "      <td>280103.0</td>\n",
       "      <td>30.0</td>\n",
       "      <td>280106.0</td>\n",
       "      <td>30.0</td>\n",
       "      <td>...</td>\n",
       "      <td>NaN</td>\n",
       "      <td>NaN</td>\n",
       "      <td>NaN</td>\n",
       "      <td>NaN</td>\n",
       "      <td>NaN</td>\n",
       "      <td>NaN</td>\n",
       "      <td>NaN</td>\n",
       "      <td>NaN</td>\n",
       "      <td>NaN</td>\n",
       "      <td>NaN</td>\n",
       "    </tr>\n",
       "    <tr>\n",
       "      <th>2</th>\n",
       "      <td>3</td>\n",
       "      <td>1</td>\n",
       "      <td>29A</td>\n",
       "      <td>10B</td>\n",
       "      <td>A</td>\n",
       "      <td>14/11/05</td>\n",
       "      <td>321004.0</td>\n",
       "      <td>60.0</td>\n",
       "      <td>321216.0</td>\n",
       "      <td>40.0</td>\n",
       "      <td>...</td>\n",
       "      <td>NaN</td>\n",
       "      <td>NaN</td>\n",
       "      <td>NaN</td>\n",
       "      <td>NaN</td>\n",
       "      <td>NaN</td>\n",
       "      <td>NaN</td>\n",
       "      <td>NaN</td>\n",
       "      <td>NaN</td>\n",
       "      <td>NaN</td>\n",
       "      <td>NaN</td>\n",
       "    </tr>\n",
       "    <tr>\n",
       "      <th>3</th>\n",
       "      <td>4</td>\n",
       "      <td>1</td>\n",
       "      <td>40D</td>\n",
       "      <td>10B</td>\n",
       "      <td>C</td>\n",
       "      <td>15/11/05</td>\n",
       "      <td>270602.0</td>\n",
       "      <td>50.0</td>\n",
       "      <td>320602.0</td>\n",
       "      <td>50.0</td>\n",
       "      <td>...</td>\n",
       "      <td>NaN</td>\n",
       "      <td>NaN</td>\n",
       "      <td>NaN</td>\n",
       "      <td>NaN</td>\n",
       "      <td>NaN</td>\n",
       "      <td>NaN</td>\n",
       "      <td>NaN</td>\n",
       "      <td>NaN</td>\n",
       "      <td>NaN</td>\n",
       "      <td>NaN</td>\n",
       "    </tr>\n",
       "    <tr>\n",
       "      <th>4</th>\n",
       "      <td>5</td>\n",
       "      <td>0</td>\n",
       "      <td>59C</td>\n",
       "      <td>10A</td>\n",
       "      <td>A</td>\n",
       "      <td>16/11/05</td>\n",
       "      <td>260500.0</td>\n",
       "      <td>34.0</td>\n",
       "      <td>280000.0</td>\n",
       "      <td>33.0</td>\n",
       "      <td>...</td>\n",
       "      <td>NaN</td>\n",
       "      <td>NaN</td>\n",
       "      <td>NaN</td>\n",
       "      <td>NaN</td>\n",
       "      <td>NaN</td>\n",
       "      <td>NaN</td>\n",
       "      <td>NaN</td>\n",
       "      <td>NaN</td>\n",
       "      <td>NaN</td>\n",
       "      <td>NaN</td>\n",
       "    </tr>\n",
       "  </tbody>\n",
       "</table>\n",
       "<p>5 rows × 252 columns</p>\n",
       "</div>"
      ],
      "text/plain": [
       "   Grant.Application.ID  Grant.Status Sponsor.Code Grant.Category.Code  \\\n",
       "0                     1             1          NaN                 NaN   \n",
       "1                     2             1           2B                 10A   \n",
       "2                     3             1          29A                 10B   \n",
       "3                     4             1          40D                 10B   \n",
       "4                     5             0          59C                 10A   \n",
       "\n",
       "  Contract.Value.Band...see.note.A Start.date  RFCD.Code.1  RFCD.Percentage.1  \\\n",
       "0                               A     8/11/05     280199.0              100.0   \n",
       "1                               B    11/11/05     280103.0               30.0   \n",
       "2                               A    14/11/05     321004.0               60.0   \n",
       "3                               C    15/11/05     270602.0               50.0   \n",
       "4                               A    16/11/05     260500.0               34.0   \n",
       "\n",
       "   RFCD.Code.2  RFCD.Percentage.2      ...       Faculty.No..15  With.PHD.15  \\\n",
       "0          0.0                0.0      ...                  NaN          NaN   \n",
       "1     280106.0               30.0      ...                  NaN          NaN   \n",
       "2     321216.0               40.0      ...                  NaN          NaN   \n",
       "3     320602.0               50.0      ...                  NaN          NaN   \n",
       "4     280000.0               33.0      ...                  NaN          NaN   \n",
       "\n",
       "   No..of.Years.in.Uni.at.Time.of.Grant.15  Number.of.Successful.Grant.15  \\\n",
       "0                                      NaN                            NaN   \n",
       "1                                      NaN                            NaN   \n",
       "2                                      NaN                            NaN   \n",
       "3                                      NaN                            NaN   \n",
       "4                                      NaN                            NaN   \n",
       "\n",
       "   Number.of.Unsuccessful.Grant.15  A..15  A.15  B.15  C.15  Unnamed: 251  \n",
       "0                              NaN    NaN   NaN   NaN   NaN           NaN  \n",
       "1                              NaN    NaN   NaN   NaN   NaN           NaN  \n",
       "2                              NaN    NaN   NaN   NaN   NaN           NaN  \n",
       "3                              NaN    NaN   NaN   NaN   NaN           NaN  \n",
       "4                              NaN    NaN   NaN   NaN   NaN           NaN  \n",
       "\n",
       "[5 rows x 252 columns]"
      ]
     },
     "execution_count": 183,
     "metadata": {},
     "output_type": "execute_result"
    }
   ],
   "source": [
    "import pandas as pd\n",
    "import numpy as np\n",
    "\n",
    "df = pd.read_csv('data/unimelb_training.csv', low_memory = False)\n",
    "df.head(5)"
   ]
  },
  {
   "cell_type": "code",
   "execution_count": 184,
   "metadata": {},
   "outputs": [],
   "source": [
    "\n",
    "team_df = pd.DataFrame()"
   ]
  },
  {
   "cell_type": "code",
   "execution_count": 185,
   "metadata": {},
   "outputs": [],
   "source": [
    "def dataExploit(columnName, max_range) : \n",
    "    print(\"for Catagory '{0}' data frame looks like below\".format(columnName))\n",
    "    print('-----------------------------------------------------------------------------')\n",
    "    inp =  columnName\n",
    "    if max_range >= 1 : \n",
    "        interest_cols = [inp+\".%d\" % x for x in range(1,max_range)]\n",
    "    else : \n",
    "        interest_cols = [inp]\n",
    "    data_df = df[interest_cols]\n",
    "    print(data_df.head(10))\n",
    "    print('-----------------------------------------------------------------------------')"
   ]
  },
  {
   "cell_type": "code",
   "execution_count": 186,
   "metadata": {},
   "outputs": [],
   "source": [
    "def printOutputData() : \n",
    "    print(\"Output Result\")\n",
    "    print('-----------------------------------------------------------------------------')\n",
    "    print(team_df.head(10))\n",
    "    print('-----------------------------------------------------------------------------')"
   ]
  },
  {
   "cell_type": "code",
   "execution_count": 187,
   "metadata": {},
   "outputs": [],
   "source": [
    "def unique(list1):\n",
    "    unique_list = []\n",
    "     \n",
    "    # traverse for all elements\n",
    "    for x in list1:\n",
    "        # check if exists in unique_list or not\n",
    "        if x not in unique_list:\n",
    "            unique_list.append(x)\n",
    "    return unique_list\n",
    "\n",
    "def len_nan_uncount(x) : \n",
    "    cnt = 0\n",
    "    for t in x : \n",
    "        if type(x) is float : \n",
    "            if np.isnan(t) : cnt = cnt\n",
    "            else : cnt += 1\n",
    "        else : cnt += 1\n",
    "    return cnt\n",
    "\n",
    "def FindUniqueValues(columnName, num_col) : \n",
    "    print(\"Unique Values are like\")\n",
    "    print('-----------------------------------------------------------------------------')\n",
    "    uniq_list = []\n",
    "    if(num_col == 1) : \n",
    "        uniq_list = pd.unique(df[columnName])\n",
    "    else : \n",
    "        for i in range (1, num_col) : \n",
    "            values = pd.unique(df[columnName+\".%d\" % i])\n",
    "            uniq_list.extend(values)\n",
    "            uniq_list = unique(uniq_list)\n",
    "    print(uniq_list)\n",
    "    print('-----------------------------------------------------------------------------')\n",
    "    print(\"length is : %s\" % len_nan_uncount(uniq_list))"
   ]
  },
  {
   "cell_type": "code",
   "execution_count": 188,
   "metadata": {},
   "outputs": [
    {
     "name": "stdout",
     "output_type": "stream",
     "text": [
      "for Catagory 'A.' data frame looks like below\n",
      "-----------------------------------------------------------------------------\n",
      "   A..1  A..2  A..3  A..4  A..5  A..6  A..7  A..8  A..9  A..10  A..11\n",
      "0   4.0   NaN   NaN   NaN   NaN   NaN   NaN   NaN   NaN    NaN    NaN\n",
      "1   6.0   NaN   NaN   NaN   NaN   NaN   NaN   NaN   NaN    NaN    NaN\n",
      "2   0.0   0.0   1.0   6.0   NaN   NaN   NaN   NaN   NaN    NaN    NaN\n",
      "3   0.0   0.0   NaN   NaN   NaN   NaN   NaN   NaN   NaN    NaN    NaN\n",
      "4   3.0   NaN   NaN   NaN   NaN   NaN   NaN   NaN   NaN    NaN    NaN\n",
      "5   7.0   NaN   NaN   NaN   NaN   NaN   NaN   NaN   NaN    NaN    NaN\n",
      "6   8.0   0.0   0.0   NaN   NaN   NaN   NaN   NaN   NaN    NaN    NaN\n",
      "7   0.0   0.0   NaN   NaN   NaN   NaN   NaN   NaN   NaN    NaN    NaN\n",
      "8   8.0   0.0   NaN   NaN   NaN   NaN   NaN   NaN   NaN    NaN    NaN\n",
      "9   1.0   NaN   NaN   NaN   NaN   NaN   NaN   NaN   NaN    NaN    NaN\n",
      "-----------------------------------------------------------------------------\n",
      "Unique Values are like\n",
      "-----------------------------------------------------------------------------\n",
      "[4.0, 6.0, 0.0, 3.0, 7.0, 8.0, 1.0, 2.0, 10.0, 9.0, 16.0, nan, 11.0, 12.0, 17.0, 22.0, 15.0, 5.0, 19.0, 13.0, 27.0, 25.0, 75.0, 31.0, 18.0, 14.0, 37.0, 45.0, 40.0, 34.0, 48.0, 30.0, 20.0, 29.0, 26.0, 21.0, 42.0, 68.0, 53.0, 36.0, 92.0, 74.0, 32.0, 58.0, 28.0, 33.0, 23.0, 38.0, 111.0, 24.0, 90.0, 41.0, 39.0, 79.0, 84.0, 51.0, 72.0, 113.0, 49.0, 35.0, 99.0, 123.0, 60.0, nan, nan, 73.0, 96.0, 64.0, 54.0, nan, 63.0, 71.0, nan, nan, nan, nan, nan, nan, 43.0, nan, nan, nan, nan, nan]\n",
      "-----------------------------------------------------------------------------\n",
      "length is : 84\n"
     ]
    }
   ],
   "source": [
    "dataExploit('A.',12)\n",
    "FindUniqueValues('A.', 16)"
   ]
  },
  {
   "cell_type": "code",
   "execution_count": 189,
   "metadata": {},
   "outputs": [
    {
     "name": "stdout",
     "output_type": "stream",
     "text": [
      "for Catagory 'A' data frame looks like below\n",
      "-----------------------------------------------------------------------------\n",
      "    A.1  A.2  A.3   A.4  A.5  A.6  A.7  A.8  A.9  A.10  A.11\n",
      "0   2.0  NaN  NaN   NaN  NaN  NaN  NaN  NaN  NaN   NaN   NaN\n",
      "1  12.0  NaN  NaN   NaN  NaN  NaN  NaN  NaN  NaN   NaN   NaN\n",
      "2   3.0  0.0  3.0  14.0  NaN  NaN  NaN  NaN  NaN   NaN   NaN\n",
      "3   3.0  0.0  NaN   NaN  NaN  NaN  NaN  NaN  NaN   NaN   NaN\n",
      "4   0.0  NaN  NaN   NaN  NaN  NaN  NaN  NaN  NaN   NaN   NaN\n",
      "5  27.0  NaN  NaN   NaN  NaN  NaN  NaN  NaN  NaN   NaN   NaN\n",
      "6   5.0  0.0  7.0   NaN  NaN  NaN  NaN  NaN  NaN   NaN   NaN\n",
      "7   0.0  0.0  NaN   NaN  NaN  NaN  NaN  NaN  NaN   NaN   NaN\n",
      "8   1.0  0.0  NaN   NaN  NaN  NaN  NaN  NaN  NaN   NaN   NaN\n",
      "9   0.0  NaN  NaN   NaN  NaN  NaN  NaN  NaN  NaN   NaN   NaN\n",
      "-----------------------------------------------------------------------------\n"
     ]
    }
   ],
   "source": [
    "dataExploit('A', 12)"
   ]
  },
  {
   "cell_type": "code",
   "execution_count": 190,
   "metadata": {},
   "outputs": [
    {
     "name": "stdout",
     "output_type": "stream",
     "text": [
      "for Catagory 'B' data frame looks like below\n",
      "-----------------------------------------------------------------------------\n",
      "    B.1  B.2   B.3   B.4  B.5  B.6  B.7  B.8  B.9  B.10  B.11\n",
      "0   0.0  NaN   NaN   NaN  NaN  NaN  NaN  NaN  NaN   NaN   NaN\n",
      "1   2.0  NaN   NaN   NaN  NaN  NaN  NaN  NaN  NaN   NaN   NaN\n",
      "2   5.0  0.0   3.0  12.0  NaN  NaN  NaN  NaN  NaN   NaN   NaN\n",
      "3  13.0  0.0   NaN   NaN  NaN  NaN  NaN  NaN  NaN   NaN   NaN\n",
      "4   1.0  NaN   NaN   NaN  NaN  NaN  NaN  NaN  NaN   NaN   NaN\n",
      "5  27.0  NaN   NaN   NaN  NaN  NaN  NaN  NaN  NaN   NaN   NaN\n",
      "6   2.0  0.0  12.0   NaN  NaN  NaN  NaN  NaN  NaN   NaN   NaN\n",
      "7   0.0  0.0   NaN   NaN  NaN  NaN  NaN  NaN  NaN   NaN   NaN\n",
      "8  11.0  0.0   NaN   NaN  NaN  NaN  NaN  NaN  NaN   NaN   NaN\n",
      "9   0.0  NaN   NaN   NaN  NaN  NaN  NaN  NaN  NaN   NaN   NaN\n",
      "-----------------------------------------------------------------------------\n"
     ]
    }
   ],
   "source": [
    "dataExploit('B', 12)"
   ]
  },
  {
   "cell_type": "code",
   "execution_count": 191,
   "metadata": {},
   "outputs": [
    {
     "name": "stdout",
     "output_type": "stream",
     "text": [
      "for Catagory 'C' data frame looks like below\n",
      "-----------------------------------------------------------------------------\n",
      "   C.1  C.2  C.3  C.4  C.5  C.6  C.7  C.8  C.9  C.10  C.11\n",
      "0  0.0  NaN  NaN  NaN  NaN  NaN  NaN  NaN  NaN   NaN   NaN\n",
      "1  2.0  NaN  NaN  NaN  NaN  NaN  NaN  NaN  NaN   NaN   NaN\n",
      "2  2.0  0.0  3.0  2.0  NaN  NaN  NaN  NaN  NaN   NaN   NaN\n",
      "3  3.0  0.0  NaN  NaN  NaN  NaN  NaN  NaN  NaN   NaN   NaN\n",
      "4  0.0  NaN  NaN  NaN  NaN  NaN  NaN  NaN  NaN   NaN   NaN\n",
      "5  6.0  NaN  NaN  NaN  NaN  NaN  NaN  NaN  NaN   NaN   NaN\n",
      "6  0.0  0.0  4.0  NaN  NaN  NaN  NaN  NaN  NaN   NaN   NaN\n",
      "7  0.0  0.0  NaN  NaN  NaN  NaN  NaN  NaN  NaN   NaN   NaN\n",
      "8  0.0  0.0  NaN  NaN  NaN  NaN  NaN  NaN  NaN   NaN   NaN\n",
      "9  0.0  NaN  NaN  NaN  NaN  NaN  NaN  NaN  NaN   NaN   NaN\n",
      "-----------------------------------------------------------------------------\n"
     ]
    }
   ],
   "source": [
    "dataExploit('C', 12)"
   ]
  },
  {
   "cell_type": "code",
   "execution_count": 192,
   "metadata": {},
   "outputs": [],
   "source": [
    "\n",
    "input_cols = [\"A.\", \"A\", \"B\", \"C\"]\n",
    "output_cols = [x+\".papers\" for x in input_cols]\n",
    "\n",
    "for inp, outp in zip(input_cols, output_cols):\n",
    "    interest_cols = [inp+\".%d\" % x for x in range(1,16)]\n",
    "    team_df[outp] = df[interest_cols].apply(lambda x: np.nansum(x), axis =1)\n",
    "    \n"
   ]
  },
  {
   "cell_type": "code",
   "execution_count": 193,
   "metadata": {},
   "outputs": [
    {
     "name": "stdout",
     "output_type": "stream",
     "text": [
      "Output Result\n",
      "-----------------------------------------------------------------------------\n",
      "   A..papers  A.papers  B.papers  C.papers\n",
      "0        4.0       2.0       0.0       0.0\n",
      "1        6.0      12.0       2.0       2.0\n",
      "2        7.0      20.0      20.0       7.0\n",
      "3        0.0       3.0      13.0       3.0\n",
      "4        3.0       0.0       1.0       0.0\n",
      "5        7.0      27.0      27.0       6.0\n",
      "6        8.0      12.0      14.0       4.0\n",
      "7        0.0       0.0       0.0       0.0\n",
      "8        8.0       1.0      11.0       0.0\n",
      "9        1.0       0.0       0.0       0.0\n",
      "-----------------------------------------------------------------------------\n"
     ]
    }
   ],
   "source": [
    "printOutputData()"
   ]
  },
  {
   "cell_type": "code",
   "execution_count": 194,
   "metadata": {},
   "outputs": [
    {
     "name": "stdout",
     "output_type": "stream",
     "text": [
      "for Catagory 'Country.of.Birth' data frame looks like below\n",
      "-----------------------------------------------------------------------------\n",
      "  Country.of.Birth.1 Country.of.Birth.2 Country.of.Birth.3 Country.of.Birth.4\n",
      "0       Asia Pacific                NaN                NaN                NaN\n",
      "1          Australia                NaN                NaN                NaN\n",
      "2          Australia          Australia       Asia Pacific          Australia\n",
      "3          Australia          Australia                NaN                NaN\n",
      "4     Western Europe                NaN                NaN                NaN\n",
      "5          Australia                NaN                NaN                NaN\n",
      "6          Australia          Australia      Great Britain                NaN\n",
      "7          Australia          Australia                NaN                NaN\n",
      "8          Australia          Australia                NaN                NaN\n",
      "9                NaN                NaN                NaN                NaN\n",
      "-----------------------------------------------------------------------------\n",
      "Unique Values are like\n",
      "-----------------------------------------------------------------------------\n",
      "['Asia Pacific', 'Australia', 'Western Europe', nan, 'North America', 'Great Britain', 'New Zealand', 'The Americas', 'Eastern Europe', 'South Africa', 'Middle East and Africa']\n",
      "-----------------------------------------------------------------------------\n",
      "length is : 11\n"
     ]
    }
   ],
   "source": [
    "dataExploit(\"Country.of.Birth\", 5)\n",
    "FindUniqueValues(\"Country.of.Birth\", 16)"
   ]
  },
  {
   "cell_type": "code",
   "execution_count": 195,
   "metadata": {},
   "outputs": [],
   "source": [
    "inp = \"Country.of.Birth\"\n",
    "outp = \"Dif.countries\"\n",
    "interest_cols = [inp+\".%d\" % x for x in range(1,16)]\n",
    "team_df[outp] = df[interest_cols].apply(lambda x: len(set(x[~x.isnull()])), axis =1)\n",
    "\n",
    "outp = \"Perc_non_australian\" # From 0 to 1\n",
    "interest_cols = [inp+\".%d\" % x for x in range(1,16)]\n",
    "\n",
    "def compute_perc(x):\n",
    "    total = len(x[~x.isnull()])\n",
    "    \n",
    "    if total == 0:\n",
    "        return 0\n",
    "    \n",
    "    australian = len([elem for elem in x if elem == \"Australia\"])\n",
    "    return australian/float(total)\n",
    "    \n",
    "team_df[outp] = df[interest_cols].apply(compute_perc, axis =1)"
   ]
  },
  {
   "cell_type": "code",
   "execution_count": 196,
   "metadata": {},
   "outputs": [
    {
     "name": "stdout",
     "output_type": "stream",
     "text": [
      "Output Result\n",
      "-----------------------------------------------------------------------------\n",
      "   A..papers  A.papers  B.papers  C.papers  Dif.countries  Perc_non_australian\n",
      "0        4.0       2.0       0.0       0.0              1             0.000000\n",
      "1        6.0      12.0       2.0       2.0              1             1.000000\n",
      "2        7.0      20.0      20.0       7.0              2             0.750000\n",
      "3        0.0       3.0      13.0       3.0              1             1.000000\n",
      "4        3.0       0.0       1.0       0.0              1             0.000000\n",
      "5        7.0      27.0      27.0       6.0              1             1.000000\n",
      "6        8.0      12.0      14.0       4.0              2             0.666667\n",
      "7        0.0       0.0       0.0       0.0              1             1.000000\n",
      "8        8.0       1.0      11.0       0.0              1             1.000000\n",
      "9        1.0       0.0       0.0       0.0              0             0.000000\n",
      "-----------------------------------------------------------------------------\n"
     ]
    }
   ],
   "source": [
    "printOutputData()"
   ]
  },
  {
   "cell_type": "code",
   "execution_count": 197,
   "metadata": {},
   "outputs": [
    {
     "name": "stdout",
     "output_type": "stream",
     "text": [
      "for Catagory 'Person.ID' data frame looks like below\n",
      "-----------------------------------------------------------------------------\n",
      "   Person.ID.1  Person.ID.2  Person.ID.3  Person.ID.4\n",
      "0      40572.0          NaN          NaN          NaN\n",
      "1       9067.0          NaN          NaN          NaN\n",
      "2       5967.0      27307.0      79652.0      11667.0\n",
      "3      78782.0      55337.0          NaN          NaN\n",
      "4      13042.0          NaN          NaN          NaN\n",
      "5     301472.0          NaN          NaN          NaN\n",
      "6      74292.0      82602.0      79742.0          NaN\n",
      "7       1642.0      70212.0          NaN          NaN\n",
      "8       1012.0      80197.0          NaN          NaN\n",
      "9      89462.0          NaN          NaN          NaN\n",
      "-----------------------------------------------------------------------------\n"
     ]
    }
   ],
   "source": [
    "dataExploit(\"Person.ID\", 5)"
   ]
  },
  {
   "cell_type": "code",
   "execution_count": 198,
   "metadata": {},
   "outputs": [],
   "source": [
    "inp = \"Person.ID\"\n",
    "outp = \"Number.people\"\n",
    "interest_cols = [inp+\".%d\" % x for x in range(1,16)]\n",
    "team_df[outp] = df[interest_cols].apply(lambda x: len(set(x[~x.isnull()])), axis =1)"
   ]
  },
  {
   "cell_type": "code",
   "execution_count": 199,
   "metadata": {},
   "outputs": [
    {
     "name": "stdout",
     "output_type": "stream",
     "text": [
      "Output Result\n",
      "-----------------------------------------------------------------------------\n",
      "   A..papers  A.papers  B.papers  C.papers  Dif.countries  \\\n",
      "0        4.0       2.0       0.0       0.0              1   \n",
      "1        6.0      12.0       2.0       2.0              1   \n",
      "2        7.0      20.0      20.0       7.0              2   \n",
      "3        0.0       3.0      13.0       3.0              1   \n",
      "4        3.0       0.0       1.0       0.0              1   \n",
      "5        7.0      27.0      27.0       6.0              1   \n",
      "6        8.0      12.0      14.0       4.0              2   \n",
      "7        0.0       0.0       0.0       0.0              1   \n",
      "8        8.0       1.0      11.0       0.0              1   \n",
      "9        1.0       0.0       0.0       0.0              0   \n",
      "\n",
      "   Perc_non_australian  Number.people  \n",
      "0             0.000000              1  \n",
      "1             1.000000              1  \n",
      "2             0.750000              4  \n",
      "3             1.000000              2  \n",
      "4             0.000000              1  \n",
      "5             1.000000              1  \n",
      "6             0.666667              3  \n",
      "7             1.000000              2  \n",
      "8             1.000000              2  \n",
      "9             0.000000              1  \n",
      "-----------------------------------------------------------------------------\n"
     ]
    }
   ],
   "source": [
    "printOutputData()"
   ]
  },
  {
   "cell_type": "code",
   "execution_count": 200,
   "metadata": {},
   "outputs": [
    {
     "name": "stdout",
     "output_type": "stream",
     "text": [
      "for Catagory 'With.PHD' data frame looks like below\n",
      "-----------------------------------------------------------------------------\n",
      "  With.PHD.1 With.PHD.2 With.PHD.3 With.PHD.4 With.PHD.5 With.PHD.6\n",
      "0        NaN        NaN        NaN        NaN        NaN        NaN\n",
      "1       Yes         NaN        NaN        NaN        NaN        NaN\n",
      "2       Yes         NaN       Yes         NaN        NaN        NaN\n",
      "3       Yes        Yes         NaN        NaN        NaN        NaN\n",
      "4       Yes         NaN        NaN        NaN        NaN        NaN\n",
      "5       Yes         NaN        NaN        NaN        NaN        NaN\n",
      "6       Yes        Yes         NaN        NaN        NaN        NaN\n",
      "7        NaN        NaN        NaN        NaN        NaN        NaN\n",
      "8       Yes        Yes         NaN        NaN        NaN        NaN\n",
      "9        NaN        NaN        NaN        NaN        NaN        NaN\n",
      "-----------------------------------------------------------------------------\n",
      "Unique Values are like\n",
      "-----------------------------------------------------------------------------\n",
      "[nan, 'Yes ', nan, nan]\n",
      "-----------------------------------------------------------------------------\n",
      "length is : 4\n"
     ]
    }
   ],
   "source": [
    "dataExploit(\"With.PHD\", 7)\n",
    "FindUniqueValues(\"With.PHD\", 16)\n"
   ]
  },
  {
   "cell_type": "code",
   "execution_count": 201,
   "metadata": {},
   "outputs": [],
   "source": [
    "inp =  'With.PHD'\n",
    "outp = \"PHD\"\n",
    "interest_cols = [inp+\".%d\" % x for x in range(1,16)]\n",
    "aux = df[interest_cols].replace({\"Yes \": 1, np.nan: 0, \"No\": 0, \"yes\":1})\n",
    "team_df[outp] = aux.apply(lambda x: np.nansum(x), axis =1)"
   ]
  },
  {
   "cell_type": "code",
   "execution_count": 202,
   "metadata": {},
   "outputs": [
    {
     "name": "stdout",
     "output_type": "stream",
     "text": [
      "Output Result\n",
      "-----------------------------------------------------------------------------\n",
      "   A..papers  A.papers  B.papers  C.papers  Dif.countries  \\\n",
      "0        4.0       2.0       0.0       0.0              1   \n",
      "1        6.0      12.0       2.0       2.0              1   \n",
      "2        7.0      20.0      20.0       7.0              2   \n",
      "3        0.0       3.0      13.0       3.0              1   \n",
      "4        3.0       0.0       1.0       0.0              1   \n",
      "5        7.0      27.0      27.0       6.0              1   \n",
      "6        8.0      12.0      14.0       4.0              2   \n",
      "7        0.0       0.0       0.0       0.0              1   \n",
      "8        8.0       1.0      11.0       0.0              1   \n",
      "9        1.0       0.0       0.0       0.0              0   \n",
      "\n",
      "   Perc_non_australian  Number.people  PHD  \n",
      "0             0.000000              1  0.0  \n",
      "1             1.000000              1  1.0  \n",
      "2             0.750000              4  2.0  \n",
      "3             1.000000              2  2.0  \n",
      "4             0.000000              1  1.0  \n",
      "5             1.000000              1  1.0  \n",
      "6             0.666667              3  2.0  \n",
      "7             1.000000              2  0.0  \n",
      "8             1.000000              2  2.0  \n",
      "9             0.000000              1  0.0  \n",
      "-----------------------------------------------------------------------------\n"
     ]
    }
   ],
   "source": [
    "printOutputData()"
   ]
  },
  {
   "cell_type": "code",
   "execution_count": 203,
   "metadata": {
    "scrolled": false
   },
   "outputs": [
    {
     "name": "stdout",
     "output_type": "stream",
     "text": [
      "for Catagory 'No..of.Years.in.Uni.at.Time.of.Grant' data frame looks like below\n",
      "-----------------------------------------------------------------------------\n",
      "  No..of.Years.in.Uni.at.Time.of.Grant.1\n",
      "0                            Less than 0\n",
      "1                           more than 15\n",
      "2                               >5 to 10\n",
      "3                               >5 to 10\n",
      "4                               >5 to 10\n",
      "5                               >=0 to 5\n",
      "6                              >10 to 15\n",
      "7                                    NaN\n",
      "8                               >5 to 10\n",
      "9                                    NaN\n",
      "-----------------------------------------------------------------------------\n",
      "Unique Values are like\n",
      "-----------------------------------------------------------------------------\n",
      "['Less than 0', 'more than 15', '>5 to 10', '>=0 to 5', '>10 to 15', nan, nan]\n",
      "-----------------------------------------------------------------------------\n",
      "length is : 7\n"
     ]
    }
   ],
   "source": [
    "dataExploit(\"No..of.Years.in.Uni.at.Time.of.Grant\", 2)\n",
    "FindUniqueValues(\"No..of.Years.in.Uni.at.Time.of.Grant\", 16)"
   ]
  },
  {
   "cell_type": "code",
   "execution_count": 204,
   "metadata": {},
   "outputs": [],
   "source": [
    "# NaN          --> 0\n",
    "# Less than 0  --> 0\n",
    "# >=0 to 5     --> 5\n",
    "# >5 to 10     --> 10\n",
    "# >10 to 15    --> 15\n",
    "# more than 15 --> 20\n",
    "\n",
    "\n",
    "inp =  \"No..of.Years.in.Uni.at.Time.of.Grant\" \n",
    "outp = \"Max.years.univ\"\n",
    "interest_cols = [inp+\".%d\" % x for x in range(1,16)]\n",
    "categories_of_years = pd.Series(df[interest_cols].values.ravel()).unique()\n",
    "year_converter = dict(zip(categories_of_years, [0, 0, 20, 10, 5, 15]))\n",
    "\n",
    "aux = df[interest_cols].replace(year_converter)\n",
    "team_df[outp] = aux.apply(lambda x: np.nansum(x), axis =1)"
   ]
  },
  {
   "cell_type": "code",
   "execution_count": 205,
   "metadata": {},
   "outputs": [
    {
     "name": "stdout",
     "output_type": "stream",
     "text": [
      "Output Result\n",
      "-----------------------------------------------------------------------------\n",
      "   A..papers  A.papers  B.papers  C.papers  Dif.countries  \\\n",
      "0        4.0       2.0       0.0       0.0              1   \n",
      "1        6.0      12.0       2.0       2.0              1   \n",
      "2        7.0      20.0      20.0       7.0              2   \n",
      "3        0.0       3.0      13.0       3.0              1   \n",
      "4        3.0       0.0       1.0       0.0              1   \n",
      "5        7.0      27.0      27.0       6.0              1   \n",
      "6        8.0      12.0      14.0       4.0              2   \n",
      "7        0.0       0.0       0.0       0.0              1   \n",
      "8        8.0       1.0      11.0       0.0              1   \n",
      "9        1.0       0.0       0.0       0.0              0   \n",
      "\n",
      "   Perc_non_australian  Number.people  PHD  Max.years.univ  \n",
      "0             0.000000              1  0.0             0.0  \n",
      "1             1.000000              1  1.0            20.0  \n",
      "2             0.750000              4  2.0            50.0  \n",
      "3             1.000000              2  2.0            15.0  \n",
      "4             0.000000              1  1.0            10.0  \n",
      "5             1.000000              1  1.0             5.0  \n",
      "6             0.666667              3  2.0            30.0  \n",
      "7             1.000000              2  0.0             0.0  \n",
      "8             1.000000              2  2.0            20.0  \n",
      "9             0.000000              1  0.0             0.0  \n",
      "-----------------------------------------------------------------------------\n"
     ]
    }
   ],
   "source": [
    "printOutputData()"
   ]
  },
  {
   "cell_type": "code",
   "execution_count": 206,
   "metadata": {},
   "outputs": [
    {
     "name": "stdout",
     "output_type": "stream",
     "text": [
      "for Catagory 'Number.of.Successful.Grant' data frame looks like below\n",
      "-----------------------------------------------------------------------------\n",
      "   Number.of.Successful.Grant.1  Number.of.Successful.Grant.2\n",
      "0                           0.0                           NaN\n",
      "1                           0.0                           NaN\n",
      "2                           0.0                           0.0\n",
      "3                           0.0                           0.0\n",
      "4                           0.0                           NaN\n",
      "5                           2.0                           NaN\n",
      "6                           0.0                           0.0\n",
      "7                           0.0                           0.0\n",
      "8                           0.0                           2.0\n",
      "9                           0.0                           NaN\n",
      "-----------------------------------------------------------------------------\n",
      "Unique Values are like\n",
      "-----------------------------------------------------------------------------\n",
      "[0.0, 2.0, 1.0, 3.0, nan, 4.0, 5.0, 6.0, 7.0, 8.0, 9.0, 11.0, 12.0, 10.0, 13.0, nan, nan, nan, nan, nan, nan, nan, nan, nan, nan, nan, nan, nan, nan]\n",
      "-----------------------------------------------------------------------------\n",
      "length is : 29\n",
      "for Catagory 'Number.of.Unsuccessful.Grant' data frame looks like below\n",
      "-----------------------------------------------------------------------------\n",
      "   Number.of.Unsuccessful.Grant.1  Number.of.Unsuccessful.Grant.2\n",
      "0                             0.0                             NaN\n",
      "1                             0.0                             NaN\n",
      "2                             0.0                             0.0\n",
      "3                             0.0                             0.0\n",
      "4                             0.0                             NaN\n",
      "5                             0.0                             NaN\n",
      "6                             0.0                             1.0\n",
      "7                             3.0                             0.0\n",
      "8                             0.0                             1.0\n",
      "9                             0.0                             NaN\n",
      "-----------------------------------------------------------------------------\n",
      "Unique Values are like\n",
      "-----------------------------------------------------------------------------\n",
      "[0.0, 3.0, 7.0, 1.0, 4.0, 5.0, 2.0, 6.0, nan, 9.0, 8.0, 11.0, 10.0, 12.0, 13.0, 14.0, 17.0, 15.0, 18.0, 19.0, 20.0, 22.0, 23.0, 24.0, 16.0, 21.0, 25.0, 26.0, nan, nan, nan, nan, nan, nan, nan, nan, nan, nan, nan, nan, nan, nan]\n",
      "-----------------------------------------------------------------------------\n",
      "length is : 42\n"
     ]
    }
   ],
   "source": [
    "dataExploit('Number.of.Successful.Grant', 3)\n",
    "FindUniqueValues('Number.of.Successful.Grant', 16)\n",
    "dataExploit('Number.of.Unsuccessful.Grant', 3)\n",
    "FindUniqueValues('Number.of.Unsuccessful.Grant', 16)"
   ]
  },
  {
   "cell_type": "code",
   "execution_count": 207,
   "metadata": {},
   "outputs": [],
   "source": [
    "inp =  'Number.of.Successful.Grant'\n",
    "outp = \"Grants.succ\"\n",
    "interest_cols = [inp+\".%d\" % x for x in range(1,16)]\n",
    "team_df[outp] = df[interest_cols].apply(lambda x: np.nansum(x), axis =1)\n",
    "\n",
    "inp =  \"Number.of.Unsuccessful.Grant\"\n",
    "outp = \"Grants.unsucc\"\n",
    "interest_cols = [inp+\".%d\" % x for x in range(1,16)]\n",
    "team_df[outp] = df[interest_cols].apply(lambda x: np.nansum(x), axis =1)"
   ]
  },
  {
   "cell_type": "code",
   "execution_count": 208,
   "metadata": {},
   "outputs": [
    {
     "name": "stdout",
     "output_type": "stream",
     "text": [
      "Output Result\n",
      "-----------------------------------------------------------------------------\n",
      "   A..papers  A.papers  B.papers  C.papers  Dif.countries  \\\n",
      "0        4.0       2.0       0.0       0.0              1   \n",
      "1        6.0      12.0       2.0       2.0              1   \n",
      "2        7.0      20.0      20.0       7.0              2   \n",
      "3        0.0       3.0      13.0       3.0              1   \n",
      "4        3.0       0.0       1.0       0.0              1   \n",
      "5        7.0      27.0      27.0       6.0              1   \n",
      "6        8.0      12.0      14.0       4.0              2   \n",
      "7        0.0       0.0       0.0       0.0              1   \n",
      "8        8.0       1.0      11.0       0.0              1   \n",
      "9        1.0       0.0       0.0       0.0              0   \n",
      "\n",
      "   Perc_non_australian  Number.people  PHD  Max.years.univ  Grants.succ  \\\n",
      "0             0.000000              1  0.0             0.0          0.0   \n",
      "1             1.000000              1  1.0            20.0          0.0   \n",
      "2             0.750000              4  2.0            50.0          0.0   \n",
      "3             1.000000              2  2.0            15.0          0.0   \n",
      "4             0.000000              1  1.0            10.0          0.0   \n",
      "5             1.000000              1  1.0             5.0          2.0   \n",
      "6             0.666667              3  2.0            30.0          0.0   \n",
      "7             1.000000              2  0.0             0.0          0.0   \n",
      "8             1.000000              2  2.0            20.0          2.0   \n",
      "9             0.000000              1  0.0             0.0          0.0   \n",
      "\n",
      "   Grants.unsucc  \n",
      "0            0.0  \n",
      "1            0.0  \n",
      "2            0.0  \n",
      "3            0.0  \n",
      "4            0.0  \n",
      "5            0.0  \n",
      "6            1.0  \n",
      "7            3.0  \n",
      "8            1.0  \n",
      "9            0.0  \n",
      "-----------------------------------------------------------------------------\n"
     ]
    }
   ],
   "source": [
    "printOutputData()"
   ]
  },
  {
   "cell_type": "code",
   "execution_count": 209,
   "metadata": {},
   "outputs": [
    {
     "name": "stdout",
     "output_type": "stream",
     "text": [
      "for Catagory 'Dept.No.' data frame looks like below\n",
      "-----------------------------------------------------------------------------\n",
      "   Dept.No..1  Dept.No..2  Dept.No..3  Dept.No..4\n",
      "0      3073.0         NaN         NaN         NaN\n",
      "1      2538.0         NaN         NaN         NaN\n",
      "2      2923.0      2923.0      2498.0      2548.0\n",
      "3      2678.0      2678.0         NaN         NaN\n",
      "4      2153.0         NaN         NaN         NaN\n",
      "5      2533.0         NaN         NaN         NaN\n",
      "6      3028.0      3028.0      3028.0         NaN\n",
      "7      2563.0      2563.0         NaN         NaN\n",
      "8      3123.0      3123.0         NaN         NaN\n",
      "9         NaN         NaN         NaN         NaN\n",
      "-----------------------------------------------------------------------------\n"
     ]
    }
   ],
   "source": [
    "dataExploit(\"Dept.No.\", 5)"
   ]
  },
  {
   "cell_type": "code",
   "execution_count": 210,
   "metadata": {},
   "outputs": [],
   "source": [
    "inp =  \"Dept.No.\"\n",
    "outp = \"Departments\"\n",
    "interest_cols = [inp+\".%d\" % x for x in range(1,16)]\n",
    "team_df[outp] = df[interest_cols].apply(lambda x: len(set(x[~x.isnull()])), axis =1)\n"
   ]
  },
  {
   "cell_type": "code",
   "execution_count": 211,
   "metadata": {},
   "outputs": [
    {
     "name": "stdout",
     "output_type": "stream",
     "text": [
      "Output Result\n",
      "-----------------------------------------------------------------------------\n",
      "   A..papers  A.papers  B.papers  C.papers  Dif.countries  \\\n",
      "0        4.0       2.0       0.0       0.0              1   \n",
      "1        6.0      12.0       2.0       2.0              1   \n",
      "2        7.0      20.0      20.0       7.0              2   \n",
      "3        0.0       3.0      13.0       3.0              1   \n",
      "4        3.0       0.0       1.0       0.0              1   \n",
      "5        7.0      27.0      27.0       6.0              1   \n",
      "6        8.0      12.0      14.0       4.0              2   \n",
      "7        0.0       0.0       0.0       0.0              1   \n",
      "8        8.0       1.0      11.0       0.0              1   \n",
      "9        1.0       0.0       0.0       0.0              0   \n",
      "\n",
      "   Perc_non_australian  Number.people  PHD  Max.years.univ  Grants.succ  \\\n",
      "0             0.000000              1  0.0             0.0          0.0   \n",
      "1             1.000000              1  1.0            20.0          0.0   \n",
      "2             0.750000              4  2.0            50.0          0.0   \n",
      "3             1.000000              2  2.0            15.0          0.0   \n",
      "4             0.000000              1  1.0            10.0          0.0   \n",
      "5             1.000000              1  1.0             5.0          2.0   \n",
      "6             0.666667              3  2.0            30.0          0.0   \n",
      "7             1.000000              2  0.0             0.0          0.0   \n",
      "8             1.000000              2  2.0            20.0          2.0   \n",
      "9             0.000000              1  0.0             0.0          0.0   \n",
      "\n",
      "   Grants.unsucc  Departments  \n",
      "0            0.0            1  \n",
      "1            0.0            1  \n",
      "2            0.0            3  \n",
      "3            0.0            1  \n",
      "4            0.0            1  \n",
      "5            0.0            1  \n",
      "6            1.0            1  \n",
      "7            3.0            1  \n",
      "8            1.0            1  \n",
      "9            0.0            0  \n",
      "-----------------------------------------------------------------------------\n"
     ]
    }
   ],
   "source": [
    "printOutputData()"
   ]
  },
  {
   "cell_type": "code",
   "execution_count": 212,
   "metadata": {},
   "outputs": [
    {
     "name": "stdout",
     "output_type": "stream",
     "text": [
      "for Catagory 'Home.Language' data frame looks like below\n",
      "-----------------------------------------------------------------------------\n",
      "  Home.Language.1 Home.Language.2 Home.Language.3 Home.Language.4\n",
      "0           Other             NaN             NaN             NaN\n",
      "1             NaN             NaN             NaN             NaN\n",
      "2             NaN             NaN             NaN             NaN\n",
      "3             NaN             NaN             NaN             NaN\n",
      "4             NaN             NaN             NaN             NaN\n",
      "5             NaN             NaN             NaN             NaN\n",
      "6             NaN             NaN             NaN             NaN\n",
      "7             NaN             NaN             NaN             NaN\n",
      "8         English         English             NaN             NaN\n",
      "9             NaN             NaN             NaN             NaN\n",
      "-----------------------------------------------------------------------------\n",
      "Unique Values are like\n",
      "-----------------------------------------------------------------------------\n",
      "['Other', nan, 'English', nan, nan, nan, nan, nan]\n",
      "-----------------------------------------------------------------------------\n",
      "length is : 8\n"
     ]
    }
   ],
   "source": [
    "dataExploit(\"Home.Language\", 5)\n",
    "FindUniqueValues(\"Home.Language\", 16)"
   ]
  },
  {
   "cell_type": "code",
   "execution_count": 213,
   "metadata": {},
   "outputs": [],
   "source": [
    "inp = \"Home.Language\"\n",
    "outp = \"Perc.Lang.Eng\"  \n",
    "interest_cols = [inp+\".%d\" % x for x in range(1,16)]\n",
    "\n",
    "def compute_eng_perc(x):\n",
    "    total = len(x[~x.isnull()])\n",
    "    \n",
    "    if total == 0:\n",
    "        return 0\n",
    "    \n",
    "    eng_use = len([elem for elem in x if elem == \"English\"])\n",
    "\n",
    "    return eng_use/float(total)\n",
    "\n",
    "def compute_other_perc(x) : \n",
    "    total = len(x[~x.isnull()])\n",
    "    \n",
    "    if total == 0:\n",
    "        return 0\n",
    "    \n",
    "    other_use = len([elem for elem in x if elem == \"Other\"])\n",
    "    return other_use/float(total)\n",
    "\n",
    "team_df[outp] = df[interest_cols].apply(compute_eng_perc, axis =1)\n",
    "\n",
    "outp = \"Perc.Lang.Other\" \n",
    "team_df[outp] = df[interest_cols].apply(compute_other_perc, axis =1)\n"
   ]
  },
  {
   "cell_type": "code",
   "execution_count": 214,
   "metadata": {},
   "outputs": [
    {
     "name": "stdout",
     "output_type": "stream",
     "text": [
      "Output Result\n",
      "-----------------------------------------------------------------------------\n",
      "   A..papers  A.papers  B.papers  C.papers  Dif.countries  \\\n",
      "0        4.0       2.0       0.0       0.0              1   \n",
      "1        6.0      12.0       2.0       2.0              1   \n",
      "2        7.0      20.0      20.0       7.0              2   \n",
      "3        0.0       3.0      13.0       3.0              1   \n",
      "4        3.0       0.0       1.0       0.0              1   \n",
      "5        7.0      27.0      27.0       6.0              1   \n",
      "6        8.0      12.0      14.0       4.0              2   \n",
      "7        0.0       0.0       0.0       0.0              1   \n",
      "8        8.0       1.0      11.0       0.0              1   \n",
      "9        1.0       0.0       0.0       0.0              0   \n",
      "\n",
      "   Perc_non_australian  Number.people  PHD  Max.years.univ  Grants.succ  \\\n",
      "0             0.000000              1  0.0             0.0          0.0   \n",
      "1             1.000000              1  1.0            20.0          0.0   \n",
      "2             0.750000              4  2.0            50.0          0.0   \n",
      "3             1.000000              2  2.0            15.0          0.0   \n",
      "4             0.000000              1  1.0            10.0          0.0   \n",
      "5             1.000000              1  1.0             5.0          2.0   \n",
      "6             0.666667              3  2.0            30.0          0.0   \n",
      "7             1.000000              2  0.0             0.0          0.0   \n",
      "8             1.000000              2  2.0            20.0          2.0   \n",
      "9             0.000000              1  0.0             0.0          0.0   \n",
      "\n",
      "   Grants.unsucc  Departments  Perc.Lang.Eng  Perc.Lang.Other  \n",
      "0            0.0            1            0.0              1.0  \n",
      "1            0.0            1            0.0              0.0  \n",
      "2            0.0            3            0.0              0.0  \n",
      "3            0.0            1            0.0              0.0  \n",
      "4            0.0            1            0.0              0.0  \n",
      "5            0.0            1            0.0              0.0  \n",
      "6            1.0            1            0.0              0.0  \n",
      "7            3.0            1            0.0              0.0  \n",
      "8            1.0            1            1.0              0.0  \n",
      "9            0.0            0            0.0              0.0  \n",
      "-----------------------------------------------------------------------------\n"
     ]
    }
   ],
   "source": [
    "printOutputData()"
   ]
  },
  {
   "cell_type": "code",
   "execution_count": 215,
   "metadata": {},
   "outputs": [
    {
     "name": "stdout",
     "output_type": "stream",
     "text": [
      "for Catagory 'Role' data frame looks like below\n",
      "-----------------------------------------------------------------------------\n",
      "                 Role.1                  Role.2                  Role.3\n",
      "0    CHIEF_INVESTIGATOR                     NaN                     NaN\n",
      "1    CHIEF_INVESTIGATOR                     NaN                     NaN\n",
      "2    CHIEF_INVESTIGATOR      CHIEF_INVESTIGATOR      CHIEF_INVESTIGATOR\n",
      "3  PRINCIPAL_SUPERVISOR      CHIEF_INVESTIGATOR  EXT_CHIEF_INVESTIGATOR\n",
      "4    CHIEF_INVESTIGATOR                     NaN                     NaN\n",
      "5    CHIEF_INVESTIGATOR                     NaN                     NaN\n",
      "6    CHIEF_INVESTIGATOR      CHIEF_INVESTIGATOR      CHIEF_INVESTIGATOR\n",
      "7    CHIEF_INVESTIGATOR      CHIEF_INVESTIGATOR  EXT_CHIEF_INVESTIGATOR\n",
      "8    CHIEF_INVESTIGATOR      CHIEF_INVESTIGATOR  EXT_CHIEF_INVESTIGATOR\n",
      "9    CHIEF_INVESTIGATOR  EXT_CHIEF_INVESTIGATOR  EXT_CHIEF_INVESTIGATOR\n",
      "-----------------------------------------------------------------------------\n",
      "Unique Values are like\n",
      "-----------------------------------------------------------------------------\n",
      "['CHIEF_INVESTIGATOR', 'PRINCIPAL_SUPERVISOR', 'DELEGATED_RESEARCHER', 'EXT_CHIEF_INVESTIGATOR', nan, 'STUD_CHIEF_INVESTIGATOR', 'HONVISIT', 'EXTERNAL_ADVISOR', 'STUDRES', nan]\n",
      "-----------------------------------------------------------------------------\n",
      "length is : 10\n"
     ]
    }
   ],
   "source": [
    "dataExploit('Role',4 )\n",
    "FindUniqueValues(\"Role\", 16)"
   ]
  },
  {
   "cell_type": "code",
   "execution_count": 216,
   "metadata": {},
   "outputs": [],
   "source": [
    "# TODO : role preprocessing\n",
    "inp = \"Role\"  \n",
    "outp = \"Dif.Role\"\n",
    "interest_cols = [inp+\".%d\" % x for x in range(1,16)]\n",
    "team_df[outp] = df[interest_cols].apply(lambda x: len(set(x[~x.isnull()])), axis =1)\n",
    "\n",
    "outp = \"Perc.CHIEF.INVESTIGATOR\" # From 0 to 1\n",
    "interest_cols = [inp+\".%d\" % x for x in range(1,16)]\n",
    "\n",
    "def compute_perc_chief(x):\n",
    "    total = len(x[~x.isnull()])\n",
    "    \n",
    "    if total == 0:\n",
    "        return 0\n",
    "    \n",
    "    chief = len([elem for elem in x if elem == \"CHIEF_INVESTIGATOR\"])\n",
    "    return chief/float(total)\n",
    "    \n",
    "team_df[outp] = df[interest_cols].apply(compute_perc_chief, axis =1)"
   ]
  },
  {
   "cell_type": "code",
   "execution_count": 217,
   "metadata": {},
   "outputs": [
    {
     "name": "stdout",
     "output_type": "stream",
     "text": [
      "Output Result\n",
      "-----------------------------------------------------------------------------\n",
      "   A..papers  A.papers  B.papers  C.papers  Dif.countries  \\\n",
      "0        4.0       2.0       0.0       0.0              1   \n",
      "1        6.0      12.0       2.0       2.0              1   \n",
      "2        7.0      20.0      20.0       7.0              2   \n",
      "3        0.0       3.0      13.0       3.0              1   \n",
      "4        3.0       0.0       1.0       0.0              1   \n",
      "5        7.0      27.0      27.0       6.0              1   \n",
      "6        8.0      12.0      14.0       4.0              2   \n",
      "7        0.0       0.0       0.0       0.0              1   \n",
      "8        8.0       1.0      11.0       0.0              1   \n",
      "9        1.0       0.0       0.0       0.0              0   \n",
      "\n",
      "   Perc_non_australian  Number.people  PHD  Max.years.univ  Grants.succ  \\\n",
      "0             0.000000              1  0.0             0.0          0.0   \n",
      "1             1.000000              1  1.0            20.0          0.0   \n",
      "2             0.750000              4  2.0            50.0          0.0   \n",
      "3             1.000000              2  2.0            15.0          0.0   \n",
      "4             0.000000              1  1.0            10.0          0.0   \n",
      "5             1.000000              1  1.0             5.0          2.0   \n",
      "6             0.666667              3  2.0            30.0          0.0   \n",
      "7             1.000000              2  0.0             0.0          0.0   \n",
      "8             1.000000              2  2.0            20.0          2.0   \n",
      "9             0.000000              1  0.0             0.0          0.0   \n",
      "\n",
      "   Grants.unsucc  Departments  Perc.Lang.Eng  Perc.Lang.Other  Dif.Role  \\\n",
      "0            0.0            1            0.0              1.0         1   \n",
      "1            0.0            1            0.0              0.0         1   \n",
      "2            0.0            3            0.0              0.0         3   \n",
      "3            0.0            1            0.0              0.0         4   \n",
      "4            0.0            1            0.0              0.0         1   \n",
      "5            0.0            1            0.0              0.0         1   \n",
      "6            1.0            1            0.0              0.0         2   \n",
      "7            3.0            1            0.0              0.0         2   \n",
      "8            1.0            1            1.0              0.0         2   \n",
      "9            0.0            0            0.0              0.0         2   \n",
      "\n",
      "   Perc.CHIEF.INVESTIGATOR  \n",
      "0                 1.000000  \n",
      "1                 1.000000  \n",
      "2                 0.428571  \n",
      "3                 0.166667  \n",
      "4                 1.000000  \n",
      "5                 1.000000  \n",
      "6                 0.750000  \n",
      "7                 0.666667  \n",
      "8                 0.500000  \n",
      "9                 0.250000  \n",
      "-----------------------------------------------------------------------------\n"
     ]
    }
   ],
   "source": [
    "printOutputData()"
   ]
  },
  {
   "cell_type": "code",
   "execution_count": 218,
   "metadata": {},
   "outputs": [
    {
     "name": "stdout",
     "output_type": "stream",
     "text": [
      "for Catagory 'Year.of.Birth' data frame looks like below\n",
      "-----------------------------------------------------------------------------\n",
      "   Year.of.Birth.1  Year.of.Birth.2  Year.of.Birth.3\n",
      "0           1965.0              NaN              NaN\n",
      "1           1960.0              NaN              NaN\n",
      "2           1955.0           1950.0           1950.0\n",
      "3           1955.0           1975.0              NaN\n",
      "4           1965.0              NaN              NaN\n",
      "5           1950.0              NaN              NaN\n",
      "6           1960.0           1960.0           1950.0\n",
      "7           1965.0           1940.0              NaN\n",
      "8           1945.0           1950.0              NaN\n",
      "9           1930.0              NaN              NaN\n",
      "-----------------------------------------------------------------------------\n",
      "Unique Values are like\n",
      "-----------------------------------------------------------------------------\n",
      "[1965.0, 1960.0, 1955.0, 1950.0, 1945.0, 1930.0, 1970.0, 1975.0, 1940.0, 1935.0, nan, 1980.0, 1925.0, 1985.0, nan, 1900.0, nan, nan, nan, nan, nan, nan, nan, nan, nan, nan, nan, nan, nan]\n",
      "-----------------------------------------------------------------------------\n",
      "length is : 29\n"
     ]
    }
   ],
   "source": [
    "dataExploit('Year.of.Birth',4 )\n",
    "FindUniqueValues(\"Year.of.Birth\",16)"
   ]
  },
  {
   "cell_type": "code",
   "execution_count": 219,
   "metadata": {},
   "outputs": [
    {
     "name": "stderr",
     "output_type": "stream",
     "text": [
      "/Library/Frameworks/Python.framework/Versions/3.6/lib/python3.6/site-packages/ipykernel_launcher.py:4: RuntimeWarning: Mean of empty slice\n",
      "  after removing the cwd from sys.path.\n"
     ]
    }
   ],
   "source": [
    "inp =  'Year.of.Birth'\n",
    "outp = \"Average.Age\"\n",
    "interest_cols = [inp+\".%d\" % x for x in range(1,16)]\n",
    "team_df[outp] = df[interest_cols].apply(lambda x: np.nanmean(2017-x), axis =1)"
   ]
  },
  {
   "cell_type": "code",
   "execution_count": 220,
   "metadata": {},
   "outputs": [
    {
     "name": "stdout",
     "output_type": "stream",
     "text": [
      "Output Result\n",
      "-----------------------------------------------------------------------------\n",
      "   A..papers  A.papers  B.papers  C.papers  Dif.countries  \\\n",
      "0        4.0       2.0       0.0       0.0              1   \n",
      "1        6.0      12.0       2.0       2.0              1   \n",
      "2        7.0      20.0      20.0       7.0              2   \n",
      "3        0.0       3.0      13.0       3.0              1   \n",
      "4        3.0       0.0       1.0       0.0              1   \n",
      "5        7.0      27.0      27.0       6.0              1   \n",
      "6        8.0      12.0      14.0       4.0              2   \n",
      "7        0.0       0.0       0.0       0.0              1   \n",
      "8        8.0       1.0      11.0       0.0              1   \n",
      "9        1.0       0.0       0.0       0.0              0   \n",
      "\n",
      "   Perc_non_australian  Number.people  PHD  Max.years.univ  Grants.succ  \\\n",
      "0             0.000000              1  0.0             0.0          0.0   \n",
      "1             1.000000              1  1.0            20.0          0.0   \n",
      "2             0.750000              4  2.0            50.0          0.0   \n",
      "3             1.000000              2  2.0            15.0          0.0   \n",
      "4             0.000000              1  1.0            10.0          0.0   \n",
      "5             1.000000              1  1.0             5.0          2.0   \n",
      "6             0.666667              3  2.0            30.0          0.0   \n",
      "7             1.000000              2  0.0             0.0          0.0   \n",
      "8             1.000000              2  2.0            20.0          2.0   \n",
      "9             0.000000              1  0.0             0.0          0.0   \n",
      "\n",
      "   Grants.unsucc  Departments  Perc.Lang.Eng  Perc.Lang.Other  Dif.Role  \\\n",
      "0            0.0            1            0.0              1.0         1   \n",
      "1            0.0            1            0.0              0.0         1   \n",
      "2            0.0            3            0.0              0.0         3   \n",
      "3            0.0            1            0.0              0.0         4   \n",
      "4            0.0            1            0.0              0.0         1   \n",
      "5            0.0            1            0.0              0.0         1   \n",
      "6            1.0            1            0.0              0.0         2   \n",
      "7            3.0            1            0.0              0.0         2   \n",
      "8            1.0            1            1.0              0.0         2   \n",
      "9            0.0            0            0.0              0.0         2   \n",
      "\n",
      "   Perc.CHIEF.INVESTIGATOR  Average.Age  \n",
      "0                 1.000000    52.000000  \n",
      "1                 1.000000    57.000000  \n",
      "2                 0.428571    65.750000  \n",
      "3                 0.166667    52.000000  \n",
      "4                 1.000000    52.000000  \n",
      "5                 1.000000    67.000000  \n",
      "6                 0.750000    60.333333  \n",
      "7                 0.666667    64.500000  \n",
      "8                 0.500000    69.500000  \n",
      "9                 0.250000    87.000000  \n",
      "-----------------------------------------------------------------------------\n"
     ]
    }
   ],
   "source": [
    "printOutputData()"
   ]
  },
  {
   "cell_type": "code",
   "execution_count": 221,
   "metadata": {},
   "outputs": [],
   "source": [
    "################# TEAM FEATURE PREPROCESSING COMPLETED ###################"
   ]
  },
  {
   "cell_type": "code",
   "execution_count": 222,
   "metadata": {},
   "outputs": [],
   "source": [
    "## DATE -> WEEKDAY, MONTH, DAY&MONTH(1~365), DAY of MONTH(1~31), SEASON\n",
    "\n",
    "\n",
    "df['Start.date'] = pd.to_datetime(df['Start.date'])\n",
    "\n",
    "def get_weekday(x) : \n",
    "    return x.weekday()\n",
    "\n",
    "def get_month(x) : \n",
    "    return x.month\n",
    "\n",
    "def get_day(x) : \n",
    "    return x.day\n",
    "\n",
    "def get_days_of_month(x, leap) : \n",
    "    if (x == 1) | (x == 3) | (x == 5) | (x == 7) | (x == 8) | (x == 10) | (x == 12) : \n",
    "        return 31\n",
    "    elif (x == 2) & (leap == 1) :\n",
    "        return 29\n",
    "    elif (x == 2) & (leap == 0) : \n",
    "        return 28\n",
    "    elif (x == 4) | (x == 6) | (x == 9) | (x == 11) : \n",
    "        return 30\n",
    "    else : \n",
    "        return 0\n",
    "\n",
    "\n",
    "def get_day_and_month(x) : \n",
    "    month = get_month(x)\n",
    "    day_and_month = 0\n",
    "    year = x.year\n",
    "    if year == 2008 : \n",
    "        leap = 1\n",
    "    else : \n",
    "        leap = 0\n",
    "    \n",
    "    for i in range (month) : \n",
    "        day_and_month += get_days_of_month(i, leap)\n",
    "    day_and_month += get_day(x)\n",
    "    \n",
    "    return day_and_month\n",
    "\n",
    "\n",
    "def get_season(x) : \n",
    "    return x.quarter\n",
    "\n"
   ]
  },
  {
   "cell_type": "code",
   "execution_count": 223,
   "metadata": {},
   "outputs": [],
   "source": [
    "    \n",
    "team_df['Weekday'] = df['Start.date'].apply(get_weekday)\n",
    "team_df['Month'] = df['Start.date'].apply(get_month)\n",
    "team_df['Day.of.Month'] = df['Start.date'].apply(get_day)\n",
    "team_df['Day.of.Year'] = df['Start.date'].apply(get_day_and_month)\n",
    "team_df['Season'] = df['Start.date'].apply(get_season)"
   ]
  },
  {
   "cell_type": "code",
   "execution_count": 224,
   "metadata": {
    "scrolled": false
   },
   "outputs": [
    {
     "name": "stdout",
     "output_type": "stream",
     "text": [
      "Output Result\n",
      "-----------------------------------------------------------------------------\n",
      "   A..papers  A.papers  B.papers  C.papers  Dif.countries  \\\n",
      "0        4.0       2.0       0.0       0.0              1   \n",
      "1        6.0      12.0       2.0       2.0              1   \n",
      "2        7.0      20.0      20.0       7.0              2   \n",
      "3        0.0       3.0      13.0       3.0              1   \n",
      "4        3.0       0.0       1.0       0.0              1   \n",
      "5        7.0      27.0      27.0       6.0              1   \n",
      "6        8.0      12.0      14.0       4.0              2   \n",
      "7        0.0       0.0       0.0       0.0              1   \n",
      "8        8.0       1.0      11.0       0.0              1   \n",
      "9        1.0       0.0       0.0       0.0              0   \n",
      "\n",
      "   Perc_non_australian  Number.people  PHD  Max.years.univ  Grants.succ  \\\n",
      "0             0.000000              1  0.0             0.0          0.0   \n",
      "1             1.000000              1  1.0            20.0          0.0   \n",
      "2             0.750000              4  2.0            50.0          0.0   \n",
      "3             1.000000              2  2.0            15.0          0.0   \n",
      "4             0.000000              1  1.0            10.0          0.0   \n",
      "5             1.000000              1  1.0             5.0          2.0   \n",
      "6             0.666667              3  2.0            30.0          0.0   \n",
      "7             1.000000              2  0.0             0.0          0.0   \n",
      "8             1.000000              2  2.0            20.0          2.0   \n",
      "9             0.000000              1  0.0             0.0          0.0   \n",
      "\n",
      "    ...    Perc.Lang.Eng  Perc.Lang.Other  Dif.Role  Perc.CHIEF.INVESTIGATOR  \\\n",
      "0   ...              0.0              1.0         1                 1.000000   \n",
      "1   ...              0.0              0.0         1                 1.000000   \n",
      "2   ...              0.0              0.0         3                 0.428571   \n",
      "3   ...              0.0              0.0         4                 0.166667   \n",
      "4   ...              0.0              0.0         1                 1.000000   \n",
      "5   ...              0.0              0.0         1                 1.000000   \n",
      "6   ...              0.0              0.0         2                 0.750000   \n",
      "7   ...              0.0              0.0         2                 0.666667   \n",
      "8   ...              1.0              0.0         2                 0.500000   \n",
      "9   ...              0.0              0.0         2                 0.250000   \n",
      "\n",
      "   Average.Age  Weekday  Month  Day.of.Month  Day.of.Year  Season  \n",
      "0    52.000000        3      8            11          223       3  \n",
      "1    57.000000        4     11            11          315       4  \n",
      "2    65.750000        0     11            14          318       4  \n",
      "3    52.000000        1     11            15          319       4  \n",
      "4    52.000000        2     11            16          320       4  \n",
      "5    67.000000        5     11            19          323       4  \n",
      "6    60.333333        5     11            19          323       4  \n",
      "7    64.500000        5     11            19          323       4  \n",
      "8    69.500000        5     11            19          323       4  \n",
      "9    87.000000        5     11            19          323       4  \n",
      "\n",
      "[10 rows x 22 columns]\n",
      "-----------------------------------------------------------------------------\n"
     ]
    }
   ],
   "source": [
    "printOutputData()"
   ]
  },
  {
   "cell_type": "code",
   "execution_count": 225,
   "metadata": {},
   "outputs": [
    {
     "name": "stdout",
     "output_type": "stream",
     "text": [
      "for Catagory 'Sponsor.Code' data frame looks like below\n",
      "-----------------------------------------------------------------------------\n",
      "  Sponsor.Code\n",
      "0          NaN\n",
      "1           2B\n",
      "2          29A\n",
      "3          40D\n",
      "4          59C\n",
      "5           4D\n",
      "6           2B\n",
      "7          28D\n",
      "8           2B\n",
      "9           2B\n",
      "-----------------------------------------------------------------------------\n",
      "Unique Values are like\n",
      "-----------------------------------------------------------------------------\n",
      "[]\n",
      "-----------------------------------------------------------------------------\n",
      "length is : 0\n"
     ]
    }
   ],
   "source": [
    "dataExploit(\"Sponsor.Code\", 0)\n",
    "FindUniqueValues(\"Sponsor.Code\", 0)"
   ]
  },
  {
   "cell_type": "code",
   "execution_count": 226,
   "metadata": {},
   "outputs": [],
   "source": [
    "def extract_number(x) : \n",
    "    if type(x) is str : \n",
    "        return int(x[:-1])\n",
    "    elif type(x) is float : \n",
    "        return np.nansum(x)\n",
    "\n",
    "\n",
    "inp =  'Sponsor.Code'\n",
    "outp = \"Sponsor.Code\"\n",
    "team_df[outp] = df[inp].apply(extract_number)\n"
   ]
  },
  {
   "cell_type": "code",
   "execution_count": 227,
   "metadata": {},
   "outputs": [
    {
     "name": "stdout",
     "output_type": "stream",
     "text": [
      "Output Result\n",
      "-----------------------------------------------------------------------------\n",
      "   A..papers  A.papers  B.papers  C.papers  Dif.countries  \\\n",
      "0        4.0       2.0       0.0       0.0              1   \n",
      "1        6.0      12.0       2.0       2.0              1   \n",
      "2        7.0      20.0      20.0       7.0              2   \n",
      "3        0.0       3.0      13.0       3.0              1   \n",
      "4        3.0       0.0       1.0       0.0              1   \n",
      "5        7.0      27.0      27.0       6.0              1   \n",
      "6        8.0      12.0      14.0       4.0              2   \n",
      "7        0.0       0.0       0.0       0.0              1   \n",
      "8        8.0       1.0      11.0       0.0              1   \n",
      "9        1.0       0.0       0.0       0.0              0   \n",
      "\n",
      "   Perc_non_australian  Number.people  PHD  Max.years.univ  Grants.succ  \\\n",
      "0             0.000000              1  0.0             0.0          0.0   \n",
      "1             1.000000              1  1.0            20.0          0.0   \n",
      "2             0.750000              4  2.0            50.0          0.0   \n",
      "3             1.000000              2  2.0            15.0          0.0   \n",
      "4             0.000000              1  1.0            10.0          0.0   \n",
      "5             1.000000              1  1.0             5.0          2.0   \n",
      "6             0.666667              3  2.0            30.0          0.0   \n",
      "7             1.000000              2  0.0             0.0          0.0   \n",
      "8             1.000000              2  2.0            20.0          2.0   \n",
      "9             0.000000              1  0.0             0.0          0.0   \n",
      "\n",
      "       ...       Perc.Lang.Other  Dif.Role  Perc.CHIEF.INVESTIGATOR  \\\n",
      "0      ...                   1.0         1                 1.000000   \n",
      "1      ...                   0.0         1                 1.000000   \n",
      "2      ...                   0.0         3                 0.428571   \n",
      "3      ...                   0.0         4                 0.166667   \n",
      "4      ...                   0.0         1                 1.000000   \n",
      "5      ...                   0.0         1                 1.000000   \n",
      "6      ...                   0.0         2                 0.750000   \n",
      "7      ...                   0.0         2                 0.666667   \n",
      "8      ...                   0.0         2                 0.500000   \n",
      "9      ...                   0.0         2                 0.250000   \n",
      "\n",
      "   Average.Age  Weekday  Month  Day.of.Month  Day.of.Year  Season  \\\n",
      "0    52.000000        3      8            11          223       3   \n",
      "1    57.000000        4     11            11          315       4   \n",
      "2    65.750000        0     11            14          318       4   \n",
      "3    52.000000        1     11            15          319       4   \n",
      "4    52.000000        2     11            16          320       4   \n",
      "5    67.000000        5     11            19          323       4   \n",
      "6    60.333333        5     11            19          323       4   \n",
      "7    64.500000        5     11            19          323       4   \n",
      "8    69.500000        5     11            19          323       4   \n",
      "9    87.000000        5     11            19          323       4   \n",
      "\n",
      "   Sponsor.Code  \n",
      "0           0.0  \n",
      "1           2.0  \n",
      "2          29.0  \n",
      "3          40.0  \n",
      "4          59.0  \n",
      "5           4.0  \n",
      "6           2.0  \n",
      "7          28.0  \n",
      "8           2.0  \n",
      "9           2.0  \n",
      "\n",
      "[10 rows x 23 columns]\n",
      "-----------------------------------------------------------------------------\n"
     ]
    }
   ],
   "source": [
    "printOutputData()"
   ]
  },
  {
   "cell_type": "code",
   "execution_count": 228,
   "metadata": {},
   "outputs": [
    {
     "name": "stdout",
     "output_type": "stream",
     "text": [
      "for Catagory 'Grant.Category.Code' data frame looks like below\n",
      "-----------------------------------------------------------------------------\n",
      "  Grant.Category.Code\n",
      "0                 NaN\n",
      "1                 10A\n",
      "2                 10B\n",
      "3                 10B\n",
      "4                 10A\n",
      "5                 10A\n",
      "6                 10A\n",
      "7                 30B\n",
      "8                 10A\n",
      "9                 10A\n",
      "-----------------------------------------------------------------------------\n",
      "Unique Values are like\n",
      "-----------------------------------------------------------------------------\n",
      "[]\n",
      "-----------------------------------------------------------------------------\n",
      "length is : 0\n"
     ]
    }
   ],
   "source": [
    "dataExploit(\"Grant.Category.Code\", 0)\n",
    "FindUniqueValues(\"Grant.Category.Code\", 0)"
   ]
  },
  {
   "cell_type": "code",
   "execution_count": 229,
   "metadata": {},
   "outputs": [],
   "source": [
    "def give_unique_category_code(x) : \n",
    "    if type(x) is str : \n",
    "        if x == '10A' : return 1\n",
    "        elif x == '20A' : return 2\n",
    "        elif x == '30A' : return 3\n",
    "        elif x == '50A' : return 4\n",
    "        elif x == '10B' : return 5\n",
    "        elif x == '30B' : return 6\n",
    "        elif x == '20C' : return 7\n",
    "        elif x == '30C' : return 8\n",
    "        elif x == '40C' : return 9\n",
    "        elif x == '30D' : return 10\n",
    "        elif x == '30E' : return 11\n",
    "        elif x == '30F' : return 12\n",
    "        elif x == '30G' : return 13\n",
    "        else : return 0\n",
    "    elif type(x) is float : \n",
    "        return np.nansum(x)\n",
    "\n",
    "\n",
    "inp =  'Grant.Category.Code'\n",
    "outp = \"Grant.Category.Code\"\n",
    "team_df[outp] = df[inp].apply(give_unique_category_code)"
   ]
  },
  {
   "cell_type": "code",
   "execution_count": 230,
   "metadata": {},
   "outputs": [
    {
     "name": "stdout",
     "output_type": "stream",
     "text": [
      "Output Result\n",
      "-----------------------------------------------------------------------------\n",
      "   A..papers  A.papers  B.papers  C.papers  Dif.countries  \\\n",
      "0        4.0       2.0       0.0       0.0              1   \n",
      "1        6.0      12.0       2.0       2.0              1   \n",
      "2        7.0      20.0      20.0       7.0              2   \n",
      "3        0.0       3.0      13.0       3.0              1   \n",
      "4        3.0       0.0       1.0       0.0              1   \n",
      "5        7.0      27.0      27.0       6.0              1   \n",
      "6        8.0      12.0      14.0       4.0              2   \n",
      "7        0.0       0.0       0.0       0.0              1   \n",
      "8        8.0       1.0      11.0       0.0              1   \n",
      "9        1.0       0.0       0.0       0.0              0   \n",
      "\n",
      "   Perc_non_australian  Number.people  PHD  Max.years.univ  Grants.succ  \\\n",
      "0             0.000000              1  0.0             0.0          0.0   \n",
      "1             1.000000              1  1.0            20.0          0.0   \n",
      "2             0.750000              4  2.0            50.0          0.0   \n",
      "3             1.000000              2  2.0            15.0          0.0   \n",
      "4             0.000000              1  1.0            10.0          0.0   \n",
      "5             1.000000              1  1.0             5.0          2.0   \n",
      "6             0.666667              3  2.0            30.0          0.0   \n",
      "7             1.000000              2  0.0             0.0          0.0   \n",
      "8             1.000000              2  2.0            20.0          2.0   \n",
      "9             0.000000              1  0.0             0.0          0.0   \n",
      "\n",
      "          ...           Dif.Role  Perc.CHIEF.INVESTIGATOR  Average.Age  \\\n",
      "0         ...                  1                 1.000000    52.000000   \n",
      "1         ...                  1                 1.000000    57.000000   \n",
      "2         ...                  3                 0.428571    65.750000   \n",
      "3         ...                  4                 0.166667    52.000000   \n",
      "4         ...                  1                 1.000000    52.000000   \n",
      "5         ...                  1                 1.000000    67.000000   \n",
      "6         ...                  2                 0.750000    60.333333   \n",
      "7         ...                  2                 0.666667    64.500000   \n",
      "8         ...                  2                 0.500000    69.500000   \n",
      "9         ...                  2                 0.250000    87.000000   \n",
      "\n",
      "   Weekday  Month  Day.of.Month  Day.of.Year  Season  Sponsor.Code  \\\n",
      "0        3      8            11          223       3           0.0   \n",
      "1        4     11            11          315       4           2.0   \n",
      "2        0     11            14          318       4          29.0   \n",
      "3        1     11            15          319       4          40.0   \n",
      "4        2     11            16          320       4          59.0   \n",
      "5        5     11            19          323       4           4.0   \n",
      "6        5     11            19          323       4           2.0   \n",
      "7        5     11            19          323       4          28.0   \n",
      "8        5     11            19          323       4           2.0   \n",
      "9        5     11            19          323       4           2.0   \n",
      "\n",
      "   Grant.Category.Code  \n",
      "0                  0.0  \n",
      "1                  1.0  \n",
      "2                  5.0  \n",
      "3                  5.0  \n",
      "4                  1.0  \n",
      "5                  1.0  \n",
      "6                  1.0  \n",
      "7                  6.0  \n",
      "8                  1.0  \n",
      "9                  1.0  \n",
      "\n",
      "[10 rows x 24 columns]\n",
      "-----------------------------------------------------------------------------\n"
     ]
    }
   ],
   "source": [
    "printOutputData()"
   ]
  },
  {
   "cell_type": "code",
   "execution_count": 231,
   "metadata": {},
   "outputs": [
    {
     "name": "stdout",
     "output_type": "stream",
     "text": [
      "for Catagory 'Contract.Value.Band...see.note.A' data frame looks like below\n",
      "-----------------------------------------------------------------------------\n",
      "  Contract.Value.Band...see.note.A\n",
      "0                               A \n",
      "1                               B \n",
      "2                               A \n",
      "3                               C \n",
      "4                               A \n",
      "5                              NaN\n",
      "6                              NaN\n",
      "7                               A \n",
      "8                               H \n",
      "9                              NaN\n",
      "-----------------------------------------------------------------------------\n",
      "Unique Values are like\n",
      "-----------------------------------------------------------------------------\n",
      "[]\n",
      "-----------------------------------------------------------------------------\n",
      "length is : 0\n"
     ]
    },
    {
     "data": {
      "text/plain": [
       "dtype('O')"
      ]
     },
     "execution_count": 231,
     "metadata": {},
     "output_type": "execute_result"
    }
   ],
   "source": [
    "dataExploit(\"Contract.Value.Band...see.note.A\", 0)\n",
    "FindUniqueValues(\"Contract.Value.Band...see.note.A\", 0)\n",
    "df['Contract.Value.Band...see.note.A'].dtypes"
   ]
  },
  {
   "cell_type": "code",
   "execution_count": 232,
   "metadata": {},
   "outputs": [],
   "source": [
    "\n",
    "#From\tTo\tBand Code\n",
    "#1\t50000\tA\n",
    "#50001\t100000\tB\n",
    "#100001\t200000\tC\n",
    "#200001\t300000\tD\n",
    "#300001\t400000\tE\n",
    "#400001\t500000\tF\n",
    "#500001\t1000000\tG\n",
    "#1000001\t2000000\tH\n",
    "#2000001\t3000000\tI\n",
    "#3000001\t4000000\tJ\n",
    "#4000001\t5000000\tK\n",
    "#5000001\t6000000\tL\n",
    "#6000001\t7000000\tM\n",
    "#7000001\t8000000\tN\n",
    "#8000001\t9000000\tO\n",
    "#9000001\t10000000\tP\n",
    "#10000001\t100000000\tQ\n",
    "\n",
    "def get_max_range_band(x) : \n",
    "    if(type(x) is str) : \n",
    "        if x == 'A ' : return 50000\n",
    "        elif x == 'B ' : return 100000\n",
    "        elif x == 'C ' : return 200000\n",
    "        elif x == 'D ' : return 300000\n",
    "        elif x == 'E ' : return 400000\n",
    "        elif x == 'F ' : return 500000\n",
    "        elif x == 'G ' : return 1000000\n",
    "        elif x == 'H ' : return 2000000\n",
    "        elif x == 'I ' : return 3000000\n",
    "        elif x == 'J ' : return 4000000\n",
    "        elif x == 'K ' : return 5000000\n",
    "        elif x == 'L ' : return 6000000\n",
    "        elif x == 'M ' : return 7000000\n",
    "        elif x == 'N ' : return 8000000\n",
    "        elif x == 'O ' : return 9000000\n",
    "        elif x == 'P ' : return 10000000\n",
    "        elif x == 'Q ' : return 100000000\n",
    "    else : return 0\n",
    "\n",
    "\n",
    "\n",
    "inp =  \"Contract.Value.Band...see.note.A\" \n",
    "outp = \"Contract.Value.Band\"\n",
    "\n",
    "team_df[outp] = df[inp].apply(get_max_range_band)"
   ]
  },
  {
   "cell_type": "code",
   "execution_count": 233,
   "metadata": {},
   "outputs": [
    {
     "name": "stdout",
     "output_type": "stream",
     "text": [
      "Output Result\n",
      "-----------------------------------------------------------------------------\n",
      "   A..papers  A.papers  B.papers  C.papers  Dif.countries  \\\n",
      "0        4.0       2.0       0.0       0.0              1   \n",
      "1        6.0      12.0       2.0       2.0              1   \n",
      "2        7.0      20.0      20.0       7.0              2   \n",
      "3        0.0       3.0      13.0       3.0              1   \n",
      "4        3.0       0.0       1.0       0.0              1   \n",
      "5        7.0      27.0      27.0       6.0              1   \n",
      "6        8.0      12.0      14.0       4.0              2   \n",
      "7        0.0       0.0       0.0       0.0              1   \n",
      "8        8.0       1.0      11.0       0.0              1   \n",
      "9        1.0       0.0       0.0       0.0              0   \n",
      "\n",
      "   Perc_non_australian  Number.people  PHD  Max.years.univ  Grants.succ  \\\n",
      "0             0.000000              1  0.0             0.0          0.0   \n",
      "1             1.000000              1  1.0            20.0          0.0   \n",
      "2             0.750000              4  2.0            50.0          0.0   \n",
      "3             1.000000              2  2.0            15.0          0.0   \n",
      "4             0.000000              1  1.0            10.0          0.0   \n",
      "5             1.000000              1  1.0             5.0          2.0   \n",
      "6             0.666667              3  2.0            30.0          0.0   \n",
      "7             1.000000              2  0.0             0.0          0.0   \n",
      "8             1.000000              2  2.0            20.0          2.0   \n",
      "9             0.000000              1  0.0             0.0          0.0   \n",
      "\n",
      "          ...           Perc.CHIEF.INVESTIGATOR  Average.Age  Weekday  Month  \\\n",
      "0         ...                          1.000000    52.000000        3      8   \n",
      "1         ...                          1.000000    57.000000        4     11   \n",
      "2         ...                          0.428571    65.750000        0     11   \n",
      "3         ...                          0.166667    52.000000        1     11   \n",
      "4         ...                          1.000000    52.000000        2     11   \n",
      "5         ...                          1.000000    67.000000        5     11   \n",
      "6         ...                          0.750000    60.333333        5     11   \n",
      "7         ...                          0.666667    64.500000        5     11   \n",
      "8         ...                          0.500000    69.500000        5     11   \n",
      "9         ...                          0.250000    87.000000        5     11   \n",
      "\n",
      "   Day.of.Month  Day.of.Year  Season  Sponsor.Code  Grant.Category.Code  \\\n",
      "0            11          223       3           0.0                  0.0   \n",
      "1            11          315       4           2.0                  1.0   \n",
      "2            14          318       4          29.0                  5.0   \n",
      "3            15          319       4          40.0                  5.0   \n",
      "4            16          320       4          59.0                  1.0   \n",
      "5            19          323       4           4.0                  1.0   \n",
      "6            19          323       4           2.0                  1.0   \n",
      "7            19          323       4          28.0                  6.0   \n",
      "8            19          323       4           2.0                  1.0   \n",
      "9            19          323       4           2.0                  1.0   \n",
      "\n",
      "   Contract.Value.Band  \n",
      "0                50000  \n",
      "1               100000  \n",
      "2                50000  \n",
      "3               200000  \n",
      "4                50000  \n",
      "5                    0  \n",
      "6                    0  \n",
      "7                50000  \n",
      "8              2000000  \n",
      "9                    0  \n",
      "\n",
      "[10 rows x 25 columns]\n",
      "-----------------------------------------------------------------------------\n"
     ]
    }
   ],
   "source": [
    "printOutputData()"
   ]
  },
  {
   "cell_type": "code",
   "execution_count": 234,
   "metadata": {},
   "outputs": [
    {
     "name": "stdout",
     "output_type": "stream",
     "text": [
      "for Catagory 'RFCD.Code' data frame looks like below\n",
      "-----------------------------------------------------------------------------\n",
      "   RFCD.Code.1  RFCD.Code.2  RFCD.Code.3  RFCD.Code.4\n",
      "0           28            0            0            0\n",
      "1           28           28           28            0\n",
      "2           32           32            0            0\n",
      "3           27           32            0            0\n",
      "4           26           28           29            0\n",
      "5           32            0            0            0\n",
      "6           27           27           27            0\n",
      "7           32            0            0            0\n",
      "8           26           26            0            0\n",
      "9           27           27           27            0\n",
      "-----------------------------------------------------------------------------\n",
      "Unique Values are like\n",
      "-----------------------------------------------------------------------------\n",
      "[28, 32, 27, 26, 23, 29, 30, 38, 37, 33, 0, 35, 40, 42, 21, 24, 25, 36, 39, 34, 31, 44, 41, 43, 99]\n",
      "-----------------------------------------------------------------------------\n",
      "length is : 25\n"
     ]
    }
   ],
   "source": [
    "def substring_to_int(x) : \n",
    "    if np.isnan(x) : \n",
    "        return 0\n",
    "    else : \n",
    "        return int (x / 10000)\n",
    "\n",
    "df[\"RFCD.Code.1\"] = df[\"RFCD.Code.1\"].apply(substring_to_int)\n",
    "df[\"RFCD.Code.2\"] = df[\"RFCD.Code.2\"].apply(substring_to_int)\n",
    "df[\"RFCD.Code.3\"] = df[\"RFCD.Code.3\"].apply(substring_to_int)\n",
    "df[\"RFCD.Code.4\"] = df[\"RFCD.Code.4\"].apply(substring_to_int)\n",
    "df[\"RFCD.Code.5\"] = df[\"RFCD.Code.5\"].apply(substring_to_int)\n",
    "\n",
    "\n",
    "dataExploit(\"RFCD.Code\", 5)\n",
    "FindUniqueValues(\"RFCD.Code\", 6)\n"
   ]
  },
  {
   "cell_type": "code",
   "execution_count": 235,
   "metadata": {},
   "outputs": [
    {
     "name": "stdout",
     "output_type": "stream",
     "text": [
      "for Catagory 'SEO.Code' data frame looks like below\n",
      "-----------------------------------------------------------------------------\n",
      "   SEO.Code.1  SEO.Code.2  SEO.Code.3  SEO.Code.4  SEO.Code.5\n",
      "0          70           0           0           0           0\n",
      "1          70          70           0           0           0\n",
      "2          73          73           0           0           0\n",
      "3          73          73           0           0           0\n",
      "4          77           0           0           0           0\n",
      "5          73           0           0           0           0\n",
      "6          77          77           0           0           0\n",
      "7          73           0           0           0           0\n",
      "8          78           0           0           0           0\n",
      "9          77          77           0           0           0\n",
      "-----------------------------------------------------------------------------\n",
      "Unique Values are like\n",
      "-----------------------------------------------------------------------------\n"
     ]
    },
    {
     "ename": "KeyError",
     "evalue": "'SEO.Code.1.1'",
     "output_type": "error",
     "traceback": [
      "\u001b[0;31m---------------------------------------------------------------------------\u001b[0m",
      "\u001b[0;31mKeyError\u001b[0m                                  Traceback (most recent call last)",
      "\u001b[0;32m/Library/Frameworks/Python.framework/Versions/3.6/lib/python3.6/site-packages/pandas/core/indexes/base.py\u001b[0m in \u001b[0;36mget_loc\u001b[0;34m(self, key, method, tolerance)\u001b[0m\n\u001b[1;32m   2524\u001b[0m             \u001b[0;32mtry\u001b[0m\u001b[0;34m:\u001b[0m\u001b[0;34m\u001b[0m\u001b[0m\n\u001b[0;32m-> 2525\u001b[0;31m                 \u001b[0;32mreturn\u001b[0m \u001b[0mself\u001b[0m\u001b[0;34m.\u001b[0m\u001b[0m_engine\u001b[0m\u001b[0;34m.\u001b[0m\u001b[0mget_loc\u001b[0m\u001b[0;34m(\u001b[0m\u001b[0mkey\u001b[0m\u001b[0;34m)\u001b[0m\u001b[0;34m\u001b[0m\u001b[0m\n\u001b[0m\u001b[1;32m   2526\u001b[0m             \u001b[0;32mexcept\u001b[0m \u001b[0mKeyError\u001b[0m\u001b[0;34m:\u001b[0m\u001b[0;34m\u001b[0m\u001b[0m\n",
      "\u001b[0;32mpandas/_libs/index.pyx\u001b[0m in \u001b[0;36mpandas._libs.index.IndexEngine.get_loc\u001b[0;34m()\u001b[0m\n",
      "\u001b[0;32mpandas/_libs/index.pyx\u001b[0m in \u001b[0;36mpandas._libs.index.IndexEngine.get_loc\u001b[0;34m()\u001b[0m\n",
      "\u001b[0;32mpandas/_libs/hashtable_class_helper.pxi\u001b[0m in \u001b[0;36mpandas._libs.hashtable.PyObjectHashTable.get_item\u001b[0;34m()\u001b[0m\n",
      "\u001b[0;32mpandas/_libs/hashtable_class_helper.pxi\u001b[0m in \u001b[0;36mpandas._libs.hashtable.PyObjectHashTable.get_item\u001b[0;34m()\u001b[0m\n",
      "\u001b[0;31mKeyError\u001b[0m: 'SEO.Code.1.1'",
      "\nDuring handling of the above exception, another exception occurred:\n",
      "\u001b[0;31mKeyError\u001b[0m                                  Traceback (most recent call last)",
      "\u001b[0;32m<ipython-input-235-ac9be226204f>\u001b[0m in \u001b[0;36m<module>\u001b[0;34m()\u001b[0m\n\u001b[1;32m      6\u001b[0m \u001b[0;34m\u001b[0m\u001b[0m\n\u001b[1;32m      7\u001b[0m \u001b[0mdataExploit\u001b[0m\u001b[0;34m(\u001b[0m\u001b[0;34m\"SEO.Code\"\u001b[0m\u001b[0;34m,\u001b[0m \u001b[0;36m6\u001b[0m\u001b[0;34m)\u001b[0m\u001b[0;34m\u001b[0m\u001b[0m\n\u001b[0;32m----> 8\u001b[0;31m \u001b[0mFindUniqueValues\u001b[0m\u001b[0;34m(\u001b[0m\u001b[0;34m\"SEO.Code.1\"\u001b[0m\u001b[0;34m,\u001b[0m\u001b[0;36m6\u001b[0m\u001b[0;34m)\u001b[0m\u001b[0;34m\u001b[0m\u001b[0m\n\u001b[0m",
      "\u001b[0;32m<ipython-input-187-3e879acd6793>\u001b[0m in \u001b[0;36mFindUniqueValues\u001b[0;34m(columnName, num_col)\u001b[0m\n\u001b[1;32m     26\u001b[0m     \u001b[0;32melse\u001b[0m \u001b[0;34m:\u001b[0m\u001b[0;34m\u001b[0m\u001b[0m\n\u001b[1;32m     27\u001b[0m         \u001b[0;32mfor\u001b[0m \u001b[0mi\u001b[0m \u001b[0;32min\u001b[0m \u001b[0mrange\u001b[0m \u001b[0;34m(\u001b[0m\u001b[0;36m1\u001b[0m\u001b[0;34m,\u001b[0m \u001b[0mnum_col\u001b[0m\u001b[0;34m)\u001b[0m \u001b[0;34m:\u001b[0m\u001b[0;34m\u001b[0m\u001b[0m\n\u001b[0;32m---> 28\u001b[0;31m             \u001b[0mvalues\u001b[0m \u001b[0;34m=\u001b[0m \u001b[0mpd\u001b[0m\u001b[0;34m.\u001b[0m\u001b[0munique\u001b[0m\u001b[0;34m(\u001b[0m\u001b[0mdf\u001b[0m\u001b[0;34m[\u001b[0m\u001b[0mcolumnName\u001b[0m\u001b[0;34m+\u001b[0m\u001b[0;34m\".%d\"\u001b[0m \u001b[0;34m%\u001b[0m \u001b[0mi\u001b[0m\u001b[0;34m]\u001b[0m\u001b[0;34m)\u001b[0m\u001b[0;34m\u001b[0m\u001b[0m\n\u001b[0m\u001b[1;32m     29\u001b[0m             \u001b[0muniq_list\u001b[0m\u001b[0;34m.\u001b[0m\u001b[0mextend\u001b[0m\u001b[0;34m(\u001b[0m\u001b[0mvalues\u001b[0m\u001b[0;34m)\u001b[0m\u001b[0;34m\u001b[0m\u001b[0m\n\u001b[1;32m     30\u001b[0m             \u001b[0muniq_list\u001b[0m \u001b[0;34m=\u001b[0m \u001b[0munique\u001b[0m\u001b[0;34m(\u001b[0m\u001b[0muniq_list\u001b[0m\u001b[0;34m)\u001b[0m\u001b[0;34m\u001b[0m\u001b[0m\n",
      "\u001b[0;32m/Library/Frameworks/Python.framework/Versions/3.6/lib/python3.6/site-packages/pandas/core/frame.py\u001b[0m in \u001b[0;36m__getitem__\u001b[0;34m(self, key)\u001b[0m\n\u001b[1;32m   2137\u001b[0m             \u001b[0;32mreturn\u001b[0m \u001b[0mself\u001b[0m\u001b[0;34m.\u001b[0m\u001b[0m_getitem_multilevel\u001b[0m\u001b[0;34m(\u001b[0m\u001b[0mkey\u001b[0m\u001b[0;34m)\u001b[0m\u001b[0;34m\u001b[0m\u001b[0m\n\u001b[1;32m   2138\u001b[0m         \u001b[0;32melse\u001b[0m\u001b[0;34m:\u001b[0m\u001b[0;34m\u001b[0m\u001b[0m\n\u001b[0;32m-> 2139\u001b[0;31m             \u001b[0;32mreturn\u001b[0m \u001b[0mself\u001b[0m\u001b[0;34m.\u001b[0m\u001b[0m_getitem_column\u001b[0m\u001b[0;34m(\u001b[0m\u001b[0mkey\u001b[0m\u001b[0;34m)\u001b[0m\u001b[0;34m\u001b[0m\u001b[0m\n\u001b[0m\u001b[1;32m   2140\u001b[0m \u001b[0;34m\u001b[0m\u001b[0m\n\u001b[1;32m   2141\u001b[0m     \u001b[0;32mdef\u001b[0m \u001b[0m_getitem_column\u001b[0m\u001b[0;34m(\u001b[0m\u001b[0mself\u001b[0m\u001b[0;34m,\u001b[0m \u001b[0mkey\u001b[0m\u001b[0;34m)\u001b[0m\u001b[0;34m:\u001b[0m\u001b[0;34m\u001b[0m\u001b[0m\n",
      "\u001b[0;32m/Library/Frameworks/Python.framework/Versions/3.6/lib/python3.6/site-packages/pandas/core/frame.py\u001b[0m in \u001b[0;36m_getitem_column\u001b[0;34m(self, key)\u001b[0m\n\u001b[1;32m   2144\u001b[0m         \u001b[0;31m# get column\u001b[0m\u001b[0;34m\u001b[0m\u001b[0;34m\u001b[0m\u001b[0m\n\u001b[1;32m   2145\u001b[0m         \u001b[0;32mif\u001b[0m \u001b[0mself\u001b[0m\u001b[0;34m.\u001b[0m\u001b[0mcolumns\u001b[0m\u001b[0;34m.\u001b[0m\u001b[0mis_unique\u001b[0m\u001b[0;34m:\u001b[0m\u001b[0;34m\u001b[0m\u001b[0m\n\u001b[0;32m-> 2146\u001b[0;31m             \u001b[0;32mreturn\u001b[0m \u001b[0mself\u001b[0m\u001b[0;34m.\u001b[0m\u001b[0m_get_item_cache\u001b[0m\u001b[0;34m(\u001b[0m\u001b[0mkey\u001b[0m\u001b[0;34m)\u001b[0m\u001b[0;34m\u001b[0m\u001b[0m\n\u001b[0m\u001b[1;32m   2147\u001b[0m \u001b[0;34m\u001b[0m\u001b[0m\n\u001b[1;32m   2148\u001b[0m         \u001b[0;31m# duplicate columns & possible reduce dimensionality\u001b[0m\u001b[0;34m\u001b[0m\u001b[0;34m\u001b[0m\u001b[0m\n",
      "\u001b[0;32m/Library/Frameworks/Python.framework/Versions/3.6/lib/python3.6/site-packages/pandas/core/generic.py\u001b[0m in \u001b[0;36m_get_item_cache\u001b[0;34m(self, item)\u001b[0m\n\u001b[1;32m   1840\u001b[0m         \u001b[0mres\u001b[0m \u001b[0;34m=\u001b[0m \u001b[0mcache\u001b[0m\u001b[0;34m.\u001b[0m\u001b[0mget\u001b[0m\u001b[0;34m(\u001b[0m\u001b[0mitem\u001b[0m\u001b[0;34m)\u001b[0m\u001b[0;34m\u001b[0m\u001b[0m\n\u001b[1;32m   1841\u001b[0m         \u001b[0;32mif\u001b[0m \u001b[0mres\u001b[0m \u001b[0;32mis\u001b[0m \u001b[0;32mNone\u001b[0m\u001b[0;34m:\u001b[0m\u001b[0;34m\u001b[0m\u001b[0m\n\u001b[0;32m-> 1842\u001b[0;31m             \u001b[0mvalues\u001b[0m \u001b[0;34m=\u001b[0m \u001b[0mself\u001b[0m\u001b[0;34m.\u001b[0m\u001b[0m_data\u001b[0m\u001b[0;34m.\u001b[0m\u001b[0mget\u001b[0m\u001b[0;34m(\u001b[0m\u001b[0mitem\u001b[0m\u001b[0;34m)\u001b[0m\u001b[0;34m\u001b[0m\u001b[0m\n\u001b[0m\u001b[1;32m   1843\u001b[0m             \u001b[0mres\u001b[0m \u001b[0;34m=\u001b[0m \u001b[0mself\u001b[0m\u001b[0;34m.\u001b[0m\u001b[0m_box_item_values\u001b[0m\u001b[0;34m(\u001b[0m\u001b[0mitem\u001b[0m\u001b[0;34m,\u001b[0m \u001b[0mvalues\u001b[0m\u001b[0;34m)\u001b[0m\u001b[0;34m\u001b[0m\u001b[0m\n\u001b[1;32m   1844\u001b[0m             \u001b[0mcache\u001b[0m\u001b[0;34m[\u001b[0m\u001b[0mitem\u001b[0m\u001b[0;34m]\u001b[0m \u001b[0;34m=\u001b[0m \u001b[0mres\u001b[0m\u001b[0;34m\u001b[0m\u001b[0m\n",
      "\u001b[0;32m/Library/Frameworks/Python.framework/Versions/3.6/lib/python3.6/site-packages/pandas/core/internals.py\u001b[0m in \u001b[0;36mget\u001b[0;34m(self, item, fastpath)\u001b[0m\n\u001b[1;32m   3841\u001b[0m \u001b[0;34m\u001b[0m\u001b[0m\n\u001b[1;32m   3842\u001b[0m             \u001b[0;32mif\u001b[0m \u001b[0;32mnot\u001b[0m \u001b[0misna\u001b[0m\u001b[0;34m(\u001b[0m\u001b[0mitem\u001b[0m\u001b[0;34m)\u001b[0m\u001b[0;34m:\u001b[0m\u001b[0;34m\u001b[0m\u001b[0m\n\u001b[0;32m-> 3843\u001b[0;31m                 \u001b[0mloc\u001b[0m \u001b[0;34m=\u001b[0m \u001b[0mself\u001b[0m\u001b[0;34m.\u001b[0m\u001b[0mitems\u001b[0m\u001b[0;34m.\u001b[0m\u001b[0mget_loc\u001b[0m\u001b[0;34m(\u001b[0m\u001b[0mitem\u001b[0m\u001b[0;34m)\u001b[0m\u001b[0;34m\u001b[0m\u001b[0m\n\u001b[0m\u001b[1;32m   3844\u001b[0m             \u001b[0;32melse\u001b[0m\u001b[0;34m:\u001b[0m\u001b[0;34m\u001b[0m\u001b[0m\n\u001b[1;32m   3845\u001b[0m                 \u001b[0mindexer\u001b[0m \u001b[0;34m=\u001b[0m \u001b[0mnp\u001b[0m\u001b[0;34m.\u001b[0m\u001b[0marange\u001b[0m\u001b[0;34m(\u001b[0m\u001b[0mlen\u001b[0m\u001b[0;34m(\u001b[0m\u001b[0mself\u001b[0m\u001b[0;34m.\u001b[0m\u001b[0mitems\u001b[0m\u001b[0;34m)\u001b[0m\u001b[0;34m)\u001b[0m\u001b[0;34m[\u001b[0m\u001b[0misna\u001b[0m\u001b[0;34m(\u001b[0m\u001b[0mself\u001b[0m\u001b[0;34m.\u001b[0m\u001b[0mitems\u001b[0m\u001b[0;34m)\u001b[0m\u001b[0;34m]\u001b[0m\u001b[0;34m\u001b[0m\u001b[0m\n",
      "\u001b[0;32m/Library/Frameworks/Python.framework/Versions/3.6/lib/python3.6/site-packages/pandas/core/indexes/base.py\u001b[0m in \u001b[0;36mget_loc\u001b[0;34m(self, key, method, tolerance)\u001b[0m\n\u001b[1;32m   2525\u001b[0m                 \u001b[0;32mreturn\u001b[0m \u001b[0mself\u001b[0m\u001b[0;34m.\u001b[0m\u001b[0m_engine\u001b[0m\u001b[0;34m.\u001b[0m\u001b[0mget_loc\u001b[0m\u001b[0;34m(\u001b[0m\u001b[0mkey\u001b[0m\u001b[0;34m)\u001b[0m\u001b[0;34m\u001b[0m\u001b[0m\n\u001b[1;32m   2526\u001b[0m             \u001b[0;32mexcept\u001b[0m \u001b[0mKeyError\u001b[0m\u001b[0;34m:\u001b[0m\u001b[0;34m\u001b[0m\u001b[0m\n\u001b[0;32m-> 2527\u001b[0;31m                 \u001b[0;32mreturn\u001b[0m \u001b[0mself\u001b[0m\u001b[0;34m.\u001b[0m\u001b[0m_engine\u001b[0m\u001b[0;34m.\u001b[0m\u001b[0mget_loc\u001b[0m\u001b[0;34m(\u001b[0m\u001b[0mself\u001b[0m\u001b[0;34m.\u001b[0m\u001b[0m_maybe_cast_indexer\u001b[0m\u001b[0;34m(\u001b[0m\u001b[0mkey\u001b[0m\u001b[0;34m)\u001b[0m\u001b[0;34m)\u001b[0m\u001b[0;34m\u001b[0m\u001b[0m\n\u001b[0m\u001b[1;32m   2528\u001b[0m \u001b[0;34m\u001b[0m\u001b[0m\n\u001b[1;32m   2529\u001b[0m         \u001b[0mindexer\u001b[0m \u001b[0;34m=\u001b[0m \u001b[0mself\u001b[0m\u001b[0;34m.\u001b[0m\u001b[0mget_indexer\u001b[0m\u001b[0;34m(\u001b[0m\u001b[0;34m[\u001b[0m\u001b[0mkey\u001b[0m\u001b[0;34m]\u001b[0m\u001b[0;34m,\u001b[0m \u001b[0mmethod\u001b[0m\u001b[0;34m=\u001b[0m\u001b[0mmethod\u001b[0m\u001b[0;34m,\u001b[0m \u001b[0mtolerance\u001b[0m\u001b[0;34m=\u001b[0m\u001b[0mtolerance\u001b[0m\u001b[0;34m)\u001b[0m\u001b[0;34m\u001b[0m\u001b[0m\n",
      "\u001b[0;32mpandas/_libs/index.pyx\u001b[0m in \u001b[0;36mpandas._libs.index.IndexEngine.get_loc\u001b[0;34m()\u001b[0m\n",
      "\u001b[0;32mpandas/_libs/index.pyx\u001b[0m in \u001b[0;36mpandas._libs.index.IndexEngine.get_loc\u001b[0;34m()\u001b[0m\n",
      "\u001b[0;32mpandas/_libs/hashtable_class_helper.pxi\u001b[0m in \u001b[0;36mpandas._libs.hashtable.PyObjectHashTable.get_item\u001b[0;34m()\u001b[0m\n",
      "\u001b[0;32mpandas/_libs/hashtable_class_helper.pxi\u001b[0m in \u001b[0;36mpandas._libs.hashtable.PyObjectHashTable.get_item\u001b[0;34m()\u001b[0m\n",
      "\u001b[0;31mKeyError\u001b[0m: 'SEO.Code.1.1'"
     ]
    }
   ],
   "source": [
    "df[\"SEO.Code.1\"] = df[\"SEO.Code.1\"].apply(substring_to_int)\n",
    "df[\"SEO.Code.2\"] = df[\"SEO.Code.2\"].apply(substring_to_int)\n",
    "df[\"SEO.Code.3\"] = df[\"SEO.Code.3\"].apply(substring_to_int)\n",
    "df[\"SEO.Code.4\"] = df[\"SEO.Code.4\"].apply(substring_to_int)\n",
    "df[\"SEO.Code.5\"] = df[\"SEO.Code.5\"].apply(substring_to_int)\n",
    "\n",
    "dataExploit(\"SEO.Code\", 6)\n",
    "FindUniqueValues(\"SEO.Code\",6)"
   ]
  },
  {
   "cell_type": "code",
   "execution_count": null,
   "metadata": {},
   "outputs": [],
   "source": []
  }
 ],
 "metadata": {
  "kernelspec": {
   "display_name": "Python 3",
   "language": "python",
   "name": "python3"
  },
  "language_info": {
   "codemirror_mode": {
    "name": "ipython",
    "version": 3
   },
   "file_extension": ".py",
   "mimetype": "text/x-python",
   "name": "python",
   "nbconvert_exporter": "python",
   "pygments_lexer": "ipython3",
   "version": "3.6.4"
  }
 },
 "nbformat": 4,
 "nbformat_minor": 2
}
