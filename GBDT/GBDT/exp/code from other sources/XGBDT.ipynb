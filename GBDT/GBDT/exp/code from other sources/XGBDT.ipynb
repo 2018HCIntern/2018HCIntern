{
 "cells": [
  {
   "cell_type": "code",
   "execution_count": 2,
   "metadata": {},
   "outputs": [
    {
     "name": "stderr",
     "output_type": "stream",
     "text": [
      "/Users/garb47/anaconda3/lib/python3.6/site-packages/sklearn/cross_validation.py:41: DeprecationWarning: This module was deprecated in version 0.18 in favor of the model_selection module into which all the refactored classes and functions are moved. Also note that the interface of the new CV iterators are different from that of this module. This module will be removed in 0.20.\n",
      "  \"This module will be removed in 0.20.\", DeprecationWarning)\n"
     ]
    }
   ],
   "source": [
    "import xgboost as xgb\n",
    "import pandas as pd\n",
    "import numpy as np\n",
    "from sklearn.linear_model import LogisticRegression\n",
    "from sklearn.metrics import roc_curve, auc, roc_auc_score\n",
    "from sklearn.cross_validation import train_test_split"
   ]
  },
  {
   "cell_type": "code",
   "execution_count": 3,
   "metadata": {},
   "outputs": [],
   "source": [
    "\n",
    "example=pd.read_csv('example.csv')\n",
    "\n",
    "\n",
    "train_df, test_df = train_test_split(example, train_size = 0.8)\n",
    "X_train = train_df.drop([ 'Grant.Status'], axis=1)\n",
    "y_train = train_df['Grant.Status']\n",
    "X_test = test_df.drop([ 'Grant.Status'], axis=1)\n",
    "y_test = test_df['Grant.Status']\n",
    "\n",
    "\n",
    "dtrain = xgb.DMatrix(X_train.values,y_train.values)\n",
    "dtest = xgb.DMatrix(X_test.values, y_test.values)\n",
    "param = {'max_depth':7, 'silent': 1, 'objective':'binary:logistic'}\n",
    "watchlist = [(dtest, 'eval'), (dtrain, 'train')]\n",
    "num_round = 30\n",
    "\n",
    "xgb_train = xgb.train(param, dtrain, num_round)\n",
    "\n",
    "y_pred = xgb_train.predict(dtrain, pred_leaf=True)\n",
    "num_leaf= 610\n",
    "X_train_leaves = np.zeros([len(y_pred),len(y_pred[0]) * num_leaf],dtype=np.int64)\n",
    "for i in range(0,len(y_pred)):\n",
    "    temp = np.arange(len(y_pred[0])) * num_leaf - 1 + np.array(y_pred[i])\n",
    "    X_train_leaves[i][temp] += 1\n",
    "    \n",
    "y_pred= xgb_train.predict(dtest, pred_leaf=True)    \n",
    "X_test_leaves = np.zeros([len(y_pred),len(y_pred[0]) * num_leaf],dtype=np.int64)\n",
    "for i in range(0,len(y_pred)):\n",
    "    temp = np.arange(len(y_pred[0])) * num_leaf - 1 + np.array(y_pred[i])\n",
    "    X_test_leaves[i][temp] += 1\n",
    "    "
   ]
  },
  {
   "cell_type": "code",
   "execution_count": 4,
   "metadata": {},
   "outputs": [
    {
     "name": "stdout",
     "output_type": "stream",
     "text": [
      "gbdt+lr auc 1: 0.85259\n"
     ]
    }
   ],
   "source": [
    "lr = LogisticRegression()\n",
    "lr.fit(X_train_leaves, y_train)\n",
    "y_pred_gbdtlr1 = lr.predict(X_test_leaves)\n",
    "gbdtlr_auc1 = roc_auc_score(y_test, y_pred_gbdtlr1)\n",
    "print('gbdt+lr auc 1: %.5f' % gbdtlr_auc1)"
   ]
  },
  {
   "cell_type": "code",
   "execution_count": 72,
   "metadata": {},
   "outputs": [
    {
     "data": {
      "text/plain": [
       "5794"
      ]
     },
     "execution_count": 72,
     "metadata": {},
     "output_type": "execute_result"
    }
   ],
   "source": [
    "len(y_pred)"
   ]
  },
  {
   "cell_type": "code",
   "execution_count": 9,
   "metadata": {},
   "outputs": [
    {
     "data": {
      "text/plain": [
       "array([  154,   764,  1385,  2022,  2594,  3217,  3830,  4436,  5049,\n",
       "        5649,  6216,  6836,  7450,  8000,  8619,  9283,  9830, 10495,\n",
       "       11104, 11675, 12270, 12868, 13516, 14115, 14778, 15336, 15893,\n",
       "       16579, 17196, 17803])"
      ]
     },
     "execution_count": 9,
     "metadata": {},
     "output_type": "execute_result"
    }
   ],
   "source": [
    "np.arange(len(y_pred[0])) * num_leaf - 1 + np.array(y_pred[0])"
   ]
  },
  {
   "cell_type": "code",
   "execution_count": null,
   "metadata": {},
   "outputs": [],
   "source": []
  }
 ],
 "metadata": {
  "kernelspec": {
   "display_name": "Python 3",
   "language": "python",
   "name": "python3"
  },
  "language_info": {
   "codemirror_mode": {
    "name": "ipython",
    "version": 3
   },
   "file_extension": ".py",
   "mimetype": "text/x-python",
   "name": "python",
   "nbconvert_exporter": "python",
   "pygments_lexer": "ipython3",
   "version": "3.6.3"
  }
 },
 "nbformat": 4,
 "nbformat_minor": 2
}
