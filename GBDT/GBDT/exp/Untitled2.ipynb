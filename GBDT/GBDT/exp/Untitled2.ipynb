{
 "cells": [
  {
   "cell_type": "code",
   "execution_count": 1,
   "metadata": {},
   "outputs": [
    {
     "name": "stdout",
     "output_type": "stream",
     "text": [
      "WARN: OMP_NUM_THREADS=None =>\n",
      "... If you are using openblas if you are using openblas set OMP_NUM_THREADS=1 or risk subprocess calls hanging indefinitely\n"
     ]
    }
   ],
   "source": [
    "import numpy as np\n",
    "import pandas as pd\n",
    "import xgboost as xgb\n",
    "from xgboost import XGBClassifier\n",
    "import lightgbm as lgb\n",
    "from sklearn.preprocessing import OneHotEncoder\n",
    "from sklearn.preprocessing import StandardScaler\n",
    "from sklearn.model_selection import train_test_split\n",
    "from sklearn.linear_model import LogisticRegression\n",
    "from sklearn.metrics import roc_curve, auc, roc_auc_score\n",
    "from sklearn.externals import joblib\n",
    "from sklearn.ensemble import GradientBoostingClassifier\n",
    "from sklearn.model_selection import GridSearchCV\n",
    "from sklearn.externals import joblib\n",
    "from sklearn.svm import SVC, LinearSVC\n",
    "from sklearn.neighbors import KNeighborsClassifier\n",
    "from sklearn.ensemble import RandomForestClassifier\n",
    "from sklearn.naive_bayes import GaussianNB\n",
    "from sklearn.linear_model import SGDClassifier\n",
    "from sklearn.linear_model import Perceptron\n",
    "from sklearn.naive_bayes import GaussianNB\n",
    "import matplotlib.pyplot as plt\n",
    "import numpy as np\n",
    "import pandas as pd\n",
    "from scipy.sparse import csr_matrix\n",
    "from scipy.sparse import hstack\n",
    "import time, os, random, sys\n",
    "import math\n",
    "import hyperopt.tpe\n",
    "import hpsklearn.components\n",
    "import hpsklearn.demo_support\n",
    "import warnings\n",
    "\n",
    "warnings.filterwarnings('ignore')\n",
    "np.random.seed(1)"
   ]
  },
  {
   "cell_type": "code",
   "execution_count": 10,
   "metadata": {},
   "outputs": [],
   "source": [
    "example = pd.read_csv('example2.csv')"
   ]
  },
  {
   "cell_type": "code",
   "execution_count": 11,
   "metadata": {},
   "outputs": [],
   "source": [
    "example2 = pd.read_csv('rounded.csv')"
   ]
  },
  {
   "cell_type": "code",
   "execution_count": 12,
   "metadata": {},
   "outputs": [],
   "source": [
    "train_df, test_df = train_test_split(example, train_size = 0.75)"
   ]
  },
  {
   "cell_type": "code",
   "execution_count": 13,
   "metadata": {},
   "outputs": [],
   "source": [
    "train_df = pd.concat([train_df, example2])"
   ]
  },
  {
   "cell_type": "code",
   "execution_count": 14,
   "metadata": {},
   "outputs": [],
   "source": [
    "xbc=XGBClassifier()"
   ]
  },
  {
   "cell_type": "code",
   "execution_count": 15,
   "metadata": {},
   "outputs": [],
   "source": [
    "X_train = train_df.drop(['Grant.Status'], axis = 1)\n",
    "y_train = train_df['Grant.Status']\n",
    "X_test = test_df.drop(['Grant.Status'],axis = 1)\n",
    "y_test = test_df['Grant.Status']"
   ]
  },
  {
   "cell_type": "code",
   "execution_count": 20,
   "metadata": {},
   "outputs": [
    {
     "ename": "ValueError",
     "evalue": "feature_names mismatch: ['A..papers', 'A.papers', 'Average.Age', 'B.papers', 'C.papers', 'Contract.Value.Band', 'Day.of.Month', 'Day.of.Year', 'Departments', 'Dif.Role', 'Dif.countries', 'Grant.Category.Code', 'Grants.succ', 'Grants.unsucc', 'Max.years.univ', 'Month', 'Number.people', 'PHD', 'Perc.CHIEF.INVESTIGATOR', 'Perc.Lang.Eng', 'Perc.Lang.Other', 'Perc_non_australian', 'RFCD.0', 'RFCD.1', 'RFCD.10', 'RFCD.11', 'RFCD.12', 'RFCD.13', 'RFCD.14', 'RFCD.15', 'RFCD.16', 'RFCD.17', 'RFCD.18', 'RFCD.19', 'RFCD.2', 'RFCD.20', 'RFCD.21', 'RFCD.22', 'RFCD.23', 'RFCD.24', 'RFCD.3', 'RFCD.4', 'RFCD.5', 'RFCD.6', 'RFCD.7', 'RFCD.8', 'RFCD.9', 'SEO.0', 'SEO.1', 'SEO.10', 'SEO.11', 'SEO.12', 'SEO.13', 'SEO.14', 'SEO.15', 'SEO.16', 'SEO.17', 'SEO.18', 'SEO.19', 'SEO.2', 'SEO.3', 'SEO.4', 'SEO.5', 'SEO.6', 'SEO.7', 'SEO.8', 'SEO.9', 'Season', 'Sponsor.Code', 'Weekday'] ['A..papers', 'A.papers', 'B.papers', 'C.papers', 'Dif.countries', 'Perc_non_australian', 'Number.people', 'PHD', 'Max.years.univ', 'Grants.succ', 'Grants.unsucc', 'Departments', 'Perc.Lang.Eng', 'Perc.Lang.Other', 'Dif.Role', 'Perc.CHIEF.INVESTIGATOR', 'Average.Age', 'Weekday', 'Month', 'Day.of.Month', 'Day.of.Year', 'Season', 'Sponsor.Code', 'Grant.Category.Code', 'Contract.Value.Band', 'RFCD.0', 'RFCD.1', 'RFCD.2', 'RFCD.3', 'RFCD.4', 'RFCD.5', 'RFCD.6', 'RFCD.7', 'RFCD.8', 'RFCD.9', 'RFCD.10', 'RFCD.11', 'RFCD.12', 'RFCD.13', 'RFCD.14', 'RFCD.15', 'RFCD.16', 'RFCD.17', 'RFCD.18', 'RFCD.19', 'RFCD.20', 'RFCD.21', 'RFCD.22', 'RFCD.23', 'RFCD.24', 'SEO.0', 'SEO.1', 'SEO.2', 'SEO.3', 'SEO.4', 'SEO.5', 'SEO.6', 'SEO.7', 'SEO.8', 'SEO.9', 'SEO.10', 'SEO.11', 'SEO.12', 'SEO.13', 'SEO.14', 'SEO.15', 'SEO.16', 'SEO.17', 'SEO.18', 'SEO.19']",
     "output_type": "error",
     "traceback": [
      "\u001b[0;31m---------------------------------------------------------------------------\u001b[0m",
      "\u001b[0;31mValueError\u001b[0m                                Traceback (most recent call last)",
      "\u001b[0;32m<ipython-input-20-ad8a6237b9d5>\u001b[0m in \u001b[0;36m<module>\u001b[0;34m()\u001b[0m\n\u001b[1;32m      1\u001b[0m \u001b[0mxbc\u001b[0m\u001b[0;34m.\u001b[0m\u001b[0mfit\u001b[0m\u001b[0;34m(\u001b[0m\u001b[0mX_train\u001b[0m\u001b[0;34m,\u001b[0m\u001b[0my_train\u001b[0m\u001b[0;34m)\u001b[0m\u001b[0;34m\u001b[0m\u001b[0m\n\u001b[0;32m----> 2\u001b[0;31m \u001b[0mY_pred_xgb\u001b[0m\u001b[0;34m=\u001b[0m\u001b[0mxbc\u001b[0m\u001b[0;34m.\u001b[0m\u001b[0mpredict_proba\u001b[0m\u001b[0;34m(\u001b[0m\u001b[0mX_test\u001b[0m\u001b[0;34m)\u001b[0m\u001b[0;34m[\u001b[0m\u001b[0;34m:\u001b[0m\u001b[0;34m,\u001b[0m\u001b[0;36m1\u001b[0m\u001b[0;34m]\u001b[0m\u001b[0;34m\u001b[0m\u001b[0m\n\u001b[0m\u001b[1;32m      3\u001b[0m \u001b[0mxgb_auc\u001b[0m\u001b[0;34m=\u001b[0m \u001b[0mroc_auc_score\u001b[0m\u001b[0;34m(\u001b[0m\u001b[0my_test\u001b[0m\u001b[0;34m,\u001b[0m\u001b[0mY_pred_xgb\u001b[0m\u001b[0;34m)\u001b[0m\u001b[0;34m\u001b[0m\u001b[0m\n\u001b[1;32m      4\u001b[0m \u001b[0mprint\u001b[0m\u001b[0;34m(\u001b[0m\u001b[0;34m'XGB auc : %.5f'\u001b[0m \u001b[0;34m%\u001b[0m \u001b[0mxgb_auc\u001b[0m\u001b[0;34m)\u001b[0m\u001b[0;34m\u001b[0m\u001b[0m\n",
      "\u001b[0;32m~/anaconda3/lib/python3.6/site-packages/xgboost/sklearn.py\u001b[0m in \u001b[0;36mpredict_proba\u001b[0;34m(self, data, output_margin, ntree_limit)\u001b[0m\n\u001b[1;32m    536\u001b[0m         class_probs = self.get_booster().predict(test_dmatrix,\n\u001b[1;32m    537\u001b[0m                                                  \u001b[0moutput_margin\u001b[0m\u001b[0;34m=\u001b[0m\u001b[0moutput_margin\u001b[0m\u001b[0;34m,\u001b[0m\u001b[0;34m\u001b[0m\u001b[0m\n\u001b[0;32m--> 538\u001b[0;31m                                                  ntree_limit=ntree_limit)\n\u001b[0m\u001b[1;32m    539\u001b[0m         \u001b[0;32mif\u001b[0m \u001b[0mself\u001b[0m\u001b[0;34m.\u001b[0m\u001b[0mobjective\u001b[0m \u001b[0;34m==\u001b[0m \u001b[0;34m\"multi:softprob\"\u001b[0m\u001b[0;34m:\u001b[0m\u001b[0;34m\u001b[0m\u001b[0m\n\u001b[1;32m    540\u001b[0m             \u001b[0;32mreturn\u001b[0m \u001b[0mclass_probs\u001b[0m\u001b[0;34m\u001b[0m\u001b[0m\n",
      "\u001b[0;32m~/anaconda3/lib/python3.6/site-packages/xgboost/core.py\u001b[0m in \u001b[0;36mpredict\u001b[0;34m(self, data, output_margin, ntree_limit, pred_leaf, pred_contribs, approx_contribs)\u001b[0m\n\u001b[1;32m   1042\u001b[0m             \u001b[0moption_mask\u001b[0m \u001b[0;34m|=\u001b[0m \u001b[0;36m0x08\u001b[0m\u001b[0;34m\u001b[0m\u001b[0m\n\u001b[1;32m   1043\u001b[0m \u001b[0;34m\u001b[0m\u001b[0m\n\u001b[0;32m-> 1044\u001b[0;31m         \u001b[0mself\u001b[0m\u001b[0;34m.\u001b[0m\u001b[0m_validate_features\u001b[0m\u001b[0;34m(\u001b[0m\u001b[0mdata\u001b[0m\u001b[0;34m)\u001b[0m\u001b[0;34m\u001b[0m\u001b[0m\n\u001b[0m\u001b[1;32m   1045\u001b[0m \u001b[0;34m\u001b[0m\u001b[0m\n\u001b[1;32m   1046\u001b[0m         \u001b[0mlength\u001b[0m \u001b[0;34m=\u001b[0m \u001b[0mc_bst_ulong\u001b[0m\u001b[0;34m(\u001b[0m\u001b[0;34m)\u001b[0m\u001b[0;34m\u001b[0m\u001b[0m\n",
      "\u001b[0;32m~/anaconda3/lib/python3.6/site-packages/xgboost/core.py\u001b[0m in \u001b[0;36m_validate_features\u001b[0;34m(self, data)\u001b[0m\n\u001b[1;32m   1286\u001b[0m \u001b[0;34m\u001b[0m\u001b[0m\n\u001b[1;32m   1287\u001b[0m                 raise ValueError(msg.format(self.feature_names,\n\u001b[0;32m-> 1288\u001b[0;31m                                             data.feature_names))\n\u001b[0m\u001b[1;32m   1289\u001b[0m \u001b[0;34m\u001b[0m\u001b[0m\n\u001b[1;32m   1290\u001b[0m     \u001b[0;32mdef\u001b[0m \u001b[0mget_split_value_histogram\u001b[0m\u001b[0;34m(\u001b[0m\u001b[0mself\u001b[0m\u001b[0;34m,\u001b[0m \u001b[0mfeature\u001b[0m\u001b[0;34m,\u001b[0m \u001b[0mfmap\u001b[0m\u001b[0;34m=\u001b[0m\u001b[0;34m''\u001b[0m\u001b[0;34m,\u001b[0m \u001b[0mbins\u001b[0m\u001b[0;34m=\u001b[0m\u001b[0;32mNone\u001b[0m\u001b[0;34m,\u001b[0m \u001b[0mas_pandas\u001b[0m\u001b[0;34m=\u001b[0m\u001b[0;32mTrue\u001b[0m\u001b[0;34m)\u001b[0m\u001b[0;34m:\u001b[0m\u001b[0;34m\u001b[0m\u001b[0m\n",
      "\u001b[0;31mValueError\u001b[0m: feature_names mismatch: ['A..papers', 'A.papers', 'Average.Age', 'B.papers', 'C.papers', 'Contract.Value.Band', 'Day.of.Month', 'Day.of.Year', 'Departments', 'Dif.Role', 'Dif.countries', 'Grant.Category.Code', 'Grants.succ', 'Grants.unsucc', 'Max.years.univ', 'Month', 'Number.people', 'PHD', 'Perc.CHIEF.INVESTIGATOR', 'Perc.Lang.Eng', 'Perc.Lang.Other', 'Perc_non_australian', 'RFCD.0', 'RFCD.1', 'RFCD.10', 'RFCD.11', 'RFCD.12', 'RFCD.13', 'RFCD.14', 'RFCD.15', 'RFCD.16', 'RFCD.17', 'RFCD.18', 'RFCD.19', 'RFCD.2', 'RFCD.20', 'RFCD.21', 'RFCD.22', 'RFCD.23', 'RFCD.24', 'RFCD.3', 'RFCD.4', 'RFCD.5', 'RFCD.6', 'RFCD.7', 'RFCD.8', 'RFCD.9', 'SEO.0', 'SEO.1', 'SEO.10', 'SEO.11', 'SEO.12', 'SEO.13', 'SEO.14', 'SEO.15', 'SEO.16', 'SEO.17', 'SEO.18', 'SEO.19', 'SEO.2', 'SEO.3', 'SEO.4', 'SEO.5', 'SEO.6', 'SEO.7', 'SEO.8', 'SEO.9', 'Season', 'Sponsor.Code', 'Weekday'] ['A..papers', 'A.papers', 'B.papers', 'C.papers', 'Dif.countries', 'Perc_non_australian', 'Number.people', 'PHD', 'Max.years.univ', 'Grants.succ', 'Grants.unsucc', 'Departments', 'Perc.Lang.Eng', 'Perc.Lang.Other', 'Dif.Role', 'Perc.CHIEF.INVESTIGATOR', 'Average.Age', 'Weekday', 'Month', 'Day.of.Month', 'Day.of.Year', 'Season', 'Sponsor.Code', 'Grant.Category.Code', 'Contract.Value.Band', 'RFCD.0', 'RFCD.1', 'RFCD.2', 'RFCD.3', 'RFCD.4', 'RFCD.5', 'RFCD.6', 'RFCD.7', 'RFCD.8', 'RFCD.9', 'RFCD.10', 'RFCD.11', 'RFCD.12', 'RFCD.13', 'RFCD.14', 'RFCD.15', 'RFCD.16', 'RFCD.17', 'RFCD.18', 'RFCD.19', 'RFCD.20', 'RFCD.21', 'RFCD.22', 'RFCD.23', 'RFCD.24', 'SEO.0', 'SEO.1', 'SEO.2', 'SEO.3', 'SEO.4', 'SEO.5', 'SEO.6', 'SEO.7', 'SEO.8', 'SEO.9', 'SEO.10', 'SEO.11', 'SEO.12', 'SEO.13', 'SEO.14', 'SEO.15', 'SEO.16', 'SEO.17', 'SEO.18', 'SEO.19']"
     ]
    }
   ],
   "source": [
    "xbc.fit(X_train,y_train)\n",
    "Y_pred_xgb=xbc.predict_proba(X_test)[:,1]\n",
    "xgb_auc= roc_auc_score(y_test,Y_pred_xgb)\n",
    "print('XGB auc : %.5f' % xgb_auc)"
   ]
  },
  {
   "cell_type": "code",
   "execution_count": null,
   "metadata": {},
   "outputs": [],
   "source": []
  }
 ],
 "metadata": {
  "kernelspec": {
   "display_name": "Python 3",
   "language": "python",
   "name": "python3"
  },
  "language_info": {
   "codemirror_mode": {
    "name": "ipython",
    "version": 3
   },
   "file_extension": ".py",
   "mimetype": "text/x-python",
   "name": "python",
   "nbconvert_exporter": "python",
   "pygments_lexer": "ipython3",
   "version": "3.6.3"
  }
 },
 "nbformat": 4,
 "nbformat_minor": 2
}
