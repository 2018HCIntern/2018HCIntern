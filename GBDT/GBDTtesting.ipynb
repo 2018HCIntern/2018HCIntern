{
 "cells": [
  {
   "cell_type": "code",
   "execution_count": 1,
   "metadata": {},
   "outputs": [
    {
     "name": "stderr",
     "output_type": "stream",
     "text": [
      "/Users/garb47/anaconda3/lib/python3.6/site-packages/sklearn/cross_validation.py:41: DeprecationWarning: This module was deprecated in version 0.18 in favor of the model_selection module into which all the refactored classes and functions are moved. Also note that the interface of the new CV iterators are different from that of this module. This module will be removed in 0.20.\n",
      "  \"This module will be removed in 0.20.\", DeprecationWarning)\n",
      "/Users/garb47/anaconda3/lib/python3.6/site-packages/sklearn/grid_search.py:42: DeprecationWarning: This module was deprecated in version 0.18 in favor of the model_selection module into which all the refactored classes and functions are moved. This module will be removed in 0.20.\n",
      "  DeprecationWarning)\n"
     ]
    },
    {
     "name": "stdout",
     "output_type": "stream",
     "text": [
      "WARN: OMP_NUM_THREADS=None =>\n",
      "... If you are using openblas if you are using openblas set OMP_NUM_THREADS=1 or risk subprocess calls hanging indefinitely\n"
     ]
    }
   ],
   "source": [
    "import numpy as np\n",
    "import pandas as pd\n",
    "from xgboost import XGBClassifier\n",
    "\n",
    "from sklearn.preprocessing import OneHotEncoder\n",
    "from sklearn.preprocessing import StandardScaler\n",
    "from sklearn.cross_validation import train_test_split\n",
    "from sklearn.datasets import load_svmlight_file\n",
    "from sklearn.linear_model import LogisticRegression\n",
    "from sklearn.metrics import roc_curve, auc, roc_auc_score\n",
    "from sklearn.externals import joblib\n",
    "from sklearn.ensemble import GradientBoostingClassifier\n",
    "from sklearn.grid_search import GridSearchCV\n",
    "from sklearn.externals import joblib\n",
    "from sklearn.svm import SVC, LinearSVC\n",
    "from sklearn.neighbors import KNeighborsClassifier\n",
    "from sklearn.ensemble import RandomForestClassifier\n",
    "from sklearn.naive_bayes import GaussianNB\n",
    "from sklearn.linear_model import SGDClassifier\n",
    "from sklearn.linear_model import Perceptron\n",
    "from sklearn.naive_bayes import GaussianNB\n",
    "import matplotlib.pyplot as plt\n",
    "import numpy as np\n",
    "import pandas as pd\n",
    "from scipy.sparse import csr_matrix\n",
    "from scipy.sparse import hstack\n",
    "import time, os, random, sys\n",
    "import math\n",
    "import hyperopt.tpe\n",
    "import hpsklearn.components\n",
    "import hpsklearn.demo_support\n",
    "import warnings\n",
    "warnings.filterwarnings('ignore')\n",
    "random.seed(1)"
   ]
  },
  {
   "cell_type": "code",
   "execution_count": 2,
   "metadata": {},
   "outputs": [],
   "source": [
    "example = pd.read_csv('example.csv')"
   ]
  },
  {
   "cell_type": "code",
   "execution_count": 270,
   "metadata": {},
   "outputs": [],
   "source": [
    "train_df, test_df = train_test_split(example, train_size = 0.8)\n",
    "X_train = train_df.drop(['Unnamed: 0', 'Grant.Status'], axis=1)\n",
    "y_train = train_df['Grant.Status']\n",
    "X_test = test_df.drop(['Unnamed: 0', 'Grant.Status'], axis=1)\n",
    "y_test = test_df['Grant.Status']"
   ]
  },
  {
   "cell_type": "code",
   "execution_count": 271,
   "metadata": {},
   "outputs": [],
   "source": [
    "gbclf = GradientBoostingClassifier(n_estimators=70, max_depth=4, verbose=0)\n",
    "gbclf.fit(X_train,y_train)\n",
    "X_train_leaves = gbclf.apply(X_train)[:,:,0]\n",
    "(train_rows, cols) = X_train_leaves.shape\n",
    "gbclf.fit(X_test,y_test)\n",
    "X_test_leaves = gbclf.apply(X_test)[:,:,0]"
   ]
  },
  {
   "cell_type": "code",
   "execution_count": 268,
   "metadata": {},
   "outputs": [
    {
     "name": "stdout",
     "output_type": "stream",
     "text": [
      "gbdt+lr auc 1: 0.72128\n"
     ]
    }
   ],
   "source": [
    "lr = LogisticRegression()\n",
    "lr.fit(X_train_leaves, y_train)\n",
    "y_pred_gbdtlr1 = lr.predict_proba(X_test_leaves)[:,1]\n",
    "gbdtlr_auc1 = roc_auc_score(y_test, y_pred_gbdtlr1)\n",
    "print('gbdt+lr auc 1: %.5f' % gbdtlr_auc1)"
   ]
  },
  {
   "cell_type": "code",
   "execution_count": 272,
   "metadata": {},
   "outputs": [
    {
     "name": "stdout",
     "output_type": "stream",
     "text": [
      "5794\n",
      "70\n",
      "gbdt+lr auc 1: 0.26255\n"
     ]
    }
   ],
   "source": [
    "print(len(X_train_leaves))\n",
    "print(len(X_train_leaves[0]))\n",
    "y_pred_gbdtlr1 = lr.predict_proba(X_test_leaves)[:,1]\n",
    "gbdtlr_auc1 = roc_auc_score(y_test, y_pred_gbdtlr1)\n",
    "print('gbdt+lr auc 1: %.5f' % gbdtlr_auc1)"
   ]
  },
  {
   "cell_type": "code",
   "execution_count": 273,
   "metadata": {},
   "outputs": [
    {
     "name": "stdout",
     "output_type": "stream",
     "text": [
      "0.935327385724\n"
     ]
    }
   ],
   "source": [
    "gbc=GradientBoostingClassifier()\n",
    "gbc.fit(X_train,y_train)\n",
    "y_pred=gbc.predict_proba(X_test)[:,1]\n",
    "auc=roc_auc_score(y_test,y_pred)\n",
    "print(auc)"
   ]
  },
  {
   "cell_type": "code",
   "execution_count": 274,
   "metadata": {},
   "outputs": [
    {
     "name": "stdout",
     "output_type": "stream",
     "text": [
      "0.935067798163\n"
     ]
    }
   ],
   "source": [
    "xgb=XGBClassifier()\n",
    "xgb.fit(X_train,y_train)\n",
    "y_pred_xgb=xgb.predict_proba(X_test)[:,1]\n",
    "auc=roc_auc_score(y_test,y_pred_xgb)\n",
    "print(auc)"
   ]
  },
  {
   "cell_type": "code",
   "execution_count": 135,
   "metadata": {},
   "outputs": [
    {
     "name": "stdout",
     "output_type": "stream",
     "text": [
      "NB auc:  0.657571872229\n"
     ]
    }
   ],
   "source": [
    "gnb= GaussianNB()\n",
    "gnb.fit(X_train_leaves, y_train)\n",
    "Y_pred_nb=gnb.predict_proba(X_test_leaves)[:,1]\n",
    "gnb_auc = roc_auc_score(y_test,Y_pred_nb)\n",
    "print('NB auc: ', gnb_auc)"
   ]
  },
  {
   "cell_type": "code",
   "execution_count": 136,
   "metadata": {},
   "outputs": [
    {
     "name": "stdout",
     "output_type": "stream",
     "text": [
      "SVC auc: 0.65157\n"
     ]
    }
   ],
   "source": [
    "svc=SVC(probability=True)\n",
    "\n",
    "svc.fit(X_train_leaves, y_train)\n",
    "Y_pred_svc=svc.predict_proba(X_test_leaves)[:,1]\n",
    "svc_auc=roc_auc_score(y_test,Y_pred_svc)\n",
    "print('SVC auc: %.5f' % svc_auc)"
   ]
  },
  {
   "cell_type": "code",
   "execution_count": 137,
   "metadata": {},
   "outputs": [
    {
     "name": "stdout",
     "output_type": "stream",
     "text": [
      "KNN auc : 0.80715\n"
     ]
    }
   ],
   "source": [
    "knn=KNeighborsClassifier(n_neighbors = 3)\n",
    "knn.fit(X_train_leaves, y_train)\n",
    "Y_pred_knn=knn.predict_proba(X_test_leaves)[:,1]\n",
    "knn_auc=roc_auc_score(y_test,Y_pred_knn)\n",
    "print('KNN auc : %.5f' % knn_auc)"
   ]
  },
  {
   "cell_type": "code",
   "execution_count": 138,
   "metadata": {},
   "outputs": [
    {
     "name": "stdout",
     "output_type": "stream",
     "text": [
      "Perceptron auc :  0.633917089256\n"
     ]
    }
   ],
   "source": [
    "#perceptron\n",
    "perceptron = Perceptron()\n",
    "perceptron.fit(X_train_leaves, y_train)\n",
    "Y_pred_prec=perceptron.predict(X_test_leaves)\n",
    "perc_auc=roc_auc_score(y_test,Y_pred_prec)\n",
    "print('Perceptron auc : ', perc_auc)"
   ]
  },
  {
   "cell_type": "code",
   "execution_count": 139,
   "metadata": {},
   "outputs": [
    {
     "name": "stdout",
     "output_type": "stream",
     "text": [
      "Linear SVC auc :  0.51237250333\n"
     ]
    }
   ],
   "source": [
    "#linear svc\n",
    "lin = LinearSVC()\n",
    "lin.fit(X_train_leaves, y_train)\n",
    "Y_pred_lin=lin.predict(X_test_leaves)\n",
    "lin_auc=roc_auc_score(y_test,Y_pred_lin)\n",
    "print('Linear SVC auc : ', lin_auc)"
   ]
  },
  {
   "cell_type": "code",
   "execution_count": 140,
   "metadata": {},
   "outputs": [
    {
     "name": "stdout",
     "output_type": "stream",
     "text": [
      "SGD auc : 0.73946\n"
     ]
    }
   ],
   "source": [
    "#SGD\n",
    "sgd = SGDClassifier(loss='log')\n",
    "sgd.fit(X_train_leaves, y_train)\n",
    "Y_pred_sgd=sgd.predict_proba(X_test_leaves)[:, 1]\n",
    "sgd_auc=roc_auc_score(y_test,Y_pred_sgd)\n",
    "print('SGD auc : %.5f' % sgd_auc)"
   ]
  },
  {
   "cell_type": "code",
   "execution_count": 141,
   "metadata": {},
   "outputs": [
    {
     "name": "stdout",
     "output_type": "stream",
     "text": [
      "0.633002491391\n"
     ]
    }
   ],
   "source": [
    "#XGB\n",
    "\n",
    "xgb=XGBClassifier()\n",
    "xgb.fit(X_train_leaves,y_train)\n",
    "Y_pred_xgb=xgb.predict(X_test_leaves)\n",
    "xgb_auc= roc_auc_score(y_test,Y_pred_xgb)\n",
    "print(xgb_auc)"
   ]
  },
  {
   "cell_type": "code",
   "execution_count": 142,
   "metadata": {},
   "outputs": [
    {
     "name": "stdout",
     "output_type": "stream",
     "text": [
      "gbdt+lr auc 2: 0.80278\n"
     ]
    }
   ],
   "source": [
    "lr = LogisticRegression(n_jobs=-1)\n",
    "X_train_ext = hstack([X_train_leaves, X_train])\n",
    "lr.fit(X_train_ext, y_train)\n",
    "X_test_ext = hstack([X_test_leaves, X_test])\n",
    "y_pred_gbdtlr2 = lr.predict_proba(X_test_ext)[:, 1]\n",
    "gbdtlr_auc2 = roc_auc_score(y_test, y_pred_gbdtlr2)\n",
    "print('gbdt+lr auc 2: %.5f' % gbdtlr_auc2)"
   ]
  },
  {
   "cell_type": "code",
   "execution_count": 275,
   "metadata": {},
   "outputs": [],
   "source": [
    "te=pd.read_csv('testing.csv')"
   ]
  },
  {
   "cell_type": "code",
   "execution_count": 276,
   "metadata": {},
   "outputs": [
    {
     "data": {
      "text/html": [
       "<div>\n",
       "<style>\n",
       "    .dataframe thead tr:only-child th {\n",
       "        text-align: right;\n",
       "    }\n",
       "\n",
       "    .dataframe thead th {\n",
       "        text-align: left;\n",
       "    }\n",
       "\n",
       "    .dataframe tbody tr th {\n",
       "        vertical-align: top;\n",
       "    }\n",
       "</style>\n",
       "<table border=\"1\" class=\"dataframe\">\n",
       "  <thead>\n",
       "    <tr style=\"text-align: right;\">\n",
       "      <th></th>\n",
       "      <th>Grant.Status</th>\n",
       "      <th>Sponsor.Code</th>\n",
       "      <th>Grant.Category.Code</th>\n",
       "      <th>Contract.Value.Band...see.note.A</th>\n",
       "      <th>Start.date</th>\n",
       "      <th>RFCD.Code.1</th>\n",
       "      <th>RFCD.Percentage.1</th>\n",
       "      <th>RFCD.Code.2</th>\n",
       "      <th>RFCD.Percentage.2</th>\n",
       "      <th>RFCD.Code.3</th>\n",
       "      <th>...</th>\n",
       "      <th>Dept.No..1</th>\n",
       "      <th>Faculty.No..1</th>\n",
       "      <th>With.PHD.1</th>\n",
       "      <th>No..of.Years.in.Uni.at.Time.of.Grant.1</th>\n",
       "      <th>Number.of.Successful.Grant.1</th>\n",
       "      <th>Number.of.Unsuccessful.Grant.1</th>\n",
       "      <th>A..1</th>\n",
       "      <th>A.1</th>\n",
       "      <th>B.1</th>\n",
       "      <th>C.1</th>\n",
       "    </tr>\n",
       "  </thead>\n",
       "  <tbody>\n",
       "    <tr>\n",
       "      <th>0</th>\n",
       "      <td>NaN</td>\n",
       "      <td>47.0</td>\n",
       "      <td>2.0</td>\n",
       "      <td>1.0</td>\n",
       "      <td>2009-01-01</td>\n",
       "      <td>NaN</td>\n",
       "      <td>NaN</td>\n",
       "      <td>NaN</td>\n",
       "      <td>NaN</td>\n",
       "      <td>NaN</td>\n",
       "      <td>...</td>\n",
       "      <td>2603.0</td>\n",
       "      <td>25.0</td>\n",
       "      <td>1.0</td>\n",
       "      <td>3.0</td>\n",
       "      <td>4.0</td>\n",
       "      <td>2.0</td>\n",
       "      <td>8.0</td>\n",
       "      <td>4.0</td>\n",
       "      <td>10.0</td>\n",
       "      <td>0.0</td>\n",
       "    </tr>\n",
       "    <tr>\n",
       "      <th>1</th>\n",
       "      <td>NaN</td>\n",
       "      <td>32.0</td>\n",
       "      <td>3.0</td>\n",
       "      <td>7.0</td>\n",
       "      <td>2009-01-01</td>\n",
       "      <td>270199.0</td>\n",
       "      <td>100.0</td>\n",
       "      <td>0.0</td>\n",
       "      <td>0.0</td>\n",
       "      <td>0.0</td>\n",
       "      <td>...</td>\n",
       "      <td>2828.0</td>\n",
       "      <td>25.0</td>\n",
       "      <td>0.0</td>\n",
       "      <td>3.0</td>\n",
       "      <td>5.0</td>\n",
       "      <td>3.0</td>\n",
       "      <td>4.0</td>\n",
       "      <td>5.0</td>\n",
       "      <td>5.0</td>\n",
       "      <td>0.0</td>\n",
       "    </tr>\n",
       "    <tr>\n",
       "      <th>2</th>\n",
       "      <td>NaN</td>\n",
       "      <td>99.0</td>\n",
       "      <td>3.0</td>\n",
       "      <td>10.0</td>\n",
       "      <td>2009-01-01</td>\n",
       "      <td>NaN</td>\n",
       "      <td>NaN</td>\n",
       "      <td>NaN</td>\n",
       "      <td>NaN</td>\n",
       "      <td>NaN</td>\n",
       "      <td>...</td>\n",
       "      <td>2853.0</td>\n",
       "      <td>25.0</td>\n",
       "      <td>1.0</td>\n",
       "      <td>5.0</td>\n",
       "      <td>0.0</td>\n",
       "      <td>2.0</td>\n",
       "      <td>9.0</td>\n",
       "      <td>34.0</td>\n",
       "      <td>22.0</td>\n",
       "      <td>20.0</td>\n",
       "    </tr>\n",
       "    <tr>\n",
       "      <th>3</th>\n",
       "      <td>NaN</td>\n",
       "      <td>2.0</td>\n",
       "      <td>1.0</td>\n",
       "      <td>8.0</td>\n",
       "      <td>2009-01-01</td>\n",
       "      <td>280204.0</td>\n",
       "      <td>60.0</td>\n",
       "      <td>280506.0</td>\n",
       "      <td>20.0</td>\n",
       "      <td>230119.0</td>\n",
       "      <td>...</td>\n",
       "      <td>2153.0</td>\n",
       "      <td>19.0</td>\n",
       "      <td>1.0</td>\n",
       "      <td>3.0</td>\n",
       "      <td>4.0</td>\n",
       "      <td>0.0</td>\n",
       "      <td>5.0</td>\n",
       "      <td>3.0</td>\n",
       "      <td>6.0</td>\n",
       "      <td>2.0</td>\n",
       "    </tr>\n",
       "    <tr>\n",
       "      <th>4</th>\n",
       "      <td>NaN</td>\n",
       "      <td>24.0</td>\n",
       "      <td>3.0</td>\n",
       "      <td>2.0</td>\n",
       "      <td>2009-01-01</td>\n",
       "      <td>320502.0</td>\n",
       "      <td>50.0</td>\n",
       "      <td>320703.0</td>\n",
       "      <td>50.0</td>\n",
       "      <td>0.0</td>\n",
       "      <td>...</td>\n",
       "      <td>2668.0</td>\n",
       "      <td>25.0</td>\n",
       "      <td>1.0</td>\n",
       "      <td>4.0</td>\n",
       "      <td>2.0</td>\n",
       "      <td>7.0</td>\n",
       "      <td>11.0</td>\n",
       "      <td>3.0</td>\n",
       "      <td>2.0</td>\n",
       "      <td>0.0</td>\n",
       "    </tr>\n",
       "  </tbody>\n",
       "</table>\n",
       "<p>5 rows × 39 columns</p>\n",
       "</div>"
      ],
      "text/plain": [
       "   Grant.Status  Sponsor.Code  Grant.Category.Code  \\\n",
       "0           NaN          47.0                  2.0   \n",
       "1           NaN          32.0                  3.0   \n",
       "2           NaN          99.0                  3.0   \n",
       "3           NaN           2.0                  1.0   \n",
       "4           NaN          24.0                  3.0   \n",
       "\n",
       "   Contract.Value.Band...see.note.A  Start.date  RFCD.Code.1  \\\n",
       "0                               1.0  2009-01-01          NaN   \n",
       "1                               7.0  2009-01-01     270199.0   \n",
       "2                              10.0  2009-01-01          NaN   \n",
       "3                               8.0  2009-01-01     280204.0   \n",
       "4                               2.0  2009-01-01     320502.0   \n",
       "\n",
       "   RFCD.Percentage.1  RFCD.Code.2  RFCD.Percentage.2  RFCD.Code.3  ...   \\\n",
       "0                NaN          NaN                NaN          NaN  ...    \n",
       "1              100.0          0.0                0.0          0.0  ...    \n",
       "2                NaN          NaN                NaN          NaN  ...    \n",
       "3               60.0     280506.0               20.0     230119.0  ...    \n",
       "4               50.0     320703.0               50.0          0.0  ...    \n",
       "\n",
       "   Dept.No..1  Faculty.No..1  With.PHD.1  \\\n",
       "0      2603.0           25.0         1.0   \n",
       "1      2828.0           25.0         0.0   \n",
       "2      2853.0           25.0         1.0   \n",
       "3      2153.0           19.0         1.0   \n",
       "4      2668.0           25.0         1.0   \n",
       "\n",
       "   No..of.Years.in.Uni.at.Time.of.Grant.1  Number.of.Successful.Grant.1  \\\n",
       "0                                     3.0                           4.0   \n",
       "1                                     3.0                           5.0   \n",
       "2                                     5.0                           0.0   \n",
       "3                                     3.0                           4.0   \n",
       "4                                     4.0                           2.0   \n",
       "\n",
       "   Number.of.Unsuccessful.Grant.1  A..1   A.1   B.1   C.1  \n",
       "0                             2.0   8.0   4.0  10.0   0.0  \n",
       "1                             3.0   4.0   5.0   5.0   0.0  \n",
       "2                             2.0   9.0  34.0  22.0  20.0  \n",
       "3                             0.0   5.0   3.0   6.0   2.0  \n",
       "4                             7.0  11.0   3.0   2.0   0.0  \n",
       "\n",
       "[5 rows x 39 columns]"
      ]
     },
     "execution_count": 276,
     "metadata": {},
     "output_type": "execute_result"
    }
   ],
   "source": [
    "te.head()"
   ]
  },
  {
   "cell_type": "code",
   "execution_count": 281,
   "metadata": {},
   "outputs": [],
   "source": [
    "X_test1=te.drop(['Grant.Status','Start.date'], axis=1)"
   ]
  },
  {
   "cell_type": "code",
   "execution_count": 279,
   "metadata": {},
   "outputs": [],
   "source": [
    "y_test1=te['Grant.Status']"
   ]
  },
  {
   "cell_type": "code",
   "execution_count": 286,
   "metadata": {},
   "outputs": [],
   "source": [
    "y_pred_te=xgb.predict(X_test1)"
   ]
  },
  {
   "cell_type": "code",
   "execution_count": 287,
   "metadata": {},
   "outputs": [
    {
     "data": {
      "text/plain": [
       "array([1, 0, 0, ..., 1, 1, 0])"
      ]
     },
     "execution_count": 287,
     "metadata": {},
     "output_type": "execute_result"
    }
   ],
   "source": [
    "y_pred_te"
   ]
  },
  {
   "cell_type": "code",
   "execution_count": 288,
   "metadata": {},
   "outputs": [],
   "source": [
    "test_df = pd.read_csv('/Users/garb47/2018HCIntern/datasets/unimelb_test.csv')"
   ]
  },
  {
   "cell_type": "code",
   "execution_count": 289,
   "metadata": {},
   "outputs": [],
   "source": [
    "submission = pd.DataFrame({\n",
    "    'Grant.Application.ID': test_df['Grant.Application.ID'],\n",
    "    'Survived': y_pred_te\n",
    "})\n",
    "submission.to_csv('grant.csv', index=False)"
   ]
  },
  {
   "cell_type": "code",
   "execution_count": null,
   "metadata": {},
   "outputs": [],
   "source": []
  }
 ],
 "metadata": {
  "kernelspec": {
   "display_name": "Python 3",
   "language": "python",
   "name": "python3"
  },
  "language_info": {
   "codemirror_mode": {
    "name": "ipython",
    "version": 3
   },
   "file_extension": ".py",
   "mimetype": "text/x-python",
   "name": "python",
   "nbconvert_exporter": "python",
   "pygments_lexer": "ipython3",
   "version": "3.6.3"
  }
 },
 "nbformat": 4,
 "nbformat_minor": 2
}
