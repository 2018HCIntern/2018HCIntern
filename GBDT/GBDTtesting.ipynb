{
 "cells": [
  {
   "cell_type": "code",
   "execution_count": 109,
   "metadata": {},
   "outputs": [],
   "source": [
    "import numpy as np\n",
    "import pandas as pd\n",
    "from xgboost import XGBClassifier\n",
    "\n",
    "from sklearn.preprocessing import OneHotEncoder\n",
    "from sklearn.preprocessing import StandardScaler\n",
    "from sklearn.cross_validation import train_test_split\n",
    "from sklearn.datasets import load_svmlight_file\n",
    "from sklearn.linear_model import LogisticRegression\n",
    "from sklearn.metrics import roc_curve, auc, roc_auc_score\n",
    "from sklearn.externals import joblib\n",
    "from sklearn.ensemble import GradientBoostingClassifier\n",
    "from sklearn.grid_search import GridSearchCV\n",
    "from sklearn.externals import joblib\n",
    "from sklearn.svm import SVC, LinearSVC\n",
    "from sklearn.neighbors import KNeighborsClassifier\n",
    "from sklearn.ensemble import RandomForestClassifier\n",
    "from sklearn.naive_bayes import GaussianNB\n",
    "from sklearn.linear_model import SGDClassifier\n",
    "from sklearn.linear_model import Perceptron\n",
    "from sklearn.naive_bayes import GaussianNB\n",
    "import matplotlib.pyplot as plt\n",
    "import numpy as np\n",
    "import pandas as pd\n",
    "from scipy.sparse import csr_matrix\n",
    "from scipy.sparse import hstack\n",
    "import time, os, random, sys\n",
    "import math\n",
    "import hyperopt.tpe\n",
    "import hpsklearn.components\n",
    "import hpsklearn.demo_support\n",
    "import warnings\n",
    "warnings.filterwarnings('ignore')\n",
    "np.random.seed(1)"
   ]
  },
  {
   "cell_type": "code",
   "execution_count": 110,
   "metadata": {},
   "outputs": [],
   "source": [
    "example = pd.read_csv('example.csv')"
   ]
  },
  {
   "cell_type": "code",
   "execution_count": 236,
   "metadata": {},
   "outputs": [],
   "source": [
    "train_df, test_df = train_test_split(example, train_size = 0.8)\n",
    "X_train = train_df.drop([ 'Grant.Status'], axis=1)\n",
    "y_train = train_df['Grant.Status']\n",
    "X_test = test_df.drop([ 'Grant.Status'], axis=1)\n",
    "y_test = test_df['Grant.Status']"
   ]
  },
  {
   "cell_type": "code",
   "execution_count": 228,
   "metadata": {},
   "outputs": [],
   "source": [
    "gbclf = GradientBoostingClassifier(n_estimators=30, max_depth=7, verbose=0,learning_rate=0.001,random_state=10)\n",
    "gbclf.fit(X_train,y_train)\n",
    "X_train_leaves = gbclf.apply(X_train)[:,:,0]\n",
    "(train_rows, cols) = X_train_leaves.shape\n",
    "gbclf.fit(X_test,y_test)\n",
    "X_test_leaves = gbclf.apply(X_test)[:,:,0]"
   ]
  },
  {
   "cell_type": "code",
   "execution_count": 229,
   "metadata": {},
   "outputs": [
    {
     "name": "stdout",
     "output_type": "stream",
     "text": [
      "gbdt+lr auc 1: 0.70611\n"
     ]
    }
   ],
   "source": [
    "lr = LogisticRegression(penalty='l1')\n",
    "lr.fit(X_train_leaves, y_train)\n",
    "y_pred_gbdtlr1 = lr.predict(X_test_leaves)\n",
    "gbdtlr_auc1 = roc_auc_score(y_test, y_pred_gbdtlr1)\n",
    "print('gbdt+lr auc 1: %.5f' % gbdtlr_auc1)"
   ]
  },
  {
   "cell_type": "code",
   "execution_count": 237,
   "metadata": {},
   "outputs": [],
   "source": [
    "X_train_leaves=gbclf.apply(X_train)[:,:,0]\n",
    "X_test_leaves=gbclf.apply(X_test)[:,:,0]"
   ]
  },
  {
   "cell_type": "code",
   "execution_count": 238,
   "metadata": {},
   "outputs": [
    {
     "name": "stdout",
     "output_type": "stream",
     "text": [
      "5794\n",
      "30\n",
      "gbdt+lr auc 1: 0.70217\n"
     ]
    }
   ],
   "source": [
    "print(len(X_train_leaves))\n",
    "print(len(X_train_leaves[0]))\n",
    "y_pred_gbdtlr1 = lr.predict(X_test_leaves)\n",
    "gbdtlr_auc1 = roc_auc_score(y_test, y_pred_gbdtlr1)\n",
    "print('gbdt+lr auc 1: %.5f' % gbdtlr_auc1)"
   ]
  },
  {
   "cell_type": "code",
   "execution_count": 52,
   "metadata": {},
   "outputs": [
    {
     "name": "stdout",
     "output_type": "stream",
     "text": [
      "0.930927618648\n"
     ]
    }
   ],
   "source": [
    "gbc=GradientBoostingClassifier()\n",
    "gbc.fit(X_train,y_train)\n",
    "y_pred=gbc.predict_proba(X_test)[:,1]\n",
    "auc=roc_auc_score(y_test,y_pred)\n",
    "print(auc)"
   ]
  },
  {
   "cell_type": "code",
   "execution_count": 53,
   "metadata": {},
   "outputs": [
    {
     "name": "stdout",
     "output_type": "stream",
     "text": [
      "0.932776749423\n"
     ]
    }
   ],
   "source": [
    "xgb=XGBClassifier()\n",
    "xgb.fit(X_train,y_train)\n",
    "y_pred_xgb=xgb.predict_proba(X_test)[:,1]\n",
    "auc=roc_auc_score(y_test,y_pred_xgb)\n",
    "print(auc)"
   ]
  },
  {
   "cell_type": "code",
   "execution_count": 135,
   "metadata": {},
   "outputs": [
    {
     "name": "stdout",
     "output_type": "stream",
     "text": [
      "NB auc:  0.657571872229\n"
     ]
    }
   ],
   "source": [
    "gnb= GaussianNB()\n",
    "gnb.fit(X_train_leaves, y_train)\n",
    "Y_pred_nb=gnb.predict_proba(X_test_leaves)[:,1]\n",
    "gnb_auc = roc_auc_score(y_test,Y_pred_nb)\n",
    "print('NB auc: ', gnb_auc)"
   ]
  },
  {
   "cell_type": "code",
   "execution_count": 136,
   "metadata": {},
   "outputs": [
    {
     "name": "stdout",
     "output_type": "stream",
     "text": [
      "SVC auc: 0.65157\n"
     ]
    }
   ],
   "source": [
    "svc=SVC(probability=True)\n",
    "\n",
    "svc.fit(X_train_leaves, y_train)\n",
    "Y_pred_svc=svc.predict_proba(X_test_leaves)[:,1]\n",
    "svc_auc=roc_auc_score(y_test,Y_pred_svc)\n",
    "print('SVC auc: %.5f' % svc_auc)"
   ]
  },
  {
   "cell_type": "code",
   "execution_count": 137,
   "metadata": {},
   "outputs": [
    {
     "name": "stdout",
     "output_type": "stream",
     "text": [
      "KNN auc : 0.80715\n"
     ]
    }
   ],
   "source": [
    "knn=KNeighborsClassifier(n_neighbors = 3)\n",
    "knn.fit(X_train_leaves, y_train)\n",
    "Y_pred_knn=knn.predict_proba(X_test_leaves)[:,1]\n",
    "knn_auc=roc_auc_score(y_test,Y_pred_knn)\n",
    "print('KNN auc : %.5f' % knn_auc)"
   ]
  },
  {
   "cell_type": "code",
   "execution_count": 138,
   "metadata": {},
   "outputs": [
    {
     "name": "stdout",
     "output_type": "stream",
     "text": [
      "Perceptron auc :  0.633917089256\n"
     ]
    }
   ],
   "source": [
    "#perceptron\n",
    "perceptron = Perceptron()\n",
    "perceptron.fit(X_train_leaves, y_train)\n",
    "Y_pred_prec=perceptron.predict(X_test_leaves)\n",
    "perc_auc=roc_auc_score(y_test,Y_pred_prec)\n",
    "print('Perceptron auc : ', perc_auc)"
   ]
  },
  {
   "cell_type": "code",
   "execution_count": 139,
   "metadata": {},
   "outputs": [
    {
     "name": "stdout",
     "output_type": "stream",
     "text": [
      "Linear SVC auc :  0.51237250333\n"
     ]
    }
   ],
   "source": [
    "#linear svc\n",
    "lin = LinearSVC()\n",
    "lin.fit(X_train_leaves, y_train)\n",
    "Y_pred_lin=lin.predict(X_test_leaves)\n",
    "lin_auc=roc_auc_score(y_test,Y_pred_lin)\n",
    "print('Linear SVC auc : ', lin_auc)"
   ]
  },
  {
   "cell_type": "code",
   "execution_count": 140,
   "metadata": {},
   "outputs": [
    {
     "name": "stdout",
     "output_type": "stream",
     "text": [
      "SGD auc : 0.73946\n"
     ]
    }
   ],
   "source": [
    "#SGD\n",
    "sgd = SGDClassifier(loss='log')\n",
    "sgd.fit(X_train_leaves, y_train)\n",
    "Y_pred_sgd=sgd.predict_proba(X_test_leaves)[:, 1]\n",
    "sgd_auc=roc_auc_score(y_test,Y_pred_sgd)\n",
    "print('SGD auc : %.5f' % sgd_auc)"
   ]
  },
  {
   "cell_type": "code",
   "execution_count": 141,
   "metadata": {},
   "outputs": [
    {
     "name": "stdout",
     "output_type": "stream",
     "text": [
      "0.633002491391\n"
     ]
    }
   ],
   "source": [
    "#XGB\n",
    "\n",
    "xgb=XGBClassifier()\n",
    "xgb.fit(X_train_leaves,y_train)\n",
    "Y_pred_xgb=xgb.predict(X_test_leaves)\n",
    "xgb_auc= roc_auc_score(y_test,Y_pred_xgb)\n",
    "print(xgb_auc)"
   ]
  },
  {
   "cell_type": "code",
   "execution_count": 142,
   "metadata": {},
   "outputs": [
    {
     "name": "stdout",
     "output_type": "stream",
     "text": [
      "gbdt+lr auc 2: 0.80278\n"
     ]
    }
   ],
   "source": [
    "lr = LogisticRegression(n_jobs=-1)\n",
    "X_train_ext = hstack([X_train_leaves, X_train])\n",
    "lr.fit(X_train_ext, y_train)\n",
    "X_test_ext = hstack([X_test_leaves, X_test])\n",
    "y_pred_gbdtlr2 = lr.predict_proba(X_test_ext)[:, 1]\n",
    "gbdtlr_auc2 = roc_auc_score(y_test, y_pred_gbdtlr2)\n",
    "print('gbdt+lr auc 2: %.5f' % gbdtlr_auc2)"
   ]
  },
  {
   "cell_type": "code",
   "execution_count": 68,
   "metadata": {},
   "outputs": [],
   "source": [
    "example=pd.read_csv('train_preprocessed2.csv')"
   ]
  },
  {
   "cell_type": "code",
   "execution_count": 348,
   "metadata": {},
   "outputs": [],
   "source": [
    "pd.set_option('display.max_columns', 500)\n",
    "pd.set_option('display.max_rows', 1500)"
   ]
  },
  {
   "cell_type": "code",
   "execution_count": null,
   "metadata": {},
   "outputs": [],
   "source": []
  }
 ],
 "metadata": {
  "kernelspec": {
   "display_name": "Python 3",
   "language": "python",
   "name": "python3"
  },
  "language_info": {
   "codemirror_mode": {
    "name": "ipython",
    "version": 3
   },
   "file_extension": ".py",
   "mimetype": "text/x-python",
   "name": "python",
   "nbconvert_exporter": "python",
   "pygments_lexer": "ipython3",
   "version": "3.6.3"
  }
 },
 "nbformat": 4,
 "nbformat_minor": 2
}
