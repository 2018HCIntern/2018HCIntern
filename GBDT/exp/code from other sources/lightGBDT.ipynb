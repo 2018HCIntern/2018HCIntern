{
 "cells": [
  {
   "cell_type": "code",
   "execution_count": 15,
   "metadata": {},
   "outputs": [],
   "source": [
    "# coding: utf-8\n",
    "# pylint: disable = invalid-name, C0111\n",
    "from __future__ import division\n",
    "import json\n",
    "import lightgbm as lgb\n",
    "import pandas as pd\n",
    "import numpy as np\n",
    "from sklearn.metrics import mean_squared_error\n",
    "from sklearn.linear_model import LogisticRegression\n",
    "from sklearn.cross_validation import train_test_split\n",
    "from sklearn.metrics import roc_curve, auc, roc_auc_score\n",
    "import warnings\n",
    "warnings.filterwarnings('ignore')"
   ]
  },
  {
   "cell_type": "code",
   "execution_count": 38,
   "metadata": {},
   "outputs": [
    {
     "name": "stdout",
     "output_type": "stream",
     "text": [
      "Start training...\n",
      "Writing transformed training data\n",
      "Writing transformed testing data\n",
      "auc: 0.92528\n",
      "auc: 0.93026\n",
      "auc: 0.93732\n",
      "auc: 0.93840\n",
      "auc: 0.93633\n",
      "auc: 0.93464\n",
      "auc: 0.93068\n"
     ]
    }
   ],
   "source": [
    "\n",
    "example=pd.read_csv('example.csv')\n",
    "\n",
    "\n",
    "train_df, test_df = train_test_split(example, train_size = 0.8)\n",
    "X_train = train_df.drop([ 'Grant.Status'], axis=1)\n",
    "y_train = train_df['Grant.Status']\n",
    "X_test = test_df.drop([ 'Grant.Status'], axis=1)\n",
    "y_test = test_df['Grant.Status']\n",
    "\n",
    "# create dataset for lightgbm\n",
    "lgb_train = lgb.Dataset(X_train, y_train)\n",
    "lgb_eval = lgb.Dataset(X_test, y_test, reference=lgb_train)\n",
    "   \n",
    "# specify your configurations as a dict\n",
    "params = {\n",
    "    'task': 'train',\n",
    "    'boosting_type': 'gbdt',\n",
    "    'objective': 'binary',\n",
    "    'metric': {'binary_logloss'},\n",
    "    'num_leaves': 63,\n",
    "    'num_trees': 30,\n",
    "    'learning_rate': 0.01,\n",
    "    'feature_fraction': 0.9,\n",
    "    'bagging_fraction': 0.8,\n",
    "    'bagging_freq': 5,\n",
    "    'verbose': 0\n",
    "}\n",
    "\n",
    "# number of leaves,will be used in feature transformation\n",
    "num_leaf = 63\n",
    "\n",
    "\n",
    "print('Start training...')\n",
    "# train\n",
    "gbm = lgb.train(params,\n",
    "                lgb_train,\n",
    "                num_boost_round=100,\n",
    "                valid_sets=lgb_train,\n",
    "               verbose_eval=False)\n",
    "\n",
    "\n",
    "y_pred = gbm.predict(X_train,pred_leaf=True)\n",
    "\n",
    "# feature transformation and write result\n",
    "print('Writing transformed training data')\n",
    "transformed_training_matrix = np.zeros([len(y_pred),len(y_pred[0]) * num_leaf],dtype=np.int64)\n",
    "for i in range(0,len(y_pred)):\n",
    "    temp = np.arange(len(y_pred[0])) * num_leaf - 1 + np.array(y_pred[i])\n",
    "    transformed_training_matrix[i][temp] += 1\n",
    "\n",
    "    \n",
    "y_pred = gbm.predict(X_test,pred_leaf=True)\n",
    "\n",
    "# feature transformation and write result\n",
    "print('Writing transformed testing data')\n",
    "transformed_testing_matrix = np.zeros([len(y_pred),len(y_pred[0]) * num_leaf],dtype=np.int64)\n",
    "for i in range(0,len(y_pred)):\n",
    "    temp = np.arange(len(y_pred[0])) * num_leaf - 1 + np.array(y_pred[i])\n",
    "    transformed_testing_matrix[i][temp] += 1\n",
    "\n",
    "c = np.array([1,0.5,0.1,0.05,0.01,0.005,0.001])\n",
    "for t in range(0,len(c)):\n",
    "    lm = LogisticRegression(penalty='l2',C=c[t]) # logestic model construction\n",
    "    lm.fit(transformed_training_matrix,y_train)  # fitting the data\n",
    "\n",
    "    y_pred_est = lm.predict_proba(transformed_testing_matrix)   # Give the probabilty on each label\n",
    "\n",
    "    auc=roc_auc_score(y_test, y_pred_est[:,1])\n",
    "    print('auc: %.5f' %auc)\n"
   ]
  },
  {
   "cell_type": "code",
   "execution_count": 33,
   "metadata": {},
   "outputs": [
    {
     "data": {
      "text/plain": [
       "1449"
      ]
     },
     "execution_count": 33,
     "metadata": {},
     "output_type": "execute_result"
    }
   ],
   "source": [
    "len(y_pred)"
   ]
  },
  {
   "cell_type": "code",
   "execution_count": null,
   "metadata": {},
   "outputs": [],
   "source": []
  }
 ],
 "metadata": {
  "kernelspec": {
   "display_name": "Python 3",
   "language": "python",
   "name": "python3"
  },
  "language_info": {
   "codemirror_mode": {
    "name": "ipython",
    "version": 3
   },
   "file_extension": ".py",
   "mimetype": "text/x-python",
   "name": "python",
   "nbconvert_exporter": "python",
   "pygments_lexer": "ipython3",
   "version": "3.6.3"
  }
 },
 "nbformat": 4,
 "nbformat_minor": 2
}
