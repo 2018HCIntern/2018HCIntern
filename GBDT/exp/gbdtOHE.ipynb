{
 "cells": [
  {
   "cell_type": "code",
   "execution_count": 27,
   "metadata": {},
   "outputs": [],
   "source": [
    "import numpy as np\n",
    "import pandas as pd\n",
    "import lightgbm as lgb\n",
    "from xgboost import XGBClassifier\n",
    "\n",
    "from sklearn.preprocessing import OneHotEncoder\n",
    "from sklearn.preprocessing import StandardScaler\n",
    "from sklearn.cross_validation import train_test_split\n",
    "from sklearn.datasets import load_svmlight_file\n",
    "from sklearn.linear_model import LogisticRegression\n",
    "from sklearn.metrics import roc_curve, auc, roc_auc_score\n",
    "from sklearn.externals import joblib\n",
    "from sklearn.ensemble import GradientBoostingClassifier\n",
    "from sklearn.grid_search import GridSearchCV\n",
    "from sklearn.externals import joblib\n",
    "from sklearn.svm import SVC, LinearSVC\n",
    "from sklearn.neighbors import KNeighborsClassifier\n",
    "from sklearn.ensemble import RandomForestClassifier\n",
    "from sklearn.naive_bayes import GaussianNB\n",
    "from sklearn.linear_model import SGDClassifier\n",
    "from sklearn.linear_model import Perceptron\n",
    "from sklearn.naive_bayes import GaussianNB\n",
    "import matplotlib.pyplot as plt\n",
    "import numpy as np\n",
    "import pandas as pd\n",
    "from scipy.sparse import csr_matrix\n",
    "from scipy.sparse import hstack\n",
    "import time, os, random, sys\n",
    "import math\n",
    "import hyperopt.tpe\n",
    "import hpsklearn.components\n",
    "import hpsklearn.demo_support\n",
    "import warnings\n",
    "warnings.filterwarnings('ignore')\n",
    "np.random.seed(1)"
   ]
  },
  {
   "cell_type": "code",
   "execution_count": 39,
   "metadata": {},
   "outputs": [],
   "source": [
    "def get_leaf_indices(ensemble, x):\n",
    "    x = x.astype(np.float32)\n",
    "    trees = ensemble.estimators_\n",
    "    n_trees = trees.shape[0]\n",
    "    indices = []\n",
    "\n",
    "    for i in range(n_trees):\n",
    "        tree = trees[i][0].tree_\n",
    "        indices.append(tree.apply(x))\n",
    "\n",
    "    indices = np.column_stack(indices)\n",
    "    return indices\n",
    "\n",
    "def gbdt_lr_train_test(File):\n",
    "    #GBDT\n",
    "    start = time.clock()\n",
    "    train_df, test_df = train_test_split(File, train_size = 0.8)\n",
    "    X_train = train_df.drop(train_df.columns[0], axis=1)\n",
    "    y_train = train_df[train_df.columns[0]]\n",
    "    X_test = test_df.drop(test_df.columns[0], axis=1)\n",
    "    y_test = test_df[test_df.columns[0]]\n",
    "  \n",
    "    gbclf = GradientBoostingClassifier(n_estimators=20, max_depth=4, verbose=0)\n",
    "    tuned_parameter = [{'n_estimators':[20,30,40,50], 'max_depth':[5, 6, 7, 8], 'max_features':[0.5]}]\n",
    "    gs_clf = GridSearchCV(gbclf, tuned_parameter, cv=5, scoring='roc_auc')\n",
    "    gs_clf.fit(X_train, y_train)\n",
    "    print('best parameters set found: ')\n",
    "    print(gs_clf.best_params_)\n",
    "    \n",
    "    y_pred_gbdt = gs_clf.predict_proba(X_test)[:, 1]\n",
    "    gbdt_auc = roc_auc_score(y_test, y_pred_gbdt)\n",
    "    print('GBDT AUC: %.5f' % gbdt_auc)\n",
    "    \n",
    "    gbclf=GradientBoostingClassifier(**gs_clf.best_params_)\n",
    "    gbclf.fit(X_train,y_train)\n",
    "    leaf = get_leaf_indices\n",
    "    X_train_leaves=leaf(gbclf,X_train.values)\n",
    "    (train_rows, cols) = X_train_leaves.shape\n",
    "    X_test_leaves=leaf(gbclf,X_test.values)\n",
    "    gbdtenc = OneHotEncoder()\n",
    "    X_trans = gbdtenc.fit_transform(np.concatenate((X_train_leaves, X_test_leaves), axis=0))\n",
    "    \n",
    "    #GBDT+LR\n",
    "    lr = LogisticRegression()\n",
    "    lr.fit(X_trans[:train_rows,:], y_train)\n",
    "    y_pred_gbdtlr1 = lr.predict(X_trans[train_rows:,:])\n",
    "    gbdtlr_auc1 = roc_auc_score(y_test, y_pred_gbdtlr1)\n",
    "    print('GBDT + LR AUC 1: %.5f' % gbdtlr_auc1)\n",
    "    \n",
    "    lr = LogisticRegression(n_jobs=-1)\n",
    "    X_train_ext = hstack([X_trans[:train_rows,:], X_train])\n",
    "    lr.fit(X_train_ext, y_train)\n",
    "    X_test_ext = hstack([X_trans[train_rows:, :], X_test])\n",
    "    y_pred_gbdtlr2 = lr.predict(X_test_ext)\n",
    "    gbdtlr_auc2 = roc_auc_score(y_test, y_pred_gbdtlr2)\n",
    "    print('GBDT + LR AUC 2: %.5f' % gbdtlr_auc2)\n",
    "    f_time =time.clock()-start\n",
    "    print('GBDT time taken: %.2f'% f_time)\n",
    "    \n",
    "    '''#+NB\n",
    "    gnb= GaussianNB()\n",
    "    gnb.fit(X_train_leaves, y_train)\n",
    "    Y_pred_nb=gbn.predic(X_test_leaves)\n",
    "    gnb_auc = roc_auc_score(y_test,Y_pred_nb)\n",
    "    print('NB auc: ', gnb_auc)'''\n",
    "    start = time.clock()\n",
    "    \n",
    "    #svc\n",
    "    svc=SVC(probability=True)\n",
    "    svc.fit(X_trans[:train_rows, :], y_train)\n",
    "    Y_pred_svc=svc.predict(X_trans[train_rows:,:])\n",
    "    svc_auc=roc_auc_score(y_test,Y_pred_svc)\n",
    "    print('GBDT + SVC auc: %.5f' % svc_auc)\n",
    "    svc.fit(X_train_ext, y_train)\n",
    "    y_pred_svc2=svc.predict(X_test_ext)\n",
    "    svc_auc2=roc_auc_score(y_test,y_pred_svc2)\n",
    "    print('GBDT + SVC auc2: %.5f' % svc_auc2)\n",
    "    \n",
    "    #KNN\n",
    "    knn=KNeighborsClassifier(n_neighbors = 3)\n",
    "    knn.fit(X_trans[:train_rows, :], y_train)\n",
    "    Y_pred_knn=knn.predict(X_trans[train_rows:,:])\n",
    "    knn_auc=roc_auc_score(y_test,Y_pred_knn)\n",
    "    print('GBDT + KNN auc : %.5f' % knn_auc)\n",
    "    knn.fit(X_train_ext, y_train)\n",
    "    y_pred_knn2=knn.predict(X_test_ext)\n",
    "    knn_auc2=roc_auc_score(y_test,y_pred_knn2)\n",
    "    print('GBDT + KNN auc2: %.5f' % knn_auc2)\n",
    "    \n",
    "    '''#perceptron\n",
    "    perceptron = Perceptron()\n",
    "    perceptron.fit(X_trans[:train_rows, :], y_train)\n",
    "    Y_pred_prec=perceptron.predict(X_trans[train_rows:, :])[:, 1]\n",
    "    perc_auc=roc_auc_score(y_test,Y_pred_prec)\n",
    "    print('Perceptron auc : ', perc_auc)'''\n",
    "    \n",
    "    '''#linear svc\n",
    "    lin = LinearSVC()\n",
    "    lin.fit(X_trans[:train_rows, :], y_train)\n",
    "    Y_pred_lin=lin.predict(X_trans[train_rows:, :])[:, 1]\n",
    "    lin_auc=roc_auc_score(y_test,Y_pred_lin)\n",
    "    print('Linear SVC auc : ', lin_auc)'''\n",
    "    \n",
    "    #SGD\n",
    "    sgd = SGDClassifier(loss='log')\n",
    "    sgd.fit(X_trans[:train_rows, :], y_train)\n",
    "    Y_pred_sgd=sgd.predict_proba(X_trans[train_rows:, :])[:, 1]\n",
    "    sgd_auc=roc_auc_score(y_test,Y_pred_sgd)\n",
    "    print('GBDT + SGD auc : %.5f' % sgd_auc)\n",
    "    \n",
    "    sgd.fit(X_train_ext, y_train)\n",
    "    Y_pred_sgd2=sgd.predict_proba(X_test_ext)[:, 1]\n",
    "    sgd_auc2=roc_auc_score(y_test,Y_pred_sgd2)\n",
    "    print('GBDT + SGD auc2 : %.5f' % sgd_auc2)\n",
    "    f_time =time.clock()-start\n",
    "    print('GBDT + other classfier time taken: %.2f'% f_time)    \n",
    "    \n",
    "    #XGB\n",
    "    start = time.clock()\n",
    "    xgb=XGBClassifier()\n",
    "    xgb.fit(X_train,y_train)\n",
    "    Y_pred_xgb=xgb.predict_proba(X_test)[:,1]\n",
    "    xgb_auc= roc_auc_score(y_test,Y_pred_xgb)\n",
    "    print('XGB auc : %.5f' % xgb_auc)\n",
    "    \n",
    "    #XGB with leaves\n",
    "\n",
    "    xgb.fit(X_trans[:train_rows,:],y_train)\n",
    "    Y_pred_xgb=xgb.predict(X_trans[train_rows:,:])\n",
    "    xgb_auc= roc_auc_score(y_test,Y_pred_xgb)\n",
    "    print('GBDT + XGB auc: %.5f' % xgb_auc)\n",
    "    \n",
    "    #XGB with features ext\n",
    "    \n",
    "    xgb.fit(X_train_ext, y_train)\n",
    "    y_pred_xgb2=xgb.predict(X_test_ext)\n",
    "    xgb_auc2=roc_auc_score(y_test,y_pred_xgb2)\n",
    "    print('GBDT + XGB auc2: %.5f' %xgb_auc2)\n",
    "    \n",
    "    f_time =time.clock()-start\n",
    "    print('XGB time taken: %.2f'% f_time)\n",
    "    \n",
    "    #lightGBM\n",
    "    start = time.clock()\n",
    "    lgb_train = lgb.Dataset(X_train, y_train)\n",
    "    lgb_eval = lgb.Dataset(X_test, y_test, reference=lgb_train)\n",
    "    \n",
    "    \n",
    "    \n",
    "    # specify your configurations as a dict\n",
    "    params = {\n",
    "    'task': 'train',\n",
    "    'boosting_type': 'gbdt',\n",
    "    'objective': 'regression',\n",
    "    'metric': {'l2', 'auc'},\n",
    "    'num_leaves': 31,\n",
    "    'learning_rate': 0.05,\n",
    "    'feature_fraction': 0.9,\n",
    "    'bagging_fraction': 0.8,\n",
    "    'bagging_freq': 5,\n",
    "    'verbose': 0\n",
    "    \n",
    "    }\n",
    "\n",
    "    # train\n",
    "    gbm = lgb.train(params,\n",
    "                    lgb_train,\n",
    "                    num_boost_round=20,\n",
    "                    valid_sets=lgb_eval,\n",
    "                    early_stopping_rounds=5,\n",
    "                    verbose_eval=False)\n",
    "\n",
    "\n",
    "\n",
    "    y_pred_lgb = gbm.predict(X_test, num_iteration=gbm.best_iteration)\n",
    "    # eval\n",
    "    lgb_auc=roc_auc_score(y_test,y_pred_lgb)\n",
    "    print('lightGBM auc : %.5f' % lgb_auc)\n",
    "    \n",
    "    lgb_train=lgb.Dataset(X_trans[:train_rows,:], y_train)\n",
    "    lgb_eval=lgb.Dataset(X_trans[train_rows:,:], y_test, reference=lgb_train)\n",
    "    gbm = lgb.train(params,\n",
    "                  lgb_train,\n",
    "                    num_boost_round=20,\n",
    "                    valid_sets=lgb_eval,\n",
    "                    early_stopping_rounds=5,\n",
    "                   verbose_eval=False)\n",
    "    y_pred_lgb2 =gbm.predict(X_trans[train_rows:,:], num_iteration=gbm.best_iteration)\n",
    "    lgb_auc2=roc_auc_score(y_test, y_pred_lgb2)\n",
    "    \n",
    "    print('GBDT + lightGBM auc : %.5f' % lgb_auc2)\n",
    "    \n",
    "    lgb_train=lgb.Dataset(X_train_ext, y_train)\n",
    "    lgb_eval=lgb.Dataset(X_test_ext, y_test, reference=lgb_train)\n",
    "    gbm = lgb.train(params,\n",
    "                  lgb_train,\n",
    "                    num_boost_round=20,\n",
    "                    valid_sets=lgb_eval,\n",
    "                    early_stopping_rounds=5,\n",
    "                   verbose_eval=False)\n",
    "    y_pred_lgb3 =gbm.predict(X_test_ext, num_iteration=gbm.best_iteration)\n",
    "    lgb_auc3=roc_auc_score(y_test, y_pred_lgb3)\n",
    "    \n",
    "    print('GBDT + lightGBM auc2 : %.5f' % lgb_auc3)\n",
    "    \n",
    "    \n",
    "    f_time=time.clock()-start\n",
    "    print('lightGBM time taken: %.2f'% f_time)"
   ]
  },
  {
   "cell_type": "code",
   "execution_count": 5,
   "metadata": {},
   "outputs": [],
   "source": [
    "example = pd.read_csv('example.csv')"
   ]
  },
  {
   "cell_type": "code",
   "execution_count": 68,
   "metadata": {},
   "outputs": [
    {
     "name": "stdout",
     "output_type": "stream",
     "text": [
      "best parameters set found: \n",
      "{'max_depth': 6, 'max_features': 0.7, 'n_estimators': 60}\n",
      "gbdt auc: 0.93692\n",
      "gbdt+lr auc 1: 0.78679\n",
      "gbdt+lr auc 2: 0.55240\n",
      "GBDT time taken:  104.3263780000002\n",
      "XGB auc :  0.855922788101\n",
      "XGB time taken:  0.7697490000000471\n"
     ]
    }
   ],
   "source": [
    "gbdt_lr_train_test(example) #GBDT build up & trial 1"
   ]
  },
  {
   "cell_type": "code",
   "execution_count": 69,
   "metadata": {},
   "outputs": [
    {
     "name": "stdout",
     "output_type": "stream",
     "text": [
      "best parameters set found: \n",
      "{'max_depth': 6, 'max_features': 0.5, 'n_estimators': 60}\n",
      "gbdt auc: 0.94193\n",
      "gbdt+lr auc 1: 0.78375\n",
      "gbdt+lr auc 2: 0.58599\n",
      "GBDT time taken:  103.21583099999998\n",
      "XGB auc :  0.860663462535\n",
      "XGB time taken:  0.7435100000002421\n"
     ]
    }
   ],
   "source": [
    "gbdt_lr_train_test(example) # GBDT trial 2"
   ]
  },
  {
   "cell_type": "code",
   "execution_count": 70,
   "metadata": {},
   "outputs": [
    {
     "name": "stdout",
     "output_type": "stream",
     "text": [
      "best parameters set found: \n",
      "{'max_depth': 6, 'max_features': 0.7, 'n_estimators': 60}\n",
      "gbdt auc: 0.94117\n",
      "gbdt+lr auc 1: 0.60895\n",
      "gbdt+lr auc 2: 0.56951\n",
      "GBDT time taken:  108.03956199999993\n",
      "XGB auc :  0.865814311764\n",
      "XGB time taken:  0.742572999999993\n"
     ]
    }
   ],
   "source": [
    "gbdt_lr_train_test(example) # GBDT trial 3"
   ]
  },
  {
   "cell_type": "code",
   "execution_count": 99,
   "metadata": {},
   "outputs": [
    {
     "name": "stdout",
     "output_type": "stream",
     "text": [
      "best parameters set found: \n",
      "{'max_depth': 6, 'max_features': 0.5, 'n_estimators': 50}\n",
      "gbdt auc: 0.93359\n",
      "gbdt+lr auc 1: 0.25407\n",
      "gbdt+lr auc 2: 0.60878\n",
      "GBDT time taken:  102.75081399999999\n",
      "SVC auc:  0.848760550543\n",
      "KNN auc :  0.812629248939\n",
      "SGD auc :  0.243075129057\n",
      "other classfier time taken:  110.75349000000006\n",
      "XGB auc :  0.847886444754\n",
      "XGB time taken:  0.7494470000001456\n"
     ]
    }
   ],
   "source": [
    "gbdt_lr_train_test(example) # GBDT + other classifier & trial 1"
   ]
  },
  {
   "cell_type": "code",
   "execution_count": 100,
   "metadata": {},
   "outputs": [
    {
     "name": "stdout",
     "output_type": "stream",
     "text": [
      "best parameters set found: \n",
      "{'max_depth': 6, 'max_features': 0.7, 'n_estimators': 60}\n",
      "gbdt auc: 0.94057\n",
      "gbdt+lr auc 1: 0.70105\n",
      "gbdt+lr auc 2: 0.57825\n",
      "GBDT time taken:  103.17751399999997\n",
      "SVC auc:  0.682340892043\n",
      "KNN auc :  0.730245417652\n",
      "SGD auc :  0.628413440271\n",
      "other classfier time taken:  112.02526200000011\n",
      "XGB auc :  0.8586925163\n",
      "XGB time taken:  0.7487710000000334\n"
     ]
    }
   ],
   "source": [
    "gbdt_lr_train_test(example) # trial 2"
   ]
  },
  {
   "cell_type": "code",
   "execution_count": 101,
   "metadata": {},
   "outputs": [
    {
     "name": "stdout",
     "output_type": "stream",
     "text": [
      "best parameters set found: \n",
      "{'max_depth': 6, 'max_features': 0.5, 'n_estimators': 60}\n",
      "gbdt auc: 0.93655\n",
      "gbdt+lr auc 1: 0.78378\n",
      "gbdt+lr auc 2: 0.56882\n",
      "GBDT time taken:  109.79684799999995\n",
      "SVC auc:  0.774571556096\n",
      "KNN auc :  0.797352959283\n",
      "SGD auc :  0.723399732199\n",
      "other classfier time taken:  118.22488999999996\n",
      "XGB auc :  0.845128206115\n",
      "XGB time taken:  0.7863509999997405\n"
     ]
    }
   ],
   "source": [
    "gbdt_lr_train_test(example) # trial 3"
   ]
  },
  {
   "cell_type": "code",
   "execution_count": 103,
   "metadata": {},
   "outputs": [
    {
     "name": "stdout",
     "output_type": "stream",
     "text": [
      "best parameters set found: \n",
      "{'max_depth': 6, 'max_features': 0.5, 'n_estimators': 50}\n",
      "gbdt auc: 0.93189\n",
      "gbdt+lr auc 1: 0.74161\n",
      "gbdt+lr auc 2: 0.67170\n",
      "GBDT time taken: 106.68\n",
      "SVC auc: 0.85464\n",
      "KNN auc : 0.77898\n",
      "SGD auc :  0.679502246803\n",
      "other classfier time taken: 8.38\n",
      "XGB auc : 0.85209\n",
      "XGB time taken: 0.80\n"
     ]
    }
   ],
   "source": [
    "gbdt_lr_train_test(example) # tiral 4"
   ]
  },
  {
   "cell_type": "code",
   "execution_count": 105,
   "metadata": {},
   "outputs": [
    {
     "name": "stdout",
     "output_type": "stream",
     "text": [
      "best parameters set found: \n",
      "{'max_depth': 6, 'max_features': 0.5, 'n_estimators': 50}\n",
      "gbdt auc: 0.93098\n",
      "gbdt+lr auc 1: 0.85676\n",
      "gbdt+lr auc 2: 0.59048\n",
      "GBDT time taken: 107.33\n",
      "SVC auc: 0.83235\n",
      "KNN auc : 0.78298\n",
      "SGD auc : 0.78370\n",
      "other classfier time taken: 7.92\n",
      "XGB auc : 0.84239\n",
      "XGB time taken: 0.75\n"
     ]
    }
   ],
   "source": [
    "gbdt_lr_train_test(example) # trial 5"
   ]
  },
  {
   "cell_type": "code",
   "execution_count": 107,
   "metadata": {},
   "outputs": [
    {
     "name": "stdout",
     "output_type": "stream",
     "text": [
      "best parameters set found: \n",
      "{'max_depth': 6, 'max_features': 0.7, 'n_estimators': 60}\n",
      "gbdt auc: 0.93766\n",
      "gbdt+lr auc 1: 0.59738\n",
      "gbdt+lr auc 2: 0.69980\n",
      "GBDT time taken: 108.29\n",
      "SVC auc: 0.25691\n",
      "SVC auc2: 0.64916\n",
      "KNN auc : 0.36443\n",
      "KNN auc2: 0.59169\n",
      "SGD auc : 0.56503\n",
      "other classfier time taken: 45.78\n",
      "XGB auc : 0.84985\n",
      "XGB time taken: 0.75\n"
     ]
    }
   ],
   "source": [
    "gbdt_lr_train_test(example) # GBDT other classifier with hstack applied trial 1"
   ]
  },
  {
   "cell_type": "code",
   "execution_count": 111,
   "metadata": {},
   "outputs": [
    {
     "name": "stdout",
     "output_type": "stream",
     "text": [
      "best parameters set found: \n",
      "{'max_depth': 6, 'max_features': 0.7, 'n_estimators': 60}\n",
      "gbdt auc: 0.94607\n",
      "gbdt+lr auc 1: 0.71121\n",
      "gbdt+lr auc 2: 0.57279\n",
      "GBDT time taken: 105.11\n",
      "SVC auc: 0.87507\n",
      "SVC auc2: 0.63568\n",
      "KNN auc : 0.83690\n",
      "KNN auc2: 0.57425\n",
      "SGD auc : 0.65079\n",
      "SGD auc2 : 0.70418\n",
      "other classfier time taken: 46.35\n",
      "XGB auc : 0.86396\n",
      "XGB time taken: 0.76\n"
     ]
    }
   ],
   "source": [
    "gbdt_lr_train_test(example) # trial 2"
   ]
  },
  {
   "cell_type": "code",
   "execution_count": 112,
   "metadata": {},
   "outputs": [
    {
     "name": "stdout",
     "output_type": "stream",
     "text": [
      "best parameters set found: \n",
      "{'max_depth': 6, 'max_features': 0.5, 'n_estimators': 50}\n",
      "gbdt auc: 0.94345\n",
      "gbdt+lr auc 1: 0.71894\n",
      "gbdt+lr auc 2: 0.66335\n",
      "GBDT time taken: 102.57\n",
      "SVC auc: 0.73859\n",
      "SVC auc2: 0.64794\n",
      "KNN auc : 0.80989\n",
      "KNN auc2: 0.60316\n",
      "SGD auc : 0.65876\n",
      "SGD auc2 : 0.69113\n",
      "other classfier time taken: 44.69\n",
      "XGB auc : 0.85763\n",
      "XGB time taken: 0.76\n"
     ]
    }
   ],
   "source": [
    "gbdt_lr_train_test(example) # trial 3"
   ]
  },
  {
   "cell_type": "code",
   "execution_count": 120,
   "metadata": {},
   "outputs": [
    {
     "name": "stdout",
     "output_type": "stream",
     "text": [
      "best parameters set found: \n",
      "{'max_depth': 6, 'max_features': 0.5, 'n_estimators': 60}\n",
      "gbdt auc: 0.93754\n",
      "gbdt+lr auc 1: 0.31657\n",
      "gbdt+lr auc 2: 0.60585\n",
      "GBDT time taken: 112.12\n",
      "SVC auc: 0.73184\n",
      "SVC auc2: 0.64691\n",
      "KNN auc : 0.65834\n",
      "KNN auc2: 0.58379\n",
      "SGD auc : 0.35641\n",
      "SGD auc2 : 0.28890\n",
      "other classfier time taken: 100.33\n",
      "XGB auc : 0.85757\n",
      "XGB time taken: 0.76\n"
     ]
    }
   ],
   "source": [
    "gbdt_lr_train_test(example) # best param applied trial 1"
   ]
  },
  {
   "cell_type": "code",
   "execution_count": 121,
   "metadata": {},
   "outputs": [
    {
     "name": "stdout",
     "output_type": "stream",
     "text": [
      "best parameters set found: \n",
      "{'max_depth': 6, 'max_features': 0.5, 'n_estimators': 60}\n",
      "gbdt auc: 0.94696\n",
      "gbdt+lr auc 1: 0.51043\n",
      "gbdt+lr auc 2: 0.78554\n",
      "GBDT time taken: 104.17\n",
      "SVC auc: 0.55622\n",
      "SVC auc2: 0.63785\n",
      "KNN auc : 0.56019\n",
      "KNN auc2: 0.63233\n",
      "SGD auc : 0.52737\n",
      "SGD auc2 : 0.40444\n",
      "other classfier time taken: 98.07\n",
      "XGB auc : 0.87152\n",
      "XGB time taken: 0.74\n"
     ]
    }
   ],
   "source": [
    "gbdt_lr_train_test(example) # best param applied trial 2"
   ]
  },
  {
   "cell_type": "code",
   "execution_count": 123,
   "metadata": {},
   "outputs": [
    {
     "name": "stdout",
     "output_type": "stream",
     "text": [
      "best parameters set found: \n",
      "{'max_depth': 6, 'max_features': 0.5, 'n_estimators': 60}\n",
      "gbdt auc: 0.94504\n",
      "gbdt+lr auc 1: 0.64715\n",
      "gbdt+lr auc 2: 0.77241\n",
      "GBDT time taken: 106.52\n",
      "SVC auc: 0.52633\n",
      "SVC auc2: 0.63692\n",
      "KNN auc : 0.56709\n",
      "KNN auc2: 0.60222\n",
      "SGD auc : 0.71175\n",
      "SGD auc2 : 0.66544\n",
      "other classfier time taken: 99.37\n",
      "XGB auc : 0.86043\n",
      "XGB time taken: 0.75\n"
     ]
    }
   ],
   "source": [
    "gbdt_lr_train_test(example) # random state applied trial 1"
   ]
  },
  {
   "cell_type": "code",
   "execution_count": 124,
   "metadata": {},
   "outputs": [
    {
     "name": "stdout",
     "output_type": "stream",
     "text": [
      "best parameters set found: \n",
      "{'max_depth': 6, 'max_features': 0.7, 'n_estimators': 60}\n",
      "gbdt auc: 0.94366\n",
      "gbdt+lr auc 1: 0.32087\n",
      "gbdt+lr auc 2: 0.64378\n",
      "GBDT time taken: 105.85\n",
      "SVC auc: 0.35119\n",
      "SVC auc2: 0.63692\n",
      "KNN auc : 0.42370\n",
      "KNN auc2: 0.60279\n",
      "SGD auc : 0.32598\n",
      "SGD auc2 : 0.33507\n",
      "other classfier time taken: 97.21\n",
      "XGB auc : 0.86043\n",
      "XGB time taken: 0.77\n"
     ]
    }
   ],
   "source": [
    "gbdt_lr_train_test(example) # random state applied trial 2"
   ]
  },
  {
   "cell_type": "code",
   "execution_count": 125,
   "metadata": {},
   "outputs": [
    {
     "name": "stdout",
     "output_type": "stream",
     "text": [
      "best parameters set found: \n",
      "{'max_depth': 6, 'max_features': 0.7, 'n_estimators': 50}\n",
      "gbdt auc: 0.94512\n",
      "gbdt+lr auc 1: 0.34193\n",
      "gbdt+lr auc 2: 0.64895\n",
      "GBDT time taken: 105.30\n",
      "SVC auc: 0.34762\n",
      "SVC auc2: 0.64156\n",
      "KNN auc : 0.44609\n",
      "KNN auc2: 0.60032\n",
      "SGD auc : 0.38596\n",
      "SGD auc2 : 0.40221\n",
      "other classfier time taken: 82.48\n",
      "XGB auc : 0.86043\n",
      "XGB time taken: 0.75\n"
     ]
    }
   ],
   "source": [
    "gbdt_lr_train_test(example) # random state applied trial 3"
   ]
  },
  {
   "cell_type": "code",
   "execution_count": 127,
   "metadata": {},
   "outputs": [
    {
     "name": "stdout",
     "output_type": "stream",
     "text": [
      "best parameters set found: \n",
      "{'max_depth': 6, 'max_features': 0.5, 'n_estimators': 90}\n",
      "gbdt auc: 0.94659\n",
      "gbdt+lr auc 1: 0.51817\n",
      "gbdt+lr auc 2: 0.60234\n",
      "GBDT time taken: 284.58\n",
      "SVC auc: 0.68544\n",
      "SVC auc2: 0.63380\n",
      "KNN auc : 0.70583\n",
      "KNN auc2: 0.60326\n",
      "SGD auc : 0.56060\n",
      "SGD auc2 : 0.45154\n",
      "other classfier time taken: 146.06\n",
      "XGB auc : 0.86043\n",
      "XGB time taken: 0.76\n"
     ]
    }
   ],
   "source": [
    "gbdt_lr_train_test(example) # more n_estimators from n_estimators':[30, 40, 50, 60]"
   ]
  },
  {
   "cell_type": "code",
   "execution_count": 129,
   "metadata": {},
   "outputs": [
    {
     "name": "stdout",
     "output_type": "stream",
     "text": [
      "best parameters set found: \n",
      "{'max_depth': 6, 'max_features': 0.5, 'n_estimators': 90}\n",
      "gbdt auc: 0.94781\n",
      "gbdt+lr auc 1: 0.31465\n",
      "gbdt+lr auc 2: 0.64597\n",
      "GBDT time taken: 150.51\n",
      "SVC auc: 0.62778\n",
      "SVC auc2: 0.63317\n",
      "KNN auc : 0.47201\n",
      "KNN auc2: 0.60271\n",
      "SGD auc : 0.32002\n",
      "SGD auc2 : 0.34882\n",
      "other classfier time taken: 147.91\n",
      "XGB auc : 0.86043\n",
      "XGB time taken: 0.77\n"
     ]
    }
   ],
   "source": [
    "gbdt_lr_train_test(example) # more n_estimators trial 2"
   ]
  },
  {
   "cell_type": "code",
   "execution_count": 130,
   "metadata": {},
   "outputs": [
    {
     "name": "stdout",
     "output_type": "stream",
     "text": [
      "best parameters set found: \n",
      "{'max_depth': 6, 'max_features': 0.5, 'n_estimators': 100}\n",
      "gbdt auc: 0.94683\n",
      "gbdt+lr auc 1: 0.61263\n",
      "gbdt+lr auc 2: 0.64518\n",
      "GBDT time taken: 149.22\n",
      "SVC auc: 0.48760\n",
      "SVC auc2: 0.63311\n",
      "KNN auc : 0.53694\n",
      "KNN auc2: 0.60320\n",
      "SGD auc : 0.57953\n",
      "SGD auc2 : 0.55953\n",
      "other classfier time taken: 162.01\n",
      "XGB auc : 0.86043\n",
      "XGB time taken: 0.75\n"
     ]
    }
   ],
   "source": [
    "gbdt_lr_train_test(example) #changing gridsaerch [{'n_estimators':[90], 'max_depth':[3, 4, 5, 6], 'max_features':[0.5,0.7,0.9]}]"
   ]
  },
  {
   "cell_type": "code",
   "execution_count": 132,
   "metadata": {},
   "outputs": [
    {
     "name": "stdout",
     "output_type": "stream",
     "text": [
      "best parameters set found: \n",
      "{'max_depth': 6, 'max_features': 0.5, 'n_estimators': 100}\n",
      "gbdt auc: 0.94791\n",
      "gbdt+lr auc 1: 0.40520\n",
      "gbdt+lr auc 2: 0.60060\n",
      "GBDT time taken: 35.26\n",
      "SVC auc: 0.51643\n",
      "SVC auc2: 0.63318\n",
      "KNN auc : 0.58031\n",
      "KNN auc2: 0.60287\n",
      "SGD auc : 0.50315\n",
      "SGD auc2 : 0.46836\n",
      "other classfier time taken: 163.81\n",
      "XGB auc : 0.86043\n",
      "XGB time taken: 0.78\n"
     ]
    }
   ],
   "source": [
    "gbdt_lr_train_test(example) #changing gridsaerch [{'n_estimators':[90], 'max_depth':[3, 4, 5, 6], 'max_features':[0.5,0.7,0.9]}]"
   ]
  },
  {
   "cell_type": "code",
   "execution_count": 136,
   "metadata": {},
   "outputs": [
    {
     "name": "stdout",
     "output_type": "stream",
     "text": [
      "best parameters set found: \n",
      "{'max_depth': 6, 'max_features': 0.5, 'n_estimators': 100}\n",
      "gbdt auc: 0.94922\n",
      "gbdt+lr auc 1: 0.65693\n",
      "gbdt+lr auc 2: 0.68943\n",
      "GBDT time taken: 36.36\n",
      "SVC auc: 0.83163\n",
      "SVC auc2: 0.63333\n",
      "KNN auc : 0.77722\n",
      "KNN auc2: 0.60285\n",
      "SGD auc : 0.59360\n",
      "SGD auc2 : 0.72324\n",
      "other classfier time taken: 165.64\n",
      "XGB auc : 0.86043\n",
      "XGB time taken: 0.83\n"
     ]
    }
   ],
   "source": [
    "gbdt_lr_train_test(example)  # GBM random state testing"
   ]
  },
  {
   "cell_type": "code",
   "execution_count": 137,
   "metadata": {},
   "outputs": [
    {
     "name": "stdout",
     "output_type": "stream",
     "text": [
      "best parameters set found: \n",
      "{'max_depth': 6, 'max_features': 0.5, 'n_estimators': 100}\n",
      "gbdt auc: 0.94922\n",
      "gbdt+lr auc 1: 0.65693\n",
      "gbdt+lr auc 2: 0.68943\n",
      "GBDT time taken: 36.92\n",
      "SVC auc: 0.83163\n",
      "SVC auc2: 0.63333\n",
      "KNN auc : 0.77722\n",
      "KNN auc2: 0.60285\n",
      "SGD auc : 0.68002\n",
      "SGD auc2 : 0.54093\n",
      "other classfier time taken: 162.25\n",
      "XGB auc : 0.86043\n",
      "XGB time taken: 0.75\n"
     ]
    }
   ],
   "source": [
    "gbdt_lr_train_test(example)  # GBM random state testing2"
   ]
  },
  {
   "cell_type": "code",
   "execution_count": 138,
   "metadata": {},
   "outputs": [
    {
     "name": "stdout",
     "output_type": "stream",
     "text": [
      "best parameters set found: \n",
      "{'max_depth': 6, 'max_features': 0.5, 'n_estimators': 100}\n",
      "gbdt auc: 0.94922\n",
      "gbdt+lr auc 1: 0.65693\n",
      "gbdt+lr auc 2: 0.68943\n",
      "GBDT time taken: 35.76\n",
      "SVC auc: 0.83163\n",
      "SVC auc2: 0.63295\n",
      "KNN auc : 0.77722\n",
      "KNN auc2: 0.60285\n",
      "SGD auc : 0.59181\n",
      "SGD auc2 : 0.57397\n",
      "other classfier time taken: 168.57\n",
      "XGB auc : 0.86043\n",
      "XGB time taken: 0.79\n"
     ]
    }
   ],
   "source": [
    "gbdt_lr_train_test(example)  # GBM random state testing3"
   ]
  },
  {
   "cell_type": "code",
   "execution_count": 140,
   "metadata": {},
   "outputs": [
    {
     "name": "stdout",
     "output_type": "stream",
     "text": [
      "best parameters set found: \n",
      "{'max_depth': 6, 'max_features': 0.5, 'n_estimators': 100}\n",
      "gbdt auc: 0.94922\n",
      "gbdt+lr auc 1: 0.65693\n",
      "gbdt+lr auc 2: 0.68943\n",
      "GBDT time taken: 57.79\n",
      "SVC auc: 0.83163\n",
      "SVC auc2: 0.63333\n",
      "KNN auc : 0.77722\n",
      "KNN auc2: 0.60285\n",
      "SGD auc : 0.55097\n",
      "SGD auc2 : 0.68116\n",
      "other classfier time taken: 165.75\n",
      "XGB auc : 0.86043\n",
      "XGB time taken: 0.78\n"
     ]
    }
   ],
   "source": [
    "gbdt_lr_train_test(example) # more n_estimators"
   ]
  },
  {
   "cell_type": "code",
   "execution_count": 33,
   "metadata": {},
   "outputs": [
    {
     "name": "stdout",
     "output_type": "stream",
     "text": [
      "best parameters set found: \n",
      "{'max_depth': 7, 'max_features': 0.5, 'n_estimators': 50}\n",
      "GBDT AUC: 0.93387\n",
      "GBDT + LR AUC 1: 0.57547\n",
      "GBDT + LR AUC 2: 0.53239\n",
      "GBDT time taken: 47.67\n",
      "GBDT + SVC auc: 0.56686\n",
      "GBDT + SVC auc2: 0.59621\n",
      "GBDT + KNN auc : 0.51987\n",
      "GBDT + KNN auc2: 0.57949\n",
      "GBDT + SGD auc : 0.56533\n",
      "GBDT + SGD auc2 : 0.50045\n",
      "GBDT + other classfier time taken: 85.76\n",
      "XGB auc : 0.92199\n",
      "GBDT + XGB auc: 0.49926\n",
      "GBDT + XGB auc2: 0.73417\n",
      "XGB time taken: 4.27\n",
      "lightGBM auc : 0.91580\n",
      "GBDT + lightGBM auc : 0.45931\n",
      "GBDT + lightGBM auc2 : 0.80382\n",
      "lightGBM time taken: 0.81\n"
     ]
    }
   ],
   "source": [
    "gbdt_lr_train_test(example) "
   ]
  },
  {
   "cell_type": "code",
   "execution_count": 34,
   "metadata": {},
   "outputs": [
    {
     "name": "stdout",
     "output_type": "stream",
     "text": [
      "best parameters set found: \n",
      "{'max_depth': 6, 'max_features': 0.5, 'n_estimators': 50}\n",
      "GBDT AUC: 0.92810\n",
      "GBDT + LR AUC 1: 0.33413\n",
      "GBDT + LR AUC 2: 0.58705\n",
      "GBDT time taken: 43.65\n",
      "GBDT + SVC auc: 0.45791\n",
      "GBDT + SVC auc2: 0.58047\n",
      "GBDT + KNN auc : 0.58497\n",
      "GBDT + KNN auc2: 0.55411\n",
      "GBDT + SGD auc : 0.28083\n",
      "GBDT + SGD auc2 : 0.50180\n",
      "GBDT + other classfier time taken: 83.33\n",
      "XGB auc : 0.92070\n",
      "GBDT + XGB auc: 0.54235\n",
      "GBDT + XGB auc2: 0.75178\n",
      "XGB time taken: 3.83\n",
      "lightGBM auc : 0.91952\n",
      "GBDT + lightGBM auc : 0.65808\n",
      "GBDT + lightGBM auc2 : 0.67432\n",
      "lightGBM time taken: 0.72\n"
     ]
    }
   ],
   "source": [
    "gbdt_lr_train_test(example) "
   ]
  },
  {
   "cell_type": "code",
   "execution_count": 35,
   "metadata": {},
   "outputs": [
    {
     "name": "stdout",
     "output_type": "stream",
     "text": [
      "best parameters set found: \n",
      "{'max_depth': 6, 'max_features': 0.5, 'n_estimators': 50}\n",
      "GBDT AUC: 0.93956\n",
      "GBDT + LR AUC 1: 0.63306\n",
      "GBDT + LR AUC 2: 0.59498\n",
      "GBDT time taken: 43.24\n",
      "GBDT + SVC auc: 0.48879\n",
      "GBDT + SVC auc2: 0.60267\n",
      "GBDT + KNN auc : 0.59776\n",
      "GBDT + KNN auc2: 0.59349\n",
      "GBDT + SGD auc : 0.69463\n",
      "GBDT + SGD auc2 : 0.49184\n",
      "GBDT + other classfier time taken: 86.20\n",
      "XGB auc : 0.93319\n",
      "GBDT + XGB auc: 0.46712\n",
      "GBDT + XGB auc2: 0.64323\n",
      "XGB time taken: 4.10\n",
      "lightGBM auc : 0.93369\n",
      "GBDT + lightGBM auc : 0.49726\n",
      "GBDT + lightGBM auc2 : 0.70421\n",
      "lightGBM time taken: 0.79\n"
     ]
    }
   ],
   "source": [
    "gbdt_lr_train_test(example) "
   ]
  },
  {
   "cell_type": "code",
   "execution_count": 36,
   "metadata": {},
   "outputs": [
    {
     "name": "stdout",
     "output_type": "stream",
     "text": [
      "best parameters set found: \n",
      "{'max_depth': 6, 'max_features': 0.5, 'n_estimators': 50}\n",
      "GBDT AUC: 0.94437\n",
      "GBDT + LR AUC 1: 0.58962\n",
      "GBDT + LR AUC 2: 0.63072\n",
      "GBDT time taken: 45.69\n",
      "GBDT + SVC auc: 0.56931\n",
      "GBDT + SVC auc2: 0.58028\n",
      "GBDT + KNN auc : 0.49735\n",
      "GBDT + KNN auc2: 0.55879\n",
      "GBDT + SGD auc : 0.53380\n",
      "GBDT + SGD auc2 : 0.50548\n",
      "GBDT + other classfier time taken: 85.08\n",
      "XGB auc : 0.93797\n",
      "GBDT + XGB auc: 0.39039\n",
      "GBDT + XGB auc2: 0.51196\n",
      "XGB time taken: 3.86\n",
      "lightGBM auc : 0.93462\n",
      "GBDT + lightGBM auc : 0.54676\n",
      "GBDT + lightGBM auc2 : 0.67607\n",
      "lightGBM time taken: 0.70\n"
     ]
    }
   ],
   "source": [
    "gbdt_lr_train_test(example) "
   ]
  },
  {
   "cell_type": "code",
   "execution_count": 40,
   "metadata": {},
   "outputs": [
    {
     "name": "stdout",
     "output_type": "stream",
     "text": [
      "best parameters set found: \n",
      "{'max_depth': 8, 'max_features': 0.5, 'n_estimators': 40}\n",
      "GBDT AUC: 0.94238\n",
      "GBDT + LR AUC 1: 0.86745\n",
      "GBDT + LR AUC 2: 0.66643\n",
      "GBDT time taken: 46.74\n",
      "GBDT + SVC auc: 0.85564\n",
      "GBDT + SVC auc2: 0.59346\n",
      "GBDT + KNN auc : 0.84818\n",
      "GBDT + KNN auc2: 0.58199\n",
      "GBDT + SGD auc : 0.91196\n",
      "GBDT + SGD auc2 : 0.50000\n",
      "GBDT + other classfier time taken: 74.19\n",
      "XGB auc : 0.93970\n",
      "GBDT + XGB auc: 0.85874\n",
      "GBDT + XGB auc2: 0.86823\n",
      "XGB time taken: 4.17\n",
      "lightGBM auc : 0.93742\n",
      "GBDT + lightGBM auc : 0.92733\n",
      "GBDT + lightGBM auc2 : 0.93174\n",
      "lightGBM time taken: 1.17\n"
     ]
    }
   ],
   "source": [
    "gbdt_lr_train_test(example)  # changed apply func"
   ]
  },
  {
   "cell_type": "code",
   "execution_count": 41,
   "metadata": {},
   "outputs": [
    {
     "name": "stdout",
     "output_type": "stream",
     "text": [
      "best parameters set found: \n",
      "{'max_depth': 7, 'max_features': 0.5, 'n_estimators': 40}\n",
      "GBDT AUC: 0.93967\n",
      "GBDT + LR AUC 1: 0.85610\n",
      "GBDT + LR AUC 2: 0.66004\n",
      "GBDT time taken: 45.69\n",
      "GBDT + SVC auc: 0.85620\n",
      "GBDT + SVC auc2: 0.60296\n",
      "GBDT + KNN auc : 0.85299\n",
      "GBDT + KNN auc2: 0.58810\n",
      "GBDT + SGD auc : 0.91376\n",
      "GBDT + SGD auc2 : 0.55573\n",
      "GBDT + other classfier time taken: 68.78\n",
      "XGB auc : 0.93433\n",
      "GBDT + XGB auc: 0.86995\n",
      "GBDT + XGB auc2: 0.86995\n",
      "XGB time taken: 3.87\n",
      "lightGBM auc : 0.93040\n",
      "GBDT + lightGBM auc : 0.92682\n",
      "GBDT + lightGBM auc2 : 0.92661\n",
      "lightGBM time taken: 1.07\n"
     ]
    }
   ],
   "source": [
    "gbdt_lr_train_test(example)  # changed apply func 2"
   ]
  },
  {
   "cell_type": "code",
   "execution_count": 42,
   "metadata": {},
   "outputs": [
    {
     "name": "stdout",
     "output_type": "stream",
     "text": [
      "best parameters set found: \n",
      "{'max_depth': 7, 'max_features': 0.5, 'n_estimators': 50}\n",
      "GBDT AUC: 0.93733\n",
      "GBDT + LR AUC 1: 0.85488\n",
      "GBDT + LR AUC 2: 0.60898\n",
      "GBDT time taken: 46.91\n",
      "GBDT + SVC auc: 0.83817\n",
      "GBDT + SVC auc2: 0.59360\n",
      "GBDT + KNN auc : 0.85140\n",
      "GBDT + KNN auc2: 0.57684\n",
      "GBDT + SGD auc : 0.90615\n",
      "GBDT + SGD auc2 : 0.49595\n",
      "GBDT + other classfier time taken: 85.28\n",
      "XGB auc : 0.93180\n",
      "GBDT + XGB auc: 0.85971\n",
      "GBDT + XGB auc2: 0.85492\n",
      "XGB time taken: 4.48\n",
      "lightGBM auc : 0.92683\n",
      "GBDT + lightGBM auc : 0.92725\n",
      "GBDT + lightGBM auc2 : 0.92777\n",
      "lightGBM time taken: 1.22\n"
     ]
    }
   ],
   "source": [
    "gbdt_lr_train_test(example)  # changed apply func 3"
   ]
  },
  {
   "cell_type": "code",
   "execution_count": null,
   "metadata": {},
   "outputs": [],
   "source": []
  }
 ],
 "metadata": {
  "kernelspec": {
   "display_name": "Python 3",
   "language": "python",
   "name": "python3"
  },
  "language_info": {
   "codemirror_mode": {
    "name": "ipython",
    "version": 3
   },
   "file_extension": ".py",
   "mimetype": "text/x-python",
   "name": "python",
   "nbconvert_exporter": "python",
   "pygments_lexer": "ipython3",
   "version": "3.6.3"
  }
 },
 "nbformat": 4,
 "nbformat_minor": 2
}
