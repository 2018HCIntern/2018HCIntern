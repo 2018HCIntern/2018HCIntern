{
 "cells": [
  {
   "cell_type": "code",
   "execution_count": 2,
   "metadata": {},
   "outputs": [
    {
     "name": "stderr",
     "output_type": "stream",
     "text": [
      "/Users/garb47/anaconda3/lib/python3.6/site-packages/sklearn/cross_validation.py:41: DeprecationWarning: This module was deprecated in version 0.18 in favor of the model_selection module into which all the refactored classes and functions are moved. Also note that the interface of the new CV iterators are different from that of this module. This module will be removed in 0.20.\n",
      "  \"This module will be removed in 0.20.\", DeprecationWarning)\n",
      "/Users/garb47/anaconda3/lib/python3.6/site-packages/sklearn/grid_search.py:42: DeprecationWarning: This module was deprecated in version 0.18 in favor of the model_selection module into which all the refactored classes and functions are moved. This module will be removed in 0.20.\n",
      "  DeprecationWarning)\n"
     ]
    },
    {
     "name": "stdout",
     "output_type": "stream",
     "text": [
      "WARN: OMP_NUM_THREADS=None =>\n",
      "... If you are using openblas if you are using openblas set OMP_NUM_THREADS=1 or risk subprocess calls hanging indefinitely\n"
     ]
    }
   ],
   "source": [
    "import numpy as np\n",
    "import pandas as pd\n",
    "from xgboost import XGBClassifier\n",
    "import lightgbm as lgb\n",
    "\n",
    "from sklearn.metrics import mean_squared_error\n",
    "from sklearn.preprocessing import OneHotEncoder\n",
    "from sklearn.preprocessing import StandardScaler\n",
    "from sklearn.cross_validation import train_test_split\n",
    "from sklearn.datasets import load_svmlight_file\n",
    "from sklearn.linear_model import LogisticRegression\n",
    "from sklearn.metrics import roc_curve, auc, roc_auc_score\n",
    "from sklearn.externals import joblib\n",
    "from sklearn.ensemble import GradientBoostingClassifier\n",
    "from sklearn.grid_search import GridSearchCV\n",
    "from sklearn.externals import joblib\n",
    "from sklearn.svm import SVC, LinearSVC\n",
    "from sklearn.neighbors import KNeighborsClassifier\n",
    "from sklearn.ensemble import RandomForestClassifier\n",
    "from sklearn.naive_bayes import GaussianNB\n",
    "from sklearn.linear_model import SGDClassifier\n",
    "from sklearn.linear_model import Perceptron\n",
    "from sklearn.naive_bayes import GaussianNB\n",
    "import matplotlib.pyplot as plt\n",
    "\n",
    "from scipy.sparse import csr_matrix\n",
    "from scipy.sparse import hstack\n",
    "import time, os, random, sys\n",
    "import math\n",
    "import hyperopt.tpe\n",
    "import hpsklearn.components\n",
    "import hpsklearn.demo_support\n",
    "import warnings\n",
    "warnings.filterwarnings('ignore')\n",
    "random.seed(1)"
   ]
  },
  {
   "cell_type": "code",
   "execution_count": 3,
   "metadata": {},
   "outputs": [],
   "source": [
    "def get_leaf_indices(ensemble, x):\n",
    "    x = x.astype(np.float32)\n",
    "    trees = ensemble.estimators_\n",
    "    n_trees = trees.shape[0]\n",
    "    indices = []\n",
    "\n",
    "    for i in range(n_trees):\n",
    "        tree = trees[i][0].tree_\n",
    "        indices.append(tree.apply(x))\n",
    "\n",
    "    indices = np.column_stack(indices)\n",
    "    return indices\n",
    "\n",
    "def gbdt_lr_train_test(File):\n",
    "    #GBDT\n",
    "    start = time.clock()\n",
    "    train_df, test_df = train_test_split(File, train_size = 0.8)\n",
    "    X_train = train_df.drop(train_df.columns[0], axis=1)\n",
    "    y_train = train_df[train_df.columns[0]]\n",
    "    X_test = test_df.drop(test_df.columns[0], axis=1)\n",
    "    y_test = test_df[test_df.columns[0]]\n",
    "    gbclf = GradientBoostingClassifier(n_estimators=20, max_depth=4, verbose=0)\n",
    "    tuned_parameter = [{'n_estimators':[20,30,40,50], 'max_depth':[5, 6, 7, 8], 'max_features':[0.5]}]\n",
    "    gs_clf = GridSearchCV(gbclf, tuned_parameter, cv=5, scoring='roc_auc')\n",
    "    gs_clf.fit(X_train, y_train)\n",
    "    print('best parameters set found: ')\n",
    "    print(gs_clf.best_params_)\n",
    "    \n",
    "    y_pred_gbdt = gs_clf.predict_proba(X_test)[:, 1]\n",
    "    gbdt_auc = roc_auc_score(y_test, y_pred_gbdt)\n",
    "    print('gbdt auc: %.5f' % gbdt_auc)\n",
    "    \n",
    "    gbclf=GradientBoostingClassifier(**gs_clf.best_params_)\n",
    "    gbclf.fit(X_train,y_train)\n",
    "    leaf = get_leaf_indices\n",
    "    X_train_leaves=leaf(gbclf,X_train.values)\n",
    "    X_test_leaves=leaf(gbclf,X_test.values)\n",
    "\n",
    "    #GBDT+LR\n",
    "    lr = LogisticRegression(penalty='l1', C=0.2)\n",
    "    lr.fit(X_train_leaves, y_train)\n",
    "    y_pred_gbdtlr1 = lr.predict_proba(X_test_leaves)[:,1]\n",
    "    gbdtlr_auc1 = roc_auc_score(y_test, y_pred_gbdtlr1)\n",
    "    print('gbdt+lr auc 1: %.5f' % gbdtlr_auc1)\n",
    "    \n",
    "    lr = LogisticRegression(n_jobs=-1)\n",
    "    X_train_ext = hstack([X_train_leaves, X_train])\n",
    "    lr.fit(X_train_ext, y_train)\n",
    "    X_test_ext = hstack([X_test_leaves, X_test])\n",
    "    y_pred_gbdtlr2 = lr.predict_proba(X_test_ext)[:, 1]\n",
    "    gbdtlr_auc2 = roc_auc_score(y_test, y_pred_gbdtlr2)\n",
    "    print('gbdt+lr auc 2: %.5f' % gbdtlr_auc2)\n",
    "    f_time =time.clock()-start\n",
    "    print('GBDT+LR time taken: %.2f'% f_time)\n",
    "    \n",
    "    #+NB\n",
    "\n",
    "    \n",
    "    start = time.clock()\n",
    "    gnb= GaussianNB()\n",
    "\n",
    "    gnb.fit(X_train_leaves, y_train)\n",
    "    Y_pred_nb=gnb.predict_proba(X_test_leaves)[:,1]\n",
    "    gnb_auc = roc_auc_score(y_test,Y_pred_nb)\n",
    "    print('GBDT + GNB auc: %.5f'% gnb_auc)    \n",
    "    '''    \n",
    "    gnb.fit(X_train_ext, y_train)\n",
    "    y_pred_gnb2=gnb.predict_proba(X_test_ext)[:,1]\n",
    "    gnb_auc2=roc_auc_score(y_test,y_pred_gnb2)\n",
    "    print('GNB auc2: %.5f' % gnb_auc2)\n",
    "    '''\n",
    "    #svc\n",
    "    svc=SVC(probability=True)\n",
    "    svc.fit(X_train_leaves, y_train)\n",
    "    Y_pred_svc=svc.predict_proba(X_test_leaves)[:,1]\n",
    "    svc_auc=roc_auc_score(y_test,Y_pred_svc)\n",
    "    print('GBDT + SVC auc: %.5f' % svc_auc)\n",
    "    \n",
    "    svc.fit(X_train_ext, y_train)\n",
    "    y_pred_svc2=svc.predict_proba(X_test_ext)[:, 1]\n",
    "    svc_auc2=roc_auc_score(y_test,y_pred_svc2)\n",
    "    print('GBDT + SVC auc2: %.5f' % svc_auc2)\n",
    "    \n",
    "    #KNN\n",
    "    knn=KNeighborsClassifier(n_neighbors = 3)\n",
    "    knn.fit(X_train_leaves, y_train)\n",
    "    Y_pred_knn=knn.predict_proba(X_test_leaves)[:,1]\n",
    "    knn_auc=roc_auc_score(y_test,Y_pred_knn)\n",
    "    print('GBDT + KNN auc : %.5f' % knn_auc)\n",
    "    \n",
    "    knn.fit(X_train_ext, y_train)\n",
    "    y_pred_knn2=knn.predict_proba(X_test_ext)[:, 1]\n",
    "    knn_auc2=roc_auc_score(y_test,y_pred_knn2)\n",
    "    print('GBDT + KNN auc2: %.5f' % knn_auc2)\n",
    "    \n",
    "    #perceptron\n",
    "\n",
    "    perceptron = Perceptron()\n",
    "    perceptron.fit(X_train_leaves, y_train)\n",
    "    y_pred_perc=perceptron.predict(X_test_leaves)\n",
    "    perc_auc=roc_auc_score(y_test,y_pred_perc)\n",
    "    print('GBDT + Perceptron auc : %.5f' % perc_auc)\n",
    "    \n",
    "    perceptron.fit(X_train_ext, y_train)\n",
    "    y_pred_perc2=perceptron.predict(X_test_ext)\n",
    "    perc_auc2=roc_auc_score(y_test,y_pred_perc2)\n",
    "    print('GBDT + Perceptron auc2 : %.5f' % perc_auc2 )\n",
    "    \n",
    "    #linear svc\n",
    "\n",
    "    lin = LinearSVC()\n",
    "    lin.fit(X_train_leaves, y_train)\n",
    "    y_pred_lin=lin.predict(X_test_leaves)\n",
    "    lin_auc=roc_auc_score(y_test,y_pred_lin)\n",
    "    print('GBDT + Linear SVC auc : %.5f' % lin_auc)\n",
    "    \n",
    "    lin.fit(X_train_ext, y_train)\n",
    "    y_pred_lin2=lin.predict(X_test_ext)\n",
    "    lin_auc2=roc_auc_score(y_test,y_pred_lin2)\n",
    "    print('GBDT + Linear SVC auc2 : %.5f' % lin_auc2)\n",
    "    \n",
    "    #SGD\n",
    "\n",
    "    sgd = SGDClassifier(loss='log')\n",
    "    sgd.fit(X_train_leaves, y_train)\n",
    "    Y_pred_sgd=sgd.predict_proba(X_test_leaves)[:, 1]\n",
    "    sgd_auc=roc_auc_score(y_test,Y_pred_sgd)\n",
    "    print('GBDT + SGD auc : %.5f' % sgd_auc)\n",
    "    \n",
    "    sgd.fit(X_train_ext, y_train)\n",
    "    Y_pred_sgd2=sgd.predict_proba(X_test_ext)[:, 1]\n",
    "    sgd_auc2=roc_auc_score(y_test,Y_pred_sgd2)\n",
    "    print('GBDT + SGD auc2 : %.5f' % sgd_auc2)\n",
    "    f_time =time.clock()-start\n",
    "    print('GBDT + other classfier time taken: %.2f'% f_time)    \n",
    "    \n",
    "    #XGB\n",
    "    start = time.clock()\n",
    "    xgb=XGBClassifier()\n",
    "    xgb.fit(X_train,y_train)\n",
    "    Y_pred_xgb=xgb.predict_proba(X_test)[:,1]\n",
    "    xgb_auc= roc_auc_score(y_test,Y_pred_xgb)\n",
    "    print('XGB auc : %.5f' % xgb_auc)\n",
    "    \n",
    "    #XGB with leaves\n",
    "\n",
    "    xgb.fit(X_train_leaves,y_train)\n",
    "    Y_pred_xgb=xgb.predict(X_test_leaves)\n",
    "    xgb_auc= roc_auc_score(y_test,Y_pred_xgb)\n",
    "    print('GBDT + XGB auc: %.5f' % xgb_auc)\n",
    "    \n",
    "    #XGB with features ext\n",
    "    \n",
    "    xgb.fit(X_train_ext, y_train)\n",
    "    y_pred_xgb2=xgb.predict(X_test_ext)\n",
    "    xgb_auc2=roc_auc_score(y_test,y_pred_xgb2)\n",
    "    print('GBDT + XGB auc2: %.5f' %xgb_auc2)\n",
    "    \n",
    "    f_time =time.clock()-start\n",
    "    print('XGB time taken: %.2f'% f_time)\n",
    "    \n",
    "    #lightGBM\n",
    "    start = time.clock()\n",
    "    lgb_train = lgb.Dataset(X_train, y_train)\n",
    "    lgb_eval = lgb.Dataset(X_test, y_test, reference=lgb_train)\n",
    "    \n",
    "    \n",
    "    \n",
    "    # specify your configurations as a dict\n",
    "    params = {\n",
    "    'task': 'train',\n",
    "    'boosting_type': 'gbdt',\n",
    "    'objective': 'regression',\n",
    "    'metric': {'l2', 'auc'},\n",
    "    'num_leaves': 31,\n",
    "    'learning_rate': 0.05,\n",
    "    'feature_fraction': 0.9,\n",
    "    'bagging_fraction': 0.8,\n",
    "    'bagging_freq': 5,\n",
    "    'verbose': 0\n",
    "    \n",
    "    }\n",
    "\n",
    "    # train\n",
    "    gbm = lgb.train(params,\n",
    "                    lgb_train,\n",
    "                    num_boost_round=20,\n",
    "                    valid_sets=lgb_eval,\n",
    "                    early_stopping_rounds=5,\n",
    "                    verbose_eval=False)\n",
    "\n",
    "\n",
    "\n",
    "    y_pred_lgb = gbm.predict(X_test, num_iteration=gbm.best_iteration)\n",
    "    # eval\n",
    "    lgb_auc=roc_auc_score(y_test,y_pred_lgb)\n",
    "    print('lightGBM auc : %.5f' % lgb_auc)\n",
    "    \n",
    "    lgb_train=lgb.Dataset(X_train_leaves, y_train)\n",
    "    lgb_eval=lgb.Dataset(X_test_leaves, y_test, reference=lgb_train)\n",
    "    gbm = lgb.train(params,\n",
    "                  lgb_train,\n",
    "                    num_boost_round=20,\n",
    "                    valid_sets=lgb_eval,\n",
    "                    early_stopping_rounds=5,\n",
    "                   verbose_eval=False)\n",
    "    y_pred_lgb2 =gbm.predict(X_test_leaves, num_iteration=gbm.best_iteration)\n",
    "    lgb_auc2=roc_auc_score(y_test, y_pred_lgb2)\n",
    "    \n",
    "    print('GBDT + lightGBM auc : %.5f' % lgb_auc2)\n",
    "    \n",
    "    lgb_train=lgb.Dataset(X_train_ext, y_train)\n",
    "    lgb_eval=lgb.Dataset(X_test_ext, y_test, reference=lgb_train)\n",
    "    gbm = lgb.train(params,\n",
    "                  lgb_train,\n",
    "                    num_boost_round=20,\n",
    "                    valid_sets=lgb_eval,\n",
    "                    early_stopping_rounds=5,\n",
    "                   verbose_eval=False)\n",
    "    y_pred_lgb3 =gbm.predict(X_test_ext, num_iteration=gbm.best_iteration)\n",
    "    lgb_auc3=roc_auc_score(y_test, y_pred_lgb3)\n",
    "    \n",
    "    print('GBDT + lightGBM auc2 : %.5f' % lgb_auc3)\n",
    "    \n",
    "    \n",
    "    f_time=time.clock()-start\n",
    "    print('lightGBM time taken: %.2f'% f_time)"
   ]
  },
  {
   "cell_type": "code",
   "execution_count": 19,
   "metadata": {},
   "outputs": [],
   "source": [
    "example = pd.read_csv('example.csv')"
   ]
  },
  {
   "cell_type": "code",
   "execution_count": 16,
   "metadata": {},
   "outputs": [
    {
     "name": "stdout",
     "output_type": "stream",
     "text": [
      "best parameters set found: \n",
      "{'max_depth': 8, 'max_features': 0.5, 'n_estimators': 100}\n",
      "gbdt auc: 0.94744\n",
      "gbdt+lr auc 1: 0.47496\n",
      "gbdt+lr auc 2: 0.47697\n",
      "GBDT+LR time taken: 40.24\n",
      "NB auc:  0.728048687278\n",
      "SVC auc: 0.50000\n",
      "SVC auc2: 0.50000\n",
      "KNN auc : 0.79614\n",
      "KNN auc2: 0.61520\n",
      "Perceptron auc : 0.51301\n",
      "Perceptron auc2 : 0.50000\n",
      "Linear SVC auc : 0.49594\n",
      "Linear SVC auc2 : 0.52416\n",
      "SGD auc : 0.56036\n",
      "SGD auc2 : 0.49957\n",
      "GBDT + other classfier time taken: 84.77\n",
      "XGB auc : 0.86043\n",
      "XGB auc with feature transformed: 0.53599\n",
      "XGB time taken: 2.75\n"
     ]
    }
   ],
   "source": [
    "gbdt_lr_train_test(example) # V3 trial"
   ]
  },
  {
   "cell_type": "code",
   "execution_count": 17,
   "metadata": {},
   "outputs": [
    {
     "name": "stdout",
     "output_type": "stream",
     "text": [
      "best parameters set found: \n",
      "{'max_depth': 6, 'max_features': 0.5, 'n_estimators': 100}\n",
      "gbdt auc: 0.94873\n",
      "gbdt+lr auc 1: 0.48734\n",
      "gbdt+lr auc 2: 0.81641\n",
      "GBDT+LR time taken: 32.58\n",
      "NB auc:  0.843961860358\n",
      "SVC auc: 0.50000\n",
      "SVC auc2: 0.50000\n",
      "KNN auc : 0.85452\n",
      "KNN auc2: 0.60983\n",
      "Perceptron auc : 0.61611\n",
      "Perceptron auc2 : 0.50000\n",
      "Linear SVC auc : 0.53852\n",
      "Linear SVC auc2 : 0.50000\n",
      "SGD auc : 0.66286\n",
      "SGD auc2 : 0.50000\n",
      "GBDT + other classfier time taken: 86.49\n",
      "XGB auc : 0.86043\n",
      "XGB auc with feature transformed: 0.69166\n",
      "XGB time taken: 2.68\n"
     ]
    }
   ],
   "source": [
    "gbdt_lr_train_test(example) # V3 trial"
   ]
  },
  {
   "cell_type": "code",
   "execution_count": 18,
   "metadata": {},
   "outputs": [
    {
     "name": "stdout",
     "output_type": "stream",
     "text": [
      "best parameters set found: \n",
      "{'max_depth': 6, 'max_features': 0.5, 'n_estimators': 100}\n",
      "gbdt auc: 0.94657\n",
      "gbdt+lr auc 1: 0.48735\n",
      "gbdt+lr auc 2: 0.81641\n",
      "GBDT+LR time taken: 32.95\n",
      "NB auc:  0.843961860358\n",
      "SVC auc: 0.50000\n",
      "SVC auc2: 0.50000\n",
      "KNN auc : 0.85452\n",
      "KNN auc2: 0.60983\n",
      "Perceptron auc : 0.61611\n",
      "Perceptron auc2 : 0.50000\n",
      "Linear SVC auc : 0.47925\n",
      "Linear SVC auc2 : 0.48028\n",
      "SGD auc : 0.62034\n",
      "SGD auc2 : 0.50000\n",
      "GBDT + other classfier time taken: 87.54\n",
      "XGB auc : 0.86043\n",
      "XGB auc with feature transformed: 0.69166\n",
      "XGB time taken: 2.60\n"
     ]
    }
   ],
   "source": [
    "gbdt_lr_train_test(example) # V3 trial"
   ]
  },
  {
   "cell_type": "code",
   "execution_count": 23,
   "metadata": {},
   "outputs": [
    {
     "name": "stdout",
     "output_type": "stream",
     "text": [
      "best parameters set found: \n",
      "{'max_depth': 6, 'max_features': 0.5, 'n_estimators': 100}\n",
      "gbdt auc: 0.94619\n",
      "gbdt+lr auc 1: 0.48735\n",
      "gbdt+lr auc 2: 0.81641\n",
      "GBDT+LR time taken: 32.65\n",
      "NB auc: 0.84396\n",
      "SVC auc: 0.50000\n",
      "SVC auc2: 0.50000\n",
      "KNN auc : 0.85452\n",
      "KNN auc2: 0.60983\n",
      "Perceptron auc : 0.61611\n",
      "Perceptron auc2 : 0.50000\n",
      "Linear SVC auc : 0.47830\n",
      "Linear SVC auc2 : 0.49935\n",
      "SGD auc : 0.66557\n",
      "SGD auc2 : 0.50715\n",
      "GBDT + other classfier time taken: 85.66\n",
      "XGB auc : 0.93941\n",
      "XGB auc with feature transformed: 0.69166\n",
      "XGB time taken: 2.68\n"
     ]
    }
   ],
   "source": [
    "gbdt_lr_train_test(example) # V3 trial with n_estimator= 20"
   ]
  },
  {
   "cell_type": "code",
   "execution_count": 32,
   "metadata": {},
   "outputs": [
    {
     "name": "stdout",
     "output_type": "stream",
     "text": [
      "best parameters set found: \n",
      "{'max_depth': 6, 'max_features': 0.5, 'n_estimators': 100}\n",
      "gbdt auc: 0.94810\n",
      "gbdt+lr auc 1: 0.48738\n",
      "gbdt+lr auc 2: 0.81641\n",
      "GBDT+LR time taken: 32.39\n",
      "NB auc: 0.84396\n",
      "SVC auc: 0.50000\n",
      "SVC auc2: 0.50000\n",
      "KNN auc : 0.85452\n",
      "KNN auc2: 0.60983\n",
      "Perceptron auc : 0.61611\n",
      "Perceptron auc2 : 0.50000\n",
      "Linear SVC auc : 0.53175\n",
      "Linear SVC auc2 : 0.55129\n",
      "SGD auc : 0.58215\n",
      "SGD auc2 : 0.50000\n",
      "GBDT + other classfier time taken: 87.13\n",
      "XGB auc : 0.93941\n",
      "XGB auc with feature transformed: 0.69166\n",
      "XGB time taken: 2.69\n"
     ]
    }
   ],
   "source": [
    "gbdt_lr_train_test(example) "
   ]
  },
  {
   "cell_type": "code",
   "execution_count": 38,
   "metadata": {},
   "outputs": [
    {
     "name": "stdout",
     "output_type": "stream",
     "text": [
      "best parameters set found: \n",
      "{'max_depth': 6, 'max_features': 0.5, 'n_estimators': 100}\n",
      "gbdt auc: 0.94665\n",
      "gbdt+lr auc 1: 0.48735\n",
      "gbdt+lr auc 2: 0.81641\n",
      "GBDT+LR time taken: 33.04\n",
      "NB auc: 0.84396\n",
      "SVC auc: 0.50000\n",
      "SVC auc2: 0.50000\n",
      "KNN auc : 0.85452\n",
      "KNN auc2: 0.60983\n",
      "Perceptron auc : 0.61611\n",
      "Perceptron auc2 : 0.50000\n",
      "Linear SVC auc : 0.52158\n",
      "Linear SVC auc2 : 0.50000\n",
      "SGD auc : 0.63871\n",
      "SGD auc2 : 0.52030\n",
      "GBDT + other classfier time taken: 88.46\n",
      "XGB auc : 0.93941\n",
      "XGB auc with feature transformed: 0.69166\n",
      "XGB time taken: 2.65\n"
     ]
    }
   ],
   "source": [
    "gbdt_lr_train_test(example) "
   ]
  },
  {
   "cell_type": "code",
   "execution_count": 46,
   "metadata": {},
   "outputs": [
    {
     "name": "stdout",
     "output_type": "stream",
     "text": [
      "best parameters set found: \n",
      "{'max_depth': 6, 'max_features': 0.5, 'n_estimators': 100}\n",
      "gbdt auc: 0.94557\n",
      "gbdt+lr auc 1: 0.48735\n",
      "gbdt+lr auc 2: 0.81641\n",
      "GBDT+LR time taken: 32.15\n",
      "NB auc: 0.84396\n",
      "SVC auc: 0.50000\n",
      "SVC auc2: 0.50000\n",
      "KNN auc : 0.85452\n",
      "KNN auc2: 0.60983\n",
      "Perceptron auc : 0.61611\n",
      "Perceptron auc2 : 0.50000\n",
      "Linear SVC auc : 0.51555\n",
      "Linear SVC auc2 : 0.55458\n",
      "SGD auc : 0.63701\n",
      "SGD auc2 : 0.45964\n",
      "GBDT + other classfier time taken: 86.84\n",
      "XGB auc : 0.93941\n",
      "XGB auc with feature transformed: 0.69166\n",
      "XGB time taken: 2.62\n",
      "[1]\tvalid_0's l2: 0.235948\tvalid_0's auc: 0.909065\n",
      "Training until validation scores don't improve for 5 rounds.\n",
      "[2]\tvalid_0's l2: 0.225072\tvalid_0's auc: 0.923392\n",
      "[3]\tvalid_0's l2: 0.213547\tvalid_0's auc: 0.926876\n",
      "[4]\tvalid_0's l2: 0.203327\tvalid_0's auc: 0.925996\n",
      "[5]\tvalid_0's l2: 0.194702\tvalid_0's auc: 0.928332\n",
      "[6]\tvalid_0's l2: 0.187084\tvalid_0's auc: 0.930558\n",
      "[7]\tvalid_0's l2: 0.179158\tvalid_0's auc: 0.931759\n",
      "[8]\tvalid_0's l2: 0.172098\tvalid_0's auc: 0.93179\n",
      "[9]\tvalid_0's l2: 0.166308\tvalid_0's auc: 0.932229\n",
      "[10]\tvalid_0's l2: 0.160517\tvalid_0's auc: 0.932373\n",
      "[11]\tvalid_0's l2: 0.156345\tvalid_0's auc: 0.934829\n",
      "[12]\tvalid_0's l2: 0.151175\tvalid_0's auc: 0.935095\n",
      "[13]\tvalid_0's l2: 0.147843\tvalid_0's auc: 0.935209\n",
      "[14]\tvalid_0's l2: 0.144789\tvalid_0's auc: 0.935139\n",
      "[15]\tvalid_0's l2: 0.140675\tvalid_0's auc: 0.935146\n",
      "[16]\tvalid_0's l2: 0.137411\tvalid_0's auc: 0.934875\n",
      "[17]\tvalid_0's l2: 0.133845\tvalid_0's auc: 0.935369\n",
      "[18]\tvalid_0's l2: 0.131732\tvalid_0's auc: 0.935581\n",
      "[19]\tvalid_0's l2: 0.129864\tvalid_0's auc: 0.935215\n",
      "[20]\tvalid_0's l2: 0.126947\tvalid_0's auc: 0.93555\n",
      "Did not meet early stopping. Best iteration is:\n",
      "[20]\tvalid_0's l2: 0.126947\tvalid_0's auc: 0.93555\n",
      "The rmse of prediction is: 0.35629644404\n",
      "lightGBM time taken:  0.25415700000007746\n"
     ]
    }
   ],
   "source": [
    "gbdt_lr_train_test(example) "
   ]
  },
  {
   "cell_type": "code",
   "execution_count": 52,
   "metadata": {},
   "outputs": [
    {
     "name": "stdout",
     "output_type": "stream",
     "text": [
      "best parameters set found: \n",
      "{'max_depth': 6, 'max_features': 0.5, 'n_estimators': 100}\n",
      "gbdt auc: 0.94738\n",
      "gbdt+lr auc 1: 0.48735\n",
      "gbdt+lr auc 2: 0.81641\n",
      "GBDT+LR time taken: 32.82\n",
      "NB auc: 0.84396\n",
      "SVC auc: 0.50000\n",
      "SVC auc2: 0.50000\n",
      "KNN auc : 0.85452\n",
      "KNN auc2: 0.60983\n",
      "Perceptron auc : 0.61611\n",
      "Perceptron auc2 : 0.50000\n",
      "Linear SVC auc : 0.47487\n",
      "Linear SVC auc2 : 0.50000\n",
      "SGD auc : 0.56671\n",
      "SGD auc2 : 0.49914\n",
      "GBDT + other classfier time taken: 88.83\n",
      "XGB auc : 0.93941\n",
      "XGB auc with feature transformed: 0.69166\n",
      "XGB time taken: 2.74\n",
      "[1]\tvalid_0's l2: 0.235948\tvalid_0's auc: 0.909065\n",
      "Training until validation scores don't improve for 5 rounds.\n",
      "[2]\tvalid_0's l2: 0.225072\tvalid_0's auc: 0.923392\n",
      "[3]\tvalid_0's l2: 0.213547\tvalid_0's auc: 0.926876\n",
      "[4]\tvalid_0's l2: 0.203327\tvalid_0's auc: 0.925996\n",
      "[5]\tvalid_0's l2: 0.194702\tvalid_0's auc: 0.928332\n",
      "[6]\tvalid_0's l2: 0.187084\tvalid_0's auc: 0.930558\n",
      "[7]\tvalid_0's l2: 0.179158\tvalid_0's auc: 0.931759\n",
      "[8]\tvalid_0's l2: 0.172098\tvalid_0's auc: 0.93179\n",
      "[9]\tvalid_0's l2: 0.166308\tvalid_0's auc: 0.932229\n",
      "[10]\tvalid_0's l2: 0.160517\tvalid_0's auc: 0.932373\n",
      "[11]\tvalid_0's l2: 0.156345\tvalid_0's auc: 0.934829\n",
      "[12]\tvalid_0's l2: 0.151175\tvalid_0's auc: 0.935095\n",
      "[13]\tvalid_0's l2: 0.147843\tvalid_0's auc: 0.935209\n",
      "[14]\tvalid_0's l2: 0.144789\tvalid_0's auc: 0.935139\n",
      "[15]\tvalid_0's l2: 0.140675\tvalid_0's auc: 0.935146\n",
      "[16]\tvalid_0's l2: 0.137411\tvalid_0's auc: 0.934875\n",
      "[17]\tvalid_0's l2: 0.133845\tvalid_0's auc: 0.935369\n",
      "[18]\tvalid_0's l2: 0.131732\tvalid_0's auc: 0.935581\n",
      "[19]\tvalid_0's l2: 0.129864\tvalid_0's auc: 0.935215\n",
      "[20]\tvalid_0's l2: 0.126947\tvalid_0's auc: 0.93555\n",
      "Did not meet early stopping. Best iteration is:\n",
      "[20]\tvalid_0's l2: 0.126947\tvalid_0's auc: 0.93555\n",
      "The rmse of prediction is: 0.35629644404\n",
      "lightGBM auc : 0.93555\n",
      "lightGBM time taken:  0.27727299999992283\n"
     ]
    }
   ],
   "source": [
    "gbdt_lr_train_test(example) "
   ]
  },
  {
   "cell_type": "code",
   "execution_count": 68,
   "metadata": {},
   "outputs": [
    {
     "name": "stdout",
     "output_type": "stream",
     "text": [
      "best parameters set found: \n",
      "{'max_depth': 7, 'max_features': 0.5, 'n_estimators': 50}\n",
      "gbdt auc: 0.94642\n",
      "gbdt+lr auc 1: 0.55789\n",
      "gbdt+lr auc 2: 0.49749\n",
      "GBDT+LR time taken: 44.90\n",
      "NB auc: 0.83106\n",
      "SVC auc: 0.50000\n",
      "SVC auc2: 0.50000\n",
      "KNN auc : 0.81779\n",
      "KNN auc2: 0.60721\n",
      "Perceptron auc : 0.41106\n",
      "Perceptron auc2 : 0.50219\n",
      "Linear SVC auc : 0.54468\n",
      "Linear SVC auc2 : 0.46483\n",
      "SGD auc : 0.45510\n",
      "SGD auc2 : 0.49869\n",
      "GBDT + other classfier time taken: 55.01\n",
      "XGB auc : 0.93941\n",
      "XGB auc with feature transformed: 0.73873\n",
      "XGB time taken: 1.72\n",
      "[1]\tvalid_0's l2: 0.235948\tvalid_0's auc: 0.909065\n",
      "Training until validation scores don't improve for 5 rounds.\n",
      "[2]\tvalid_0's l2: 0.225072\tvalid_0's auc: 0.923392\n",
      "[3]\tvalid_0's l2: 0.213547\tvalid_0's auc: 0.926876\n",
      "[4]\tvalid_0's l2: 0.203327\tvalid_0's auc: 0.925996\n",
      "[5]\tvalid_0's l2: 0.194702\tvalid_0's auc: 0.928332\n",
      "[6]\tvalid_0's l2: 0.187084\tvalid_0's auc: 0.930558\n",
      "[7]\tvalid_0's l2: 0.179158\tvalid_0's auc: 0.931759\n",
      "[8]\tvalid_0's l2: 0.172098\tvalid_0's auc: 0.93179\n",
      "[9]\tvalid_0's l2: 0.166308\tvalid_0's auc: 0.932229\n",
      "[10]\tvalid_0's l2: 0.160517\tvalid_0's auc: 0.932373\n",
      "[11]\tvalid_0's l2: 0.156345\tvalid_0's auc: 0.934829\n",
      "[12]\tvalid_0's l2: 0.151175\tvalid_0's auc: 0.935095\n",
      "[13]\tvalid_0's l2: 0.147843\tvalid_0's auc: 0.935209\n",
      "[14]\tvalid_0's l2: 0.144789\tvalid_0's auc: 0.935139\n",
      "[15]\tvalid_0's l2: 0.140675\tvalid_0's auc: 0.935146\n",
      "[16]\tvalid_0's l2: 0.137411\tvalid_0's auc: 0.934875\n",
      "[17]\tvalid_0's l2: 0.133845\tvalid_0's auc: 0.935369\n",
      "[18]\tvalid_0's l2: 0.131732\tvalid_0's auc: 0.935581\n",
      "[19]\tvalid_0's l2: 0.129864\tvalid_0's auc: 0.935215\n",
      "[20]\tvalid_0's l2: 0.126947\tvalid_0's auc: 0.93555\n",
      "Did not meet early stopping. Best iteration is:\n",
      "[20]\tvalid_0's l2: 0.126947\tvalid_0's auc: 0.93555\n",
      "lightGBM auc : 0.93555\n",
      "[1]\tvalid_0's l2: 0.249858\tvalid_0's auc: 0.545767\n",
      "Training until validation scores don't improve for 5 rounds.\n",
      "[2]\tvalid_0's l2: 0.243299\tvalid_0's auc: 0.604075\n",
      "[3]\tvalid_0's l2: 0.239163\tvalid_0's auc: 0.653225\n",
      "[4]\tvalid_0's l2: 0.2384\tvalid_0's auc: 0.652044\n",
      "[5]\tvalid_0's l2: 0.239716\tvalid_0's auc: 0.627553\n",
      "[6]\tvalid_0's l2: 0.237493\tvalid_0's auc: 0.735701\n",
      "[7]\tvalid_0's l2: 0.237567\tvalid_0's auc: 0.681283\n",
      "[8]\tvalid_0's l2: 0.230261\tvalid_0's auc: 0.773335\n",
      "[9]\tvalid_0's l2: 0.230525\tvalid_0's auc: 0.756833\n",
      "[10]\tvalid_0's l2: 0.225899\tvalid_0's auc: 0.810795\n",
      "[11]\tvalid_0's l2: 0.223761\tvalid_0's auc: 0.81646\n",
      "[12]\tvalid_0's l2: 0.224236\tvalid_0's auc: 0.774472\n",
      "[13]\tvalid_0's l2: 0.221218\tvalid_0's auc: 0.814139\n",
      "[14]\tvalid_0's l2: 0.219024\tvalid_0's auc: 0.81996\n",
      "[15]\tvalid_0's l2: 0.223165\tvalid_0's auc: 0.785799\n",
      "[16]\tvalid_0's l2: 0.221142\tvalid_0's auc: 0.808324\n",
      "[17]\tvalid_0's l2: 0.219175\tvalid_0's auc: 0.813735\n",
      "[18]\tvalid_0's l2: 0.217041\tvalid_0's auc: 0.815038\n",
      "[19]\tvalid_0's l2: 0.215397\tvalid_0's auc: 0.817833\n",
      "Early stopping, best iteration is:\n",
      "[14]\tvalid_0's l2: 0.219024\tvalid_0's auc: 0.81996\n",
      "lightGBM auc2 : 0.93555\n",
      "lightGBM time taken:  0.5196559999999408\n"
     ]
    }
   ],
   "source": [
    "gbdt_lr_train_test(example) "
   ]
  },
  {
   "cell_type": "code",
   "execution_count": 70,
   "metadata": {},
   "outputs": [
    {
     "name": "stdout",
     "output_type": "stream",
     "text": [
      "best parameters set found: \n",
      "{'max_depth': 8, 'max_features': 0.5, 'n_estimators': 50}\n",
      "gbdt auc: 0.94755\n",
      "gbdt+lr auc 1: 0.72260\n",
      "gbdt+lr auc 2: 0.75584\n",
      "GBDT+LR time taken: 48.59\n",
      "NB auc: 0.81587\n",
      "SVC auc: 0.50000\n",
      "SVC auc2: 0.50000\n",
      "KNN auc : 0.69890\n",
      "KNN auc2: 0.60992\n",
      "Perceptron auc : 0.65405\n",
      "Perceptron auc2 : 0.50000\n",
      "Linear SVC auc : 0.58892\n",
      "Linear SVC auc2 : 0.55888\n",
      "SGD auc : 0.69478\n",
      "SGD auc2 : 0.49852\n",
      "GBDT + other classfier time taken: 54.99\n",
      "XGB auc : 0.93941\n",
      "XGB auc with feature transformed: 0.73586\n",
      "XGB time taken: 1.74\n",
      "[1]\tvalid_0's l2: 0.235948\tvalid_0's auc: 0.909065\n",
      "Training until validation scores don't improve for 5 rounds.\n",
      "[2]\tvalid_0's l2: 0.225072\tvalid_0's auc: 0.923392\n",
      "[3]\tvalid_0's l2: 0.213547\tvalid_0's auc: 0.926876\n",
      "[4]\tvalid_0's l2: 0.203327\tvalid_0's auc: 0.925996\n",
      "[5]\tvalid_0's l2: 0.194702\tvalid_0's auc: 0.928332\n",
      "[6]\tvalid_0's l2: 0.187084\tvalid_0's auc: 0.930558\n",
      "[7]\tvalid_0's l2: 0.179158\tvalid_0's auc: 0.931759\n",
      "[8]\tvalid_0's l2: 0.172098\tvalid_0's auc: 0.93179\n",
      "[9]\tvalid_0's l2: 0.166308\tvalid_0's auc: 0.932229\n",
      "[10]\tvalid_0's l2: 0.160517\tvalid_0's auc: 0.932373\n",
      "[11]\tvalid_0's l2: 0.156345\tvalid_0's auc: 0.934829\n",
      "[12]\tvalid_0's l2: 0.151175\tvalid_0's auc: 0.935095\n",
      "[13]\tvalid_0's l2: 0.147843\tvalid_0's auc: 0.935209\n",
      "[14]\tvalid_0's l2: 0.144789\tvalid_0's auc: 0.935139\n",
      "[15]\tvalid_0's l2: 0.140675\tvalid_0's auc: 0.935146\n",
      "[16]\tvalid_0's l2: 0.137411\tvalid_0's auc: 0.934875\n",
      "[17]\tvalid_0's l2: 0.133845\tvalid_0's auc: 0.935369\n",
      "[18]\tvalid_0's l2: 0.131732\tvalid_0's auc: 0.935581\n",
      "[19]\tvalid_0's l2: 0.129864\tvalid_0's auc: 0.935215\n",
      "[20]\tvalid_0's l2: 0.126947\tvalid_0's auc: 0.93555\n",
      "Did not meet early stopping. Best iteration is:\n",
      "[20]\tvalid_0's l2: 0.126947\tvalid_0's auc: 0.93555\n",
      "lightGBM auc : 0.93555\n",
      "[1]\tvalid_0's l2: 0.246869\tvalid_0's auc: 0.523096\n",
      "Training until validation scores don't improve for 5 rounds.\n",
      "[2]\tvalid_0's l2: 0.243392\tvalid_0's auc: 0.641778\n",
      "[3]\tvalid_0's l2: 0.239312\tvalid_0's auc: 0.667895\n",
      "[4]\tvalid_0's l2: 0.236977\tvalid_0's auc: 0.66376\n",
      "[5]\tvalid_0's l2: 0.237833\tvalid_0's auc: 0.633176\n",
      "[6]\tvalid_0's l2: 0.236856\tvalid_0's auc: 0.63914\n",
      "[7]\tvalid_0's l2: 0.236507\tvalid_0's auc: 0.630387\n",
      "[8]\tvalid_0's l2: 0.234195\tvalid_0's auc: 0.648646\n",
      "Early stopping, best iteration is:\n",
      "[3]\tvalid_0's l2: 0.239312\tvalid_0's auc: 0.667895\n",
      "lightGBM auc2 : 0.93555\n",
      "lightGBM time taken:  0.46092300000009345\n"
     ]
    }
   ],
   "source": [
    "gbdt_lr_train_test(example) "
   ]
  },
  {
   "cell_type": "code",
   "execution_count": 85,
   "metadata": {},
   "outputs": [
    {
     "name": "stdout",
     "output_type": "stream",
     "text": [
      "best parameters set found: \n",
      "{'max_depth': 7, 'max_features': 0.5, 'n_estimators': 50}\n",
      "gbdt auc: 0.94734\n",
      "gbdt+lr auc 1: 0.75421\n",
      "gbdt+lr auc 2: 0.82609\n",
      "GBDT+LR time taken: 46.33\n",
      "NB auc: 0.56546\n",
      "SVC auc: 0.50146\n",
      "SVC auc2: 0.50073\n",
      "KNN auc : 0.41379\n",
      "KNN auc2: 0.60017\n",
      "Perceptron auc : 0.73253\n",
      "Perceptron auc2 : 0.50040\n",
      "Linear SVC auc : 0.65259\n",
      "Linear SVC auc2 : 0.51576\n",
      "SGD auc : 0.57253\n",
      "SGD auc2 : 0.50050\n",
      "GBDT + other classfier time taken: 54.35\n",
      "XGB auc : 0.93941\n",
      "XGB auc with feature transformed: 0.44018\n",
      "XGB time taken: 2.04\n",
      "lightGBM auc : 0.93555\n",
      "lightGBM auc2 : 0.73047\n",
      "lightGBM time taken:  0.37850499999967724\n"
     ]
    }
   ],
   "source": [
    "gbdt_lr_train_test(example) "
   ]
  },
  {
   "cell_type": "code",
   "execution_count": 87,
   "metadata": {},
   "outputs": [
    {
     "name": "stdout",
     "output_type": "stream",
     "text": [
      "best parameters set found: \n",
      "{'max_depth': 8, 'max_features': 0.5, 'n_estimators': 50}\n",
      "gbdt auc: 0.93250\n",
      "gbdt+lr auc 1: 0.62916\n",
      "gbdt+lr auc 2: 0.42805\n",
      "GBDT+LR time taken: 47.38\n",
      "NB auc: 0.57196\n",
      "SVC auc: 0.50000\n",
      "SVC auc2: 0.50000\n",
      "KNN auc : 0.46443\n",
      "KNN auc2: 0.61054\n",
      "Perceptron auc : 0.43689\n",
      "Perceptron auc2 : 0.51866\n",
      "Linear SVC auc : 0.50820\n",
      "Linear SVC auc2 : 0.51632\n",
      "SGD auc : 0.44440\n",
      "SGD auc2 : 0.49403\n",
      "GBDT + other classfier time taken: 53.71\n",
      "XGB auc : 0.92600\n",
      "XGB auc with feature transformed: 0.35298\n",
      "XGB time taken: 1.77\n",
      "lightGBM auc : 0.92576\n",
      "lightGBM auc2 : 0.56333\n",
      "lightGBM time taken:  0.3965550000002622\n"
     ]
    }
   ],
   "source": [
    "gbdt_lr_train_test(example) "
   ]
  },
  {
   "cell_type": "code",
   "execution_count": 9,
   "metadata": {},
   "outputs": [
    {
     "name": "stdout",
     "output_type": "stream",
     "text": [
      "best parameters set found: \n",
      "{'max_depth': 8, 'max_features': 0.5, 'n_estimators': 50}\n",
      "gbdt auc: 0.93637\n",
      "gbdt+lr auc 1: 0.39040\n",
      "gbdt+lr auc 2: 0.34028\n",
      "GBDT+LR time taken: 45.04\n",
      "NB auc: 0.54322\n",
      "SVC auc: 0.50079\n",
      "SVC auc2: 0.50000\n",
      "KNN auc : 0.51652\n",
      "KNN auc2: 0.59861\n",
      "Perceptron auc : 0.51079\n",
      "Perceptron auc2 : 0.51617\n",
      "Linear SVC auc : 0.50114\n",
      "Linear SVC auc2 : 0.50000\n",
      "SGD auc : 0.49828\n",
      "SGD auc2 : 0.49859\n",
      "GBDT + other classfier time taken: 54.02\n",
      "XGB auc : 0.92641\n",
      "XGB auc with feature transformed: 0.40932\n",
      "XGB time taken: 1.73\n",
      "lightGBM auc : 0.92603\n",
      "lightGBM auc with feature transformed : 0.23928\n",
      "lightGBM time taken: 0.37\n"
     ]
    }
   ],
   "source": [
    "gbdt_lr_train_test(example) "
   ]
  },
  {
   "cell_type": "code",
   "execution_count": 10,
   "metadata": {},
   "outputs": [
    {
     "name": "stdout",
     "output_type": "stream",
     "text": [
      "best parameters set found: \n",
      "{'max_depth': 7, 'max_features': 0.5, 'n_estimators': 50}\n",
      "gbdt auc: 0.94298\n",
      "gbdt+lr auc 1: 0.50997\n",
      "gbdt+lr auc 2: 0.60627\n",
      "GBDT+LR time taken: 47.34\n",
      "NB auc: 0.47256\n",
      "SVC auc: 0.50073\n",
      "SVC auc2: 0.50000\n",
      "KNN auc : 0.38880\n",
      "KNN auc2: 0.62608\n",
      "Perceptron auc : 0.57129\n",
      "Perceptron auc2 : 0.49260\n",
      "Linear SVC auc : 0.60090\n",
      "Linear SVC auc2 : 0.47130\n",
      "SGD auc : 0.50228\n",
      "SGD auc2 : 0.53551\n",
      "GBDT + other classfier time taken: 54.45\n",
      "XGB auc : 0.93026\n",
      "XGB auc with feature transformed: 0.47466\n",
      "XGB time taken: 1.73\n",
      "lightGBM auc : 0.92769\n",
      "lightGBM auc with feature transformed : 0.65718\n",
      "lightGBM time taken: 0.36\n"
     ]
    }
   ],
   "source": [
    "gbdt_lr_train_test(example) "
   ]
  },
  {
   "cell_type": "code",
   "execution_count": 12,
   "metadata": {},
   "outputs": [
    {
     "name": "stdout",
     "output_type": "stream",
     "text": [
      "best parameters set found: \n",
      "{'max_depth': 7, 'max_features': 0.5, 'n_estimators': 50}\n",
      "gbdt auc: 0.95106\n",
      "gbdt+lr auc 1: 0.61310\n",
      "gbdt+lr auc 2: 0.55277\n",
      "GBDT+LR time taken: 52.16\n",
      "GBDT + GNB auc: 0.78652\n",
      "GBDT + SVC auc: 0.50000\n",
      "GBDT + SVC auc2: 0.50000\n",
      "GBDT + KNN auc : 0.29751\n",
      "GBDT + KNN auc2: 0.59235\n",
      "GBDT + Perceptron auc : 0.48839\n",
      "GBDT + Perceptron auc2 : 0.49191\n",
      "GBDT + Linear SVC auc : 0.69101\n",
      "GBDT + Linear SVC auc2 : 0.50000\n",
      "GBDT + SGD auc : 0.41851\n",
      "GBDT + SGD auc2 : 0.49983\n",
      "GBDT + other classfier time taken: 55.11\n",
      "XGB auc : 0.94305\n",
      "GBDT + XGB auc: 0.40058\n",
      "XGB time taken: 1.73\n",
      "lightGBM auc : 0.94243\n",
      "GBDT + lightGBM auc : 0.78077\n",
      "lightGBM time taken: 0.47\n"
     ]
    }
   ],
   "source": [
    "gbdt_lr_train_test(example) # Lasso applied"
   ]
  },
  {
   "cell_type": "code",
   "execution_count": 6,
   "metadata": {},
   "outputs": [
    {
     "name": "stdout",
     "output_type": "stream",
     "text": [
      "best parameters set found: \n",
      "{'max_depth': 7, 'max_features': 0.5, 'n_estimators': 50}\n",
      "gbdt auc: 0.94343\n",
      "gbdt+lr auc 1: 0.42421\n",
      "gbdt+lr auc 2: 0.62392\n",
      "GBDT+LR time taken: 52.81\n",
      "GBDT + GNB auc: 0.66043\n",
      "GBDT + SVC auc: 0.50224\n",
      "GBDT + SVC auc2: 0.50075\n",
      "GBDT + KNN auc : 0.45883\n",
      "GBDT + KNN auc2: 0.60745\n",
      "GBDT + Perceptron auc : 0.46499\n",
      "GBDT + Perceptron auc2 : 0.49549\n",
      "GBDT + Linear SVC auc : 0.49307\n",
      "GBDT + Linear SVC auc2 : 0.47914\n",
      "GBDT + SGD auc : 0.44157\n",
      "GBDT + SGD auc2 : 0.48545\n",
      "GBDT + other classfier time taken: 51.96\n",
      "XGB auc : 0.93490\n",
      "GBDT + XGB auc: 0.48161\n",
      "XGB time taken: 1.77\n",
      "lightGBM auc : 0.93071\n",
      "GBDT + lightGBM auc : 0.46530\n",
      "lightGBM time taken: 0.41\n"
     ]
    }
   ],
   "source": [
    "gbdt_lr_train_test(example) # Stronger lasso applied C=0.5"
   ]
  },
  {
   "cell_type": "code",
   "execution_count": 10,
   "metadata": {},
   "outputs": [
    {
     "name": "stdout",
     "output_type": "stream",
     "text": [
      "best parameters set found: \n",
      "{'max_depth': 8, 'max_features': 0.5, 'n_estimators': 40}\n",
      "gbdt auc: 0.94281\n",
      "gbdt+lr auc 1: 0.58251\n",
      "gbdt+lr auc 2: 0.73086\n",
      "GBDT+LR time taken: 50.61\n",
      "GBDT + GNB auc: 0.47418\n",
      "GBDT + SVC auc: 0.50000\n",
      "GBDT + SVC auc2: 0.50000\n",
      "GBDT + KNN auc : 0.70226\n",
      "GBDT + KNN auc2: 0.58391\n",
      "GBDT + Perceptron auc : 0.46116\n",
      "GBDT + Perceptron auc2 : 0.49601\n",
      "GBDT + Linear SVC auc : 0.60985\n",
      "GBDT + Linear SVC auc2 : 0.49945\n",
      "GBDT + SGD auc : 0.58083\n",
      "GBDT + SGD auc2 : 0.50000\n",
      "GBDT + other classfier time taken: 44.69\n",
      "XGB auc : 0.93832\n",
      "GBDT + XGB auc: 0.55111\n",
      "XGB time taken: 1.52\n",
      "lightGBM auc : 0.93366\n",
      "GBDT + lightGBM auc : 0.68184\n",
      "lightGBM time taken: 0.42\n"
     ]
    }
   ],
   "source": [
    "gbdt_lr_train_test(example) # Stronger lasso applied C=0.2"
   ]
  },
  {
   "cell_type": "code",
   "execution_count": 9,
   "metadata": {},
   "outputs": [
    {
     "name": "stdout",
     "output_type": "stream",
     "text": [
      "best parameters set found: \n",
      "{'max_depth': 7, 'max_features': 0.5, 'n_estimators': 50}\n",
      "gbdt auc: 0.94881\n",
      "gbdt+lr auc 1: 0.73851\n",
      "gbdt+lr auc 2: 0.76525\n",
      "GBDT+LR time taken: 55.66\n",
      "GBDT + GNB auc: 0.76210\n",
      "GBDT + SVC auc: 0.50000\n",
      "GBDT + SVC auc2: 0.50000\n",
      "GBDT + KNN auc : 0.48565\n",
      "GBDT + KNN auc2: 0.58401\n",
      "GBDT + Perceptron auc : 0.73822\n",
      "GBDT + Perceptron auc2 : 0.50680\n",
      "GBDT + Linear SVC auc : 0.28860\n",
      "GBDT + Linear SVC auc2 : 0.54970\n",
      "GBDT + SGD auc : 0.67403\n",
      "GBDT + SGD auc2 : 0.55257\n",
      "GBDT + other classfier time taken: 54.93\n",
      "XGB auc : 0.93885\n",
      "GBDT + XGB auc: 0.58941\n",
      "XGB time taken: 1.83\n",
      "lightGBM auc : 0.93846\n",
      "GBDT + lightGBM auc : 0.69843\n",
      "lightGBM time taken: 0.39\n"
     ]
    }
   ],
   "source": [
    "gbdt_lr_train_test(example) # OHE applied"
   ]
  },
  {
   "cell_type": "code",
   "execution_count": 12,
   "metadata": {},
   "outputs": [
    {
     "name": "stdout",
     "output_type": "stream",
     "text": [
      "best parameters set found: \n",
      "{'max_depth': 8, 'max_features': 0.5, 'n_estimators': 50}\n",
      "gbdt auc: 0.94884\n",
      "gbdt+lr auc 1: 0.31611\n",
      "gbdt+lr auc 2: 0.32257\n",
      "GBDT+LR time taken: 50.32\n",
      "GBDT + GNB auc: 0.57865\n",
      "GBDT + SVC auc: 0.50000\n",
      "GBDT + SVC auc2: 0.50000\n",
      "GBDT + KNN auc : 0.45606\n",
      "GBDT + KNN auc2: 0.57899\n",
      "GBDT + Perceptron auc : 0.44331\n",
      "GBDT + Perceptron auc2 : 0.52453\n",
      "GBDT + Linear SVC auc : 0.38417\n",
      "GBDT + Linear SVC auc2 : 0.49853\n",
      "GBDT + SGD auc : 0.47072\n",
      "GBDT + SGD auc2 : 0.52974\n",
      "GBDT + other classfier time taken: 57.04\n",
      "XGB auc : 0.93690\n",
      "GBDT + XGB auc: 0.61455\n",
      "GBDT + XGB auc2: 0.68177\n",
      "XGB time taken: 3.65\n",
      "lightGBM auc : 0.93619\n",
      "GBDT + lightGBM auc : 0.39236\n",
      "GBDT + lightGBM auc : 0.47664\n",
      "lightGBM time taken: 0.59\n"
     ]
    }
   ],
   "source": [
    "gbdt_lr_train_test(example) # features + transformed features on XGB and lightGBM"
   ]
  },
  {
   "cell_type": "code",
   "execution_count": 13,
   "metadata": {},
   "outputs": [
    {
     "name": "stdout",
     "output_type": "stream",
     "text": [
      "best parameters set found: \n",
      "{'max_depth': 7, 'max_features': 0.5, 'n_estimators': 50}\n",
      "gbdt auc: 0.93903\n",
      "gbdt+lr auc 1: 0.76876\n",
      "gbdt+lr auc 2: 0.59136\n",
      "GBDT+LR time taken: 47.24\n",
      "GBDT + GNB auc: 0.75700\n",
      "GBDT + SVC auc: 0.50000\n",
      "GBDT + SVC auc2: 0.50000\n",
      "GBDT + KNN auc : 0.52746\n",
      "GBDT + KNN auc2: 0.60053\n",
      "GBDT + Perceptron auc : 0.52003\n",
      "GBDT + Perceptron auc2 : 0.55061\n",
      "GBDT + Linear SVC auc : 0.64655\n",
      "GBDT + Linear SVC auc2 : 0.50044\n",
      "GBDT + SGD auc : 0.50436\n",
      "GBDT + SGD auc2 : 0.54754\n",
      "GBDT + other classfier time taken: 55.72\n",
      "XGB auc : 0.92993\n",
      "GBDT + XGB auc: 0.42822\n",
      "GBDT + XGB auc2: 0.49972\n",
      "XGB time taken: 3.48\n",
      "lightGBM auc : 0.92864\n",
      "GBDT + lightGBM auc : 0.69141\n",
      "GBDT + lightGBM auc : 0.64543\n",
      "lightGBM time taken: 0.54\n"
     ]
    }
   ],
   "source": [
    "gbdt_lr_train_test(example) # features + transformed features on XGB and lightGBM 2"
   ]
  },
  {
   "cell_type": "code",
   "execution_count": 14,
   "metadata": {},
   "outputs": [
    {
     "name": "stdout",
     "output_type": "stream",
     "text": [
      "best parameters set found: \n",
      "{'max_depth': 8, 'max_features': 0.5, 'n_estimators': 50}\n",
      "gbdt auc: 0.94096\n",
      "gbdt+lr auc 1: 0.53550\n",
      "gbdt+lr auc 2: 0.46523\n",
      "GBDT+LR time taken: 50.19\n",
      "GBDT + GNB auc: 0.49358\n",
      "GBDT + SVC auc: 0.50000\n",
      "GBDT + SVC auc2: 0.50000\n",
      "GBDT + KNN auc : 0.65001\n",
      "GBDT + KNN auc2: 0.58170\n",
      "GBDT + Perceptron auc : 0.52455\n",
      "GBDT + Perceptron auc2 : 0.50074\n",
      "GBDT + Linear SVC auc : 0.35266\n",
      "GBDT + Linear SVC auc2 : 0.51834\n",
      "GBDT + SGD auc : 0.48101\n",
      "GBDT + SGD auc2 : 0.50478\n",
      "GBDT + other classfier time taken: 57.01\n",
      "XGB auc : 0.92904\n",
      "GBDT + XGB auc: 0.53402\n",
      "GBDT + XGB auc2: 0.60563\n",
      "XGB time taken: 3.49\n",
      "lightGBM auc : 0.92666\n",
      "GBDT + lightGBM auc : 0.72257\n",
      "GBDT + lightGBM auc : 0.65327\n",
      "lightGBM time taken: 0.58\n"
     ]
    }
   ],
   "source": [
    "gbdt_lr_train_test(example) # features + transformed features on XGB and lightGBM 3"
   ]
  },
  {
   "cell_type": "code",
   "execution_count": 17,
   "metadata": {},
   "outputs": [
    {
     "name": "stdout",
     "output_type": "stream",
     "text": [
      "best parameters set found: \n",
      "{'max_depth': 7, 'max_features': 0.5, 'n_estimators': 40}\n",
      "gbdt auc: 0.93606\n",
      "gbdt+lr auc 1: 0.79013\n",
      "gbdt+lr auc 2: 0.80337\n",
      "GBDT+LR time taken: 46.44\n",
      "GBDT + GNB auc: 0.31026\n",
      "GBDT + SVC auc: 0.50000\n",
      "GBDT + SVC auc2: 0.50000\n",
      "GBDT + KNN auc : 0.55358\n",
      "GBDT + KNN auc2: 0.59317\n",
      "GBDT + Perceptron auc : 0.70135\n",
      "GBDT + Perceptron auc2 : 0.50000\n",
      "GBDT + Linear SVC auc : 0.66977\n",
      "GBDT + Linear SVC auc2 : 0.50446\n",
      "GBDT + SGD auc : 0.66243\n",
      "GBDT + SGD auc2 : 0.50013\n",
      "GBDT + other classfier time taken: 46.59\n",
      "XGB auc : 0.92765\n",
      "GBDT + XGB auc: 0.70807\n",
      "GBDT + XGB auc2: 0.73399\n",
      "XGB time taken: 2.99\n",
      "lightGBM auc : 0.92383\n",
      "GBDT + lightGBM auc : 0.83976\n",
      "GBDT + lightGBM auc2 : 0.79301\n",
      "lightGBM time taken: 0.59\n"
     ]
    }
   ],
   "source": [
    "gbdt_lr_train_test(example) # features + transformed features on XGB and lightGBM 4"
   ]
  },
  {
   "cell_type": "code",
   "execution_count": 20,
   "metadata": {},
   "outputs": [
    {
     "name": "stdout",
     "output_type": "stream",
     "text": [
      "best parameters set found: \n",
      "{'max_depth': 7, 'max_features': 0.5, 'n_estimators': 50}\n",
      "gbdt auc: 0.94117\n",
      "gbdt+lr auc 1: 0.92528\n",
      "gbdt+lr auc 2: 0.92536\n",
      "GBDT+LR time taken: 50.80\n",
      "GBDT + GNB auc: 0.85217\n",
      "GBDT + SVC auc: 0.83621\n",
      "GBDT + SVC auc2: 0.59101\n",
      "GBDT + KNN auc : 0.89043\n",
      "GBDT + KNN auc2: 0.61965\n",
      "GBDT + Perceptron auc : 0.81829\n",
      "GBDT + Perceptron auc2 : 0.52439\n",
      "GBDT + Linear SVC auc : 0.68912\n",
      "GBDT + Linear SVC auc2 : 0.50179\n",
      "GBDT + SGD auc : 0.71763\n",
      "GBDT + SGD auc2 : 0.48776\n",
      "GBDT + other classfier time taken: 55.47\n",
      "XGB auc : 0.93507\n",
      "GBDT + XGB auc: 0.86619\n",
      "GBDT + XGB auc2: 0.86392\n",
      "XGB time taken: 3.52\n",
      "lightGBM auc : 0.93294\n",
      "GBDT + lightGBM auc : 0.93162\n",
      "GBDT + lightGBM auc2 : 0.93411\n",
      "lightGBM time taken: 0.91\n"
     ]
    }
   ],
   "source": [
    "gbdt_lr_train_test(example)  # changed apply func"
   ]
  },
  {
   "cell_type": "code",
   "execution_count": 21,
   "metadata": {},
   "outputs": [
    {
     "name": "stdout",
     "output_type": "stream",
     "text": [
      "best parameters set found: \n",
      "{'max_depth': 7, 'max_features': 0.5, 'n_estimators': 50}\n",
      "gbdt auc: 0.94292\n",
      "gbdt+lr auc 1: 0.92293\n",
      "gbdt+lr auc 2: 0.92309\n",
      "GBDT+LR time taken: 48.67\n",
      "GBDT + GNB auc: 0.85037\n",
      "GBDT + SVC auc: 0.83145\n",
      "GBDT + SVC auc2: 0.60346\n",
      "GBDT + KNN auc : 0.89178\n",
      "GBDT + KNN auc2: 0.60834\n",
      "GBDT + Perceptron auc : 0.79659\n",
      "GBDT + Perceptron auc2 : 0.48741\n",
      "GBDT + Linear SVC auc : 0.81008\n",
      "GBDT + Linear SVC auc2 : 0.50000\n",
      "GBDT + SGD auc : 0.82762\n",
      "GBDT + SGD auc2 : 0.50547\n",
      "GBDT + other classfier time taken: 56.06\n",
      "XGB auc : 0.93415\n",
      "GBDT + XGB auc: 0.85581\n",
      "GBDT + XGB auc2: 0.85506\n",
      "XGB time taken: 3.59\n",
      "lightGBM auc : 0.93698\n",
      "GBDT + lightGBM auc : 0.93537\n",
      "GBDT + lightGBM auc2 : 0.93563\n",
      "lightGBM time taken: 0.91\n"
     ]
    }
   ],
   "source": [
    "gbdt_lr_train_test(example)  # changed apply func 2"
   ]
  },
  {
   "cell_type": "code",
   "execution_count": 22,
   "metadata": {},
   "outputs": [
    {
     "name": "stdout",
     "output_type": "stream",
     "text": [
      "best parameters set found: \n",
      "{'max_depth': 8, 'max_features': 0.5, 'n_estimators': 50}\n",
      "gbdt auc: 0.93869\n",
      "gbdt+lr auc 1: 0.91245\n",
      "gbdt+lr auc 2: 0.91295\n",
      "GBDT+LR time taken: 49.16\n",
      "GBDT + GNB auc: 0.85332\n",
      "GBDT + SVC auc: 0.78914\n",
      "GBDT + SVC auc2: 0.60929\n",
      "GBDT + KNN auc : 0.89101\n",
      "GBDT + KNN auc2: 0.63190\n",
      "GBDT + Perceptron auc : 0.66173\n",
      "GBDT + Perceptron auc2 : 0.50000\n",
      "GBDT + Linear SVC auc : 0.76114\n",
      "GBDT + Linear SVC auc2 : 0.54184\n",
      "GBDT + SGD auc : 0.82460\n",
      "GBDT + SGD auc2 : 0.54032\n",
      "GBDT + other classfier time taken: 55.63\n",
      "XGB auc : 0.93361\n",
      "GBDT + XGB auc: 0.85799\n",
      "GBDT + XGB auc2: 0.85924\n",
      "XGB time taken: 3.42\n",
      "lightGBM auc : 0.93037\n",
      "GBDT + lightGBM auc : 0.92904\n",
      "GBDT + lightGBM auc2 : 0.92766\n",
      "lightGBM time taken: 0.90\n"
     ]
    }
   ],
   "source": [
    "gbdt_lr_train_test(example)  # changed apply func 3"
   ]
  },
  {
   "cell_type": "code",
   "execution_count": 4,
   "metadata": {},
   "outputs": [],
   "source": [
    "example = pd.read_csv('example2.csv')"
   ]
  },
  {
   "cell_type": "code",
   "execution_count": 8,
   "metadata": {},
   "outputs": [
    {
     "name": "stdout",
     "output_type": "stream",
     "text": [
      "best parameters set found: \n",
      "{'max_depth': 7, 'max_features': 0.5, 'n_estimators': 50}\n",
      "gbdt auc: 0.96370\n",
      "gbdt+lr auc 1: 0.92933\n",
      "gbdt+lr auc 2: 0.91187\n",
      "GBDT+LR time taken: 86.87\n",
      "GBDT + GNB auc: 0.82161\n",
      "GBDT + SVC auc: 0.87826\n",
      "GBDT + SVC auc2: 0.86028\n",
      "GBDT + KNN auc : 0.92190\n",
      "GBDT + KNN auc2: 0.91518\n",
      "GBDT + Perceptron auc : 0.75335\n",
      "GBDT + Perceptron auc2 : 0.71778\n",
      "GBDT + Linear SVC auc : 0.82492\n",
      "GBDT + Linear SVC auc2 : 0.72753\n",
      "GBDT + SGD auc : 0.68741\n",
      "GBDT + SGD auc2 : 0.71778\n",
      "GBDT + other classfier time taken: 83.65\n",
      "XGB auc : 0.95227\n",
      "GBDT + XGB auc: 0.88142\n",
      "GBDT + XGB auc2: 0.88665\n",
      "XGB time taken: 4.89\n",
      "lightGBM auc : 0.94759\n",
      "GBDT + lightGBM auc : 0.95145\n",
      "GBDT + lightGBM auc2 : 0.95132\n",
      "lightGBM time taken: 0.98\n"
     ]
    }
   ],
   "source": [
    "gbdt_lr_train_test(example) # trying with other dataset 1"
   ]
  },
  {
   "cell_type": "code",
   "execution_count": 6,
   "metadata": {},
   "outputs": [
    {
     "name": "stdout",
     "output_type": "stream",
     "text": [
      "best parameters set found: \n",
      "{'max_depth': 7, 'max_features': 0.5, 'n_estimators': 50}\n",
      "gbdt auc: 0.95998\n",
      "gbdt+lr auc 1: 0.93201\n",
      "gbdt+lr auc 2: 0.92693\n",
      "GBDT+LR time taken: 98.81\n",
      "GBDT + GNB auc: 0.81533\n",
      "GBDT + SVC auc: 0.89411\n",
      "GBDT + SVC auc2: 0.88053\n",
      "GBDT + KNN auc : 0.90855\n",
      "GBDT + KNN auc2: 0.90549\n",
      "GBDT + Perceptron auc : 0.83860\n",
      "GBDT + Perceptron auc2 : 0.54481\n",
      "GBDT + Linear SVC auc : 0.79475\n",
      "GBDT + Linear SVC auc2 : 0.76097\n",
      "GBDT + SGD auc : 0.82281\n",
      "GBDT + SGD auc2 : 0.30434\n",
      "GBDT + other classfier time taken: 91.42\n",
      "XGB auc : 0.95143\n",
      "GBDT + XGB auc: 0.87517\n",
      "GBDT + XGB auc2: 0.87759\n",
      "XGB time taken: 5.17\n",
      "lightGBM auc : 0.94649\n",
      "GBDT + lightGBM auc : 0.95125\n",
      "GBDT + lightGBM auc2 : 0.94941\n",
      "lightGBM time taken: 1.03\n"
     ]
    }
   ],
   "source": [
    "gbdt_lr_train_test(example) # trying with other dataset 2"
   ]
  },
  {
   "cell_type": "code",
   "execution_count": 7,
   "metadata": {},
   "outputs": [
    {
     "name": "stdout",
     "output_type": "stream",
     "text": [
      "best parameters set found: \n",
      "{'max_depth': 8, 'max_features': 0.5, 'n_estimators': 50}\n",
      "gbdt auc: 0.95952\n",
      "gbdt+lr auc 1: 0.92350\n",
      "gbdt+lr auc 2: 0.92158\n",
      "GBDT+LR time taken: 84.29\n",
      "GBDT + GNB auc: 0.81042\n",
      "GBDT + SVC auc: 0.84675\n",
      "GBDT + SVC auc2: 0.84359\n",
      "GBDT + KNN auc : 0.92180\n",
      "GBDT + KNN auc2: 0.91417\n",
      "GBDT + Perceptron auc : 0.81990\n",
      "GBDT + Perceptron auc2 : 0.72683\n",
      "GBDT + Linear SVC auc : 0.78273\n",
      "GBDT + Linear SVC auc2 : 0.72034\n",
      "GBDT + SGD auc : 0.75441\n",
      "GBDT + SGD auc2 : 0.74351\n",
      "GBDT + other classfier time taken: 80.03\n",
      "XGB auc : 0.95045\n",
      "GBDT + XGB auc: 0.89218\n",
      "GBDT + XGB auc2: 0.89305\n",
      "XGB time taken: 4.92\n",
      "lightGBM auc : 0.94762\n",
      "GBDT + lightGBM auc : 0.94962\n",
      "GBDT + lightGBM auc2 : 0.94974\n",
      "lightGBM time taken: 1.01\n"
     ]
    }
   ],
   "source": [
    "gbdt_lr_train_test(example) # trying with other dataset 3"
   ]
  },
  {
   "cell_type": "code",
   "execution_count": null,
   "metadata": {},
   "outputs": [],
   "source": []
  }
 ],
 "metadata": {
  "kernelspec": {
   "display_name": "Python 3",
   "language": "python",
   "name": "python3"
  },
  "language_info": {
   "codemirror_mode": {
    "name": "ipython",
    "version": 3
   },
   "file_extension": ".py",
   "mimetype": "text/x-python",
   "name": "python",
   "nbconvert_exporter": "python",
   "pygments_lexer": "ipython3",
   "version": "3.6.3"
  }
 },
 "nbformat": 4,
 "nbformat_minor": 2
}
