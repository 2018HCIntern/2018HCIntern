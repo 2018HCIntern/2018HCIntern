{
 "cells": [
  {
   "cell_type": "code",
   "execution_count": 12,
   "metadata": {},
   "outputs": [],
   "source": [
    "import numpy as np\n",
    "import pandas as pd\n",
    "import xgboost as xgb\n",
    "from xgboost import XGBClassifier\n",
    "import lightgbm as lgb\n",
    "from sklearn.preprocessing import OneHotEncoder\n",
    "from sklearn.preprocessing import StandardScaler\n",
    "from sklearn.model_selection import train_test_split\n",
    "from sklearn.linear_model import LogisticRegression\n",
    "from sklearn.metrics import roc_curve, auc, roc_auc_score,accuracy_score\n",
    "from sklearn.externals import joblib\n",
    "from sklearn.ensemble import GradientBoostingClassifier\n",
    "from sklearn.model_selection import GridSearchCV\n",
    "from sklearn.externals import joblib\n",
    "from sklearn.svm import SVC, LinearSVC\n",
    "from sklearn.neighbors import KNeighborsClassifier\n",
    "from sklearn.ensemble import RandomForestClassifier\n",
    "from sklearn.naive_bayes import GaussianNB\n",
    "from sklearn.linear_model import SGDClassifier\n",
    "from sklearn.linear_model import Perceptron\n",
    "from sklearn.naive_bayes import GaussianNB\n",
    "import matplotlib.pyplot as plt\n",
    "import numpy as np\n",
    "import pandas as pd\n",
    "from scipy.sparse import csr_matrix\n",
    "from scipy.sparse import hstack\n",
    "import time, os, random, sys\n",
    "import math\n",
    "import hyperopt.tpe\n",
    "\n",
    "import warnings\n",
    "\n",
    "warnings.filterwarnings('ignore')\n",
    "np.random.seed(1)"
   ]
  },
  {
   "cell_type": "code",
   "execution_count": 37,
   "metadata": {},
   "outputs": [],
   "source": [
    "def get_leaf_indices(ensemble, x):\n",
    "    x = x.astype(np.float32)\n",
    "    trees = ensemble.estimators_\n",
    "    n_trees = trees.shape[0]\n",
    "    indices = []\n",
    "\n",
    "    for i in range(n_trees):\n",
    "        tree = trees[i][0].tree_\n",
    "        indices.append(tree.apply(x))\n",
    "\n",
    "    indices = np.column_stack(indices)\n",
    "    return indices\n",
    "\n",
    "\n",
    "\n",
    "def GBDT_lr(File):\n",
    "    \n",
    "    #XGBoost\n",
    "\n",
    "    start = time.clock()\n",
    "    train_df, test_df = train_test_split(File, train_size = 0.75)\n",
    "    X_train = train_df.drop(['cardio'], axis=1)\n",
    "    y_train = train_df['cardio']\n",
    "    X_test = test_df.drop(['cardio'], axis=1)\n",
    "    y_test = test_df['cardio']\n",
    "    \n",
    "    \n",
    "    dtrain = xgb.DMatrix(X_train.values,y_train.values)\n",
    "    dtest = xgb.DMatrix(X_test.values, y_test.values)\n",
    "    param = {'silent': 1, 'objective':'binary:logistic','max_depth': 7 }\n",
    "    watchlist = [(dtest, 'eval'), (dtrain, 'train')]\n",
    "    num_round=30\n",
    "    bst= xgb.train(param, dtrain,num_round)\n",
    "\n",
    "\n",
    "    \n",
    "    y_pred = bst.predict(dtrain, pred_leaf=True)\n",
    "\n",
    "    num_leaf= np.max(y_pred)\n",
    "    X_train_leaves_xgb = np.zeros([len(y_pred),len(y_pred[0]) * num_leaf],dtype=np.int64)\n",
    "    for i in range(0,len(y_pred)):\n",
    "        temp = np.arange(len(y_pred[0])) * num_leaf - 1 + np.array(y_pred[i])\n",
    "        X_train_leaves_xgb[i][temp] += 1\n",
    "\n",
    "    y_pred= bst.predict(dtest, pred_leaf=True)    \n",
    "    X_test_leaves_xgb = np.zeros([len(y_pred),len(y_pred[0]) * num_leaf],dtype=np.int64)\n",
    "    for i in range(0,len(y_pred)):\n",
    "        temp = np.arange(len(y_pred[0])) * num_leaf - 1 + np.array(y_pred[i])\n",
    "        X_test_leaves_xgb[i][temp] += 1\n",
    "    \n",
    "    \n",
    "    #lightGBM\n",
    "        \n",
    "        # create dataset for lightgbm\n",
    "    lgb_train = lgb.Dataset(X_train, y_train)\n",
    "    lgb_eval = lgb.Dataset(X_test, y_test, reference=lgb_train)\n",
    "\n",
    "    # specify your configurations as a dict\n",
    "    params = {\n",
    "        'task': 'train',\n",
    "        'boosting_type': 'gbdt',\n",
    "        'objective': 'binary',\n",
    "        'metric': {'binary_logloss'},\n",
    "        'num_leaves': 63,\n",
    "        'num_trees': 30,\n",
    "        'learning_rate': 0.01,\n",
    "        'feature_fraction': 0.9,\n",
    "        'bagging_fraction': 0.8,\n",
    "        'bagging_freq': 5,\n",
    "        'verbose': 0\n",
    "    }\n",
    "\n",
    "    # number of leaves,will be used in feature transformation\n",
    "    num_leaf = 63\n",
    "\n",
    "\n",
    "    # train\n",
    "    gbm = lgb.train(params,\n",
    "                    lgb_train,\n",
    "                    num_boost_round=100,\n",
    "                    valid_sets=lgb_train,\n",
    "                   verbose_eval=False)\n",
    "\n",
    "    y_pred = gbm.predict(X_train,pred_leaf=True)\n",
    "    \n",
    "\n",
    "    X_train_leaves_lgb = np.zeros([len(y_pred),len(y_pred[0]) * num_leaf],dtype=np.int64)\n",
    "    for i in range(0,len(y_pred)):\n",
    "        temp = np.arange(len(y_pred[0])) * num_leaf - 1 + np.array(y_pred[i])\n",
    "        X_train_leaves_lgb[i][temp] += 1\n",
    "\n",
    "    \n",
    "    y_pred = gbm.predict(X_test,pred_leaf=True)\n",
    "\n",
    "    X_test_leaves_lgb = np.zeros([len(y_pred),len(y_pred[0]) * num_leaf],dtype=np.int64)\n",
    "    for i in range(0,len(y_pred)):\n",
    "        temp = np.arange(len(y_pred[0])) * num_leaf - 1 + np.array(y_pred[i])\n",
    "        X_test_leaves_lgb[i][temp] += 1\n",
    "\n",
    " \n",
    "    #GBC\n",
    "\n",
    "    gbclf=GradientBoostingClassifier(n_estimators=30, max_depth=7,verbose=0)\n",
    "    gbclf.fit(X_train,y_train)\n",
    "    leaf = get_leaf_indices\n",
    "    \n",
    "    \n",
    "    \n",
    "    \n",
    "    \n",
    "    \n",
    "    y_pred=leaf(gbclf,X_train.values)\n",
    "    num_leaf=np.max(y_pred)\n",
    "    X_train_leaves_gbc = np.zeros([len(y_pred),len(y_pred[0]) * num_leaf],dtype=np.int64)\n",
    "    for i in range(0,len(y_pred)):\n",
    "        temp = np.arange(len(y_pred[0])) * num_leaf - 1 + np.array(y_pred[i])\n",
    "        X_train_leaves_gbc[i][temp] += 1\n",
    "\n",
    "    y_pred=leaf(gbclf,X_test.values)  \n",
    "    X_test_leaves_gbc = np.zeros([len(y_pred),len(y_pred[0]) * num_leaf],dtype=np.int64)\n",
    "    for i in range(0,len(y_pred)):\n",
    "        temp = np.arange(len(y_pred[0])) * num_leaf - 1 + np.array(y_pred[i])\n",
    "        X_test_leaves_gbc[i][temp] += 1\n",
    "    \n",
    "    \n",
    "    \n",
    "    \n",
    "\n",
    "    X_train_leaves =  np.hstack([X_train_leaves_xgb, X_train_leaves_lgb,X_train_leaves_gbc])\n",
    "    X_test_leaves= np.hstack([X_test_leaves_xgb, X_test_leaves_lgb,X_test_leaves_gbc])\n",
    "    \n",
    "    \n",
    "\n",
    "    \n",
    "    bestC=0\n",
    "    auc_best=0\n",
    "    \n",
    "    #---------------------------------------------------------------------------------------------\n",
    "    #regularization applied testing\n",
    "    c = np.array([1,0.5,0.1,0.05,0.01,0.005,0.001])\n",
    "    for t in range(0,len(c)):\n",
    "        lm = LogisticRegression(penalty='l1',C=c[t]) # logestic model construction\n",
    "        lm.fit(X_train_leaves,y_train)  # fitting the data\n",
    "\n",
    "        y_pred_est = lm.predict_proba(X_test_leaves)   # Give the probabilty on each label\n",
    "\n",
    "        auc=roc_auc_score(y_test, y_pred_est[:,1])\n",
    "        if auc_best < auc:\n",
    "            auc_best=auc\n",
    "            bestC=c[t]\n",
    "            acc=accuracy_score(y_test,y_pred_est[:,1].round())\n",
    "\n",
    "    #---------------------------------------------------------------------------------------------    \n",
    "    \n",
    "    \n",
    "    print('best C value: %.2f' % bestC)\n",
    "    print('GBDT+LR auc 1: %.5f' % auc_best)\n",
    "    print('GBDT+LR accuracy: %.5f' % acc)\n",
    "    f_time =time.clock()-start\n",
    "    print('GBDT+LR time taken: %.2f'% f_time)\n",
    "    \n",
    "    \n",
    "    '''\n",
    "    lr = LogisticRegression(n_jobs=-1)\n",
    "    X_train_ext = hstack([X_train_leaves, X_train])\n",
    "    lr.fit(X_train_ext, y_train)\n",
    "    X_test_ext = hstack([X_test_leaves, X_test])\n",
    "    y_pred_gbdtlr2 = lr.predict_proba(X_test_ext)[:, 1]\n",
    "    gbdtlr_auc2 = roc_auc_score(y_test, y_pred_gbdtlr2)\n",
    "    print('GBDT+LR auc 2: %.5f' % gbdtlr_auc2)\n",
    "    f_time =time.clock()-start\n",
    "    print('GBDT+LR time taken: %.2f'% f_time)\n",
    "    '''\n",
    "    \n",
    "    #lightGBM\n",
    "    start = time.clock()\n",
    "    lgb_train = lgb.Dataset(X_train, y_train)\n",
    "    lgb_eval = lgb.Dataset(X_test, y_test, reference=lgb_train)\n",
    "    \n",
    "    \n",
    "    \n",
    "    # specify your configurations as a dict\n",
    "    params = {\n",
    "    'task': 'train',\n",
    "    'boosting_type': 'gbdt',\n",
    "    'objective': 'regression',\n",
    "    'metric': {'l2', 'auc'},\n",
    "    'num_leaves': 31,\n",
    "    'learning_rate': 0.05,\n",
    "    'feature_fraction': 0.9,\n",
    "    'bagging_fraction': 0.8,\n",
    "    'bagging_freq': 5,\n",
    "    'verbose': 0\n",
    "    \n",
    "    }\n",
    "\n",
    "    # train\n",
    "    gbm = lgb.train(params,\n",
    "                    lgb_train,\n",
    "                    num_boost_round=20,\n",
    "                    valid_sets=lgb_eval,\n",
    "                    early_stopping_rounds=5,\n",
    "                    verbose_eval=False)\n",
    "\n",
    "\n",
    "\n",
    "    y_pred_lgb = gbm.predict(X_test, num_iteration=gbm.best_iteration)\n",
    "    # eval\n",
    "    lgb_auc=roc_auc_score(y_test,y_pred_lgb)\n",
    "    print('lightGBM auc : %.5f' % lgb_auc)\n",
    "    \n",
    "    #XGB\n",
    "    start = time.clock()\n",
    "    xgbc=XGBClassifier()\n",
    "    xgbc.fit(X_train,y_train)\n",
    "    Y_pred_xgb=xgbc.predict_proba(X_test)[:,1]\n",
    "    xgb_auc= roc_auc_score(y_test,Y_pred_xgb)\n",
    "    print('XGB auc : %.5f' % xgb_auc)\n",
    "    "
   ]
  },
  {
   "cell_type": "code",
   "execution_count": 17,
   "metadata": {},
   "outputs": [],
   "source": [
    "example = pd.read_csv('train.csv', delimiter=';')"
   ]
  },
  {
   "cell_type": "code",
   "execution_count": 18,
   "metadata": {},
   "outputs": [
    {
     "data": {
      "text/html": [
       "<div>\n",
       "<style>\n",
       "    .dataframe thead tr:only-child th {\n",
       "        text-align: right;\n",
       "    }\n",
       "\n",
       "    .dataframe thead th {\n",
       "        text-align: left;\n",
       "    }\n",
       "\n",
       "    .dataframe tbody tr th {\n",
       "        vertical-align: top;\n",
       "    }\n",
       "</style>\n",
       "<table border=\"1\" class=\"dataframe\">\n",
       "  <thead>\n",
       "    <tr style=\"text-align: right;\">\n",
       "      <th></th>\n",
       "      <th>age</th>\n",
       "      <th>gender</th>\n",
       "      <th>height</th>\n",
       "      <th>weight</th>\n",
       "      <th>ap_hi</th>\n",
       "      <th>ap_lo</th>\n",
       "      <th>cholesterol</th>\n",
       "      <th>gluc</th>\n",
       "      <th>smoke</th>\n",
       "      <th>alco</th>\n",
       "      <th>active</th>\n",
       "      <th>cardio</th>\n",
       "    </tr>\n",
       "  </thead>\n",
       "  <tbody>\n",
       "    <tr>\n",
       "      <th>0</th>\n",
       "      <td>18393</td>\n",
       "      <td>2</td>\n",
       "      <td>168</td>\n",
       "      <td>62.0</td>\n",
       "      <td>110</td>\n",
       "      <td>80</td>\n",
       "      <td>1</td>\n",
       "      <td>1</td>\n",
       "      <td>0</td>\n",
       "      <td>0</td>\n",
       "      <td>1</td>\n",
       "      <td>0</td>\n",
       "    </tr>\n",
       "    <tr>\n",
       "      <th>1</th>\n",
       "      <td>20228</td>\n",
       "      <td>1</td>\n",
       "      <td>156</td>\n",
       "      <td>85.0</td>\n",
       "      <td>140</td>\n",
       "      <td>90</td>\n",
       "      <td>3</td>\n",
       "      <td>1</td>\n",
       "      <td>0</td>\n",
       "      <td>0</td>\n",
       "      <td>1</td>\n",
       "      <td>1</td>\n",
       "    </tr>\n",
       "    <tr>\n",
       "      <th>2</th>\n",
       "      <td>18857</td>\n",
       "      <td>1</td>\n",
       "      <td>165</td>\n",
       "      <td>64.0</td>\n",
       "      <td>130</td>\n",
       "      <td>70</td>\n",
       "      <td>3</td>\n",
       "      <td>1</td>\n",
       "      <td>0</td>\n",
       "      <td>0</td>\n",
       "      <td>0</td>\n",
       "      <td>1</td>\n",
       "    </tr>\n",
       "    <tr>\n",
       "      <th>3</th>\n",
       "      <td>17623</td>\n",
       "      <td>2</td>\n",
       "      <td>169</td>\n",
       "      <td>82.0</td>\n",
       "      <td>150</td>\n",
       "      <td>100</td>\n",
       "      <td>1</td>\n",
       "      <td>1</td>\n",
       "      <td>0</td>\n",
       "      <td>0</td>\n",
       "      <td>1</td>\n",
       "      <td>1</td>\n",
       "    </tr>\n",
       "    <tr>\n",
       "      <th>4</th>\n",
       "      <td>17474</td>\n",
       "      <td>1</td>\n",
       "      <td>156</td>\n",
       "      <td>56.0</td>\n",
       "      <td>100</td>\n",
       "      <td>60</td>\n",
       "      <td>1</td>\n",
       "      <td>1</td>\n",
       "      <td>0</td>\n",
       "      <td>0</td>\n",
       "      <td>0</td>\n",
       "      <td>0</td>\n",
       "    </tr>\n",
       "  </tbody>\n",
       "</table>\n",
       "</div>"
      ],
      "text/plain": [
       "     age  gender  height  weight  ap_hi  ap_lo  cholesterol  gluc  smoke  \\\n",
       "0  18393       2     168    62.0    110     80            1     1      0   \n",
       "1  20228       1     156    85.0    140     90            3     1      0   \n",
       "2  18857       1     165    64.0    130     70            3     1      0   \n",
       "3  17623       2     169    82.0    150    100            1     1      0   \n",
       "4  17474       1     156    56.0    100     60            1     1      0   \n",
       "\n",
       "   alco  active  cardio  \n",
       "0     0       1       0  \n",
       "1     0       1       1  \n",
       "2     0       0       1  \n",
       "3     0       1       1  \n",
       "4     0       0       0  "
      ]
     },
     "execution_count": 18,
     "metadata": {},
     "output_type": "execute_result"
    }
   ],
   "source": [
    "example=example.drop(['id'],axis=1)\n",
    "example.head()"
   ]
  },
  {
   "cell_type": "code",
   "execution_count": 19,
   "metadata": {},
   "outputs": [],
   "source": [
    "example.loc[(example.height < 100), 'height'] += 100"
   ]
  },
  {
   "cell_type": "code",
   "execution_count": 20,
   "metadata": {},
   "outputs": [],
   "source": [
    "example['ap_hi'] = example.ap_hi.abs()\n",
    "example['ap_lo'] = example.ap_lo.abs()"
   ]
  },
  {
   "cell_type": "code",
   "execution_count": 21,
   "metadata": {},
   "outputs": [],
   "source": [
    "while np.any(example.ap_hi > 800):\n",
    "    example.loc[example.ap_hi > 800, 'ap_hi'] /= 10"
   ]
  },
  {
   "cell_type": "code",
   "execution_count": 22,
   "metadata": {},
   "outputs": [],
   "source": [
    "for i in range(3):\n",
    "    example.loc[example.ap_hi < 22, 'ap_hi'] *= 10"
   ]
  },
  {
   "cell_type": "code",
   "execution_count": 23,
   "metadata": {},
   "outputs": [],
   "source": [
    "while np.any(example.ap_lo > 600):\n",
    "    example.loc[example.ap_lo > 600, 'ap_lo'] /= 10"
   ]
  },
  {
   "cell_type": "code",
   "execution_count": 24,
   "metadata": {},
   "outputs": [],
   "source": [
    "for i in range(3):\n",
    "    example.loc[example.ap_lo < 11, 'ap_lo'] *= 10\n"
   ]
  },
  {
   "cell_type": "code",
   "execution_count": 25,
   "metadata": {},
   "outputs": [],
   "source": [
    "example['bmi'] = example.weight / ((example.height / 100) ** 2)"
   ]
  },
  {
   "cell_type": "code",
   "execution_count": 26,
   "metadata": {},
   "outputs": [
    {
     "data": {
      "text/html": [
       "<div>\n",
       "<style>\n",
       "    .dataframe thead tr:only-child th {\n",
       "        text-align: right;\n",
       "    }\n",
       "\n",
       "    .dataframe thead th {\n",
       "        text-align: left;\n",
       "    }\n",
       "\n",
       "    .dataframe tbody tr th {\n",
       "        vertical-align: top;\n",
       "    }\n",
       "</style>\n",
       "<table border=\"1\" class=\"dataframe\">\n",
       "  <thead>\n",
       "    <tr style=\"text-align: right;\">\n",
       "      <th></th>\n",
       "      <th>age</th>\n",
       "      <th>gender</th>\n",
       "      <th>height</th>\n",
       "      <th>weight</th>\n",
       "      <th>ap_hi</th>\n",
       "      <th>ap_lo</th>\n",
       "      <th>cholesterol</th>\n",
       "      <th>gluc</th>\n",
       "      <th>smoke</th>\n",
       "      <th>alco</th>\n",
       "      <th>active</th>\n",
       "      <th>cardio</th>\n",
       "      <th>bmi</th>\n",
       "    </tr>\n",
       "  </thead>\n",
       "  <tbody>\n",
       "    <tr>\n",
       "      <th>0</th>\n",
       "      <td>18393</td>\n",
       "      <td>2</td>\n",
       "      <td>168</td>\n",
       "      <td>62.0</td>\n",
       "      <td>110.0</td>\n",
       "      <td>80.0</td>\n",
       "      <td>1</td>\n",
       "      <td>1</td>\n",
       "      <td>0</td>\n",
       "      <td>0</td>\n",
       "      <td>1</td>\n",
       "      <td>0</td>\n",
       "      <td>21.967120</td>\n",
       "    </tr>\n",
       "    <tr>\n",
       "      <th>1</th>\n",
       "      <td>20228</td>\n",
       "      <td>1</td>\n",
       "      <td>156</td>\n",
       "      <td>85.0</td>\n",
       "      <td>140.0</td>\n",
       "      <td>90.0</td>\n",
       "      <td>3</td>\n",
       "      <td>1</td>\n",
       "      <td>0</td>\n",
       "      <td>0</td>\n",
       "      <td>1</td>\n",
       "      <td>1</td>\n",
       "      <td>34.927679</td>\n",
       "    </tr>\n",
       "    <tr>\n",
       "      <th>2</th>\n",
       "      <td>18857</td>\n",
       "      <td>1</td>\n",
       "      <td>165</td>\n",
       "      <td>64.0</td>\n",
       "      <td>130.0</td>\n",
       "      <td>70.0</td>\n",
       "      <td>3</td>\n",
       "      <td>1</td>\n",
       "      <td>0</td>\n",
       "      <td>0</td>\n",
       "      <td>0</td>\n",
       "      <td>1</td>\n",
       "      <td>23.507805</td>\n",
       "    </tr>\n",
       "    <tr>\n",
       "      <th>3</th>\n",
       "      <td>17623</td>\n",
       "      <td>2</td>\n",
       "      <td>169</td>\n",
       "      <td>82.0</td>\n",
       "      <td>150.0</td>\n",
       "      <td>100.0</td>\n",
       "      <td>1</td>\n",
       "      <td>1</td>\n",
       "      <td>0</td>\n",
       "      <td>0</td>\n",
       "      <td>1</td>\n",
       "      <td>1</td>\n",
       "      <td>28.710479</td>\n",
       "    </tr>\n",
       "    <tr>\n",
       "      <th>4</th>\n",
       "      <td>17474</td>\n",
       "      <td>1</td>\n",
       "      <td>156</td>\n",
       "      <td>56.0</td>\n",
       "      <td>100.0</td>\n",
       "      <td>60.0</td>\n",
       "      <td>1</td>\n",
       "      <td>1</td>\n",
       "      <td>0</td>\n",
       "      <td>0</td>\n",
       "      <td>0</td>\n",
       "      <td>0</td>\n",
       "      <td>23.011177</td>\n",
       "    </tr>\n",
       "  </tbody>\n",
       "</table>\n",
       "</div>"
      ],
      "text/plain": [
       "     age  gender  height  weight  ap_hi  ap_lo  cholesterol  gluc  smoke  \\\n",
       "0  18393       2     168    62.0  110.0   80.0            1     1      0   \n",
       "1  20228       1     156    85.0  140.0   90.0            3     1      0   \n",
       "2  18857       1     165    64.0  130.0   70.0            3     1      0   \n",
       "3  17623       2     169    82.0  150.0  100.0            1     1      0   \n",
       "4  17474       1     156    56.0  100.0   60.0            1     1      0   \n",
       "\n",
       "   alco  active  cardio        bmi  \n",
       "0     0       1       0  21.967120  \n",
       "1     0       1       1  34.927679  \n",
       "2     0       0       1  23.507805  \n",
       "3     0       1       1  28.710479  \n",
       "4     0       0       0  23.011177  "
      ]
     },
     "execution_count": 26,
     "metadata": {},
     "output_type": "execute_result"
    }
   ],
   "source": [
    "example.head()"
   ]
  },
  {
   "cell_type": "code",
   "execution_count": 19,
   "metadata": {},
   "outputs": [
    {
     "name": "stdout",
     "output_type": "stream",
     "text": [
      "best C value: 0.00\n",
      "GBDT+LR auc 1: 0.80140\n",
      "GBDT+LR time taken: 274.53\n"
     ]
    }
   ],
   "source": [
    "GBDT_lr(example)"
   ]
  },
  {
   "cell_type": "code",
   "execution_count": 23,
   "metadata": {},
   "outputs": [
    {
     "name": "stdout",
     "output_type": "stream",
     "text": [
      "best C value: 0.00\n",
      "GBDT+LR auc 1: 0.80030\n",
      "GBDT+LR time taken: 264.23\n",
      "lightGBM auc : 0.79764\n",
      "XGB auc : 0.79996\n"
     ]
    }
   ],
   "source": [
    "GBDT_lr(example)"
   ]
  },
  {
   "cell_type": "code",
   "execution_count": 27,
   "metadata": {},
   "outputs": [
    {
     "name": "stdout",
     "output_type": "stream",
     "text": [
      "best C value: 0.00\n",
      "GBDT+LR auc 1: 0.79855\n",
      "GBDT+LR time taken: 327.45\n",
      "lightGBM auc : 0.79509\n",
      "XGB auc : 0.79868\n"
     ]
    }
   ],
   "source": [
    "GBDT_lr(example)"
   ]
  },
  {
   "cell_type": "code",
   "execution_count": 28,
   "metadata": {},
   "outputs": [
    {
     "name": "stdout",
     "output_type": "stream",
     "text": [
      "best C value: 0.00\n",
      "GBDT+LR auc 1: 0.79981\n",
      "GBDT+LR time taken: 323.43\n",
      "lightGBM auc : 0.79752\n",
      "XGB auc : 0.80043\n"
     ]
    }
   ],
   "source": [
    "GBDT_lr(example)"
   ]
  },
  {
   "cell_type": "code",
   "execution_count": 30,
   "metadata": {},
   "outputs": [
    {
     "name": "stdout",
     "output_type": "stream",
     "text": [
      "best C value: 0.00\n",
      "GBDT+LR auc 1: 0.80149\n",
      "GBDT+LR time taken: 387.61\n",
      "lightGBM auc : 0.79955\n",
      "XGB auc : 0.80205\n"
     ]
    }
   ],
   "source": [
    "GBDT_lr(example)"
   ]
  },
  {
   "cell_type": "code",
   "execution_count": 32,
   "metadata": {},
   "outputs": [
    {
     "name": "stdout",
     "output_type": "stream",
     "text": [
      "best C value: 0.00\n",
      "GBDT+LR auc 1: 0.80933\n",
      "GBDT+LR time taken: 334.32\n",
      "lightGBM auc : 0.80645\n",
      "XGB auc : 0.80834\n"
     ]
    }
   ],
   "source": [
    "GBDT_lr(example)"
   ]
  },
  {
   "cell_type": "code",
   "execution_count": 24,
   "metadata": {},
   "outputs": [
    {
     "data": {
      "text/plain": [
       "count    70000.000000\n",
       "mean         0.499700\n",
       "std          0.500003\n",
       "min          0.000000\n",
       "25%          0.000000\n",
       "50%          0.000000\n",
       "75%          1.000000\n",
       "max          1.000000\n",
       "Name: cardio, dtype: float64"
      ]
     },
     "execution_count": 24,
     "metadata": {},
     "output_type": "execute_result"
    }
   ],
   "source": [
    "example['cardio'].describe()"
   ]
  },
  {
   "cell_type": "code",
   "execution_count": 34,
   "metadata": {},
   "outputs": [
    {
     "name": "stdout",
     "output_type": "stream",
     "text": [
      "best C value: 0.05\n",
      "GBDT+LR auc 1: 0.80232\n",
      "GBDT+LR time taken: 304.33\n",
      "lightGBM auc : 0.80134\n",
      "XGB auc : 0.80460\n"
     ]
    }
   ],
   "source": [
    "GBDT_lr(example) #l1"
   ]
  },
  {
   "cell_type": "code",
   "execution_count": 35,
   "metadata": {},
   "outputs": [
    {
     "name": "stdout",
     "output_type": "stream",
     "text": [
      "best C value: 0.05\n",
      "GBDT+LR auc 1: 0.80700\n",
      "GBDT+LR time taken: 306.92\n",
      "lightGBM auc : 0.80381\n",
      "XGB auc : 0.80672\n"
     ]
    }
   ],
   "source": [
    "GBDT_lr(example)"
   ]
  },
  {
   "cell_type": "code",
   "execution_count": 36,
   "metadata": {},
   "outputs": [
    {
     "name": "stdout",
     "output_type": "stream",
     "text": [
      "best C value: 0.05\n",
      "GBDT+LR auc 1: 0.80575\n",
      "GBDT+LR time taken: 306.73\n",
      "lightGBM auc : 0.80355\n",
      "XGB auc : 0.80621\n"
     ]
    }
   ],
   "source": [
    "GBDT_lr(example)"
   ]
  },
  {
   "cell_type": "code",
   "execution_count": 5,
   "metadata": {},
   "outputs": [
    {
     "name": "stdout",
     "output_type": "stream",
     "text": [
      "best C value: 0.05\n",
      "GBDT+LR auc 1: 0.80223\n",
      "GBDT+LR time taken: 309.47\n",
      "lightGBM auc : 0.80126\n",
      "XGB auc : 0.80431\n"
     ]
    }
   ],
   "source": [
    "GBDT_lr(example)"
   ]
  },
  {
   "cell_type": "code",
   "execution_count": 6,
   "metadata": {},
   "outputs": [
    {
     "name": "stdout",
     "output_type": "stream",
     "text": [
      "best C value: 0.05\n",
      "GBDT+LR auc 1: 0.80256\n",
      "GBDT+LR time taken: 306.94\n",
      "lightGBM auc : 0.80049\n",
      "XGB auc : 0.80329\n"
     ]
    }
   ],
   "source": [
    "GBDT_lr(example)"
   ]
  },
  {
   "cell_type": "code",
   "execution_count": 9,
   "metadata": {},
   "outputs": [
    {
     "name": "stdout",
     "output_type": "stream",
     "text": [
      "best C value: 0.05\n",
      "GBDT+LR auc 1: 0.79832\n",
      "GBDT+LR time taken: 244.82\n",
      "lightGBM auc : 0.79824\n",
      "XGB auc : 0.80052\n"
     ]
    }
   ],
   "source": [
    "GBDT_lr(example)"
   ]
  },
  {
   "cell_type": "code",
   "execution_count": 15,
   "metadata": {},
   "outputs": [
    {
     "name": "stdout",
     "output_type": "stream",
     "text": [
      "best C value: 0.05\n",
      "GBDT+LR auc 1: 0.80256\n",
      "GBDT+LR accuracy: 0.74057\n",
      "GBDT+LR time taken: 253.57\n",
      "lightGBM auc : 0.80049\n",
      "XGB auc : 0.80329\n"
     ]
    }
   ],
   "source": [
    "GBDT_lr(example) #feature added"
   ]
  },
  {
   "cell_type": "code",
   "execution_count": 31,
   "metadata": {},
   "outputs": [
    {
     "name": "stdout",
     "output_type": "stream",
     "text": [
      "best C value: 0.05\n",
      "GBDT+LR auc 1: 0.80358\n",
      "GBDT+LR accuracy: 0.73880\n",
      "GBDT+LR time taken: 186.32\n",
      "lightGBM auc : 0.80271\n",
      "XGB auc : 0.80550\n"
     ]
    }
   ],
   "source": [
    "GBDT_lr(example)"
   ]
  },
  {
   "cell_type": "code",
   "execution_count": 32,
   "metadata": {},
   "outputs": [
    {
     "name": "stdout",
     "output_type": "stream",
     "text": [
      "best C value: 0.05\n",
      "GBDT+LR auc 1: 0.80120\n",
      "GBDT+LR accuracy: 0.73583\n",
      "GBDT+LR time taken: 183.67\n",
      "lightGBM auc : 0.79915\n",
      "XGB auc : 0.80167\n"
     ]
    }
   ],
   "source": [
    "GBDT_lr(example)"
   ]
  },
  {
   "cell_type": "code",
   "execution_count": 34,
   "metadata": {},
   "outputs": [
    {
     "name": "stdout",
     "output_type": "stream",
     "text": [
      "best C value: 0.05\n",
      "GBDT+LR auc 1: 0.80141\n",
      "GBDT+LR accuracy: 0.73560\n",
      "GBDT+LR time taken: 182.61\n",
      "GBDT+LR auc 2: 0.78501\n",
      "GBDT+LR time taken: 210.00\n",
      "lightGBM auc : 0.80005\n",
      "XGB auc : 0.80298\n"
     ]
    }
   ],
   "source": [
    "GBDT_lr(example)"
   ]
  },
  {
   "cell_type": "code",
   "execution_count": 39,
   "metadata": {},
   "outputs": [
    {
     "name": "stdout",
     "output_type": "stream",
     "text": [
      "best C value: 0.05\n",
      "GBDT+LR auc 1: 0.80137\n",
      "GBDT+LR accuracy: 0.73297\n",
      "GBDT+LR time taken: 234.43\n",
      "lightGBM auc : 0.79889\n",
      "XGB auc : 0.80189\n"
     ]
    }
   ],
   "source": [
    "GBDT_lr(example)"
   ]
  },
  {
   "cell_type": "code",
   "execution_count": null,
   "metadata": {},
   "outputs": [],
   "source": []
  }
 ],
 "metadata": {
  "kernelspec": {
   "display_name": "Python 3",
   "language": "python",
   "name": "python3"
  },
  "language_info": {
   "codemirror_mode": {
    "name": "ipython",
    "version": 3
   },
   "file_extension": ".py",
   "mimetype": "text/x-python",
   "name": "python",
   "nbconvert_exporter": "python",
   "pygments_lexer": "ipython3",
   "version": "3.6.3"
  }
 },
 "nbformat": 4,
 "nbformat_minor": 2
}
