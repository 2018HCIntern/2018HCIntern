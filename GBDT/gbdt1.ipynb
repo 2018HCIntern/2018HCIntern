{
 "cells": [
  {
   "cell_type": "code",
   "execution_count": 54,
   "metadata": {},
   "outputs": [],
   "source": [
    "import numpy as np\n",
    "\n",
    "from xgboost import XGBClassifier\n",
    "\n",
    "from sklearn.preprocessing import OneHotEncoder\n",
    "from sklearn.preprocessing import StandardScaler\n",
    "from sklearn.cross_validation import train_test_split\n",
    "from sklearn.datasets import load_svmlight_file\n",
    "from sklearn.linear_model import LogisticRegression\n",
    "from sklearn.metrics import roc_curve, auc, roc_auc_score\n",
    "from sklearn.externals import joblib\n",
    "from sklearn.ensemble import GradientBoostingClassifier\n",
    "from sklearn.grid_search import GridSearchCV\n",
    "from sklearn.externals import joblib\n",
    "import matplotlib.pyplot as plt\n",
    "import numpy as np\n",
    "import pandas as pd\n",
    "from scipy.sparse import csr_matrix\n",
    "from scipy.sparse import hstack\n",
    "import time, os, random, sys\n",
    "import math\n",
    "import hyperopt.tpe\n",
    "import hpsklearn.components\n",
    "import hpsklearn.demo_support\n",
    "import warnings\n",
    "warnings.filterwarnings('ignore')\n",
    "random.seed(1)"
   ]
  },
  {
   "cell_type": "code",
   "execution_count": 67,
   "metadata": {},
   "outputs": [],
   "source": [
    "def gbdt_lr_train_test(libsvmFileName):\n",
    "    #GBDT\n",
    "    start = time.clock()\n",
    "    train_df, test_df = train_test_split(example, train_size = 0.8)\n",
    "    X_train = train_df.drop(['Unnamed: 0', 'Grant.Status'], axis=1)\n",
    "    y_train = train_df['Grant.Status']\n",
    "    X_test = test_df.drop(['Unnamed: 0', 'Grant.Status'], axis=1)\n",
    "    y_test = test_df['Grant.Status']\n",
    "    gbclf = GradientBoostingClassifier(n_estimators=30, max_depth=4, verbose=0)\n",
    "    tuned_parameter = [{'n_estimators':[30, 40, 50, 60], 'max_depth':[3, 4, 5, 6], 'max_features':[0.5,0.7,0.9]}]\n",
    "    gs_clf = GridSearchCV(gbclf, tuned_parameter, cv=5, scoring='roc_auc')\n",
    "    gs_clf.fit(X_train, y_train)\n",
    "    print('best parameters set found: ')\n",
    "    print(gs_clf.best_params_)\n",
    "    y_pred_gbdt = gs_clf.predict_proba(X_test)[:, 1]\n",
    "    gbdt_auc = roc_auc_score(y_test, y_pred_gbdt)\n",
    "    print('gbdt auc: %.5f' % gbdt_auc)\n",
    "    gbclf.fit(X_train,y_train)\n",
    "    X_train_leaves = gbclf.apply(X_train)[:,:,0]\n",
    "    (train_rows, cols) = X_train_leaves.shape\n",
    "    gbclf.fit(X_test,y_test)\n",
    "    X_test_leaves = gbclf.apply(X_test)[:,:,0]\n",
    "    gbdtenc = OneHotEncoder()\n",
    "    X_trans = gbdtenc.fit_transform(np.concatenate((X_train_leaves, X_test_leaves), axis=0))\n",
    "    #GBDT+LR\n",
    "    lr = LogisticRegression()\n",
    "    lr.fit(X_trans[:train_rows, :], y_train)\n",
    "    y_pred_gbdtlr1 = lr.predict_proba(X_trans[train_rows:, :])[:, 1]\n",
    "    gbdtlr_auc1 = roc_auc_score(y_test, y_pred_gbdtlr1)\n",
    "    print('gbdt+lr auc 1: %.5f' % gbdtlr_auc1)\n",
    "    lr = LogisticRegression(n_jobs=-1)\n",
    "    X_train_ext = hstack([X_trans[:train_rows, :], X_train])\n",
    "    lr.fit(X_train_ext, y_train)\n",
    "    X_test_ext = hstack([X_trans[train_rows:, :], X_test])\n",
    "    y_pred_gbdtlr2 = lr.predict_proba(X_test_ext)[:, 1]\n",
    "    gbdtlr_auc2 = roc_auc_score(y_test, y_pred_gbdtlr2)\n",
    "    print('gbdt+lr auc 2: %.5f' % gbdtlr_auc2)\n",
    "    f_time =time.clock()-start\n",
    "    print('GBDT time taken: ', f_time)\n",
    "    #XGB\n",
    "    start = time.clock()\n",
    "    xgb=XGBClassifier()\n",
    "    xgb.fit(X_train,y_train)\n",
    "    Y_pred_xgb=xgb.predict(X_test)\n",
    "    xgb_auc= roc_auc_score(y_test,Y_pred_xgb)\n",
    "    \n",
    "    print('XGB auc : ',xgb_auc)\n",
    "    f_time =time.clock()-start\n",
    "    print('XGB time taken: ', f_time)\n",
    "    #lightGBM\n",
    "    '''start = time.clock()\n",
    "    \n",
    "    print('lightGBM time taken: ', time.clock()-start)'''"
   ]
  },
  {
   "cell_type": "code",
   "execution_count": 3,
   "metadata": {},
   "outputs": [],
   "source": [
    "example = pd.read_csv('example.csv')"
   ]
  },
  {
   "cell_type": "code",
   "execution_count": 68,
   "metadata": {},
   "outputs": [
    {
     "name": "stdout",
     "output_type": "stream",
     "text": [
      "best parameters set found: \n",
      "{'max_depth': 6, 'max_features': 0.7, 'n_estimators': 60}\n",
      "gbdt auc: 0.93692\n",
      "gbdt+lr auc 1: 0.78679\n",
      "gbdt+lr auc 2: 0.55240\n",
      "GBDT time taken:  104.3263780000002\n",
      "XGB auc :  0.855922788101\n",
      "XGB time taken:  0.7697490000000471\n"
     ]
    }
   ],
   "source": [
    "gbdt_lr_train_test(example)"
   ]
  },
  {
   "cell_type": "code",
   "execution_count": 69,
   "metadata": {},
   "outputs": [
    {
     "name": "stdout",
     "output_type": "stream",
     "text": [
      "best parameters set found: \n",
      "{'max_depth': 6, 'max_features': 0.5, 'n_estimators': 60}\n",
      "gbdt auc: 0.94193\n",
      "gbdt+lr auc 1: 0.78375\n",
      "gbdt+lr auc 2: 0.58599\n",
      "GBDT time taken:  103.21583099999998\n",
      "XGB auc :  0.860663462535\n",
      "XGB time taken:  0.7435100000002421\n"
     ]
    }
   ],
   "source": [
    "gbdt_lr_train_test(example)"
   ]
  },
  {
   "cell_type": "code",
   "execution_count": 70,
   "metadata": {},
   "outputs": [
    {
     "name": "stdout",
     "output_type": "stream",
     "text": [
      "best parameters set found: \n",
      "{'max_depth': 6, 'max_features': 0.7, 'n_estimators': 60}\n",
      "gbdt auc: 0.94117\n",
      "gbdt+lr auc 1: 0.60895\n",
      "gbdt+lr auc 2: 0.56951\n",
      "GBDT time taken:  108.03956199999993\n",
      "XGB auc :  0.865814311764\n",
      "XGB time taken:  0.742572999999993\n"
     ]
    }
   ],
   "source": [
    "gbdt_lr_train_test(example)"
   ]
  },
  {
   "cell_type": "code",
   "execution_count": null,
   "metadata": {},
   "outputs": [],
   "source": []
  }
 ],
 "metadata": {
  "kernelspec": {
   "display_name": "Python 3",
   "language": "python",
   "name": "python3"
  },
  "language_info": {
   "codemirror_mode": {
    "name": "ipython",
    "version": 3
   },
   "file_extension": ".py",
   "mimetype": "text/x-python",
   "name": "python",
   "nbconvert_exporter": "python",
   "pygments_lexer": "ipython3",
   "version": "3.6.3"
  }
 },
 "nbformat": 4,
 "nbformat_minor": 2
}
