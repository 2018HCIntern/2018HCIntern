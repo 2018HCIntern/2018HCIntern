{
 "cells": [
  {
   "cell_type": "code",
   "execution_count": 5,
   "metadata": {},
   "outputs": [],
   "source": [
    "import numpy as np\n",
    "import pandas as pd\n",
    "import xgboost as xgb\n",
    "from xgboost import XGBClassifier\n",
    "import lightgbm as lgb\n",
    "from sklearn.preprocessing import OneHotEncoder\n",
    "from sklearn.preprocessing import StandardScaler\n",
    "from sklearn.model_selection import train_test_split\n",
    "from sklearn.linear_model import LogisticRegression\n",
    "from sklearn.metrics import roc_curve, auc, roc_auc_score\n",
    "from sklearn.externals import joblib\n",
    "from sklearn.ensemble import GradientBoostingClassifier\n",
    "from sklearn.model_selection import GridSearchCV\n",
    "from sklearn.externals import joblib\n",
    "from sklearn.svm import SVC, LinearSVC\n",
    "from sklearn.neighbors import KNeighborsClassifier\n",
    "from sklearn.ensemble import RandomForestClassifier\n",
    "from sklearn.naive_bayes import GaussianNB\n",
    "from sklearn.linear_model import SGDClassifier\n",
    "from sklearn.linear_model import Perceptron\n",
    "from sklearn.naive_bayes import GaussianNB\n",
    "import matplotlib.pyplot as plt\n",
    "import numpy as np\n",
    "import pandas as pd\n",
    "from scipy.sparse import csr_matrix\n",
    "from scipy.sparse import hstack\n",
    "import time, os, random, sys\n",
    "import math\n",
    "import hyperopt.tpe\n",
    "import hpsklearn.components\n",
    "import hpsklearn.demo_support\n",
    "import warnings\n",
    "\n",
    "warnings.filterwarnings('ignore')\n",
    "np.random.seed(1)"
   ]
  },
  {
   "cell_type": "code",
   "execution_count": 199,
   "metadata": {},
   "outputs": [],
   "source": [
    "def get_leaf_indices(ensemble, x):\n",
    "    x = x.astype(np.float32)\n",
    "    trees = ensemble.estimators_\n",
    "    n_trees = trees.shape[0]\n",
    "    indices = []\n",
    "\n",
    "    for i in range(n_trees):\n",
    "        tree = trees[i][0].tree_\n",
    "        indices.append(tree.apply(x))\n",
    "\n",
    "    indices = np.column_stack(indices)\n",
    "    return indices\n",
    "\n",
    "\n",
    "\n",
    "def GBDT_lr(File):\n",
    "    \n",
    "    #XGBoost\n",
    "\n",
    "    start = time.clock()\n",
    "    train_df, test_df = train_test_split(File, train_size = 0.75)\n",
    "    X_train = train_df.drop(train_df.columns[0], axis=1)\n",
    "    y_train = train_df[train_df.columns[0]]\n",
    "    X_test = test_df.drop(test_df.columns[0], axis=1)\n",
    "    y_test = test_df[test_df.columns[0]]\n",
    "    \n",
    "    \n",
    "    dtrain = xgb.DMatrix(X_train.values,y_train.values)\n",
    "    dtest = xgb.DMatrix(X_test.values, y_test.values)\n",
    "    param = {'silent': 1, 'objective':'binary:logistic','max_depth': 7}\n",
    "    watchlist = [(dtest, 'eval'), (dtrain, 'train')]\n",
    "    num_round=30\n",
    "    bst= xgb.train(param, dtrain,num_round)\n",
    "\n",
    "\n",
    "    \n",
    "    y_pred = bst.predict(dtrain, pred_leaf=True)\n",
    "\n",
    "    num_leaf= 170\n",
    "    X_train_leaves_xgb = np.zeros([len(y_pred),len(y_pred[0]) * num_leaf],dtype=np.int64)\n",
    "    for i in range(0,len(y_pred)):\n",
    "        temp = np.arange(len(y_pred[0])) * num_leaf - 1 + np.array(y_pred[i])\n",
    "        X_train_leaves_xgb[i][temp] += 1\n",
    "\n",
    "    y_pred= bst.predict(dtest, pred_leaf=True)    \n",
    "    X_test_leaves_xgb = np.zeros([len(y_pred),len(y_pred[0]) * num_leaf],dtype=np.int64)\n",
    "    for i in range(0,len(y_pred)):\n",
    "        temp = np.arange(len(y_pred[0])) * num_leaf - 1 + np.array(y_pred[i])\n",
    "        X_test_leaves_xgb[i][temp] += 1\n",
    "    \n",
    "    \n",
    "    #lightGBM\n",
    "        \n",
    "        # create dataset for lightgbm\n",
    "    lgb_train = lgb.Dataset(X_train, y_train)\n",
    "    lgb_eval = lgb.Dataset(X_test, y_test, reference=lgb_train)\n",
    "\n",
    "    # specify your configurations as a dict\n",
    "    params = {\n",
    "        'task': 'train',\n",
    "        'boosting_type': 'gbdt',\n",
    "        'objective': 'binary',\n",
    "        'metric': {'binary_logloss'},\n",
    "        'num_leaves': 63,\n",
    "        'num_trees': 30,\n",
    "        'learning_rate': 0.01,\n",
    "        'feature_fraction': 0.9,\n",
    "        'bagging_fraction': 0.8,\n",
    "        'bagging_freq': 5,\n",
    "        'verbose': 0\n",
    "    }\n",
    "\n",
    "    # number of leaves,will be used in feature transformation\n",
    "    num_leaf = 63\n",
    "\n",
    "\n",
    "    # train\n",
    "    gbm = lgb.train(params,\n",
    "                    lgb_train,\n",
    "                    num_boost_round=100,\n",
    "                    valid_sets=lgb_train,\n",
    "                   verbose_eval=False)\n",
    "\n",
    "    y_pred = gbm.predict(X_train,pred_leaf=True)\n",
    "    \n",
    "\n",
    "    X_train_leaves_lgb = np.zeros([len(y_pred),len(y_pred[0]) * num_leaf],dtype=np.int64)\n",
    "    for i in range(0,len(y_pred)):\n",
    "        temp = np.arange(len(y_pred[0])) * num_leaf - 1 + np.array(y_pred[i])\n",
    "        X_train_leaves_lgb[i][temp] += 1\n",
    "\n",
    "    \n",
    "    y_pred = gbm.predict(X_test,pred_leaf=True)\n",
    "\n",
    "    X_test_leaves_lgb = np.zeros([len(y_pred),len(y_pred[0]) * num_leaf],dtype=np.int64)\n",
    "    for i in range(0,len(y_pred)):\n",
    "        temp = np.arange(len(y_pred[0])) * num_leaf - 1 + np.array(y_pred[i])\n",
    "        X_test_leaves_lgb[i][temp] += 1\n",
    "\n",
    " \n",
    "    #GBC\n",
    "\n",
    "    gbclf=GradientBoostingClassifier(n_estimators=30, max_depth=7,verbose=0)\n",
    "    gbclf.fit(X_train,y_train)\n",
    "    leaf = get_leaf_indices\n",
    "    \n",
    "    \n",
    "    \n",
    "    \n",
    "    num_leaf= 400\n",
    "    y_pred=leaf(gbclf,X_train.values)\n",
    "    X_train_leaves_gbc = np.zeros([len(y_pred),len(y_pred[0]) * num_leaf],dtype=np.int64)\n",
    "    for i in range(0,len(y_pred)):\n",
    "        temp = np.arange(len(y_pred[0])) * num_leaf - 1 + np.array(y_pred[i])\n",
    "        X_train_leaves_gbc[i][temp] += 1\n",
    "\n",
    "    y_pred=leaf(gbclf,X_test.values)  \n",
    "    X_test_leaves_gbc = np.zeros([len(y_pred),len(y_pred[0]) * num_leaf],dtype=np.int64)\n",
    "    for i in range(0,len(y_pred)):\n",
    "        temp = np.arange(len(y_pred[0])) * num_leaf - 1 + np.array(y_pred[i])\n",
    "        X_test_leaves_gbc[i][temp] += 1\n",
    "    \n",
    "    \n",
    "    \n",
    "    \n",
    "\n",
    "    X_train_leaves =  np.hstack([X_train_leaves_xgb, X_train_leaves_lgb,X_train_leaves_gbc])\n",
    "    X_test_leaves= np.hstack([X_test_leaves_xgb, X_test_leaves_lgb,X_test_leaves_gbc])\n",
    "    \n",
    "\n",
    "    \n",
    "    bestC=0\n",
    "    auc_best=0\n",
    "    \n",
    "    #---------------------------------------------------------------------------------------------\n",
    "    #regularization applied testing\n",
    "    c = np.array([1,0.5,0.1,0.05,0.01,0.005,0.001])\n",
    "    for t in range(0,len(c)):\n",
    "        lm = LogisticRegression(penalty='l2',C=c[t]) # logestic model construction\n",
    "        lm.fit(X_train_leaves,y_train)  # fitting the data\n",
    "\n",
    "        y_pred_est = lm.predict_proba(X_test_leaves)   # Give the probabilty on each label\n",
    "\n",
    "        auc=roc_auc_score(y_test, y_pred_est[:,1])\n",
    "        if auc_best < auc:\n",
    "            auc_best=auc\n",
    "            bestC=c[t]\n",
    "\n",
    "    #---------------------------------------------------------------------------------------------    \n",
    "    \n",
    "   \n",
    "    print('best C value: %.2f' % bestC)\n",
    "    print('GBDT+LR auc 1: %.5f' % auc_best)\n",
    "    \n",
    "    f_time =time.clock()-start\n",
    "    print('GBDT+LR time taken: %.2f'% f_time)\n",
    "    "
   ]
  },
  {
   "cell_type": "code",
   "execution_count": 122,
   "metadata": {},
   "outputs": [],
   "source": [
    "example = pd.read_csv('example2.csv')"
   ]
  },
  {
   "cell_type": "code",
   "execution_count": 123,
   "metadata": {},
   "outputs": [
    {
     "name": "stdout",
     "output_type": "stream",
     "text": [
      "best C value: 0.05\n",
      "XGBDT+LR auc 1: 0.96029\n"
     ]
    }
   ],
   "source": [
    "GBDT_lr(example)"
   ]
  },
  {
   "cell_type": "code",
   "execution_count": 124,
   "metadata": {},
   "outputs": [
    {
     "name": "stdout",
     "output_type": "stream",
     "text": [
      "best C value: 0.05\n",
      "XGBDT+LR auc 1: 0.96000\n"
     ]
    }
   ],
   "source": [
    "GBDT_lr(example)"
   ]
  },
  {
   "cell_type": "code",
   "execution_count": 129,
   "metadata": {},
   "outputs": [
    {
     "name": "stdout",
     "output_type": "stream",
     "text": [
      "best C value: 0.05\n",
      "XGBDT+LR auc 1: 0.96080\n"
     ]
    }
   ],
   "source": [
    "GBDT_lr(example)"
   ]
  },
  {
   "cell_type": "code",
   "execution_count": 130,
   "metadata": {},
   "outputs": [
    {
     "name": "stdout",
     "output_type": "stream",
     "text": [
      "best C value: 0.05\n",
      "XGBDT+LR auc 1: 0.96502\n"
     ]
    }
   ],
   "source": [
    "GBDT_lr(example)"
   ]
  },
  {
   "cell_type": "code",
   "execution_count": 134,
   "metadata": {},
   "outputs": [
    {
     "name": "stdout",
     "output_type": "stream",
     "text": [
      "best C value: 0.05\n",
      "XGBDT+LR auc 1: 0.96282\n"
     ]
    }
   ],
   "source": [
    "GBDT_lr(example)"
   ]
  },
  {
   "cell_type": "code",
   "execution_count": 141,
   "metadata": {},
   "outputs": [
    {
     "name": "stdout",
     "output_type": "stream",
     "text": [
      "best C value: 0.05\n",
      "XGBDT+LR auc 1: 0.96499\n"
     ]
    }
   ],
   "source": [
    "GBDT_lr(example)"
   ]
  },
  {
   "cell_type": "code",
   "execution_count": 150,
   "metadata": {},
   "outputs": [
    {
     "name": "stdout",
     "output_type": "stream",
     "text": [
      "best C value: 0.10\n",
      "XGBDT+LR auc 1: 0.96453\n"
     ]
    }
   ],
   "source": [
    "GBDT_lr(example)"
   ]
  },
  {
   "cell_type": "code",
   "execution_count": 154,
   "metadata": {},
   "outputs": [
    {
     "name": "stdout",
     "output_type": "stream",
     "text": [
      "best C value: 0.01\n",
      "XGBDT+LR auc 1: 0.96365\n"
     ]
    }
   ],
   "source": [
    "GBDT_lr(example)"
   ]
  },
  {
   "cell_type": "code",
   "execution_count": 155,
   "metadata": {},
   "outputs": [
    {
     "name": "stdout",
     "output_type": "stream",
     "text": [
      "best C value: 0.01\n",
      "XGBDT+LR auc 1: 0.95944\n"
     ]
    }
   ],
   "source": [
    "GBDT_lr(example)"
   ]
  },
  {
   "cell_type": "code",
   "execution_count": 156,
   "metadata": {},
   "outputs": [
    {
     "name": "stdout",
     "output_type": "stream",
     "text": [
      "best C value: 0.05\n",
      "XGBDT+LR auc 1: 0.96196\n"
     ]
    }
   ],
   "source": [
    "GBDT_lr(example)"
   ]
  },
  {
   "cell_type": "code",
   "execution_count": 158,
   "metadata": {},
   "outputs": [
    {
     "name": "stdout",
     "output_type": "stream",
     "text": [
      "best C value: 0.05\n",
      "XGBDT+LR auc 1: 0.96700\n",
      "GBDT+LR time taken: 15.57\n"
     ]
    }
   ],
   "source": [
    "GBDT_lr(example)"
   ]
  },
  {
   "cell_type": "code",
   "execution_count": 210,
   "metadata": {},
   "outputs": [
    {
     "name": "stdout",
     "output_type": "stream",
     "text": [
      "best C value: 0.05\n",
      "GBDT+LR auc 1: 0.96535\n",
      "GBDT+LR time taken: 16.61\n"
     ]
    }
   ],
   "source": [
    "GBDT_lr(example)"
   ]
  },
  {
   "cell_type": "code",
   "execution_count": 202,
   "metadata": {},
   "outputs": [
    {
     "name": "stdout",
     "output_type": "stream",
     "text": [
      "best C value: 0.05\n",
      "GBDT+LR auc 1: 0.96987\n",
      "GBDT+LR time taken: 16.53\n"
     ]
    }
   ],
   "source": [
    "GBDT_lr(example) # train test split 0.75"
   ]
  },
  {
   "cell_type": "code",
   "execution_count": 180,
   "metadata": {},
   "outputs": [
    {
     "name": "stdout",
     "output_type": "stream",
     "text": [
      "best C value: 0.05\n",
      "GBDT+LR auc 1: 0.96612\n",
      "GBDT+LR time taken: 17.27\n"
     ]
    }
   ],
   "source": [
    "GBDT_lr(example)"
   ]
  },
  {
   "cell_type": "code",
   "execution_count": 162,
   "metadata": {},
   "outputs": [
    {
     "name": "stdout",
     "output_type": "stream",
     "text": [
      "best C value: 0.05\n",
      "XGBDT+LR auc 1: 0.96866\n",
      "GBDT+LR time taken: 16.00\n"
     ]
    }
   ],
   "source": [
    "GBDT_lr(example)"
   ]
  },
  {
   "cell_type": "code",
   "execution_count": null,
   "metadata": {},
   "outputs": [],
   "source": []
  }
 ],
 "metadata": {
  "kernelspec": {
   "display_name": "Python 3",
   "language": "python",
   "name": "python3"
  },
  "language_info": {
   "codemirror_mode": {
    "name": "ipython",
    "version": 3
   },
   "file_extension": ".py",
   "mimetype": "text/x-python",
   "name": "python",
   "nbconvert_exporter": "python",
   "pygments_lexer": "ipython3",
   "version": "3.6.3"
  }
 },
 "nbformat": 4,
 "nbformat_minor": 2
}
