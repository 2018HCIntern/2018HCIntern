{
 "cells": [
  {
   "cell_type": "code",
   "execution_count": 2,
   "metadata": {},
   "outputs": [
    {
     "name": "stderr",
     "output_type": "stream",
     "text": [
      "/Users/garb47/anaconda3/lib/python3.6/site-packages/sklearn/cross_validation.py:41: DeprecationWarning: This module was deprecated in version 0.18 in favor of the model_selection module into which all the refactored classes and functions are moved. Also note that the interface of the new CV iterators are different from that of this module. This module will be removed in 0.20.\n",
      "  \"This module will be removed in 0.20.\", DeprecationWarning)\n",
      "/Users/garb47/anaconda3/lib/python3.6/site-packages/sklearn/grid_search.py:42: DeprecationWarning: This module was deprecated in version 0.18 in favor of the model_selection module into which all the refactored classes and functions are moved. This module will be removed in 0.20.\n",
      "  DeprecationWarning)\n"
     ]
    },
    {
     "name": "stdout",
     "output_type": "stream",
     "text": [
      "WARN: OMP_NUM_THREADS=None =>\n",
      "... If you are using openblas if you are using openblas set OMP_NUM_THREADS=1 or risk subprocess calls hanging indefinitely\n"
     ]
    }
   ],
   "source": [
    "import numpy as np\n",
    "import pandas as pd\n",
    "import xgboost as xgb\n",
    "from xgboost import XGBClassifier\n",
    "import lightgbm as lgb\n",
    "from sklearn.preprocessing import OneHotEncoder\n",
    "from sklearn.preprocessing import StandardScaler\n",
    "from sklearn.cross_validation import train_test_split\n",
    "from sklearn.linear_model import LogisticRegression\n",
    "from sklearn.metrics import roc_curve, auc, roc_auc_score\n",
    "from sklearn.externals import joblib\n",
    "from sklearn.ensemble import GradientBoostingClassifier\n",
    "from sklearn.grid_search import GridSearchCV\n",
    "from sklearn.externals import joblib\n",
    "from sklearn.svm import SVC, LinearSVC\n",
    "from sklearn.neighbors import KNeighborsClassifier\n",
    "from sklearn.ensemble import RandomForestClassifier\n",
    "from sklearn.naive_bayes import GaussianNB\n",
    "from sklearn.linear_model import SGDClassifier\n",
    "from sklearn.linear_model import Perceptron\n",
    "from sklearn.naive_bayes import GaussianNB\n",
    "import matplotlib.pyplot as plt\n",
    "import numpy as np\n",
    "import pandas as pd\n",
    "from scipy.sparse import csr_matrix\n",
    "from scipy.sparse import hstack\n",
    "import time, os, random, sys\n",
    "import math\n",
    "import hyperopt.tpe\n",
    "import hpsklearn.components\n",
    "import hpsklearn.demo_support\n",
    "import warnings\n",
    "\n",
    "warnings.filterwarnings('ignore')\n",
    "np.random.seed(1)"
   ]
  },
  {
   "cell_type": "code",
   "execution_count": 60,
   "metadata": {},
   "outputs": [],
   "source": [
    "def xgboost_lr(File):\n",
    "    \n",
    "    start = time.clock()\n",
    "    train_df, test_df = train_test_split(File, train_size = 0.8)\n",
    "    X_train = train_df.drop(train_df.columns[0], axis=1)\n",
    "    y_train = train_df[train_df.columns[0]]\n",
    "    X_test = test_df.drop(test_df.columns[0], axis=1)\n",
    "    y_test = test_df[test_df.columns[0]]\n",
    "    \n",
    "    \n",
    "    dtrain = xgb.DMatrix(X_train.values,y_train.values)\n",
    "    dtest = xgb.DMatrix(X_test.values, y_test.values)\n",
    "    param = {'silent': 1, 'objective':'binary:logistic','max_depth': 7}\n",
    "    watchlist = [(dtest, 'eval'), (dtrain, 'train')]\n",
    "    param['num_round']=30\n",
    "\n",
    "    \n",
    "    \n",
    "    '''\n",
    "    #------------------------------------------------------------------------------------------------------------\n",
    "    #testing gridsearch\n",
    "    clf=XGBClassifier(objective='binary:logistic',early_stopping_rounds=10)\n",
    "    tuned_parameter = [{'n_estimators':[20,30,40], 'max_depth':[5,6,7]}]\n",
    "    gs_clf = GridSearchCV(clf, tuned_parameter, cv=5, scoring='roc_auc')\n",
    "    gs_clf.fit(X_train, y_train)\n",
    "    param['num_round']=gs_clf.best_params_['n_estimators']\n",
    "    param['max_depth']=gs_clf.best_params_['max_depth']\n",
    "    print(param)\n",
    "   \n",
    "        \n",
    "    #--------------------------------------------------------------------------------------------------------------   \n",
    "    '''\n",
    "    \n",
    "    bst= xgb.train(param, dtrain)\n",
    "\n",
    "\n",
    "    \n",
    "    y_pred = bst.predict(dtrain, pred_leaf=True)\n",
    "    num_leaf= 1000\n",
    "    X_train_leaves = np.zeros([len(y_pred),len(y_pred[0]) * num_leaf],dtype=np.int64)\n",
    "    for i in range(0,len(y_pred)):\n",
    "        temp = np.arange(len(y_pred[0])) * num_leaf - 1 + np.array(y_pred[i])\n",
    "        X_train_leaves[i][temp] += 1\n",
    "\n",
    "    y_pred= bst.predict(dtest, pred_leaf=True)    \n",
    "    X_test_leaves = np.zeros([len(y_pred),len(y_pred[0]) * num_leaf],dtype=np.int64)\n",
    "    for i in range(0,len(y_pred)):\n",
    "        temp = np.arange(len(y_pred[0])) * num_leaf - 1 + np.array(y_pred[i])\n",
    "        X_test_leaves[i][temp] += 1\n",
    "        \n",
    "        \n",
    "    bestC=0\n",
    "    auc_best=0\n",
    "    \n",
    "    #---------------------------------------------------------------------------------\n",
    "    # LR without regularization\n",
    "    '''\n",
    "    lm = LogisticRegression(penalty='l2',C=0.1) # logestic model construction\n",
    "    lm.fit(X_train_leaves,y_train)  # fitting the data\n",
    "\n",
    "    y_pred_est = lm.predict_proba(X_test_leaves)   # Give the probabilty on each label\n",
    "    '''\n",
    "    #---------------------------------------------------------------------------------------------\n",
    "    #regularization applied testing\n",
    "    c = np.array([1,0.5,0.1,0.05,0.01,0.005,0.001])\n",
    "    for t in range(0,len(c)):\n",
    "        lm = LogisticRegression(penalty='l2',C=c[t]) # logestic model construction\n",
    "        lm.fit(X_train_leaves,y_train)  # fitting the data\n",
    "\n",
    "        y_pred_est = lm.predict_proba(X_test_leaves)   # Give the probabilty on each label\n",
    "\n",
    "        auc=roc_auc_score(y_test, y_pred_est[:,1])\n",
    "        if auc_best < auc:\n",
    "            auc_best=auc\n",
    "            bestC=c[t]\n",
    "\n",
    "    #---------------------------------------------------------------------------------------------\n",
    "    \n",
    "    \n",
    "    print('best C value: %.2f' % bestC)\n",
    "    print('XGBDT+LR auc 1: %.5f' % auc_best)\n",
    "    \n",
    "    lr = LogisticRegression(n_jobs=-1)\n",
    "    X_train_ext = hstack([X_train_leaves, X_train])\n",
    "    lr.fit(X_train_ext, y_train)\n",
    "    X_test_ext = hstack([X_test_leaves, X_test])\n",
    "    y_pred_gbdtlr2 = lr.predict_proba(X_test_ext)[:, 1]\n",
    "    gbdtlr_auc2 = roc_auc_score(y_test, y_pred_gbdtlr2)\n",
    "    print('XGBDT+LR auc 2: %.5f' % gbdtlr_auc2)\n",
    "    f_time =time.clock()-start\n",
    "    print('XGBDT+LR time taken: %.2f'% f_time)\n",
    "    \n",
    "    #+NB\n",
    "\n",
    "    \n",
    "    start = time.clock()\n",
    "    gnb= GaussianNB()\n",
    "\n",
    "    gnb.fit(X_train_leaves, y_train)\n",
    "    Y_pred_nb=gnb.predict_proba(X_test_leaves)[:,1]\n",
    "    gnb_auc = roc_auc_score(y_test,Y_pred_nb)\n",
    "    print('GBDT + GNB auc: %.5f'% gnb_auc)    \n",
    "    '''    \n",
    "    gnb.fit(X_train_ext, y_train)\n",
    "    y_pred_gnb2=gnb.predict_proba(X_test_ext)[:,1]\n",
    "    gnb_auc2=roc_auc_score(y_test,y_pred_gnb2)\n",
    "    print('GNB auc2: %.5f' % gnb_auc2)\n",
    "    '''\n",
    "    '''#svc\n",
    "    svc=SVC(probability=True)\n",
    "    svc.fit(X_train_leaves, y_train)\n",
    "    Y_pred_svc=svc.predict_proba(X_test_leaves)[:,1]\n",
    "    svc_auc=roc_auc_score(y_test,Y_pred_svc)\n",
    "    print('GBDT + SVC auc: %.5f' % svc_auc)\n",
    "    \n",
    "    svc.fit(X_train_ext, y_train)\n",
    "    y_pred_svc2=svc.predict_proba(X_test_ext)[:, 1]\n",
    "    svc_auc2=roc_auc_score(y_test,y_pred_svc2)\n",
    "    print('GBDT + SVC auc2: %.5f' % svc_auc2)'''\n",
    "    \n",
    "    '''#KNN\n",
    "    knn=KNeighborsClassifier(n_neighbors = 3)\n",
    "    knn.fit(X_train_leaves, y_train)\n",
    "    Y_pred_knn=knn.predict_proba(X_test_leaves)[:,1]\n",
    "    knn_auc=roc_auc_score(y_test,Y_pred_knn)\n",
    "    print('GBDT + KNN auc : %.5f' % knn_auc)\n",
    "    \n",
    "    knn.fit(X_train_ext, y_train)\n",
    "    y_pred_knn2=knn.predict_proba(X_test_ext)[:, 1]\n",
    "    knn_auc2=roc_auc_score(y_test,y_pred_knn2)\n",
    "    print('GBDT + KNN auc2: %.5f' % knn_auc2)\n",
    "    '''\n",
    "    #perceptron\n",
    "\n",
    "    perceptron = Perceptron()\n",
    "    perceptron.fit(X_train_leaves, y_train)\n",
    "    y_pred_perc=perceptron.predict(X_test_leaves)\n",
    "    perc_auc=roc_auc_score(y_test,y_pred_perc)\n",
    "    print('GBDT + Perceptron auc : %.5f' % perc_auc)\n",
    "    \n",
    "    perceptron.fit(X_train_ext, y_train)\n",
    "    y_pred_perc2=perceptron.predict(X_test_ext)\n",
    "    perc_auc2=roc_auc_score(y_test,y_pred_perc2)\n",
    "    print('GBDT + Perceptron auc2 : %.5f' % perc_auc2 )\n",
    "    \n",
    "    #linear svc\n",
    "\n",
    "    lin = LinearSVC()\n",
    "    lin.fit(X_train_leaves, y_train)\n",
    "    y_pred_lin=lin.predict(X_test_leaves)\n",
    "    lin_auc=roc_auc_score(y_test,y_pred_lin)\n",
    "    print('GBDT + Linear SVC auc : %.5f' % lin_auc)\n",
    "    \n",
    "    lin.fit(X_train_ext, y_train)\n",
    "    y_pred_lin2=lin.predict(X_test_ext)\n",
    "    lin_auc2=roc_auc_score(y_test,y_pred_lin2)\n",
    "    print('GBDT + Linear SVC auc2 : %.5f' % lin_auc2)\n",
    "    \n",
    "    #SGD\n",
    "\n",
    "    sgd = SGDClassifier(loss='log')\n",
    "    sgd.fit(X_train_leaves, y_train)\n",
    "    Y_pred_sgd=sgd.predict_proba(X_test_leaves)[:, 1]\n",
    "    sgd_auc=roc_auc_score(y_test,Y_pred_sgd)\n",
    "    print('GBDT + SGD auc : %.5f' % sgd_auc)\n",
    "    \n",
    "    sgd.fit(X_train_ext, y_train)\n",
    "    Y_pred_sgd2=sgd.predict_proba(X_test_ext)[:, 1]\n",
    "    sgd_auc2=roc_auc_score(y_test,Y_pred_sgd2)\n",
    "    print('GBDT + SGD auc2 : %.5f' % sgd_auc2)\n",
    "    f_time =time.clock()-start\n",
    "    print('GBDT + other classfier time taken: %.2f'% f_time)    \n",
    "    \n",
    "    #XGB\n",
    "    start = time.clock()\n",
    "    xgbc=XGBClassifier()\n",
    "    xgbc.fit(X_train,y_train)\n",
    "    Y_pred_xgb=xgbc.predict_proba(X_test)[:,1]\n",
    "    xgb_auc= roc_auc_score(y_test,Y_pred_xgb)\n",
    "    print('XGB auc : %.5f' % xgb_auc)\n",
    "    \n",
    "    '''#XGB with leaves\n",
    "\n",
    "    xgbc.fit(X_train_leaves,y_train)\n",
    "    Y_pred_xgb=xgbc.predict(X_test_leaves)\n",
    "    xgb_auc= roc_auc_score(y_test,Y_pred_xgb)\n",
    "    print('GBDT + XGB auc: %.5f' % xgb_auc)\n",
    "    \n",
    "    #XGB with features ext\n",
    "    \n",
    "    xgbc.fit(X_train_ext, y_train)\n",
    "    y_pred_xgb2=xgbc.predict(X_test_ext)\n",
    "    xgb_auc2=roc_auc_score(y_test,y_pred_xgb2)\n",
    "    print('GBDT + XGB auc2: %.5f' %xgb_auc2)\n",
    "    \n",
    "    f_time =time.clock()-start\n",
    "    print('XGB time taken: %.2f'% f_time)'''\n",
    "    \n",
    "    #lightGBM\n",
    "    start = time.clock()\n",
    "    lgb_train = lgb.Dataset(X_train, y_train)\n",
    "    lgb_eval = lgb.Dataset(X_test, y_test, reference=lgb_train)\n",
    "    \n",
    "    \n",
    "    \n",
    "    # specify your configurations as a dict\n",
    "    params = {\n",
    "    'task': 'train',\n",
    "    'boosting_type': 'gbdt',\n",
    "    'objective': 'regression',\n",
    "    'metric': {'l2', 'auc'},\n",
    "    'num_leaves': 31,\n",
    "    'learning_rate': 0.05,\n",
    "    'feature_fraction': 0.9,\n",
    "    'bagging_fraction': 0.8,\n",
    "    'bagging_freq': 5,\n",
    "    'verbose': 0\n",
    "    \n",
    "    }\n",
    "\n",
    "    # train\n",
    "    gbm = lgb.train(params,\n",
    "                    lgb_train,\n",
    "                    num_boost_round=20,\n",
    "                    valid_sets=lgb_eval,\n",
    "                    early_stopping_rounds=5,\n",
    "                    verbose_eval=False)\n",
    "\n",
    "\n",
    "\n",
    "    y_pred_lgb = gbm.predict(X_test, num_iteration=gbm.best_iteration)\n",
    "    # eval\n",
    "    lgb_auc=roc_auc_score(y_test,y_pred_lgb)\n",
    "    print('lightGBM auc : %.5f' % lgb_auc)\n",
    "    \n",
    "    lgb_train=lgb.Dataset(X_train_leaves, y_train)\n",
    "    lgb_eval=lgb.Dataset(X_test_leaves, y_test, reference=lgb_train)\n",
    "    gbm = lgb.train(params,\n",
    "                  lgb_train,\n",
    "                    num_boost_round=20,\n",
    "                    valid_sets=lgb_eval,\n",
    "                    early_stopping_rounds=5,\n",
    "                   verbose_eval=False)\n",
    "    y_pred_lgb2 =gbm.predict(X_test_leaves, num_iteration=gbm.best_iteration)\n",
    "    lgb_auc2=roc_auc_score(y_test, y_pred_lgb2)\n",
    "    \n",
    "    print('GBDT + lightGBM auc : %.5f' % lgb_auc2)\n",
    "    \n",
    "    lgb_train=lgb.Dataset(X_train_ext, y_train)\n",
    "    lgb_eval=lgb.Dataset(X_test_ext, y_test, reference=lgb_train)\n",
    "    gbm = lgb.train(params,\n",
    "                  lgb_train,\n",
    "                    num_boost_round=20,\n",
    "                    valid_sets=lgb_eval,\n",
    "                    early_stopping_rounds=5,\n",
    "                   verbose_eval=False)\n",
    "    y_pred_lgb3 =gbm.predict(X_test_ext, num_iteration=gbm.best_iteration)\n",
    "    lgb_auc3=roc_auc_score(y_test, y_pred_lgb3)\n",
    "    \n",
    "    print('GBDT + lightGBM auc2 : %.5f' % lgb_auc3)\n",
    "    \n",
    "    \n",
    "    f_time=time.clock()-start\n",
    "    print('lightGBM time taken: %.2f'% f_time)"
   ]
  },
  {
   "cell_type": "code",
   "execution_count": 3,
   "metadata": {},
   "outputs": [],
   "source": [
    "example = pd.read_csv('example.csv')"
   ]
  },
  {
   "cell_type": "code",
   "execution_count": 10,
   "metadata": {},
   "outputs": [
    {
     "name": "stdout",
     "output_type": "stream",
     "text": [
      "XGBDT+LR auc 1: 0.94069\n",
      "XGBDT+LR auc 2: 0.62187\n",
      "XGBDT+LR time taken: 6.23\n",
      "GBDT + GNB auc: 0.86978\n",
      "GBDT + Perceptron auc : 0.79588\n",
      "GBDT + Perceptron auc2 : 0.48035\n",
      "GBDT + Linear SVC auc : 0.85587\n",
      "GBDT + Linear SVC auc2 : 0.46910\n",
      "GBDT + SGD auc : 0.92947\n",
      "GBDT + SGD auc2 : 0.52675\n",
      "GBDT + other classfier time taken: 14.77\n",
      "XGB auc : 0.93379\n",
      "lightGBM auc : 0.93402\n",
      "GBDT + lightGBM auc : 0.93368\n",
      "GBDT + lightGBM auc2 : 0.93126\n",
      "lightGBM time taken: 2.91\n"
     ]
    }
   ],
   "source": [
    "xgboost_lr(example) #Trial 1"
   ]
  },
  {
   "cell_type": "code",
   "execution_count": 11,
   "metadata": {},
   "outputs": [
    {
     "name": "stdout",
     "output_type": "stream",
     "text": [
      "XGBDT+LR auc 1: 0.92607\n",
      "XGBDT+LR auc 2: 0.56891\n",
      "XGBDT+LR time taken: 4.43\n",
      "GBDT + GNB auc: 0.86347\n",
      "GBDT + Perceptron auc : 0.85147\n",
      "GBDT + Perceptron auc2 : 0.50000\n",
      "GBDT + Linear SVC auc : 0.84385\n",
      "GBDT + Linear SVC auc2 : 0.50617\n",
      "GBDT + SGD auc : 0.91063\n",
      "GBDT + SGD auc2 : 0.49945\n",
      "GBDT + other classfier time taken: 13.48\n",
      "XGB auc : 0.93151\n",
      "lightGBM auc : 0.92760\n",
      "GBDT + lightGBM auc : 0.92417\n",
      "GBDT + lightGBM auc2 : 0.91973\n",
      "lightGBM time taken: 3.01\n"
     ]
    }
   ],
   "source": [
    "xgboost_lr(example) # Trial 2"
   ]
  },
  {
   "cell_type": "code",
   "execution_count": 12,
   "metadata": {},
   "outputs": [
    {
     "name": "stdout",
     "output_type": "stream",
     "text": [
      "XGBDT+LR auc 1: 0.93185\n",
      "XGBDT+LR auc 2: 0.54976\n",
      "XGBDT+LR time taken: 4.46\n",
      "GBDT + GNB auc: 0.85293\n",
      "GBDT + Perceptron auc : 0.80626\n",
      "GBDT + Perceptron auc2 : 0.51418\n",
      "GBDT + Linear SVC auc : 0.82021\n",
      "GBDT + Linear SVC auc2 : 0.50000\n",
      "GBDT + SGD auc : 0.91307\n",
      "GBDT + SGD auc2 : 0.50317\n",
      "GBDT + other classfier time taken: 13.79\n",
      "XGB auc : 0.92898\n",
      "lightGBM auc : 0.92622\n",
      "GBDT + lightGBM auc : 0.92848\n",
      "GBDT + lightGBM auc2 : 0.93084\n",
      "lightGBM time taken: 2.94\n"
     ]
    }
   ],
   "source": [
    "xgboost_lr(example) # Trial 3"
   ]
  },
  {
   "cell_type": "code",
   "execution_count": 4,
   "metadata": {},
   "outputs": [],
   "source": [
    "example=pd.read_csv('example2.csv')"
   ]
  },
  {
   "cell_type": "code",
   "execution_count": 15,
   "metadata": {},
   "outputs": [
    {
     "name": "stdout",
     "output_type": "stream",
     "text": [
      "XGBDT+LR auc 1: 0.96331\n",
      "XGBDT+LR auc 2: 0.63507\n",
      "XGBDT+LR time taken: 8.96\n",
      "GBDT + GNB auc: 0.89861\n",
      "GBDT + Perceptron auc : 0.89369\n",
      "GBDT + Perceptron auc2 : 0.72655\n",
      "GBDT + Linear SVC auc : 0.87843\n",
      "GBDT + Linear SVC auc2 : 0.78315\n",
      "GBDT + SGD auc : 0.94790\n",
      "GBDT + SGD auc2 : 0.72655\n",
      "GBDT + other classfier time taken: 20.00\n",
      "XGB auc : 0.95787\n",
      "lightGBM auc : 0.94850\n",
      "GBDT + lightGBM auc : 0.95372\n",
      "GBDT + lightGBM auc2 : 0.95535\n",
      "lightGBM time taken: 3.39\n"
     ]
    }
   ],
   "source": [
    "xgboost_lr(example)  # trying another dataset 1"
   ]
  },
  {
   "cell_type": "code",
   "execution_count": 16,
   "metadata": {},
   "outputs": [
    {
     "name": "stdout",
     "output_type": "stream",
     "text": [
      "XGBDT+LR auc 1: 0.96576\n",
      "XGBDT+LR auc 2: 0.60730\n",
      "XGBDT+LR time taken: 6.12\n",
      "GBDT + GNB auc: 0.91934\n",
      "GBDT + Perceptron auc : 0.89126\n",
      "GBDT + Perceptron auc2 : 0.73162\n",
      "GBDT + Linear SVC auc : 0.88857\n",
      "GBDT + Linear SVC auc2 : 0.80514\n",
      "GBDT + SGD auc : 0.95926\n",
      "GBDT + SGD auc2 : 0.59079\n",
      "GBDT + other classfier time taken: 19.95\n",
      "XGB auc : 0.96142\n",
      "lightGBM auc : 0.95631\n",
      "GBDT + lightGBM auc : 0.95756\n",
      "GBDT + lightGBM auc2 : 0.95847\n",
      "lightGBM time taken: 3.52\n"
     ]
    }
   ],
   "source": [
    "xgboost_lr(example)  # trying another dataset 2"
   ]
  },
  {
   "cell_type": "code",
   "execution_count": 17,
   "metadata": {},
   "outputs": [
    {
     "name": "stdout",
     "output_type": "stream",
     "text": [
      "XGBDT+LR auc 1: 0.96155\n",
      "XGBDT+LR auc 2: 0.64812\n",
      "XGBDT+LR time taken: 6.17\n",
      "GBDT + GNB auc: 0.90149\n",
      "GBDT + Perceptron auc : 0.86405\n",
      "GBDT + Perceptron auc2 : 0.51925\n",
      "GBDT + Linear SVC auc : 0.86805\n",
      "GBDT + Linear SVC auc2 : 0.57949\n",
      "GBDT + SGD auc : 0.94537\n",
      "GBDT + SGD auc2 : 0.72383\n",
      "GBDT + other classfier time taken: 18.55\n",
      "XGB auc : 0.95654\n",
      "lightGBM auc : 0.95294\n",
      "GBDT + lightGBM auc : 0.95554\n",
      "GBDT + lightGBM auc2 : 0.95780\n",
      "lightGBM time taken: 3.54\n"
     ]
    }
   ],
   "source": [
    "xgboost_lr(example)  # trying another dataset 3"
   ]
  },
  {
   "cell_type": "code",
   "execution_count": 65,
   "metadata": {},
   "outputs": [
    {
     "name": "stdout",
     "output_type": "stream",
     "text": [
      "XGBDT+LR auc 1: 0.96367\n",
      "XGBDT+LR auc 2: 0.61418\n",
      "XGBDT+LR time taken: 12.20\n",
      "GBDT + GNB auc: 0.89201\n",
      "GBDT + Perceptron auc : 0.87319\n",
      "GBDT + Perceptron auc2 : 0.62389\n",
      "GBDT + Linear SVC auc : 0.87117\n",
      "GBDT + Linear SVC auc2 : 0.79208\n",
      "GBDT + SGD auc : 0.95278\n",
      "GBDT + SGD auc2 : 0.72595\n",
      "GBDT + other classfier time taken: 42.19\n",
      "XGB auc : 0.95397\n",
      "lightGBM auc : 0.95063\n",
      "GBDT + lightGBM auc : 0.95417\n",
      "GBDT + lightGBM auc2 : 0.95519\n",
      "lightGBM time taken: 5.89\n"
     ]
    }
   ],
   "source": [
    "xgboost_lr(example) #testing params1"
   ]
  },
  {
   "cell_type": "code",
   "execution_count": 66,
   "metadata": {},
   "outputs": [
    {
     "name": "stdout",
     "output_type": "stream",
     "text": [
      "XGBDT+LR auc 1: 0.96145\n",
      "XGBDT+LR auc 2: 0.71624\n",
      "XGBDT+LR time taken: 11.25\n",
      "GBDT + GNB auc: 0.88621\n",
      "GBDT + Perceptron auc : 0.87716\n",
      "GBDT + Perceptron auc2 : 0.72668\n",
      "GBDT + Linear SVC auc : 0.88686\n",
      "GBDT + Linear SVC auc2 : 0.73375\n",
      "GBDT + SGD auc : 0.95541\n",
      "GBDT + SGD auc2 : 0.72161\n",
      "GBDT + other classfier time taken: 42.13\n",
      "XGB auc : 0.95593\n",
      "lightGBM auc : 0.95389\n",
      "GBDT + lightGBM auc : 0.95290\n",
      "GBDT + lightGBM auc2 : 0.95576\n",
      "lightGBM time taken: 5.74\n"
     ]
    }
   ],
   "source": [
    "xgboost_lr(example) #testing params2"
   ]
  },
  {
   "cell_type": "code",
   "execution_count": 67,
   "metadata": {},
   "outputs": [
    {
     "name": "stdout",
     "output_type": "stream",
     "text": [
      "XGBDT+LR auc 1: 0.95582\n",
      "XGBDT+LR auc 2: 0.62365\n",
      "XGBDT+LR time taken: 11.09\n",
      "GBDT + GNB auc: 0.89040\n",
      "GBDT + Perceptron auc : 0.85024\n",
      "GBDT + Perceptron auc2 : 0.73065\n",
      "GBDT + Linear SVC auc : 0.87626\n",
      "GBDT + Linear SVC auc2 : 0.57119\n",
      "GBDT + SGD auc : 0.94661\n",
      "GBDT + SGD auc2 : 0.73191\n",
      "GBDT + other classfier time taken: 41.31\n",
      "XGB auc : 0.94716\n",
      "lightGBM auc : 0.94567\n",
      "GBDT + lightGBM auc : 0.94859\n",
      "GBDT + lightGBM auc2 : 0.94695\n",
      "lightGBM time taken: 6.25\n"
     ]
    }
   ],
   "source": [
    "xgboost_lr(example) #testing params3"
   ]
  },
  {
   "cell_type": "code",
   "execution_count": 81,
   "metadata": {},
   "outputs": [
    {
     "name": "stdout",
     "output_type": "stream",
     "text": [
      "{'silent': 1, 'objective': 'binary:logistic', 'num_round': 50, 'max_depth': 7}\n",
      "XGBDT+LR auc 1: 0.96095\n",
      "XGBDT+LR auc 2: 0.62529\n",
      "XGBDT+LR time taken: 80.81\n",
      "GBDT + GNB auc: 0.91951\n",
      "GBDT + Perceptron auc : 0.86843\n",
      "GBDT + Perceptron auc2 : 0.50000\n",
      "GBDT + Linear SVC auc : 0.88063\n",
      "GBDT + Linear SVC auc2 : 0.78430\n",
      "GBDT + SGD auc : 0.95316\n",
      "GBDT + SGD auc2 : 0.73162\n",
      "GBDT + other classfier time taken: 5.90\n",
      "XGB auc : 0.95803\n",
      "lightGBM auc : 0.95525\n",
      "GBDT + lightGBM auc : 0.95336\n",
      "GBDT + lightGBM auc2 : 0.95493\n",
      "lightGBM time taken: 1.65\n"
     ]
    }
   ],
   "source": [
    "xgboost_lr(example) #testing grid search num_round : 30~50, max_depth : 5~8"
   ]
  },
  {
   "cell_type": "code",
   "execution_count": 83,
   "metadata": {},
   "outputs": [
    {
     "name": "stdout",
     "output_type": "stream",
     "text": [
      "{'silent': 1, 'objective': 'binary:logistic', 'num_round': 70, 'max_depth': 9}\n",
      "XGBDT+LR auc 1: 0.95251\n",
      "XGBDT+LR auc 2: 0.63956\n",
      "XGBDT+LR time taken: 133.74\n",
      "GBDT + GNB auc: 0.88624\n",
      "GBDT + Perceptron auc : 0.86681\n",
      "GBDT + Perceptron auc2 : 0.72665\n",
      "GBDT + Linear SVC auc : 0.85990\n",
      "GBDT + Linear SVC auc2 : 0.55178\n",
      "GBDT + SGD auc : 0.94239\n",
      "GBDT + SGD auc2 : 0.72288\n",
      "GBDT + other classfier time taken: 6.08\n",
      "XGB auc : 0.94968\n",
      "lightGBM auc : 0.94232\n",
      "GBDT + lightGBM auc : 0.93535\n",
      "GBDT + lightGBM auc2 : 0.94258\n",
      "lightGBM time taken: 1.55\n"
     ]
    }
   ],
   "source": [
    "xgboost_lr(example) #testing grid search  num_round : 50 ~ 70, max_depth : 7~10"
   ]
  },
  {
   "cell_type": "code",
   "execution_count": 84,
   "metadata": {},
   "outputs": [
    {
     "name": "stdout",
     "output_type": "stream",
     "text": [
      "{'silent': 1, 'objective': 'binary:logistic', 'num_round': 70, 'max_depth': 8}\n",
      "XGBDT+LR auc 1: 0.95577\n",
      "XGBDT+LR auc 2: 0.61168\n",
      "XGBDT+LR time taken: 131.92\n",
      "GBDT + GNB auc: 0.90123\n",
      "GBDT + Perceptron auc : 0.86758\n",
      "GBDT + Perceptron auc2 : 0.50000\n",
      "GBDT + Linear SVC auc : 0.86351\n",
      "GBDT + Linear SVC auc2 : 0.76937\n",
      "GBDT + SGD auc : 0.94711\n",
      "GBDT + SGD auc2 : 0.71315\n",
      "GBDT + other classfier time taken: 6.03\n",
      "XGB auc : 0.94839\n",
      "lightGBM auc : 0.94590\n",
      "GBDT + lightGBM auc : 0.94741\n",
      "GBDT + lightGBM auc2 : 0.94994\n",
      "lightGBM time taken: 1.65\n"
     ]
    }
   ],
   "source": [
    "xgboost_lr(example) #testing grid search with early stopping"
   ]
  },
  {
   "cell_type": "code",
   "execution_count": 7,
   "metadata": {},
   "outputs": [
    {
     "name": "stdout",
     "output_type": "stream",
     "text": [
      "{'silent': 1, 'objective': 'binary:logistic', 'num_round': 40, 'max_depth': 7}\n",
      "XGBDT+LR auc 1: 0.95607\n",
      "XGBDT+LR auc 2: 0.64764\n",
      "XGBDT+LR time taken: 36.30\n",
      "GBDT + GNB auc: 0.90986\n",
      "GBDT + Perceptron auc : 0.86768\n",
      "GBDT + Perceptron auc2 : 0.50000\n",
      "GBDT + Linear SVC auc : 0.87193\n",
      "GBDT + Linear SVC auc2 : 0.78617\n",
      "GBDT + SGD auc : 0.94976\n",
      "GBDT + SGD auc2 : 0.74507\n",
      "GBDT + other classfier time taken: 1.42\n",
      "XGB auc : 0.95050\n",
      "lightGBM auc : 0.94357\n",
      "GBDT + lightGBM auc : 0.95039\n",
      "GBDT + lightGBM auc2 : 0.95138\n",
      "lightGBM time taken: 0.96\n"
     ]
    }
   ],
   "source": [
    "xgboost_lr(example) #testing grid search  num_round : 20~40, max_depth : 5~7"
   ]
  },
  {
   "cell_type": "code",
   "execution_count": 10,
   "metadata": {},
   "outputs": [
    {
     "name": "stdout",
     "output_type": "stream",
     "text": [
      "{'silent': 1, 'objective': 'binary:logistic', 'num_round': 40, 'max_depth': 7}\n",
      "XGBDT+LR auc 1: 0.95121\n",
      "XGBDT+LR auc 2: 0.64968\n",
      "XGBDT+LR time taken: 38.45\n",
      "GBDT + GNB auc: 0.89994\n",
      "GBDT + Perceptron auc : 0.83240\n",
      "GBDT + Perceptron auc2 : 0.73587\n",
      "GBDT + Linear SVC auc : 0.86004\n",
      "GBDT + Linear SVC auc2 : 0.78863\n",
      "GBDT + SGD auc : 0.93846\n",
      "GBDT + SGD auc2 : 0.51573\n",
      "GBDT + other classfier time taken: 5.99\n",
      "XGB auc : 0.95007\n",
      "lightGBM auc : 0.94953\n",
      "GBDT + lightGBM auc : 0.94652\n",
      "GBDT + lightGBM auc2 : 0.94854\n",
      "lightGBM time taken: 1.68\n"
     ]
    }
   ],
   "source": [
    "xgboost_lr(example) #testing grid search  num_round : 20~40, max_depth : 5~7"
   ]
  },
  {
   "cell_type": "code",
   "execution_count": 16,
   "metadata": {},
   "outputs": [
    {
     "name": "stdout",
     "output_type": "stream",
     "text": [
      "XGBDT+LR auc 1: 0.95769\n",
      "XGBDT+LR auc 2: 0.58779\n",
      "XGBDT+LR time taken: 1.99\n",
      "GBDT + GNB auc: 0.90880\n",
      "GBDT + Perceptron auc : 0.85485\n",
      "GBDT + Perceptron auc2 : 0.72575\n",
      "GBDT + Linear SVC auc : 0.86000\n",
      "GBDT + Linear SVC auc2 : 0.70816\n",
      "GBDT + SGD auc : 0.94906\n",
      "GBDT + SGD auc2 : 0.50185\n",
      "GBDT + other classfier time taken: 5.97\n",
      "XGB auc : 0.95242\n",
      "lightGBM auc : 0.94748\n",
      "GBDT + lightGBM auc : 0.95043\n",
      "GBDT + lightGBM auc2 : 0.95230\n",
      "lightGBM time taken: 1.47\n"
     ]
    }
   ],
   "source": [
    "xgboost_lr(example) "
   ]
  },
  {
   "cell_type": "code",
   "execution_count": 17,
   "metadata": {},
   "outputs": [
    {
     "name": "stdout",
     "output_type": "stream",
     "text": [
      "XGBDT+LR auc 1: 0.96265\n",
      "XGBDT+LR auc 2: 0.60898\n",
      "XGBDT+LR time taken: 1.99\n",
      "GBDT + GNB auc: 0.91668\n",
      "GBDT + Perceptron auc : 0.84197\n",
      "GBDT + Perceptron auc2 : 0.72576\n",
      "GBDT + Linear SVC auc : 0.89128\n",
      "GBDT + Linear SVC auc2 : 0.57192\n",
      "GBDT + SGD auc : 0.95019\n",
      "GBDT + SGD auc2 : 0.72863\n",
      "GBDT + other classfier time taken: 6.01\n",
      "XGB auc : 0.95659\n",
      "lightGBM auc : 0.95572\n",
      "GBDT + lightGBM auc : 0.95514\n",
      "GBDT + lightGBM auc2 : 0.95774\n",
      "lightGBM time taken: 1.61\n"
     ]
    }
   ],
   "source": [
    "xgboost_lr(example) "
   ]
  },
  {
   "cell_type": "code",
   "execution_count": 18,
   "metadata": {},
   "outputs": [
    {
     "name": "stdout",
     "output_type": "stream",
     "text": [
      "XGBDT+LR auc 1: 0.95512\n",
      "XGBDT+LR auc 2: 0.60247\n",
      "XGBDT+LR time taken: 2.09\n",
      "GBDT + GNB auc: 0.92289\n",
      "GBDT + Perceptron auc : 0.85925\n",
      "GBDT + Perceptron auc2 : 0.74393\n",
      "GBDT + Linear SVC auc : 0.87706\n",
      "GBDT + Linear SVC auc2 : 0.78987\n",
      "GBDT + SGD auc : 0.94682\n",
      "GBDT + SGD auc2 : 0.75873\n",
      "GBDT + other classfier time taken: 6.54\n",
      "XGB auc : 0.95377\n",
      "lightGBM auc : 0.95109\n",
      "GBDT + lightGBM auc : 0.94884\n",
      "GBDT + lightGBM auc2 : 0.95355\n",
      "lightGBM time taken: 1.65\n"
     ]
    }
   ],
   "source": [
    "xgboost_lr(example) "
   ]
  },
  {
   "cell_type": "code",
   "execution_count": 19,
   "metadata": {},
   "outputs": [
    {
     "name": "stdout",
     "output_type": "stream",
     "text": [
      "XGBDT+LR auc 1: 0.96387\n",
      "XGBDT+LR auc 2: 0.61440\n",
      "XGBDT+LR time taken: 1.99\n",
      "GBDT + GNB auc: 0.92455\n",
      "GBDT + Perceptron auc : 0.88326\n",
      "GBDT + Perceptron auc2 : 0.33190\n",
      "GBDT + Linear SVC auc : 0.88753\n",
      "GBDT + Linear SVC auc2 : 0.63559\n",
      "GBDT + SGD auc : 0.94128\n",
      "GBDT + SGD auc2 : 0.70941\n",
      "GBDT + other classfier time taken: 6.21\n",
      "XGB auc : 0.95834\n",
      "lightGBM auc : 0.95581\n",
      "GBDT + lightGBM auc : 0.95743\n",
      "GBDT + lightGBM auc2 : 0.95945\n",
      "lightGBM time taken: 1.46\n"
     ]
    }
   ],
   "source": [
    "xgboost_lr(example) "
   ]
  },
  {
   "cell_type": "code",
   "execution_count": 25,
   "metadata": {},
   "outputs": [
    {
     "name": "stdout",
     "output_type": "stream",
     "text": [
      "XGBDT+LR auc 1: 0.95235\n",
      "XGBDT+LR auc 2: 0.65865\n",
      "XGBDT+LR time taken: 2.12\n",
      "GBDT + GNB auc: 0.90088\n",
      "GBDT + Perceptron auc : 0.86562\n",
      "GBDT + Perceptron auc2 : 0.71858\n",
      "GBDT + Linear SVC auc : 0.87337\n",
      "GBDT + Linear SVC auc2 : 0.49802\n",
      "GBDT + SGD auc : 0.94300\n",
      "GBDT + SGD auc2 : 0.50000\n",
      "GBDT + other classfier time taken: 6.14\n",
      "XGB auc : 0.95269\n",
      "lightGBM auc : 0.94858\n",
      "GBDT + lightGBM auc : 0.94887\n",
      "GBDT + lightGBM auc2 : 0.95380\n",
      "lightGBM time taken: 1.62\n"
     ]
    }
   ],
   "source": [
    "xgboost_lr(example)  # eta=0.1 applied"
   ]
  },
  {
   "cell_type": "code",
   "execution_count": 26,
   "metadata": {},
   "outputs": [
    {
     "name": "stdout",
     "output_type": "stream",
     "text": [
      "XGBDT+LR auc 1: 0.95633\n",
      "XGBDT+LR auc 2: 0.62859\n",
      "XGBDT+LR time taken: 1.94\n",
      "GBDT + GNB auc: 0.93053\n",
      "GBDT + Perceptron auc : 0.86511\n",
      "GBDT + Perceptron auc2 : 0.50244\n",
      "GBDT + Linear SVC auc : 0.88180\n",
      "GBDT + Linear SVC auc2 : 0.74764\n",
      "GBDT + SGD auc : 0.94139\n",
      "GBDT + SGD auc2 : 0.74994\n",
      "GBDT + other classfier time taken: 6.40\n",
      "XGB auc : 0.95804\n",
      "lightGBM auc : 0.95482\n",
      "GBDT + lightGBM auc : 0.94831\n",
      "GBDT + lightGBM auc2 : 0.95534\n",
      "lightGBM time taken: 1.65\n"
     ]
    }
   ],
   "source": [
    "xgboost_lr(example)  # eta=0.1 applied"
   ]
  },
  {
   "cell_type": "code",
   "execution_count": 27,
   "metadata": {},
   "outputs": [
    {
     "name": "stdout",
     "output_type": "stream",
     "text": [
      "XGBDT+LR auc 1: 0.95287\n",
      "XGBDT+LR auc 2: 0.64091\n",
      "XGBDT+LR time taken: 1.94\n",
      "GBDT + GNB auc: 0.91910\n",
      "GBDT + Perceptron auc : 0.84249\n",
      "GBDT + Perceptron auc2 : 0.72257\n",
      "GBDT + Linear SVC auc : 0.87561\n",
      "GBDT + Linear SVC auc2 : 0.55202\n",
      "GBDT + SGD auc : 0.94272\n",
      "GBDT + SGD auc2 : 0.73307\n",
      "GBDT + other classfier time taken: 6.09\n",
      "XGB auc : 0.95367\n",
      "lightGBM auc : 0.95260\n",
      "GBDT + lightGBM auc : 0.94656\n",
      "GBDT + lightGBM auc2 : 0.95233\n",
      "lightGBM time taken: 1.63\n"
     ]
    }
   ],
   "source": [
    "xgboost_lr(example)  # eta=0.01 applied"
   ]
  },
  {
   "cell_type": "code",
   "execution_count": 28,
   "metadata": {},
   "outputs": [
    {
     "name": "stdout",
     "output_type": "stream",
     "text": [
      "XGBDT+LR auc 1: 0.94076\n",
      "XGBDT+LR auc 2: 0.64622\n",
      "XGBDT+LR time taken: 2.04\n",
      "GBDT + GNB auc: 0.90656\n",
      "GBDT + Perceptron auc : 0.85477\n",
      "GBDT + Perceptron auc2 : 0.73244\n",
      "GBDT + Linear SVC auc : 0.86629\n",
      "GBDT + Linear SVC auc2 : 0.54074\n",
      "GBDT + SGD auc : 0.92358\n",
      "GBDT + SGD auc2 : 0.63984\n",
      "GBDT + other classfier time taken: 6.13\n",
      "XGB auc : 0.94855\n",
      "lightGBM auc : 0.94386\n",
      "GBDT + lightGBM auc : 0.93581\n",
      "GBDT + lightGBM auc2 : 0.94244\n",
      "lightGBM time taken: 1.49\n"
     ]
    }
   ],
   "source": [
    "xgboost_lr(example)  # eta=0.01 applied"
   ]
  },
  {
   "cell_type": "code",
   "execution_count": 30,
   "metadata": {},
   "outputs": [
    {
     "name": "stdout",
     "output_type": "stream",
     "text": [
      "XGBDT+LR auc 1: 0.94764\n",
      "XGBDT+LR auc 2: 0.62906\n",
      "XGBDT+LR time taken: 1.98\n",
      "GBDT + GNB auc: 0.91031\n",
      "GBDT + Perceptron auc : 0.85817\n",
      "GBDT + Perceptron auc2 : 0.50126\n",
      "GBDT + Linear SVC auc : 0.86864\n",
      "GBDT + Linear SVC auc2 : 0.54670\n",
      "GBDT + SGD auc : 0.93948\n",
      "GBDT + SGD auc2 : 0.73156\n",
      "GBDT + other classfier time taken: 6.09\n",
      "XGB auc : 0.94981\n",
      "lightGBM auc : 0.94661\n",
      "GBDT + lightGBM auc : 0.93722\n",
      "GBDT + lightGBM auc2 : 0.94639\n",
      "lightGBM time taken: 1.49\n"
     ]
    }
   ],
   "source": [
    "xgboost_lr(example)  # eta=0.1 applied"
   ]
  },
  {
   "cell_type": "code",
   "execution_count": 31,
   "metadata": {},
   "outputs": [
    {
     "name": "stdout",
     "output_type": "stream",
     "text": [
      "XGBDT+LR auc 1: 0.94759\n",
      "XGBDT+LR auc 2: 0.60711\n",
      "XGBDT+LR time taken: 1.97\n",
      "GBDT + GNB auc: 0.91084\n",
      "GBDT + Perceptron auc : 0.86425\n",
      "GBDT + Perceptron auc2 : 0.72784\n",
      "GBDT + Linear SVC auc : 0.87225\n",
      "GBDT + Linear SVC auc2 : 0.64848\n",
      "GBDT + SGD auc : 0.93893\n",
      "GBDT + SGD auc2 : 0.74313\n",
      "GBDT + other classfier time taken: 6.39\n",
      "XGB auc : 0.94943\n",
      "lightGBM auc : 0.94146\n",
      "GBDT + lightGBM auc : 0.94008\n",
      "GBDT + lightGBM auc2 : 0.94731\n",
      "lightGBM time taken: 1.50\n"
     ]
    }
   ],
   "source": [
    "xgboost_lr(example)  # eta=0.1 applied"
   ]
  },
  {
   "cell_type": "code",
   "execution_count": 32,
   "metadata": {},
   "outputs": [
    {
     "name": "stdout",
     "output_type": "stream",
     "text": [
      "XGBDT+LR auc 1: 0.95941\n",
      "XGBDT+LR auc 2: 0.62627\n",
      "XGBDT+LR time taken: 1.98\n",
      "GBDT + GNB auc: 0.91689\n",
      "GBDT + Perceptron auc : 0.83283\n",
      "GBDT + Perceptron auc2 : 0.69812\n",
      "GBDT + Linear SVC auc : 0.88228\n",
      "GBDT + Linear SVC auc2 : 0.77100\n",
      "GBDT + SGD auc : 0.95424\n",
      "GBDT + SGD auc2 : 0.50953\n",
      "GBDT + other classfier time taken: 6.26\n",
      "XGB auc : 0.95780\n",
      "lightGBM auc : 0.95386\n",
      "GBDT + lightGBM auc : 0.95282\n",
      "GBDT + lightGBM auc2 : 0.95575\n",
      "lightGBM time taken: 1.58\n"
     ]
    }
   ],
   "source": [
    "xgboost_lr(example)  # eta=0.1 applied"
   ]
  },
  {
   "cell_type": "code",
   "execution_count": 33,
   "metadata": {},
   "outputs": [
    {
     "name": "stdout",
     "output_type": "stream",
     "text": [
      "XGBDT+LR auc 1: 0.94350\n",
      "XGBDT+LR auc 2: 0.60106\n",
      "XGBDT+LR time taken: 2.00\n",
      "GBDT + GNB auc: 0.89834\n",
      "GBDT + Perceptron auc : 0.85667\n",
      "GBDT + Perceptron auc2 : 0.71141\n",
      "GBDT + Linear SVC auc : 0.86052\n",
      "GBDT + Linear SVC auc2 : 0.76073\n",
      "GBDT + SGD auc : 0.92719\n",
      "GBDT + SGD auc2 : 0.43370\n",
      "GBDT + other classfier time taken: 6.17\n",
      "XGB auc : 0.94340\n",
      "lightGBM auc : 0.93661\n",
      "GBDT + lightGBM auc : 0.93736\n",
      "GBDT + lightGBM auc2 : 0.94299\n",
      "lightGBM time taken: 1.74\n"
     ]
    }
   ],
   "source": [
    "xgboost_lr(example)  # eta=0.1 applied"
   ]
  },
  {
   "cell_type": "code",
   "execution_count": 35,
   "metadata": {},
   "outputs": [
    {
     "name": "stdout",
     "output_type": "stream",
     "text": [
      "XGBDT+LR auc 1: 0.95669\n",
      "XGBDT+LR auc 2: 0.61759\n",
      "XGBDT+LR time taken: 2.02\n",
      "GBDT + GNB auc: 0.91129\n",
      "GBDT + Perceptron auc : 0.82474\n",
      "GBDT + Perceptron auc2 : 0.74395\n",
      "GBDT + Linear SVC auc : 0.87207\n",
      "GBDT + Linear SVC auc2 : 0.55048\n",
      "GBDT + SGD auc : 0.94817\n",
      "GBDT + SGD auc2 : 0.50000\n",
      "GBDT + other classfier time taken: 5.98\n",
      "XGB auc : 0.95212\n",
      "lightGBM auc : 0.94959\n",
      "GBDT + lightGBM auc : 0.95181\n",
      "GBDT + lightGBM auc2 : 0.95142\n",
      "lightGBM time taken: 1.65\n"
     ]
    }
   ],
   "source": [
    "xgboost_lr(example) # without eta"
   ]
  },
  {
   "cell_type": "code",
   "execution_count": 61,
   "metadata": {},
   "outputs": [
    {
     "name": "stdout",
     "output_type": "stream",
     "text": [
      "best C value: 0.10\n",
      "XGBDT+LR auc 1: 0.95269\n",
      "XGBDT+LR auc 2: 0.65136\n",
      "XGBDT+LR time taken: 5.71\n",
      "GBDT + GNB auc: 0.90510\n",
      "GBDT + Perceptron auc : 0.83223\n",
      "GBDT + Perceptron auc2 : 0.73890\n",
      "GBDT + Linear SVC auc : 0.87233\n",
      "GBDT + Linear SVC auc2 : 0.59625\n",
      "GBDT + SGD auc : 0.94749\n",
      "GBDT + SGD auc2 : 0.73563\n",
      "GBDT + other classfier time taken: 6.09\n",
      "XGB auc : 0.94689\n",
      "lightGBM auc : 0.94150\n",
      "GBDT + lightGBM auc : 0.94346\n",
      "GBDT + lightGBM auc2 : 0.94659\n",
      "lightGBM time taken: 1.59\n"
     ]
    }
   ],
   "source": [
    "xgboost_lr(example)  # regularizing lr"
   ]
  },
  {
   "cell_type": "code",
   "execution_count": 62,
   "metadata": {},
   "outputs": [
    {
     "name": "stdout",
     "output_type": "stream",
     "text": [
      "best C value: 0.10\n",
      "XGBDT+LR auc 1: 0.95645\n",
      "XGBDT+LR auc 2: 0.86918\n",
      "XGBDT+LR time taken: 5.62\n",
      "GBDT + GNB auc: 0.90405\n",
      "GBDT + Perceptron auc : 0.85365\n",
      "GBDT + Perceptron auc2 : 0.53253\n",
      "GBDT + Linear SVC auc : 0.87563\n",
      "GBDT + Linear SVC auc2 : 0.56682\n",
      "GBDT + SGD auc : 0.94613\n",
      "GBDT + SGD auc2 : 0.35602\n",
      "GBDT + other classfier time taken: 6.28\n",
      "XGB auc : 0.94900\n",
      "lightGBM auc : 0.95176\n",
      "GBDT + lightGBM auc : 0.94859\n",
      "GBDT + lightGBM auc2 : 0.95330\n",
      "lightGBM time taken: 1.69\n"
     ]
    }
   ],
   "source": [
    "xgboost_lr(example)  # regularizing lr"
   ]
  },
  {
   "cell_type": "code",
   "execution_count": 68,
   "metadata": {},
   "outputs": [
    {
     "name": "stdout",
     "output_type": "stream",
     "text": [
      "best C value: 0.50\n",
      "XGBDT+LR auc 1: 0.95646\n",
      "XGBDT+LR auc 2: 0.65687\n",
      "XGBDT+LR time taken: 5.50\n",
      "GBDT + GNB auc: 0.91188\n",
      "GBDT + Perceptron auc : 0.86114\n",
      "GBDT + Perceptron auc2 : 0.72662\n",
      "GBDT + Linear SVC auc : 0.87547\n",
      "GBDT + Linear SVC auc2 : 0.78412\n",
      "GBDT + SGD auc : 0.95358\n",
      "GBDT + SGD auc2 : 0.72579\n",
      "GBDT + other classfier time taken: 6.18\n",
      "XGB auc : 0.95581\n",
      "lightGBM auc : 0.95370\n",
      "GBDT + lightGBM auc : 0.94876\n",
      "GBDT + lightGBM auc2 : 0.95032\n",
      "lightGBM time taken: 1.62\n"
     ]
    }
   ],
   "source": [
    "xgboost_lr(example)  # regularizing lr"
   ]
  },
  {
   "cell_type": "code",
   "execution_count": null,
   "metadata": {},
   "outputs": [],
   "source": []
  }
 ],
 "metadata": {
  "kernelspec": {
   "display_name": "Python 3",
   "language": "python",
   "name": "python3"
  },
  "language_info": {
   "codemirror_mode": {
    "name": "ipython",
    "version": 3
   },
   "file_extension": ".py",
   "mimetype": "text/x-python",
   "name": "python",
   "nbconvert_exporter": "python",
   "pygments_lexer": "ipython3",
   "version": "3.6.3"
  }
 },
 "nbformat": 4,
 "nbformat_minor": 2
}
