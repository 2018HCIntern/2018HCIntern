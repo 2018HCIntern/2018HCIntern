{
 "cells": [
  {
   "cell_type": "code",
   "execution_count": 120,
   "metadata": {},
   "outputs": [],
   "source": [
    "import numpy as np\n",
    "import pandas as pd\n",
    "import xgboost as xgb\n",
    "from xgboost import XGBClassifier\n",
    "import lightgbm as lgb\n",
    "from sklearn.preprocessing import OneHotEncoder\n",
    "from sklearn.preprocessing import StandardScaler\n",
    "from sklearn.model_selection import train_test_split\n",
    "from sklearn.linear_model import LogisticRegression\n",
    "from sklearn.metrics import roc_curve, auc, roc_auc_score\n",
    "from sklearn.externals import joblib\n",
    "from sklearn.ensemble import GradientBoostingClassifier\n",
    "from sklearn.model_selection import GridSearchCV\n",
    "from sklearn.externals import joblib\n",
    "from sklearn.svm import SVC, LinearSVC\n",
    "from sklearn.neighbors import KNeighborsClassifier\n",
    "from sklearn.ensemble import RandomForestClassifier\n",
    "from sklearn.naive_bayes import GaussianNB\n",
    "from sklearn.linear_model import SGDClassifier\n",
    "from sklearn.linear_model import Perceptron\n",
    "from sklearn.naive_bayes import GaussianNB\n",
    "import matplotlib.pyplot as plt\n",
    "import numpy as np\n",
    "import pandas as pd\n",
    "from scipy.sparse import csr_matrix\n",
    "from scipy.sparse import hstack\n",
    "import time, os, random, sys\n",
    "import math\n",
    "import hyperopt.tpe\n",
    "import hpsklearn.components\n",
    "import hpsklearn.demo_support\n",
    "import warnings\n",
    "\n",
    "warnings.filterwarnings('ignore')\n",
    "np.random.seed(1)"
   ]
  },
  {
   "cell_type": "code",
   "execution_count": 230,
   "metadata": {},
   "outputs": [],
   "source": [
    "def xgboost_lr(File):\n",
    "    \n",
    "    start = time.clock()\n",
    "    train_df, test_df = train_test_split(File, train_size = 0.75, random_state=11)\n",
    "    X_train = train_df.drop(train_df.columns[0], axis=1)\n",
    "    y_train = train_df[train_df.columns[0]]\n",
    "    X_test = test_df.drop(test_df.columns[0], axis=1)\n",
    "    y_test = test_df[test_df.columns[0]]\n",
    "    \n",
    "    \n",
    "    dtrain = xgb.DMatrix(X_train.values,y_train.values)\n",
    "    dtest = xgb.DMatrix(X_test.values, y_test.values)\n",
    "    param = {'silent': 1, 'objective':'binary:logistic','max_depth':7}\n",
    "    watchlist = [(dtest, 'eval'), (dtrain, 'train')]\n",
    "    num_round=30\n",
    "    \n",
    "\n",
    "    \n",
    "    \n",
    "    '''\n",
    "    #------------------------------------------------------------------------------------------------------------\n",
    "    #testing gridsearch\n",
    "    clf=XGBClassifier(objective='binary:logistic',early_stopping_rounds=10)\n",
    "    tuned_parameter = [{'n_estimators':[20,30,40], 'max_depth':[5,6,7], 'learning_rate':[0.1,0.01,0.05]}]\n",
    "    gs_clf = GridSearchCV(clf, tuned_parameter, cv=5, scoring='roc_auc')\n",
    "    gs_clf.fit(X_train, y_train)\n",
    "    param['num_round']=gs_clf.best_params_['n_estimators']\n",
    "    param['max_depth']=gs_clf.best_params_['max_depth']\n",
    "    param['eta']=gs_clf.best_params_['learning_rate']\n",
    "    print(param)\n",
    "   \n",
    "        \n",
    "    #--------------------------------------------------------------------------------------------------------------   \n",
    "    '''\n",
    "    \n",
    "    bst= xgb.train(param, dtrain,num_round)\n",
    "\n",
    "\n",
    "    \n",
    "    y_pred = bst.predict(dtrain, pred_leaf=True)\n",
    "    print(y_pred)\n",
    "    print(y_pred.shape)\n",
    "    num_leaf= np.max(y_pred)\n",
    "    X_train_leaves = np.zeros([len(y_pred),len(y_pred[0]) * num_leaf],dtype=np.int64)\n",
    "    for i in range(0,len(y_pred)):\n",
    "        temp = np.arange(len(y_pred[0])) * num_leaf - 1 + np.array(y_pred[i])\n",
    "        X_train_leaves[i][temp] += 1\n",
    "\n",
    "    y_pred= bst.predict(dtest, pred_leaf=True)    \n",
    "    X_test_leaves = np.zeros([len(y_pred),len(y_pred[0]) * num_leaf],dtype=np.int64)\n",
    "    for i in range(0,len(y_pred)):\n",
    "        temp = np.arange(len(y_pred[0])) * num_leaf - 1 + np.array(y_pred[i])\n",
    "        X_test_leaves[i][temp] += 1\n",
    "        \n",
    "        \n",
    "    bestC=0\n",
    "    auc_best=0\n",
    "    \n",
    "    #---------------------------------------------------------------------------------\n",
    "    # LR without regularization\n",
    "    '''\n",
    "    lm = LogisticRegression(penalty='l2',C=0.1) # logestic model construction\n",
    "    lm.fit(X_train_leaves,y_train)  # fitting the data\n",
    "\n",
    "    y_pred_est = lm.predict_proba(X_test_leaves)   # Give the probabilty on each label\n",
    "    '''\n",
    "    #---------------------------------------------------------------------------------------------\n",
    "    #regularization applied testing\n",
    "    c = np.array([1,0.5,0.1,0.05,0.01,0.005,0.001])\n",
    "    for t in range(0,len(c)):\n",
    "        lm = LogisticRegression(penalty='l2',C=c[t]) # logestic model construction\n",
    "        lm.fit(X_train_leaves,y_train)  # fitting the data\n",
    "\n",
    "        y_pred_est = lm.predict_proba(X_test_leaves)   # Give the probabilty on each label\n",
    "\n",
    "        auc=roc_auc_score(y_test, y_pred_est[:,1])\n",
    "        if auc_best < auc:\n",
    "            auc_best=auc\n",
    "            bestC=c[t]\n",
    "\n",
    "    #---------------------------------------------------------------------------------------------\n",
    "    \n",
    "    \n",
    "    print('best C value: %.2f' % bestC)\n",
    "    print('XGBDT+LR auc 1: %.5f' % auc_best)\n",
    "    \n",
    "    lr = LogisticRegression(n_jobs=-1)\n",
    "    X_train_ext = hstack([X_train_leaves, X_train])\n",
    "    lr.fit(X_train_ext, y_train)\n",
    "    X_test_ext = hstack([X_test_leaves, X_test])\n",
    "    y_pred_gbdtlr2 = lr.predict_proba(X_test_ext)[:, 1]\n",
    "    gbdtlr_auc2 = roc_auc_score(y_test, y_pred_gbdtlr2)\n",
    "    print('XGBDT+LR auc 2: %.5f' % gbdtlr_auc2)\n",
    "    f_time =time.clock()-start\n",
    "    print('XGBDT+LR time taken: %.2f'% f_time)\n",
    "    \n",
    "    '''#+NB\n",
    "\n",
    "    \n",
    "    start = time.clock()\n",
    "    gnb= GaussianNB()\n",
    "\n",
    "    gnb.fit(X_train_leaves, y_train)\n",
    "    Y_pred_nb=gnb.predict_proba(X_test_leaves)[:,1]\n",
    "    gnb_auc = roc_auc_score(y_test,Y_pred_nb)\n",
    "    print('GBDT + GNB auc: %.5f'% gnb_auc)    \n",
    "    '''\n",
    "    #------------------------------------------------------------------------------------------------\n",
    "    #------------------------------------------------------------------------------------------------\n",
    "    '''    \n",
    "    gnb.fit(X_train_ext, y_train)\n",
    "    y_pred_gnb2=gnb.predict_proba(X_test_ext)[:,1]\n",
    "    gnb_auc2=roc_auc_score(y_test,y_pred_gnb2)\n",
    "    print('GNB auc2: %.5f' % gnb_auc2)\n",
    "    '''\n",
    "    '''#svc\n",
    "    svc=SVC(probability=True)\n",
    "    svc.fit(X_train_leaves, y_train)\n",
    "    Y_pred_svc=svc.predict_proba(X_test_leaves)[:,1]\n",
    "    svc_auc=roc_auc_score(y_test,Y_pred_svc)\n",
    "    print('GBDT + SVC auc: %.5f' % svc_auc)\n",
    "    \n",
    "    svc.fit(X_train_ext, y_train)\n",
    "    y_pred_svc2=svc.predict_proba(X_test_ext)[:, 1]\n",
    "    svc_auc2=roc_auc_score(y_test,y_pred_svc2)\n",
    "    print('GBDT + SVC auc2: %.5f' % svc_auc2)'''\n",
    "    \n",
    "    '''#KNN\n",
    "    knn=KNeighborsClassifier(n_neighbors = 3)\n",
    "    knn.fit(X_train_leaves, y_train)\n",
    "    Y_pred_knn=knn.predict_proba(X_test_leaves)[:,1]\n",
    "    knn_auc=roc_auc_score(y_test,Y_pred_knn)\n",
    "    print('GBDT + KNN auc : %.5f' % knn_auc)\n",
    "    \n",
    "    knn.fit(X_train_ext, y_train)\n",
    "    y_pred_knn2=knn.predict_proba(X_test_ext)[:, 1]\n",
    "    knn_auc2=roc_auc_score(y_test,y_pred_knn2)\n",
    "    print('GBDT + KNN auc2: %.5f' % knn_auc2)\n",
    "    '''\n",
    "    \n",
    "    \n",
    "    #------------------------------------------------------------------------------------------------\n",
    "    #------------------------------------------------------------------------------------------------\n",
    "    \n",
    "    '''#perceptron\n",
    "\n",
    "    perceptron = Perceptron()\n",
    "    perceptron.fit(X_train_leaves, y_train)\n",
    "    y_pred_perc=perceptron.predict(X_test_leaves)\n",
    "    perc_auc=roc_auc_score(y_test,y_pred_perc)\n",
    "    print('GBDT + Perceptron auc : %.5f' % perc_auc)\n",
    "    \n",
    "    perceptron.fit(X_train_ext, y_train)\n",
    "    y_pred_perc2=perceptron.predict(X_test_ext)\n",
    "    perc_auc2=roc_auc_score(y_test,y_pred_perc2)\n",
    "    print('GBDT + Perceptron auc2 : %.5f' % perc_auc2 )\n",
    "    \n",
    "    #linear svc\n",
    "\n",
    "    lin = LinearSVC()\n",
    "    lin.fit(X_train_leaves, y_train)\n",
    "    y_pred_lin=lin.predict(X_test_leaves)\n",
    "    lin_auc=roc_auc_score(y_test,y_pred_lin)\n",
    "    print('GBDT + Linear SVC auc : %.5f' % lin_auc)\n",
    "    \n",
    "    lin.fit(X_train_ext, y_train)\n",
    "    y_pred_lin2=lin.predict(X_test_ext)\n",
    "    lin_auc2=roc_auc_score(y_test,y_pred_lin2)\n",
    "    print('GBDT + Linear SVC auc2 : %.5f' % lin_auc2)\n",
    "    \n",
    "    #SGD\n",
    "\n",
    "    sgd = SGDClassifier(loss='log')\n",
    "    sgd.fit(X_train_leaves, y_train)\n",
    "    Y_pred_sgd=sgd.predict_proba(X_test_leaves)[:, 1]\n",
    "    sgd_auc=roc_auc_score(y_test,Y_pred_sgd)\n",
    "    print('GBDT + SGD auc : %.5f' % sgd_auc)\n",
    "    \n",
    "    sgd.fit(X_train_ext, y_train)\n",
    "    Y_pred_sgd2=sgd.predict_proba(X_test_ext)[:, 1]\n",
    "    sgd_auc2=roc_auc_score(y_test,Y_pred_sgd2)\n",
    "    print('GBDT + SGD auc2 : %.5f' % sgd_auc2)\n",
    "    f_time =time.clock()-start\n",
    "    print('GBDT + other classfier time taken: %.2f'% f_time)    \n",
    "    \n",
    "    #XGB\n",
    "    start = time.clock()\n",
    "    xgbc=XGBClassifier()\n",
    "    xgbc.fit(X_train,y_train)\n",
    "    Y_pred_xgb=xgbc.predict_proba(X_test)[:,1]\n",
    "    xgb_auc= roc_auc_score(y_test,Y_pred_xgb)\n",
    "    print('XGB auc : %.5f' % xgb_auc)\n",
    "    '''\n",
    "    \n",
    "    \n",
    "    \n",
    "    #------------------------------------------------------------------------------------------------\n",
    "    \n",
    "    #------------------------------------------------------------------------------------------------\n",
    "    '''#XGB with leaves\n",
    "\n",
    "    xgbc.fit(X_train_leaves,y_train)\n",
    "    Y_pred_xgb=xgbc.predict(X_test_leaves)\n",
    "    xgb_auc= roc_auc_score(y_test,Y_pred_xgb)\n",
    "    print('GBDT + XGB auc: %.5f' % xgb_auc)\n",
    "    \n",
    "    #XGB with features ext\n",
    "    \n",
    "    xgbc.fit(X_train_ext, y_train)\n",
    "    y_pred_xgb2=xgbc.predict(X_test_ext)\n",
    "    xgb_auc2=roc_auc_score(y_test,y_pred_xgb2)\n",
    "    print('GBDT + XGB auc2: %.5f' %xgb_auc2)\n",
    "    \n",
    "    f_time =time.clock()-start\n",
    "    print('XGB time taken: %.2f'% f_time)'''\n",
    "    \n",
    "    #------------------------------------------------------------------------------------------------\n",
    "    \n",
    "    #------------------------------------------------------------------------------------------------\n",
    "    \n",
    "    '''\n",
    "    #lightGBM\n",
    "    start = time.clock()\n",
    "    lgb_train = lgb.Dataset(X_train, y_train)\n",
    "    lgb_eval = lgb.Dataset(X_test, y_test, reference=lgb_train)\n",
    "    \n",
    "    \n",
    "    \n",
    "    # specify your configurations as a dict\n",
    "    params = {\n",
    "    'task': 'train',\n",
    "    'boosting_type': 'gbdt',\n",
    "    'objective': 'regression',\n",
    "    'metric': {'l2', 'auc'},\n",
    "    'num_leaves': 31,\n",
    "    'learning_rate': 0.05,\n",
    "    'feature_fraction': 0.9,\n",
    "    'bagging_fraction': 0.8,\n",
    "    'bagging_freq': 5,\n",
    "    'verbose': 0\n",
    "    \n",
    "    }\n",
    "\n",
    "    # train\n",
    "    gbm = lgb.train(params,\n",
    "                    lgb_train,\n",
    "                    num_boost_round=20,\n",
    "                    valid_sets=lgb_eval,\n",
    "                    early_stopping_rounds=5,\n",
    "                    verbose_eval=False)\n",
    "\n",
    "\n",
    "\n",
    "    y_pred_lgb = gbm.predict(X_test, num_iteration=gbm.best_iteration)\n",
    "    # eval\n",
    "    lgb_auc=roc_auc_score(y_test,y_pred_lgb)\n",
    "    print('lightGBM auc : %.5f' % lgb_auc)\n",
    "    \n",
    "    lgb_train=lgb.Dataset(X_train_leaves, y_train)\n",
    "    lgb_eval=lgb.Dataset(X_test_leaves, y_test, reference=lgb_train)\n",
    "    gbm = lgb.train(params,\n",
    "                  lgb_train,\n",
    "                    num_boost_round=20,\n",
    "                    valid_sets=lgb_eval,\n",
    "                    early_stopping_rounds=5,\n",
    "                   verbose_eval=False)\n",
    "    y_pred_lgb2 =gbm.predict(X_test_leaves, num_iteration=gbm.best_iteration)\n",
    "    lgb_auc2=roc_auc_score(y_test, y_pred_lgb2)\n",
    "    \n",
    "    print('GBDT + lightGBM auc : %.5f' % lgb_auc2)\n",
    "    \n",
    "    lgb_train=lgb.Dataset(X_train_ext, y_train)\n",
    "    lgb_eval=lgb.Dataset(X_test_ext, y_test, reference=lgb_train)\n",
    "    gbm = lgb.train(params,\n",
    "                  lgb_train,\n",
    "                    num_boost_round=20,\n",
    "                    valid_sets=lgb_eval,\n",
    "                    early_stopping_rounds=5,\n",
    "                   verbose_eval=False)\n",
    "    y_pred_lgb3 =gbm.predict(X_test_ext, num_iteration=gbm.best_iteration)\n",
    "    lgb_auc3=roc_auc_score(y_test, y_pred_lgb3)\n",
    "    \n",
    "    print('GBDT + lightGBM auc2 : %.5f' % lgb_auc3)\n",
    "    \n",
    "    \n",
    "    f_time=time.clock()-start\n",
    "    print('lightGBM time taken: %.2f'% f_time)'''"
   ]
  },
  {
   "cell_type": "code",
   "execution_count": 130,
   "metadata": {},
   "outputs": [],
   "source": [
    "example = pd.read_csv('example2.csv')"
   ]
  },
  {
   "cell_type": "code",
   "execution_count": 10,
   "metadata": {},
   "outputs": [
    {
     "name": "stdout",
     "output_type": "stream",
     "text": [
      "XGBDT+LR auc 1: 0.94069\n",
      "XGBDT+LR auc 2: 0.62187\n",
      "XGBDT+LR time taken: 6.23\n",
      "GBDT + GNB auc: 0.86978\n",
      "GBDT + Perceptron auc : 0.79588\n",
      "GBDT + Perceptron auc2 : 0.48035\n",
      "GBDT + Linear SVC auc : 0.85587\n",
      "GBDT + Linear SVC auc2 : 0.46910\n",
      "GBDT + SGD auc : 0.92947\n",
      "GBDT + SGD auc2 : 0.52675\n",
      "GBDT + other classfier time taken: 14.77\n",
      "XGB auc : 0.93379\n",
      "lightGBM auc : 0.93402\n",
      "GBDT + lightGBM auc : 0.93368\n",
      "GBDT + lightGBM auc2 : 0.93126\n",
      "lightGBM time taken: 2.91\n"
     ]
    }
   ],
   "source": [
    "xgboost_lr(example) #Trial 1"
   ]
  },
  {
   "cell_type": "code",
   "execution_count": 11,
   "metadata": {},
   "outputs": [
    {
     "name": "stdout",
     "output_type": "stream",
     "text": [
      "XGBDT+LR auc 1: 0.92607\n",
      "XGBDT+LR auc 2: 0.56891\n",
      "XGBDT+LR time taken: 4.43\n",
      "GBDT + GNB auc: 0.86347\n",
      "GBDT + Perceptron auc : 0.85147\n",
      "GBDT + Perceptron auc2 : 0.50000\n",
      "GBDT + Linear SVC auc : 0.84385\n",
      "GBDT + Linear SVC auc2 : 0.50617\n",
      "GBDT + SGD auc : 0.91063\n",
      "GBDT + SGD auc2 : 0.49945\n",
      "GBDT + other classfier time taken: 13.48\n",
      "XGB auc : 0.93151\n",
      "lightGBM auc : 0.92760\n",
      "GBDT + lightGBM auc : 0.92417\n",
      "GBDT + lightGBM auc2 : 0.91973\n",
      "lightGBM time taken: 3.01\n"
     ]
    }
   ],
   "source": [
    "xgboost_lr(example) # Trial 2"
   ]
  },
  {
   "cell_type": "code",
   "execution_count": 12,
   "metadata": {},
   "outputs": [
    {
     "name": "stdout",
     "output_type": "stream",
     "text": [
      "XGBDT+LR auc 1: 0.93185\n",
      "XGBDT+LR auc 2: 0.54976\n",
      "XGBDT+LR time taken: 4.46\n",
      "GBDT + GNB auc: 0.85293\n",
      "GBDT + Perceptron auc : 0.80626\n",
      "GBDT + Perceptron auc2 : 0.51418\n",
      "GBDT + Linear SVC auc : 0.82021\n",
      "GBDT + Linear SVC auc2 : 0.50000\n",
      "GBDT + SGD auc : 0.91307\n",
      "GBDT + SGD auc2 : 0.50317\n",
      "GBDT + other classfier time taken: 13.79\n",
      "XGB auc : 0.92898\n",
      "lightGBM auc : 0.92622\n",
      "GBDT + lightGBM auc : 0.92848\n",
      "GBDT + lightGBM auc2 : 0.93084\n",
      "lightGBM time taken: 2.94\n"
     ]
    }
   ],
   "source": [
    "xgboost_lr(example) # Trial 3"
   ]
  },
  {
   "cell_type": "code",
   "execution_count": 4,
   "metadata": {},
   "outputs": [],
   "source": [
    "example=pd.read_csv('example2.csv')"
   ]
  },
  {
   "cell_type": "code",
   "execution_count": 15,
   "metadata": {},
   "outputs": [
    {
     "name": "stdout",
     "output_type": "stream",
     "text": [
      "XGBDT+LR auc 1: 0.96331\n",
      "XGBDT+LR auc 2: 0.63507\n",
      "XGBDT+LR time taken: 8.96\n",
      "GBDT + GNB auc: 0.89861\n",
      "GBDT + Perceptron auc : 0.89369\n",
      "GBDT + Perceptron auc2 : 0.72655\n",
      "GBDT + Linear SVC auc : 0.87843\n",
      "GBDT + Linear SVC auc2 : 0.78315\n",
      "GBDT + SGD auc : 0.94790\n",
      "GBDT + SGD auc2 : 0.72655\n",
      "GBDT + other classfier time taken: 20.00\n",
      "XGB auc : 0.95787\n",
      "lightGBM auc : 0.94850\n",
      "GBDT + lightGBM auc : 0.95372\n",
      "GBDT + lightGBM auc2 : 0.95535\n",
      "lightGBM time taken: 3.39\n"
     ]
    }
   ],
   "source": [
    "xgboost_lr(example)  # trying another dataset 1"
   ]
  },
  {
   "cell_type": "code",
   "execution_count": 16,
   "metadata": {},
   "outputs": [
    {
     "name": "stdout",
     "output_type": "stream",
     "text": [
      "XGBDT+LR auc 1: 0.96576\n",
      "XGBDT+LR auc 2: 0.60730\n",
      "XGBDT+LR time taken: 6.12\n",
      "GBDT + GNB auc: 0.91934\n",
      "GBDT + Perceptron auc : 0.89126\n",
      "GBDT + Perceptron auc2 : 0.73162\n",
      "GBDT + Linear SVC auc : 0.88857\n",
      "GBDT + Linear SVC auc2 : 0.80514\n",
      "GBDT + SGD auc : 0.95926\n",
      "GBDT + SGD auc2 : 0.59079\n",
      "GBDT + other classfier time taken: 19.95\n",
      "XGB auc : 0.96142\n",
      "lightGBM auc : 0.95631\n",
      "GBDT + lightGBM auc : 0.95756\n",
      "GBDT + lightGBM auc2 : 0.95847\n",
      "lightGBM time taken: 3.52\n"
     ]
    }
   ],
   "source": [
    "xgboost_lr(example)  # trying another dataset 2"
   ]
  },
  {
   "cell_type": "code",
   "execution_count": 17,
   "metadata": {},
   "outputs": [
    {
     "name": "stdout",
     "output_type": "stream",
     "text": [
      "XGBDT+LR auc 1: 0.96155\n",
      "XGBDT+LR auc 2: 0.64812\n",
      "XGBDT+LR time taken: 6.17\n",
      "GBDT + GNB auc: 0.90149\n",
      "GBDT + Perceptron auc : 0.86405\n",
      "GBDT + Perceptron auc2 : 0.51925\n",
      "GBDT + Linear SVC auc : 0.86805\n",
      "GBDT + Linear SVC auc2 : 0.57949\n",
      "GBDT + SGD auc : 0.94537\n",
      "GBDT + SGD auc2 : 0.72383\n",
      "GBDT + other classfier time taken: 18.55\n",
      "XGB auc : 0.95654\n",
      "lightGBM auc : 0.95294\n",
      "GBDT + lightGBM auc : 0.95554\n",
      "GBDT + lightGBM auc2 : 0.95780\n",
      "lightGBM time taken: 3.54\n"
     ]
    }
   ],
   "source": [
    "xgboost_lr(example)  # trying another dataset 3"
   ]
  },
  {
   "cell_type": "code",
   "execution_count": 65,
   "metadata": {},
   "outputs": [
    {
     "name": "stdout",
     "output_type": "stream",
     "text": [
      "XGBDT+LR auc 1: 0.96367\n",
      "XGBDT+LR auc 2: 0.61418\n",
      "XGBDT+LR time taken: 12.20\n",
      "GBDT + GNB auc: 0.89201\n",
      "GBDT + Perceptron auc : 0.87319\n",
      "GBDT + Perceptron auc2 : 0.62389\n",
      "GBDT + Linear SVC auc : 0.87117\n",
      "GBDT + Linear SVC auc2 : 0.79208\n",
      "GBDT + SGD auc : 0.95278\n",
      "GBDT + SGD auc2 : 0.72595\n",
      "GBDT + other classfier time taken: 42.19\n",
      "XGB auc : 0.95397\n",
      "lightGBM auc : 0.95063\n",
      "GBDT + lightGBM auc : 0.95417\n",
      "GBDT + lightGBM auc2 : 0.95519\n",
      "lightGBM time taken: 5.89\n"
     ]
    }
   ],
   "source": [
    "xgboost_lr(example) #testing params1"
   ]
  },
  {
   "cell_type": "code",
   "execution_count": 66,
   "metadata": {},
   "outputs": [
    {
     "name": "stdout",
     "output_type": "stream",
     "text": [
      "XGBDT+LR auc 1: 0.96145\n",
      "XGBDT+LR auc 2: 0.71624\n",
      "XGBDT+LR time taken: 11.25\n",
      "GBDT + GNB auc: 0.88621\n",
      "GBDT + Perceptron auc : 0.87716\n",
      "GBDT + Perceptron auc2 : 0.72668\n",
      "GBDT + Linear SVC auc : 0.88686\n",
      "GBDT + Linear SVC auc2 : 0.73375\n",
      "GBDT + SGD auc : 0.95541\n",
      "GBDT + SGD auc2 : 0.72161\n",
      "GBDT + other classfier time taken: 42.13\n",
      "XGB auc : 0.95593\n",
      "lightGBM auc : 0.95389\n",
      "GBDT + lightGBM auc : 0.95290\n",
      "GBDT + lightGBM auc2 : 0.95576\n",
      "lightGBM time taken: 5.74\n"
     ]
    }
   ],
   "source": [
    "xgboost_lr(example) #testing params2"
   ]
  },
  {
   "cell_type": "code",
   "execution_count": 67,
   "metadata": {},
   "outputs": [
    {
     "name": "stdout",
     "output_type": "stream",
     "text": [
      "XGBDT+LR auc 1: 0.95582\n",
      "XGBDT+LR auc 2: 0.62365\n",
      "XGBDT+LR time taken: 11.09\n",
      "GBDT + GNB auc: 0.89040\n",
      "GBDT + Perceptron auc : 0.85024\n",
      "GBDT + Perceptron auc2 : 0.73065\n",
      "GBDT + Linear SVC auc : 0.87626\n",
      "GBDT + Linear SVC auc2 : 0.57119\n",
      "GBDT + SGD auc : 0.94661\n",
      "GBDT + SGD auc2 : 0.73191\n",
      "GBDT + other classfier time taken: 41.31\n",
      "XGB auc : 0.94716\n",
      "lightGBM auc : 0.94567\n",
      "GBDT + lightGBM auc : 0.94859\n",
      "GBDT + lightGBM auc2 : 0.94695\n",
      "lightGBM time taken: 6.25\n"
     ]
    }
   ],
   "source": [
    "xgboost_lr(example) #testing params3"
   ]
  },
  {
   "cell_type": "code",
   "execution_count": 81,
   "metadata": {},
   "outputs": [
    {
     "name": "stdout",
     "output_type": "stream",
     "text": [
      "{'silent': 1, 'objective': 'binary:logistic', 'num_round': 50, 'max_depth': 7}\n",
      "XGBDT+LR auc 1: 0.96095\n",
      "XGBDT+LR auc 2: 0.62529\n",
      "XGBDT+LR time taken: 80.81\n",
      "GBDT + GNB auc: 0.91951\n",
      "GBDT + Perceptron auc : 0.86843\n",
      "GBDT + Perceptron auc2 : 0.50000\n",
      "GBDT + Linear SVC auc : 0.88063\n",
      "GBDT + Linear SVC auc2 : 0.78430\n",
      "GBDT + SGD auc : 0.95316\n",
      "GBDT + SGD auc2 : 0.73162\n",
      "GBDT + other classfier time taken: 5.90\n",
      "XGB auc : 0.95803\n",
      "lightGBM auc : 0.95525\n",
      "GBDT + lightGBM auc : 0.95336\n",
      "GBDT + lightGBM auc2 : 0.95493\n",
      "lightGBM time taken: 1.65\n"
     ]
    }
   ],
   "source": [
    "xgboost_lr(example) #testing grid search num_round : 30~50, max_depth : 5~8"
   ]
  },
  {
   "cell_type": "code",
   "execution_count": 83,
   "metadata": {},
   "outputs": [
    {
     "name": "stdout",
     "output_type": "stream",
     "text": [
      "{'silent': 1, 'objective': 'binary:logistic', 'num_round': 70, 'max_depth': 9}\n",
      "XGBDT+LR auc 1: 0.95251\n",
      "XGBDT+LR auc 2: 0.63956\n",
      "XGBDT+LR time taken: 133.74\n",
      "GBDT + GNB auc: 0.88624\n",
      "GBDT + Perceptron auc : 0.86681\n",
      "GBDT + Perceptron auc2 : 0.72665\n",
      "GBDT + Linear SVC auc : 0.85990\n",
      "GBDT + Linear SVC auc2 : 0.55178\n",
      "GBDT + SGD auc : 0.94239\n",
      "GBDT + SGD auc2 : 0.72288\n",
      "GBDT + other classfier time taken: 6.08\n",
      "XGB auc : 0.94968\n",
      "lightGBM auc : 0.94232\n",
      "GBDT + lightGBM auc : 0.93535\n",
      "GBDT + lightGBM auc2 : 0.94258\n",
      "lightGBM time taken: 1.55\n"
     ]
    }
   ],
   "source": [
    "xgboost_lr(example) #testing grid search  num_round : 50 ~ 70, max_depth : 7~10"
   ]
  },
  {
   "cell_type": "code",
   "execution_count": 84,
   "metadata": {},
   "outputs": [
    {
     "name": "stdout",
     "output_type": "stream",
     "text": [
      "{'silent': 1, 'objective': 'binary:logistic', 'num_round': 70, 'max_depth': 8}\n",
      "XGBDT+LR auc 1: 0.95577\n",
      "XGBDT+LR auc 2: 0.61168\n",
      "XGBDT+LR time taken: 131.92\n",
      "GBDT + GNB auc: 0.90123\n",
      "GBDT + Perceptron auc : 0.86758\n",
      "GBDT + Perceptron auc2 : 0.50000\n",
      "GBDT + Linear SVC auc : 0.86351\n",
      "GBDT + Linear SVC auc2 : 0.76937\n",
      "GBDT + SGD auc : 0.94711\n",
      "GBDT + SGD auc2 : 0.71315\n",
      "GBDT + other classfier time taken: 6.03\n",
      "XGB auc : 0.94839\n",
      "lightGBM auc : 0.94590\n",
      "GBDT + lightGBM auc : 0.94741\n",
      "GBDT + lightGBM auc2 : 0.94994\n",
      "lightGBM time taken: 1.65\n"
     ]
    }
   ],
   "source": [
    "xgboost_lr(example) #testing grid search with early stopping"
   ]
  },
  {
   "cell_type": "code",
   "execution_count": 7,
   "metadata": {},
   "outputs": [
    {
     "name": "stdout",
     "output_type": "stream",
     "text": [
      "{'silent': 1, 'objective': 'binary:logistic', 'num_round': 40, 'max_depth': 7}\n",
      "XGBDT+LR auc 1: 0.95607\n",
      "XGBDT+LR auc 2: 0.64764\n",
      "XGBDT+LR time taken: 36.30\n",
      "GBDT + GNB auc: 0.90986\n",
      "GBDT + Perceptron auc : 0.86768\n",
      "GBDT + Perceptron auc2 : 0.50000\n",
      "GBDT + Linear SVC auc : 0.87193\n",
      "GBDT + Linear SVC auc2 : 0.78617\n",
      "GBDT + SGD auc : 0.94976\n",
      "GBDT + SGD auc2 : 0.74507\n",
      "GBDT + other classfier time taken: 1.42\n",
      "XGB auc : 0.95050\n",
      "lightGBM auc : 0.94357\n",
      "GBDT + lightGBM auc : 0.95039\n",
      "GBDT + lightGBM auc2 : 0.95138\n",
      "lightGBM time taken: 0.96\n"
     ]
    }
   ],
   "source": [
    "xgboost_lr(example) #testing grid search  num_round : 20~40, max_depth : 5~7"
   ]
  },
  {
   "cell_type": "code",
   "execution_count": 10,
   "metadata": {},
   "outputs": [
    {
     "name": "stdout",
     "output_type": "stream",
     "text": [
      "{'silent': 1, 'objective': 'binary:logistic', 'num_round': 40, 'max_depth': 7}\n",
      "XGBDT+LR auc 1: 0.95121\n",
      "XGBDT+LR auc 2: 0.64968\n",
      "XGBDT+LR time taken: 38.45\n",
      "GBDT + GNB auc: 0.89994\n",
      "GBDT + Perceptron auc : 0.83240\n",
      "GBDT + Perceptron auc2 : 0.73587\n",
      "GBDT + Linear SVC auc : 0.86004\n",
      "GBDT + Linear SVC auc2 : 0.78863\n",
      "GBDT + SGD auc : 0.93846\n",
      "GBDT + SGD auc2 : 0.51573\n",
      "GBDT + other classfier time taken: 5.99\n",
      "XGB auc : 0.95007\n",
      "lightGBM auc : 0.94953\n",
      "GBDT + lightGBM auc : 0.94652\n",
      "GBDT + lightGBM auc2 : 0.94854\n",
      "lightGBM time taken: 1.68\n"
     ]
    }
   ],
   "source": [
    "xgboost_lr(example) #testing grid search  num_round : 20~40, max_depth : 5~7"
   ]
  },
  {
   "cell_type": "code",
   "execution_count": 16,
   "metadata": {},
   "outputs": [
    {
     "name": "stdout",
     "output_type": "stream",
     "text": [
      "XGBDT+LR auc 1: 0.95769\n",
      "XGBDT+LR auc 2: 0.58779\n",
      "XGBDT+LR time taken: 1.99\n",
      "GBDT + GNB auc: 0.90880\n",
      "GBDT + Perceptron auc : 0.85485\n",
      "GBDT + Perceptron auc2 : 0.72575\n",
      "GBDT + Linear SVC auc : 0.86000\n",
      "GBDT + Linear SVC auc2 : 0.70816\n",
      "GBDT + SGD auc : 0.94906\n",
      "GBDT + SGD auc2 : 0.50185\n",
      "GBDT + other classfier time taken: 5.97\n",
      "XGB auc : 0.95242\n",
      "lightGBM auc : 0.94748\n",
      "GBDT + lightGBM auc : 0.95043\n",
      "GBDT + lightGBM auc2 : 0.95230\n",
      "lightGBM time taken: 1.47\n"
     ]
    }
   ],
   "source": [
    "xgboost_lr(example) "
   ]
  },
  {
   "cell_type": "code",
   "execution_count": 17,
   "metadata": {},
   "outputs": [
    {
     "name": "stdout",
     "output_type": "stream",
     "text": [
      "XGBDT+LR auc 1: 0.96265\n",
      "XGBDT+LR auc 2: 0.60898\n",
      "XGBDT+LR time taken: 1.99\n",
      "GBDT + GNB auc: 0.91668\n",
      "GBDT + Perceptron auc : 0.84197\n",
      "GBDT + Perceptron auc2 : 0.72576\n",
      "GBDT + Linear SVC auc : 0.89128\n",
      "GBDT + Linear SVC auc2 : 0.57192\n",
      "GBDT + SGD auc : 0.95019\n",
      "GBDT + SGD auc2 : 0.72863\n",
      "GBDT + other classfier time taken: 6.01\n",
      "XGB auc : 0.95659\n",
      "lightGBM auc : 0.95572\n",
      "GBDT + lightGBM auc : 0.95514\n",
      "GBDT + lightGBM auc2 : 0.95774\n",
      "lightGBM time taken: 1.61\n"
     ]
    }
   ],
   "source": [
    "xgboost_lr(example) "
   ]
  },
  {
   "cell_type": "code",
   "execution_count": 18,
   "metadata": {},
   "outputs": [
    {
     "name": "stdout",
     "output_type": "stream",
     "text": [
      "XGBDT+LR auc 1: 0.95512\n",
      "XGBDT+LR auc 2: 0.60247\n",
      "XGBDT+LR time taken: 2.09\n",
      "GBDT + GNB auc: 0.92289\n",
      "GBDT + Perceptron auc : 0.85925\n",
      "GBDT + Perceptron auc2 : 0.74393\n",
      "GBDT + Linear SVC auc : 0.87706\n",
      "GBDT + Linear SVC auc2 : 0.78987\n",
      "GBDT + SGD auc : 0.94682\n",
      "GBDT + SGD auc2 : 0.75873\n",
      "GBDT + other classfier time taken: 6.54\n",
      "XGB auc : 0.95377\n",
      "lightGBM auc : 0.95109\n",
      "GBDT + lightGBM auc : 0.94884\n",
      "GBDT + lightGBM auc2 : 0.95355\n",
      "lightGBM time taken: 1.65\n"
     ]
    }
   ],
   "source": [
    "xgboost_lr(example) "
   ]
  },
  {
   "cell_type": "code",
   "execution_count": 19,
   "metadata": {},
   "outputs": [
    {
     "name": "stdout",
     "output_type": "stream",
     "text": [
      "XGBDT+LR auc 1: 0.96387\n",
      "XGBDT+LR auc 2: 0.61440\n",
      "XGBDT+LR time taken: 1.99\n",
      "GBDT + GNB auc: 0.92455\n",
      "GBDT + Perceptron auc : 0.88326\n",
      "GBDT + Perceptron auc2 : 0.33190\n",
      "GBDT + Linear SVC auc : 0.88753\n",
      "GBDT + Linear SVC auc2 : 0.63559\n",
      "GBDT + SGD auc : 0.94128\n",
      "GBDT + SGD auc2 : 0.70941\n",
      "GBDT + other classfier time taken: 6.21\n",
      "XGB auc : 0.95834\n",
      "lightGBM auc : 0.95581\n",
      "GBDT + lightGBM auc : 0.95743\n",
      "GBDT + lightGBM auc2 : 0.95945\n",
      "lightGBM time taken: 1.46\n"
     ]
    }
   ],
   "source": [
    "xgboost_lr(example) "
   ]
  },
  {
   "cell_type": "code",
   "execution_count": 25,
   "metadata": {},
   "outputs": [
    {
     "name": "stdout",
     "output_type": "stream",
     "text": [
      "XGBDT+LR auc 1: 0.95235\n",
      "XGBDT+LR auc 2: 0.65865\n",
      "XGBDT+LR time taken: 2.12\n",
      "GBDT + GNB auc: 0.90088\n",
      "GBDT + Perceptron auc : 0.86562\n",
      "GBDT + Perceptron auc2 : 0.71858\n",
      "GBDT + Linear SVC auc : 0.87337\n",
      "GBDT + Linear SVC auc2 : 0.49802\n",
      "GBDT + SGD auc : 0.94300\n",
      "GBDT + SGD auc2 : 0.50000\n",
      "GBDT + other classfier time taken: 6.14\n",
      "XGB auc : 0.95269\n",
      "lightGBM auc : 0.94858\n",
      "GBDT + lightGBM auc : 0.94887\n",
      "GBDT + lightGBM auc2 : 0.95380\n",
      "lightGBM time taken: 1.62\n"
     ]
    }
   ],
   "source": [
    "xgboost_lr(example)  # eta=0.1 applied"
   ]
  },
  {
   "cell_type": "code",
   "execution_count": 26,
   "metadata": {},
   "outputs": [
    {
     "name": "stdout",
     "output_type": "stream",
     "text": [
      "XGBDT+LR auc 1: 0.95633\n",
      "XGBDT+LR auc 2: 0.62859\n",
      "XGBDT+LR time taken: 1.94\n",
      "GBDT + GNB auc: 0.93053\n",
      "GBDT + Perceptron auc : 0.86511\n",
      "GBDT + Perceptron auc2 : 0.50244\n",
      "GBDT + Linear SVC auc : 0.88180\n",
      "GBDT + Linear SVC auc2 : 0.74764\n",
      "GBDT + SGD auc : 0.94139\n",
      "GBDT + SGD auc2 : 0.74994\n",
      "GBDT + other classfier time taken: 6.40\n",
      "XGB auc : 0.95804\n",
      "lightGBM auc : 0.95482\n",
      "GBDT + lightGBM auc : 0.94831\n",
      "GBDT + lightGBM auc2 : 0.95534\n",
      "lightGBM time taken: 1.65\n"
     ]
    }
   ],
   "source": [
    "xgboost_lr(example)  # eta=0.1 applied"
   ]
  },
  {
   "cell_type": "code",
   "execution_count": 27,
   "metadata": {},
   "outputs": [
    {
     "name": "stdout",
     "output_type": "stream",
     "text": [
      "XGBDT+LR auc 1: 0.95287\n",
      "XGBDT+LR auc 2: 0.64091\n",
      "XGBDT+LR time taken: 1.94\n",
      "GBDT + GNB auc: 0.91910\n",
      "GBDT + Perceptron auc : 0.84249\n",
      "GBDT + Perceptron auc2 : 0.72257\n",
      "GBDT + Linear SVC auc : 0.87561\n",
      "GBDT + Linear SVC auc2 : 0.55202\n",
      "GBDT + SGD auc : 0.94272\n",
      "GBDT + SGD auc2 : 0.73307\n",
      "GBDT + other classfier time taken: 6.09\n",
      "XGB auc : 0.95367\n",
      "lightGBM auc : 0.95260\n",
      "GBDT + lightGBM auc : 0.94656\n",
      "GBDT + lightGBM auc2 : 0.95233\n",
      "lightGBM time taken: 1.63\n"
     ]
    }
   ],
   "source": [
    "xgboost_lr(example)  # eta=0.01 applied"
   ]
  },
  {
   "cell_type": "code",
   "execution_count": 28,
   "metadata": {},
   "outputs": [
    {
     "name": "stdout",
     "output_type": "stream",
     "text": [
      "XGBDT+LR auc 1: 0.94076\n",
      "XGBDT+LR auc 2: 0.64622\n",
      "XGBDT+LR time taken: 2.04\n",
      "GBDT + GNB auc: 0.90656\n",
      "GBDT + Perceptron auc : 0.85477\n",
      "GBDT + Perceptron auc2 : 0.73244\n",
      "GBDT + Linear SVC auc : 0.86629\n",
      "GBDT + Linear SVC auc2 : 0.54074\n",
      "GBDT + SGD auc : 0.92358\n",
      "GBDT + SGD auc2 : 0.63984\n",
      "GBDT + other classfier time taken: 6.13\n",
      "XGB auc : 0.94855\n",
      "lightGBM auc : 0.94386\n",
      "GBDT + lightGBM auc : 0.93581\n",
      "GBDT + lightGBM auc2 : 0.94244\n",
      "lightGBM time taken: 1.49\n"
     ]
    }
   ],
   "source": [
    "xgboost_lr(example)  # eta=0.01 applied"
   ]
  },
  {
   "cell_type": "code",
   "execution_count": 30,
   "metadata": {},
   "outputs": [
    {
     "name": "stdout",
     "output_type": "stream",
     "text": [
      "XGBDT+LR auc 1: 0.94764\n",
      "XGBDT+LR auc 2: 0.62906\n",
      "XGBDT+LR time taken: 1.98\n",
      "GBDT + GNB auc: 0.91031\n",
      "GBDT + Perceptron auc : 0.85817\n",
      "GBDT + Perceptron auc2 : 0.50126\n",
      "GBDT + Linear SVC auc : 0.86864\n",
      "GBDT + Linear SVC auc2 : 0.54670\n",
      "GBDT + SGD auc : 0.93948\n",
      "GBDT + SGD auc2 : 0.73156\n",
      "GBDT + other classfier time taken: 6.09\n",
      "XGB auc : 0.94981\n",
      "lightGBM auc : 0.94661\n",
      "GBDT + lightGBM auc : 0.93722\n",
      "GBDT + lightGBM auc2 : 0.94639\n",
      "lightGBM time taken: 1.49\n"
     ]
    }
   ],
   "source": [
    "xgboost_lr(example)  # eta=0.1 applied"
   ]
  },
  {
   "cell_type": "code",
   "execution_count": 31,
   "metadata": {},
   "outputs": [
    {
     "name": "stdout",
     "output_type": "stream",
     "text": [
      "XGBDT+LR auc 1: 0.94759\n",
      "XGBDT+LR auc 2: 0.60711\n",
      "XGBDT+LR time taken: 1.97\n",
      "GBDT + GNB auc: 0.91084\n",
      "GBDT + Perceptron auc : 0.86425\n",
      "GBDT + Perceptron auc2 : 0.72784\n",
      "GBDT + Linear SVC auc : 0.87225\n",
      "GBDT + Linear SVC auc2 : 0.64848\n",
      "GBDT + SGD auc : 0.93893\n",
      "GBDT + SGD auc2 : 0.74313\n",
      "GBDT + other classfier time taken: 6.39\n",
      "XGB auc : 0.94943\n",
      "lightGBM auc : 0.94146\n",
      "GBDT + lightGBM auc : 0.94008\n",
      "GBDT + lightGBM auc2 : 0.94731\n",
      "lightGBM time taken: 1.50\n"
     ]
    }
   ],
   "source": [
    "xgboost_lr(example)  # eta=0.1 applied"
   ]
  },
  {
   "cell_type": "code",
   "execution_count": 32,
   "metadata": {},
   "outputs": [
    {
     "name": "stdout",
     "output_type": "stream",
     "text": [
      "XGBDT+LR auc 1: 0.95941\n",
      "XGBDT+LR auc 2: 0.62627\n",
      "XGBDT+LR time taken: 1.98\n",
      "GBDT + GNB auc: 0.91689\n",
      "GBDT + Perceptron auc : 0.83283\n",
      "GBDT + Perceptron auc2 : 0.69812\n",
      "GBDT + Linear SVC auc : 0.88228\n",
      "GBDT + Linear SVC auc2 : 0.77100\n",
      "GBDT + SGD auc : 0.95424\n",
      "GBDT + SGD auc2 : 0.50953\n",
      "GBDT + other classfier time taken: 6.26\n",
      "XGB auc : 0.95780\n",
      "lightGBM auc : 0.95386\n",
      "GBDT + lightGBM auc : 0.95282\n",
      "GBDT + lightGBM auc2 : 0.95575\n",
      "lightGBM time taken: 1.58\n"
     ]
    }
   ],
   "source": [
    "xgboost_lr(example)  # eta=0.1 applied"
   ]
  },
  {
   "cell_type": "code",
   "execution_count": 33,
   "metadata": {},
   "outputs": [
    {
     "name": "stdout",
     "output_type": "stream",
     "text": [
      "XGBDT+LR auc 1: 0.94350\n",
      "XGBDT+LR auc 2: 0.60106\n",
      "XGBDT+LR time taken: 2.00\n",
      "GBDT + GNB auc: 0.89834\n",
      "GBDT + Perceptron auc : 0.85667\n",
      "GBDT + Perceptron auc2 : 0.71141\n",
      "GBDT + Linear SVC auc : 0.86052\n",
      "GBDT + Linear SVC auc2 : 0.76073\n",
      "GBDT + SGD auc : 0.92719\n",
      "GBDT + SGD auc2 : 0.43370\n",
      "GBDT + other classfier time taken: 6.17\n",
      "XGB auc : 0.94340\n",
      "lightGBM auc : 0.93661\n",
      "GBDT + lightGBM auc : 0.93736\n",
      "GBDT + lightGBM auc2 : 0.94299\n",
      "lightGBM time taken: 1.74\n"
     ]
    }
   ],
   "source": [
    "xgboost_lr(example)  # eta=0.1 applied"
   ]
  },
  {
   "cell_type": "code",
   "execution_count": 35,
   "metadata": {},
   "outputs": [
    {
     "name": "stdout",
     "output_type": "stream",
     "text": [
      "XGBDT+LR auc 1: 0.95669\n",
      "XGBDT+LR auc 2: 0.61759\n",
      "XGBDT+LR time taken: 2.02\n",
      "GBDT + GNB auc: 0.91129\n",
      "GBDT + Perceptron auc : 0.82474\n",
      "GBDT + Perceptron auc2 : 0.74395\n",
      "GBDT + Linear SVC auc : 0.87207\n",
      "GBDT + Linear SVC auc2 : 0.55048\n",
      "GBDT + SGD auc : 0.94817\n",
      "GBDT + SGD auc2 : 0.50000\n",
      "GBDT + other classfier time taken: 5.98\n",
      "XGB auc : 0.95212\n",
      "lightGBM auc : 0.94959\n",
      "GBDT + lightGBM auc : 0.95181\n",
      "GBDT + lightGBM auc2 : 0.95142\n",
      "lightGBM time taken: 1.65\n"
     ]
    }
   ],
   "source": [
    "xgboost_lr(example) # without eta"
   ]
  },
  {
   "cell_type": "code",
   "execution_count": 61,
   "metadata": {},
   "outputs": [
    {
     "name": "stdout",
     "output_type": "stream",
     "text": [
      "best C value: 0.10\n",
      "XGBDT+LR auc 1: 0.95269\n",
      "XGBDT+LR auc 2: 0.65136\n",
      "XGBDT+LR time taken: 5.71\n",
      "GBDT + GNB auc: 0.90510\n",
      "GBDT + Perceptron auc : 0.83223\n",
      "GBDT + Perceptron auc2 : 0.73890\n",
      "GBDT + Linear SVC auc : 0.87233\n",
      "GBDT + Linear SVC auc2 : 0.59625\n",
      "GBDT + SGD auc : 0.94749\n",
      "GBDT + SGD auc2 : 0.73563\n",
      "GBDT + other classfier time taken: 6.09\n",
      "XGB auc : 0.94689\n",
      "lightGBM auc : 0.94150\n",
      "GBDT + lightGBM auc : 0.94346\n",
      "GBDT + lightGBM auc2 : 0.94659\n",
      "lightGBM time taken: 1.59\n"
     ]
    }
   ],
   "source": [
    "xgboost_lr(example)  # regularizing lr"
   ]
  },
  {
   "cell_type": "code",
   "execution_count": 62,
   "metadata": {},
   "outputs": [
    {
     "name": "stdout",
     "output_type": "stream",
     "text": [
      "best C value: 0.10\n",
      "XGBDT+LR auc 1: 0.95645\n",
      "XGBDT+LR auc 2: 0.86918\n",
      "XGBDT+LR time taken: 5.62\n",
      "GBDT + GNB auc: 0.90405\n",
      "GBDT + Perceptron auc : 0.85365\n",
      "GBDT + Perceptron auc2 : 0.53253\n",
      "GBDT + Linear SVC auc : 0.87563\n",
      "GBDT + Linear SVC auc2 : 0.56682\n",
      "GBDT + SGD auc : 0.94613\n",
      "GBDT + SGD auc2 : 0.35602\n",
      "GBDT + other classfier time taken: 6.28\n",
      "XGB auc : 0.94900\n",
      "lightGBM auc : 0.95176\n",
      "GBDT + lightGBM auc : 0.94859\n",
      "GBDT + lightGBM auc2 : 0.95330\n",
      "lightGBM time taken: 1.69\n"
     ]
    }
   ],
   "source": [
    "xgboost_lr(example)  # regularizing lr"
   ]
  },
  {
   "cell_type": "code",
   "execution_count": 68,
   "metadata": {},
   "outputs": [
    {
     "name": "stdout",
     "output_type": "stream",
     "text": [
      "best C value: 0.50\n",
      "XGBDT+LR auc 1: 0.95646\n",
      "XGBDT+LR auc 2: 0.65687\n",
      "XGBDT+LR time taken: 5.50\n",
      "GBDT + GNB auc: 0.91188\n",
      "GBDT + Perceptron auc : 0.86114\n",
      "GBDT + Perceptron auc2 : 0.72662\n",
      "GBDT + Linear SVC auc : 0.87547\n",
      "GBDT + Linear SVC auc2 : 0.78412\n",
      "GBDT + SGD auc : 0.95358\n",
      "GBDT + SGD auc2 : 0.72579\n",
      "GBDT + other classfier time taken: 6.18\n",
      "XGB auc : 0.95581\n",
      "lightGBM auc : 0.95370\n",
      "GBDT + lightGBM auc : 0.94876\n",
      "GBDT + lightGBM auc2 : 0.95032\n",
      "lightGBM time taken: 1.62\n"
     ]
    }
   ],
   "source": [
    "xgboost_lr(example)  # regularizing lr"
   ]
  },
  {
   "cell_type": "code",
   "execution_count": 69,
   "metadata": {},
   "outputs": [
    {
     "name": "stdout",
     "output_type": "stream",
     "text": [
      "best C value: 0.10\n",
      "XGBDT+LR auc 1: 0.96046\n",
      "XGBDT+LR auc 2: 0.65834\n",
      "XGBDT+LR time taken: 5.43\n",
      "GBDT + GNB auc: 0.90903\n",
      "GBDT + Perceptron auc : 0.86575\n",
      "GBDT + Perceptron auc2 : 0.75918\n",
      "GBDT + Linear SVC auc : 0.88190\n",
      "GBDT + Linear SVC auc2 : 0.55949\n",
      "GBDT + SGD auc : 0.94853\n",
      "GBDT + SGD auc2 : 0.75957\n",
      "GBDT + other classfier time taken: 6.04\n",
      "XGB auc : 0.95629\n",
      "lightGBM auc : 0.94944\n",
      "GBDT + lightGBM auc : 0.95042\n",
      "GBDT + lightGBM auc2 : 0.95161\n",
      "lightGBM time taken: 1.51\n"
     ]
    }
   ],
   "source": [
    "xgboost_lr(example)  # regularizing lr"
   ]
  },
  {
   "cell_type": "code",
   "execution_count": 72,
   "metadata": {},
   "outputs": [
    {
     "name": "stdout",
     "output_type": "stream",
     "text": [
      "{'silent': 1, 'objective': 'binary:logistic', 'max_depth': 7, 'num_round': 40, 'eta': 0.1}\n",
      "best C value: 0.05\n",
      "XGBDT+LR auc 1: 0.95329\n",
      "XGBDT+LR auc 2: 0.63798\n",
      "XGBDT+LR time taken: 109.80\n",
      "GBDT + GNB auc: 0.92108\n",
      "GBDT + Perceptron auc : 0.82905\n",
      "GBDT + Perceptron auc2 : 0.72965\n",
      "GBDT + Linear SVC auc : 0.87778\n",
      "GBDT + Linear SVC auc2 : 0.78504\n",
      "GBDT + SGD auc : 0.93069\n",
      "GBDT + SGD auc2 : 0.72965\n",
      "GBDT + other classfier time taken: 6.03\n",
      "XGB auc : 0.95502\n",
      "lightGBM auc : 0.95215\n",
      "GBDT + lightGBM auc : 0.94797\n",
      "GBDT + lightGBM auc2 : 0.95194\n",
      "lightGBM time taken: 1.62\n"
     ]
    }
   ],
   "source": [
    "xgboost_lr(example)  # regularizing lr + grid search"
   ]
  },
  {
   "cell_type": "code",
   "execution_count": 73,
   "metadata": {},
   "outputs": [
    {
     "name": "stdout",
     "output_type": "stream",
     "text": [
      "{'silent': 1, 'objective': 'binary:logistic', 'max_depth': 7, 'num_round': 40, 'eta': 0.1}\n",
      "best C value: 0.10\n",
      "XGBDT+LR auc 1: 0.95241\n",
      "XGBDT+LR auc 2: 0.66114\n",
      "XGBDT+LR time taken: 108.88\n",
      "GBDT + GNB auc: 0.91128\n",
      "GBDT + Perceptron auc : 0.84983\n",
      "GBDT + Perceptron auc2 : 0.73910\n",
      "GBDT + Linear SVC auc : 0.86629\n",
      "GBDT + Linear SVC auc2 : 0.56200\n",
      "GBDT + SGD auc : 0.94530\n",
      "GBDT + SGD auc2 : 0.50000\n",
      "GBDT + other classfier time taken: 6.19\n",
      "XGB auc : 0.95491\n",
      "lightGBM auc : 0.94750\n",
      "GBDT + lightGBM auc : 0.94481\n",
      "GBDT + lightGBM auc2 : 0.95005\n",
      "lightGBM time taken: 1.52\n"
     ]
    }
   ],
   "source": [
    "xgboost_lr(example)  # regularizing lr + grid search"
   ]
  },
  {
   "cell_type": "code",
   "execution_count": 75,
   "metadata": {},
   "outputs": [
    {
     "name": "stdout",
     "output_type": "stream",
     "text": [
      "{'silent': 1, 'objective': 'binary:logistic', 'max_depth': 7, 'num_round': 40, 'eta': 0.1}\n",
      "best C value: 0.10\n",
      "XGBDT+LR auc 1: 0.95300\n",
      "XGBDT+LR auc 2: 0.63439\n",
      "XGBDT+LR time taken: 108.82\n",
      "GBDT + GNB auc: 0.91545\n",
      "GBDT + Perceptron auc : 0.84170\n",
      "GBDT + Perceptron auc2 : 0.72794\n",
      "GBDT + Linear SVC auc : 0.87428\n",
      "GBDT + Linear SVC auc2 : 0.72961\n",
      "GBDT + SGD auc : 0.93396\n",
      "GBDT + SGD auc2 : 0.50000\n",
      "GBDT + other classfier time taken: 6.02\n",
      "XGB auc : 0.95375\n",
      "lightGBM auc : 0.95336\n",
      "GBDT + lightGBM auc : 0.95262\n",
      "GBDT + lightGBM auc2 : 0.95834\n",
      "lightGBM time taken: 1.62\n"
     ]
    }
   ],
   "source": [
    "xgboost_lr(example)  # regularizing lr + grid search"
   ]
  },
  {
   "cell_type": "code",
   "execution_count": 77,
   "metadata": {},
   "outputs": [
    {
     "name": "stdout",
     "output_type": "stream",
     "text": [
      "best C value: 0.10\n",
      "XGBDT+LR auc 1: 0.96090\n",
      "XGBDT+LR auc 2: 0.63744\n",
      "XGBDT+LR time taken: 5.27\n",
      "GBDT + GNB auc: 0.91608\n",
      "GBDT + Perceptron auc : 0.86589\n",
      "GBDT + Perceptron auc2 : 0.65712\n",
      "GBDT + Linear SVC auc : 0.88243\n",
      "GBDT + Linear SVC auc2 : 0.79014\n",
      "GBDT + SGD auc : 0.95037\n",
      "GBDT + SGD auc2 : 0.73538\n",
      "GBDT + other classfier time taken: 5.95\n",
      "XGB auc : 0.95775\n",
      "lightGBM auc : 0.95059\n",
      "GBDT + lightGBM auc : 0.95043\n",
      "GBDT + lightGBM auc2 : 0.95727\n",
      "lightGBM time taken: 1.36\n"
     ]
    }
   ],
   "source": [
    "xgboost_lr(example)"
   ]
  },
  {
   "cell_type": "code",
   "execution_count": 79,
   "metadata": {},
   "outputs": [
    {
     "name": "stdout",
     "output_type": "stream",
     "text": [
      "best C value: 0.10\n",
      "XGBDT+LR auc 1: 0.95790\n",
      "XGBDT+LR auc 2: 0.67578\n",
      "XGBDT+LR time taken: 5.36\n",
      "GBDT + GNB auc: 0.91572\n",
      "GBDT + Perceptron auc : 0.86790\n",
      "GBDT + Perceptron auc2 : 0.72935\n",
      "GBDT + Linear SVC auc : 0.87619\n",
      "GBDT + Linear SVC auc2 : 0.77452\n",
      "GBDT + SGD auc : 0.94905\n",
      "GBDT + SGD auc2 : 0.72935\n",
      "GBDT + other classfier time taken: 6.02\n",
      "XGB auc : 0.95447\n",
      "lightGBM auc : 0.94404\n",
      "GBDT + lightGBM auc : 0.94995\n",
      "GBDT + lightGBM auc2 : 0.95412\n",
      "lightGBM time taken: 1.52\n"
     ]
    }
   ],
   "source": [
    "xgboost_lr(example) # num_round = 20"
   ]
  },
  {
   "cell_type": "code",
   "execution_count": 80,
   "metadata": {},
   "outputs": [
    {
     "name": "stdout",
     "output_type": "stream",
     "text": [
      "best C value: 0.10\n",
      "XGBDT+LR auc 1: 0.95176\n",
      "XGBDT+LR auc 2: 0.63542\n",
      "XGBDT+LR time taken: 5.33\n",
      "GBDT + GNB auc: 0.91289\n",
      "GBDT + Perceptron auc : 0.85461\n",
      "GBDT + Perceptron auc2 : 0.72322\n",
      "GBDT + Linear SVC auc : 0.86906\n",
      "GBDT + Linear SVC auc2 : 0.78231\n",
      "GBDT + SGD auc : 0.94276\n",
      "GBDT + SGD auc2 : 0.72376\n",
      "GBDT + other classfier time taken: 6.26\n",
      "XGB auc : 0.94564\n",
      "lightGBM auc : 0.94379\n",
      "GBDT + lightGBM auc : 0.93973\n",
      "GBDT + lightGBM auc2 : 0.94682\n",
      "lightGBM time taken: 1.67\n"
     ]
    }
   ],
   "source": [
    "xgboost_lr(example) # num_round = 20"
   ]
  },
  {
   "cell_type": "code",
   "execution_count": 81,
   "metadata": {},
   "outputs": [
    {
     "name": "stdout",
     "output_type": "stream",
     "text": [
      "best C value: 0.05\n",
      "XGBDT+LR auc 1: 0.95479\n",
      "XGBDT+LR auc 2: 0.63099\n",
      "XGBDT+LR time taken: 5.25\n",
      "GBDT + GNB auc: 0.90797\n",
      "GBDT + Perceptron auc : 0.84417\n",
      "GBDT + Perceptron auc2 : 0.72602\n",
      "GBDT + Linear SVC auc : 0.86861\n",
      "GBDT + Linear SVC auc2 : 0.73959\n",
      "GBDT + SGD auc : 0.94382\n",
      "GBDT + SGD auc2 : 0.56601\n",
      "GBDT + other classfier time taken: 6.10\n",
      "XGB auc : 0.95619\n",
      "lightGBM auc : 0.95176\n",
      "GBDT + lightGBM auc : 0.94848\n",
      "GBDT + lightGBM auc2 : 0.95141\n",
      "lightGBM time taken: 1.64\n"
     ]
    }
   ],
   "source": [
    "xgboost_lr(example) # num_round = 20"
   ]
  },
  {
   "cell_type": "code",
   "execution_count": 82,
   "metadata": {},
   "outputs": [
    {
     "name": "stdout",
     "output_type": "stream",
     "text": [
      "best C value: 0.10\n",
      "XGBDT+LR auc 1: 0.95831\n",
      "XGBDT+LR auc 2: 0.62699\n",
      "XGBDT+LR time taken: 5.17\n",
      "GBDT + GNB auc: 0.92054\n",
      "GBDT + Perceptron auc : 0.83700\n",
      "GBDT + Perceptron auc2 : 0.73356\n",
      "GBDT + Linear SVC auc : 0.88133\n",
      "GBDT + Linear SVC auc2 : 0.62145\n",
      "GBDT + SGD auc : 0.94653\n",
      "GBDT + SGD auc2 : 0.73356\n",
      "GBDT + other classfier time taken: 6.05\n",
      "XGB auc : 0.94940\n",
      "lightGBM auc : 0.94480\n",
      "GBDT + lightGBM auc : 0.94900\n",
      "GBDT + lightGBM auc2 : 0.95257\n",
      "lightGBM time taken: 1.66\n"
     ]
    }
   ],
   "source": [
    "xgboost_lr(example) # num_round = 20"
   ]
  },
  {
   "cell_type": "code",
   "execution_count": 85,
   "metadata": {},
   "outputs": [
    {
     "name": "stdout",
     "output_type": "stream",
     "text": [
      "best C value: 0.10\n",
      "XGBDT+LR auc 1: 0.95840\n",
      "XGBDT+LR auc 2: 0.62005\n",
      "XGBDT+LR time taken: 5.40\n",
      "GBDT + GNB auc: 0.92335\n",
      "GBDT + Perceptron auc : 0.85186\n",
      "GBDT + Perceptron auc2 : 0.51360\n",
      "GBDT + Linear SVC auc : 0.88315\n",
      "GBDT + Linear SVC auc2 : 0.76451\n",
      "GBDT + SGD auc : 0.94571\n",
      "GBDT + SGD auc2 : 0.72586\n",
      "GBDT + other classfier time taken: 6.21\n",
      "XGB auc : 0.95649\n",
      "lightGBM auc : 0.94875\n",
      "GBDT + lightGBM auc : 0.94642\n",
      "GBDT + lightGBM auc2 : 0.94947\n",
      "lightGBM time taken: 1.56\n"
     ]
    }
   ],
   "source": [
    "xgboost_lr(example) # num_round = 30"
   ]
  },
  {
   "cell_type": "code",
   "execution_count": 86,
   "metadata": {},
   "outputs": [
    {
     "name": "stdout",
     "output_type": "stream",
     "text": [
      "best C value: 0.50\n",
      "XGBDT+LR auc 1: 0.95982\n",
      "XGBDT+LR auc 2: 0.62865\n",
      "XGBDT+LR time taken: 5.39\n",
      "GBDT + GNB auc: 0.92653\n",
      "GBDT + Perceptron auc : 0.87541\n",
      "GBDT + Perceptron auc2 : 0.72947\n",
      "GBDT + Linear SVC auc : 0.88868\n",
      "GBDT + Linear SVC auc2 : 0.57070\n",
      "GBDT + SGD auc : 0.95402\n",
      "GBDT + SGD auc2 : 0.50335\n",
      "GBDT + other classfier time taken: 6.20\n",
      "XGB auc : 0.95703\n",
      "lightGBM auc : 0.95495\n",
      "GBDT + lightGBM auc : 0.95375\n",
      "GBDT + lightGBM auc2 : 0.95528\n",
      "lightGBM time taken: 1.67\n"
     ]
    }
   ],
   "source": [
    "xgboost_lr(example) # num_round = 30"
   ]
  },
  {
   "cell_type": "code",
   "execution_count": 88,
   "metadata": {},
   "outputs": [
    {
     "name": "stdout",
     "output_type": "stream",
     "text": [
      "best C value: 0.10\n",
      "XGBDT+LR auc 1: 0.95404\n",
      "XGBDT+LR auc 2: 0.64485\n",
      "XGBDT+LR time taken: 5.27\n",
      "GBDT + GNB auc: 0.92418\n",
      "GBDT + Perceptron auc : 0.84596\n",
      "GBDT + Perceptron auc2 : 0.72967\n",
      "GBDT + Linear SVC auc : 0.87810\n",
      "GBDT + Linear SVC auc2 : 0.71040\n",
      "GBDT + SGD auc : 0.94619\n",
      "GBDT + SGD auc2 : 0.72916\n",
      "GBDT + other classfier time taken: 6.31\n",
      "XGB auc : 0.95166\n",
      "lightGBM auc : 0.94842\n",
      "GBDT + lightGBM auc : 0.94685\n",
      "GBDT + lightGBM auc2 : 0.94933\n",
      "lightGBM time taken: 1.53\n"
     ]
    }
   ],
   "source": [
    "xgboost_lr(example) #max_depth= 6"
   ]
  },
  {
   "cell_type": "code",
   "execution_count": 89,
   "metadata": {},
   "outputs": [
    {
     "name": "stdout",
     "output_type": "stream",
     "text": [
      "best C value: 0.50\n",
      "XGBDT+LR auc 1: 0.96112\n",
      "XGBDT+LR auc 2: 0.62908\n",
      "XGBDT+LR time taken: 5.27\n",
      "GBDT + GNB auc: 0.92577\n",
      "GBDT + Perceptron auc : 0.87198\n",
      "GBDT + Perceptron auc2 : 0.71919\n",
      "GBDT + Linear SVC auc : 0.87936\n",
      "GBDT + Linear SVC auc2 : 0.65898\n",
      "GBDT + SGD auc : 0.94310\n",
      "GBDT + SGD auc2 : 0.50000\n",
      "GBDT + other classfier time taken: 6.22\n",
      "XGB auc : 0.95149\n",
      "lightGBM auc : 0.94124\n",
      "GBDT + lightGBM auc : 0.95162\n",
      "GBDT + lightGBM auc2 : 0.95305\n",
      "lightGBM time taken: 1.50\n"
     ]
    }
   ],
   "source": [
    "xgboost_lr(example) #max_depth= 6"
   ]
  },
  {
   "cell_type": "code",
   "execution_count": 90,
   "metadata": {},
   "outputs": [
    {
     "name": "stdout",
     "output_type": "stream",
     "text": [
      "best C value: 0.10\n",
      "XGBDT+LR auc 1: 0.94788\n",
      "XGBDT+LR auc 2: 0.60536\n",
      "XGBDT+LR time taken: 5.33\n",
      "GBDT + GNB auc: 0.91614\n",
      "GBDT + Perceptron auc : 0.84625\n",
      "GBDT + Perceptron auc2 : 0.72405\n",
      "GBDT + Linear SVC auc : 0.86055\n",
      "GBDT + Linear SVC auc2 : 0.65187\n",
      "GBDT + SGD auc : 0.94213\n",
      "GBDT + SGD auc2 : 0.54199\n",
      "GBDT + other classfier time taken: 6.38\n",
      "XGB auc : 0.94313\n",
      "lightGBM auc : 0.94200\n",
      "GBDT + lightGBM auc : 0.93957\n",
      "GBDT + lightGBM auc2 : 0.94182\n",
      "lightGBM time taken: 1.53\n"
     ]
    }
   ],
   "source": [
    "xgboost_lr(example) #max_depth= 6"
   ]
  },
  {
   "cell_type": "code",
   "execution_count": 92,
   "metadata": {},
   "outputs": [
    {
     "name": "stdout",
     "output_type": "stream",
     "text": [
      "best C value: 0.10\n",
      "XGBDT+LR auc 1: 0.95743\n",
      "XGBDT+LR auc 2: 0.60553\n",
      "XGBDT+LR time taken: 5.18\n",
      "GBDT + GNB auc: 0.91990\n",
      "GBDT + Perceptron auc : 0.86427\n",
      "GBDT + Perceptron auc2 : 0.72995\n",
      "GBDT + Linear SVC auc : 0.86879\n",
      "GBDT + Linear SVC auc2 : 0.70345\n",
      "GBDT + SGD auc : 0.94373\n",
      "GBDT + SGD auc2 : 0.73375\n",
      "GBDT + other classfier time taken: 6.22\n",
      "XGB auc : 0.95619\n",
      "lightGBM auc : 0.95068\n",
      "GBDT + lightGBM auc : 0.95224\n",
      "GBDT + lightGBM auc2 : 0.95393\n",
      "lightGBM time taken: 1.46\n"
     ]
    }
   ],
   "source": [
    "xgboost_lr(example) #max_depth= 7"
   ]
  },
  {
   "cell_type": "code",
   "execution_count": 96,
   "metadata": {},
   "outputs": [
    {
     "name": "stdout",
     "output_type": "stream",
     "text": [
      "best C value: 0.10\n",
      "XGBDT+LR auc 1: 0.95329\n",
      "XGBDT+LR auc 2: 0.62570\n",
      "XGBDT+LR time taken: 5.21\n",
      "GBDT + GNB auc: 0.89730\n",
      "GBDT + Perceptron auc : 0.86554\n",
      "GBDT + Perceptron auc2 : 0.73418\n",
      "GBDT + Linear SVC auc : 0.85790\n",
      "GBDT + Linear SVC auc2 : 0.78872\n",
      "GBDT + SGD auc : 0.94540\n",
      "GBDT + SGD auc2 : 0.73113\n",
      "GBDT + other classfier time taken: 5.98\n",
      "XGB auc : 0.94978\n",
      "lightGBM auc : 0.94682\n",
      "GBDT + lightGBM auc : 0.94892\n",
      "GBDT + lightGBM auc2 : 0.94904\n",
      "lightGBM time taken: 1.64\n"
     ]
    }
   ],
   "source": [
    "xgboost_lr(example) #max_depth= 7"
   ]
  },
  {
   "cell_type": "code",
   "execution_count": 138,
   "metadata": {},
   "outputs": [
    {
     "name": "stdout",
     "output_type": "stream",
     "text": [
      "best C value: 0.10\n",
      "XGBDT+LR auc 1: 0.96364\n",
      "XGBDT+LR auc 2: 0.61911\n",
      "XGBDT+LR time taken: 3.83\n",
      "GBDT + GNB auc: 0.88914\n",
      "GBDT + Perceptron auc : 0.88424\n",
      "GBDT + Perceptron auc2 : 0.48492\n",
      "GBDT + Linear SVC auc : 0.87787\n",
      "GBDT + Linear SVC auc2 : 0.77173\n",
      "GBDT + SGD auc : 0.95437\n",
      "GBDT + SGD auc2 : 0.72883\n",
      "GBDT + other classfier time taken: 4.32\n",
      "XGB auc : 0.95088\n",
      "lightGBM auc : 0.95015\n",
      "GBDT + lightGBM auc : 0.94682\n",
      "GBDT + lightGBM auc2 : 0.95424\n",
      "lightGBM time taken: 1.40\n"
     ]
    }
   ],
   "source": [
    "xgboost_lr(example) #max_depth= 7"
   ]
  },
  {
   "cell_type": "code",
   "execution_count": 135,
   "metadata": {},
   "outputs": [
    {
     "name": "stdout",
     "output_type": "stream",
     "text": [
      "best C value: 0.05\n",
      "XGBDT+LR auc 1: 0.96642\n",
      "XGBDT+LR auc 2: 0.65066\n",
      "XGBDT+LR time taken: 17.79\n",
      "GBDT + GNB auc: 0.89964\n",
      "GBDT + Perceptron auc : 0.87572\n",
      "GBDT + Perceptron auc2 : 0.74171\n",
      "GBDT + Linear SVC auc : 0.87610\n",
      "GBDT + Linear SVC auc2 : 0.57199\n",
      "GBDT + SGD auc : 0.95071\n",
      "GBDT + SGD auc2 : 0.50672\n",
      "GBDT + other classfier time taken: 16.90\n",
      "XGB auc : 0.96040\n",
      "lightGBM auc : 0.95600\n",
      "GBDT + lightGBM auc : 0.95710\n",
      "GBDT + lightGBM auc2 : 0.95789\n",
      "lightGBM time taken: 3.42\n"
     ]
    }
   ],
   "source": [
    "xgboost_lr(example) #max_depth= 7"
   ]
  },
  {
   "cell_type": "code",
   "execution_count": 139,
   "metadata": {},
   "outputs": [
    {
     "name": "stdout",
     "output_type": "stream",
     "text": [
      "best C value: 0.05\n",
      "XGBDT+LR auc 1: 0.96093\n",
      "XGBDT+LR auc 2: 0.63169\n",
      "XGBDT+LR time taken: 4.38\n",
      "GBDT + GNB auc: 0.90541\n",
      "GBDT + Perceptron auc : 0.86457\n",
      "GBDT + Perceptron auc2 : 0.73088\n",
      "GBDT + Linear SVC auc : 0.88275\n",
      "GBDT + Linear SVC auc2 : 0.71571\n",
      "GBDT + SGD auc : 0.95131\n",
      "GBDT + SGD auc2 : 0.72894\n",
      "GBDT + other classfier time taken: 4.15\n",
      "XGB auc : 0.95839\n",
      "lightGBM auc : 0.95451\n",
      "GBDT + lightGBM auc : 0.95511\n",
      "GBDT + lightGBM auc2 : 0.95676\n",
      "lightGBM time taken: 1.51\n"
     ]
    }
   ],
   "source": [
    "xgboost_lr(example) #max_depth= 7"
   ]
  },
  {
   "cell_type": "code",
   "execution_count": 140,
   "metadata": {},
   "outputs": [
    {
     "name": "stdout",
     "output_type": "stream",
     "text": [
      "best C value: 0.05\n",
      "XGBDT+LR auc 1: 0.96088\n",
      "XGBDT+LR auc 2: 0.61393\n",
      "XGBDT+LR time taken: 4.19\n",
      "GBDT + GNB auc: 0.88371\n",
      "GBDT + Perceptron auc : 0.86100\n",
      "GBDT + Perceptron auc2 : 0.50181\n",
      "GBDT + Linear SVC auc : 0.86760\n",
      "GBDT + Linear SVC auc2 : 0.58846\n",
      "GBDT + SGD auc : 0.95298\n",
      "GBDT + SGD auc2 : 0.72510\n",
      "GBDT + other classfier time taken: 4.01\n",
      "XGB auc : 0.95461\n",
      "lightGBM auc : 0.94828\n",
      "GBDT + lightGBM auc : 0.95408\n",
      "GBDT + lightGBM auc2 : 0.95332\n",
      "lightGBM time taken: 1.48\n"
     ]
    }
   ],
   "source": [
    "xgboost_lr(example) "
   ]
  },
  {
   "cell_type": "code",
   "execution_count": 141,
   "metadata": {},
   "outputs": [
    {
     "name": "stdout",
     "output_type": "stream",
     "text": [
      "best C value: 0.10\n",
      "XGBDT+LR auc 1: 0.95911\n",
      "XGBDT+LR auc 2: 0.63055\n",
      "XGBDT+LR time taken: 3.82\n",
      "GBDT + GNB auc: 0.89828\n",
      "GBDT + Perceptron auc : 0.86432\n",
      "GBDT + Perceptron auc2 : 0.52080\n",
      "GBDT + Linear SVC auc : 0.86820\n",
      "GBDT + Linear SVC auc2 : 0.62471\n",
      "GBDT + SGD auc : 0.94933\n",
      "GBDT + SGD auc2 : 0.72846\n",
      "GBDT + other classfier time taken: 3.87\n",
      "XGB auc : 0.94555\n",
      "lightGBM auc : 0.94209\n",
      "GBDT + lightGBM auc : 0.94607\n",
      "GBDT + lightGBM auc2 : 0.94949\n",
      "lightGBM time taken: 1.58\n"
     ]
    }
   ],
   "source": [
    "xgboost_lr(example) "
   ]
  },
  {
   "cell_type": "code",
   "execution_count": 142,
   "metadata": {},
   "outputs": [
    {
     "name": "stdout",
     "output_type": "stream",
     "text": [
      "best C value: 0.10\n",
      "XGBDT+LR auc 1: 0.95733\n",
      "XGBDT+LR auc 2: 0.67149\n",
      "XGBDT+LR time taken: 3.68\n",
      "GBDT + GNB auc: 0.89036\n",
      "GBDT + Perceptron auc : 0.86893\n",
      "GBDT + Perceptron auc2 : 0.73108\n",
      "GBDT + Linear SVC auc : 0.86629\n",
      "GBDT + Linear SVC auc2 : 0.70072\n",
      "GBDT + SGD auc : 0.94946\n",
      "GBDT + SGD auc2 : 0.73108\n",
      "GBDT + other classfier time taken: 3.82\n",
      "XGB auc : 0.94485\n",
      "lightGBM auc : 0.94356\n",
      "GBDT + lightGBM auc : 0.95146\n",
      "GBDT + lightGBM auc2 : 0.94988\n",
      "lightGBM time taken: 1.46\n"
     ]
    }
   ],
   "source": [
    "xgboost_lr(example) "
   ]
  },
  {
   "cell_type": "code",
   "execution_count": 143,
   "metadata": {},
   "outputs": [
    {
     "name": "stdout",
     "output_type": "stream",
     "text": [
      "best C value: 0.05\n",
      "XGBDT+LR auc 1: 0.95415\n",
      "XGBDT+LR auc 2: 0.66490\n",
      "XGBDT+LR time taken: 5.03\n",
      "GBDT + GNB auc: 0.88953\n",
      "GBDT + Perceptron auc : 0.85528\n",
      "GBDT + Perceptron auc2 : 0.47461\n",
      "GBDT + Linear SVC auc : 0.85321\n",
      "GBDT + Linear SVC auc2 : 0.55787\n",
      "GBDT + SGD auc : 0.94473\n",
      "GBDT + SGD auc2 : 0.71389\n",
      "GBDT + other classfier time taken: 4.99\n",
      "XGB auc : 0.94890\n",
      "lightGBM auc : 0.93824\n",
      "GBDT + lightGBM auc : 0.94479\n",
      "GBDT + lightGBM auc2 : 0.94555\n",
      "lightGBM time taken: 1.78\n"
     ]
    }
   ],
   "source": [
    "xgboost_lr(example) "
   ]
  },
  {
   "cell_type": "code",
   "execution_count": 144,
   "metadata": {},
   "outputs": [
    {
     "name": "stdout",
     "output_type": "stream",
     "text": [
      "best C value: 0.01\n",
      "XGBDT+LR auc 1: 0.95516\n",
      "XGBDT+LR auc 2: 0.65796\n",
      "XGBDT+LR time taken: 4.71\n",
      "GBDT + GNB auc: 0.89444\n",
      "GBDT + Perceptron auc : 0.86394\n",
      "GBDT + Perceptron auc2 : 0.72639\n",
      "GBDT + Linear SVC auc : 0.85918\n",
      "GBDT + Linear SVC auc2 : 0.79763\n",
      "GBDT + SGD auc : 0.93651\n",
      "GBDT + SGD auc2 : 0.48952\n",
      "GBDT + other classfier time taken: 5.03\n",
      "XGB auc : 0.95086\n",
      "lightGBM auc : 0.94784\n",
      "GBDT + lightGBM auc : 0.94916\n",
      "GBDT + lightGBM auc2 : 0.95233\n",
      "lightGBM time taken: 1.60\n"
     ]
    }
   ],
   "source": [
    "xgboost_lr(example) "
   ]
  },
  {
   "cell_type": "code",
   "execution_count": 147,
   "metadata": {},
   "outputs": [
    {
     "name": "stdout",
     "output_type": "stream",
     "text": [
      "best C value: 0.10\n",
      "XGBDT+LR auc 1: 0.96099\n",
      "XGBDT+LR auc 2: 0.63663\n",
      "XGBDT+LR time taken: 3.91\n",
      "GBDT + GNB auc: 0.90430\n",
      "GBDT + Perceptron auc : 0.87682\n",
      "GBDT + Perceptron auc2 : 0.73096\n",
      "GBDT + Linear SVC auc : 0.88220\n",
      "GBDT + Linear SVC auc2 : 0.80312\n",
      "GBDT + SGD auc : 0.95572\n",
      "GBDT + SGD auc2 : 0.60823\n",
      "GBDT + other classfier time taken: 4.01\n",
      "XGB auc : 0.95351\n",
      "lightGBM auc : 0.95138\n",
      "GBDT + lightGBM auc : 0.95067\n",
      "GBDT + lightGBM auc2 : 0.95123\n",
      "lightGBM time taken: 1.62\n"
     ]
    }
   ],
   "source": [
    "xgboost_lr(example) "
   ]
  },
  {
   "cell_type": "code",
   "execution_count": 182,
   "metadata": {},
   "outputs": [
    {
     "name": "stdout",
     "output_type": "stream",
     "text": [
      "best C value: 0.05\n",
      "XGBDT+LR auc 1: 0.95584\n",
      "XGBDT+LR auc 2: 0.63219\n",
      "XGBDT+LR time taken: 3.52\n",
      "GBDT + GNB auc: 0.89107\n"
     ]
    }
   ],
   "source": [
    "xgboost_lr(example)  # max leaves testing 12"
   ]
  },
  {
   "cell_type": "code",
   "execution_count": 184,
   "metadata": {},
   "outputs": [
    {
     "name": "stdout",
     "output_type": "stream",
     "text": [
      "best C value: 0.05\n",
      "XGBDT+LR auc 1: 0.95584\n",
      "XGBDT+LR auc 2: 0.63219\n",
      "XGBDT+LR time taken: 3.59\n",
      "GBDT + GNB auc: 0.89107\n"
     ]
    }
   ],
   "source": [
    "xgboost_lr(example)  # max leaves testing 20"
   ]
  },
  {
   "cell_type": "code",
   "execution_count": 186,
   "metadata": {},
   "outputs": [
    {
     "name": "stdout",
     "output_type": "stream",
     "text": [
      "best C value: 0.05\n",
      "XGBDT+LR auc 1: 0.95584\n",
      "XGBDT+LR auc 2: 0.63219\n",
      "XGBDT+LR time taken: 3.65\n",
      "GBDT + GNB auc: 0.89107\n"
     ]
    }
   ],
   "source": [
    "xgboost_lr(example)  # max leaves testing 30"
   ]
  },
  {
   "cell_type": "code",
   "execution_count": 188,
   "metadata": {},
   "outputs": [
    {
     "name": "stdout",
     "output_type": "stream",
     "text": [
      "best C value: 0.05\n",
      "XGBDT+LR auc 1: 0.95538\n",
      "XGBDT+LR auc 2: 0.63262\n",
      "XGBDT+LR time taken: 5.00\n",
      "GBDT + GNB auc: 0.89153\n"
     ]
    }
   ],
   "source": [
    "xgboost_lr(example)  # num tree testing 40"
   ]
  },
  {
   "cell_type": "code",
   "execution_count": 190,
   "metadata": {},
   "outputs": [
    {
     "name": "stdout",
     "output_type": "stream",
     "text": [
      "(6531, 50)\n",
      "best C value: 0.05\n",
      "XGBDT+LR auc 1: 0.95405\n",
      "XGBDT+LR auc 2: 0.63290\n",
      "XGBDT+LR time taken: 6.50\n",
      "GBDT + GNB auc: 0.88753\n"
     ]
    }
   ],
   "source": [
    "xgboost_lr(example)  # num tree testing 50"
   ]
  },
  {
   "cell_type": "code",
   "execution_count": 192,
   "metadata": {},
   "outputs": [
    {
     "name": "stdout",
     "output_type": "stream",
     "text": [
      "(6531, 60)\n",
      "best C value: 0.05\n",
      "XGBDT+LR auc 1: 0.95397\n",
      "XGBDT+LR auc 2: 0.63337\n",
      "XGBDT+LR time taken: 7.69\n",
      "GBDT + GNB auc: 0.88992\n"
     ]
    }
   ],
   "source": [
    "xgboost_lr(example)  # num tree testing 60"
   ]
  },
  {
   "cell_type": "code",
   "execution_count": 194,
   "metadata": {},
   "outputs": [
    {
     "name": "stdout",
     "output_type": "stream",
     "text": [
      "(6531, 20)\n",
      "best C value: 0.10\n",
      "XGBDT+LR auc 1: 0.95545\n",
      "XGBDT+LR auc 2: 0.63152\n",
      "XGBDT+LR time taken: 2.53\n",
      "GBDT + GNB auc: 0.89251\n"
     ]
    }
   ],
   "source": [
    "xgboost_lr(example)  # num tree testing "
   ]
  },
  {
   "cell_type": "code",
   "execution_count": 196,
   "metadata": {},
   "outputs": [
    {
     "name": "stdout",
     "output_type": "stream",
     "text": [
      "(6531, 30)\n",
      "best C value: 0.05\n",
      "XGBDT+LR auc 1: 0.95594\n",
      "XGBDT+LR auc 2: 0.63172\n",
      "XGBDT+LR time taken: 3.83\n",
      "GBDT + GNB auc: 0.88822\n"
     ]
    }
   ],
   "source": [
    "xgboost_lr(example)  # max depth testing 8"
   ]
  },
  {
   "cell_type": "code",
   "execution_count": 199,
   "metadata": {},
   "outputs": [
    {
     "name": "stdout",
     "output_type": "stream",
     "text": [
      "(6531, 30)\n",
      "best C value: 0.05\n",
      "XGBDT+LR auc 1: 0.95460\n",
      "XGBDT+LR auc 2: 0.63160\n",
      "XGBDT+LR time taken: 3.83\n",
      "GBDT + GNB auc: 0.87358\n"
     ]
    }
   ],
   "source": [
    "xgboost_lr(example)  # max depth testing 9"
   ]
  },
  {
   "cell_type": "code",
   "execution_count": 201,
   "metadata": {},
   "outputs": [
    {
     "name": "stdout",
     "output_type": "stream",
     "text": [
      "(6531, 30)\n",
      "best C value: 0.10\n",
      "XGBDT+LR auc 1: 0.95445\n",
      "XGBDT+LR auc 2: 0.63210\n",
      "XGBDT+LR time taken: 3.47\n",
      "GBDT + GNB auc: 0.89546\n"
     ]
    }
   ],
   "source": [
    "xgboost_lr(example)  # max depth testing 6"
   ]
  },
  {
   "cell_type": "code",
   "execution_count": 203,
   "metadata": {},
   "outputs": [
    {
     "name": "stdout",
     "output_type": "stream",
     "text": [
      "(6531, 30)\n",
      "best C value: 0.05\n",
      "XGBDT+LR auc 1: 0.95376\n",
      "XGBDT+LR auc 2: 0.63366\n",
      "XGBDT+LR time taken: 3.63\n",
      "GBDT + GNB auc: 0.86506\n"
     ]
    }
   ],
   "source": [
    "xgboost_lr(example) # eta 0.1"
   ]
  },
  {
   "cell_type": "code",
   "execution_count": 205,
   "metadata": {},
   "outputs": [
    {
     "name": "stdout",
     "output_type": "stream",
     "text": [
      "(6531, 30)\n",
      "best C value: 0.05\n",
      "XGBDT+LR auc 1: 0.95510\n",
      "XGBDT+LR auc 2: 0.63273\n",
      "XGBDT+LR time taken: 3.50\n",
      "GBDT + GNB auc: 0.89073\n"
     ]
    }
   ],
   "source": [
    "xgboost_lr(example) # eta 0.2"
   ]
  },
  {
   "cell_type": "code",
   "execution_count": 207,
   "metadata": {},
   "outputs": [
    {
     "name": "stdout",
     "output_type": "stream",
     "text": [
      "(6531, 30)\n",
      "best C value: 0.05\n",
      "XGBDT+LR auc 1: 0.93428\n",
      "XGBDT+LR auc 2: 0.63643\n",
      "XGBDT+LR time taken: 3.49\n",
      "GBDT + GNB auc: 0.85784\n"
     ]
    }
   ],
   "source": [
    "xgboost_lr(example) # eta 0.001"
   ]
  },
  {
   "cell_type": "code",
   "execution_count": 217,
   "metadata": {},
   "outputs": [
    {
     "name": "stdout",
     "output_type": "stream",
     "text": [
      "(6531, 30)\n",
      "best C value: 0.05\n",
      "XGBDT+LR auc 1: 0.95584\n",
      "XGBDT+LR auc 2: 0.63219\n",
      "XGBDT+LR time taken: 4.80\n",
      "GBDT + GNB auc: 0.89107\n"
     ]
    }
   ],
   "source": [
    "xgboost_lr(example) # eta 0.01"
   ]
  },
  {
   "cell_type": "code",
   "execution_count": 222,
   "metadata": {},
   "outputs": [
    {
     "name": "stdout",
     "output_type": "stream",
     "text": [
      "(6531, 30)\n",
      "best C value: 0.05\n",
      "XGBDT+LR auc 1: 0.95584\n",
      "XGBDT+LR auc 2: 0.63219\n",
      "XGBDT+LR time taken: 4.12\n",
      "GBDT + GNB auc: 0.89107\n"
     ]
    }
   ],
   "source": [
    "xgboost_lr(example)"
   ]
  },
  {
   "cell_type": "code",
   "execution_count": 232,
   "metadata": {},
   "outputs": [
    {
     "name": "stdout",
     "output_type": "stream",
     "text": [
      "[[ 99 105  61 ...,  71  63  55]\n",
      " [ 35  65  75 ...,  77  63  93]\n",
      " [108 119 124 ...,  95  63  94]\n",
      " ..., \n",
      " [127 128 137 ...,  83  64 113]\n",
      " [137 149 151 ...,  95  87 113]\n",
      " [105 119 119 ...,  99  86  94]]\n",
      "(6531, 30)\n",
      "best C value: 0.05\n",
      "XGBDT+LR auc 1: 0.95755\n",
      "XGBDT+LR auc 2: 0.61025\n",
      "XGBDT+LR time taken: 4.41\n"
     ]
    }
   ],
   "source": [
    "xgboost_lr(example)"
   ]
  },
  {
   "cell_type": "code",
   "execution_count": null,
   "metadata": {},
   "outputs": [],
   "source": []
  }
 ],
 "metadata": {
  "kernelspec": {
   "display_name": "Python 3",
   "language": "python",
   "name": "python3"
  },
  "language_info": {
   "codemirror_mode": {
    "name": "ipython",
    "version": 3
   },
   "file_extension": ".py",
   "mimetype": "text/x-python",
   "name": "python",
   "nbconvert_exporter": "python",
   "pygments_lexer": "ipython3",
   "version": "3.6.3"
  }
 },
 "nbformat": 4,
 "nbformat_minor": 2
}
