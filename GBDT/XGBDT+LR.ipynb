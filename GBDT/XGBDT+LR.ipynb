{
 "cells": [
  {
   "cell_type": "code",
   "execution_count": 8,
   "metadata": {},
   "outputs": [],
   "source": [
    "import numpy as np\n",
    "import pandas as pd\n",
    "import xgboost as xgb\n",
    "from xgboost import XGBClassifier\n",
    "\n",
    "from sklearn.preprocessing import OneHotEncoder\n",
    "from sklearn.preprocessing import StandardScaler\n",
    "from sklearn.cross_validation import train_test_split\n",
    "from sklearn.datasets import load_svmlight_file\n",
    "from sklearn.linear_model import LogisticRegression\n",
    "from sklearn.metrics import roc_curve, auc, roc_auc_score\n",
    "from sklearn.externals import joblib\n",
    "from sklearn.ensemble import GradientBoostingClassifier\n",
    "from sklearn.grid_search import GridSearchCV\n",
    "from sklearn.externals import joblib\n",
    "from sklearn.svm import SVC, LinearSVC\n",
    "from sklearn.neighbors import KNeighborsClassifier\n",
    "from sklearn.ensemble import RandomForestClassifier\n",
    "from sklearn.naive_bayes import GaussianNB\n",
    "from sklearn.linear_model import SGDClassifier\n",
    "from sklearn.linear_model import Perceptron\n",
    "from sklearn.naive_bayes import GaussianNB\n",
    "import matplotlib.pyplot as plt\n",
    "import numpy as np\n",
    "import pandas as pd\n",
    "from scipy.sparse import csr_matrix\n",
    "from scipy.sparse import hstack\n",
    "import time, os, random, sys\n",
    "import math\n",
    "import hyperopt.tpe\n",
    "import hpsklearn.components\n",
    "import hpsklearn.demo_support\n",
    "import warnings\n",
    "\n",
    "pd.set_option('display.max_columns', 500)\n",
    "pd.set_option('display.max_rows', 1500)\n",
    "\n",
    "warnings.filterwarnings('ignore')\n",
    "np.random.seed(1)"
   ]
  },
  {
   "cell_type": "code",
   "execution_count": 21,
   "metadata": {},
   "outputs": [],
   "source": [
    "def xgboost_lr_train_test(File):\n",
    "    start = time.clock()\n",
    "    train_df, test_df = train_test_split(File, train_size = 0.8)\n",
    "    X_train = train_df.drop(train_df.columns[0], axis=1)\n",
    "    y_train = train_df[train_df.columns[0]]\n",
    "    X_test = test_df.drop(test_df.columns[0], axis=1)\n",
    "    y_test = test_df[test_df.columns[0]]\n",
    "    \n",
    "    #training xgboost\n",
    "    xgbclf = xgb.XGBClassifier(nthread=4, learning_rate=0.1,\n",
    "                            n_estimators=30, max_depth=7,  subsample=0.9, colsample_bytree=0.5)\n",
    "    xgbclf.fit(X_train, y_train)\n",
    "    \n",
    "    #using xgboost to encode train set and test set features\n",
    "    X_train_leaves = xgbclf.apply(X_train)\n",
    "    train_rows = X_train_leaves.shape[0]\n",
    "    xgbclf.fit(X_test, y_test)\n",
    "    X_test_leaves = xgbclf.apply(X_test)\n",
    "    \n",
    "    \n",
    "    #fittting lr using just xgboost encoded feature\n",
    "    lr = LogisticRegression(n_jobs=-1, C=0.1, penalty='l1')\n",
    "    lr.fit(X_train_leaves,y_train)\n",
    "    \n",
    "    y_pred = lr.predict(X_test_leaves)\n",
    "    gbdtlr_auc1 = roc_auc_score(y_test, y_pred)\n",
    "    print('XGBDT+LR AUC : %.5f' % gbdtlr_auc1)\n",
    "    \n",
    "    \n",
    "    X_train_ext = hstack([X_train_leaves, X_train])\n",
    "    lr.fit(X_train_ext, y_train)\n",
    "    X_test_ext = hstack([X_test_leaves, X_test])\n",
    "    \n",
    "    y_pred_2=lr.predict(X_test_ext)\n",
    "    gbdtlr_auc2 = roc_auc_score(y_test, y_pred_2)\n",
    "    print('XGBDT+LR AUC2 : %.5f' % gbdtlr_auc2)\n",
    "    \n",
    "    \n"
   ]
  },
  {
   "cell_type": "code",
   "execution_count": 22,
   "metadata": {},
   "outputs": [],
   "source": [
    "example = pd.read_csv('example.csv')"
   ]
  },
  {
   "cell_type": "code",
   "execution_count": 23,
   "metadata": {},
   "outputs": [
    {
     "name": "stdout",
     "output_type": "stream",
     "text": [
      "XGBDT+LR AUC : 0.49181\n",
      "XGBDT+LR AUC2 : 0.54227\n"
     ]
    }
   ],
   "source": [
    "xgboost_lr_train_test(example)"
   ]
  },
  {
   "cell_type": "code",
   "execution_count": null,
   "metadata": {},
   "outputs": [],
   "source": []
  }
 ],
 "metadata": {
  "kernelspec": {
   "display_name": "Python 3",
   "language": "python",
   "name": "python3"
  },
  "language_info": {
   "codemirror_mode": {
    "name": "ipython",
    "version": 3
   },
   "file_extension": ".py",
   "mimetype": "text/x-python",
   "name": "python",
   "nbconvert_exporter": "python",
   "pygments_lexer": "ipython3",
   "version": "3.6.3"
  }
 },
 "nbformat": 4,
 "nbformat_minor": 2
}
